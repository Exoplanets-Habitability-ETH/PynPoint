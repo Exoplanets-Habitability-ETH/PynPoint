{
 "cells": [
  {
   "cell_type": "code",
   "execution_count": 1,
   "metadata": {
    "collapsed": true
   },
   "outputs": [],
   "source": [
    "import os\n",
    "import sys\n",
    "module_path = os.path.abspath(os.path.join('../'))\n",
    "if module_path not in sys.path:\n",
    "    sys.path.append(module_path)"
   ]
  },
  {
   "cell_type": "markdown",
   "metadata": {},
   "source": [
    "##Create Pipeline"
   ]
  },
  {
   "cell_type": "code",
   "execution_count": 2,
   "metadata": {
    "collapsed": false
   },
   "outputs": [],
   "source": [
    "from PynPoint2 import Pypeline\n",
    "\n",
    "pipeline = Pypeline(\"/Users/markusbonse/Desktop/Workplace_wv\",\n",
    "                    \"/Users/markusbonse/Desktop\",\n",
    "                    \"/Users/markusbonse/Desktop/Results_ADI_wv\")"
   ]
  },
  {
   "cell_type": "code",
   "execution_count": 3,
   "metadata": {
    "collapsed": true
   },
   "outputs": [],
   "source": [
    "from PynPoint2.io_modules import WriteAsSingleFitsFile\n",
    "from PynPoint2.processing_modules import RemoveMeanOrMedianModule, RotateFramesModule, \\\n",
    "    CombineADIModule, SimpleSpeckleSubtraction\n",
    "    \n",
    "tag = \"10_wavelet_denoised_soft\""
   ]
  },
  {
   "cell_type": "markdown",
   "metadata": {},
   "source": [
    "##Remove Mean / Median"
   ]
  },
  {
   "cell_type": "code",
   "execution_count": 4,
   "metadata": {
    "collapsed": true
   },
   "outputs": [
    {
     "name": "stdout",
     "output_type": "stream",
     "text": [
      "validating module...\n",
      "Start running module...\n",
      "processed image 1 of 46030 images\n",
      "processed image 1001 of 46030 images\n",
      "processed image 2001 of 46030 images\n",
      "processed image 3001 of 46030 images\n",
      "processed image 4001 of 46030 images\n",
      "processed image 5001 of 46030 images\n",
      "processed image 6001 of 46030 images\n",
      "processed image 7001 of 46030 images\n",
      "processed image 8001 of 46030 images\n",
      "processed image 9001 of 46030 images\n",
      "processed image 10001 of 46030 images\n",
      "processed image 11001 of 46030 images\n",
      "processed image 12001 of 46030 images\n",
      "processed image 13001 of 46030 images\n",
      "processed image 14001 of 46030 images\n",
      "processed image 15001 of 46030 images\n",
      "processed image 16001 of 46030 images\n",
      "processed image 17001 of 46030 images\n",
      "processed image 18001 of 46030 images\n",
      "processed image 19001 of 46030 images\n",
      "processed image 20001 of 46030 images\n",
      "processed image 21001 of 46030 images\n",
      "processed image 22001 of 46030 images\n",
      "processed image 23001 of 46030 images\n",
      "processed image 24001 of 46030 images\n",
      "processed image 25001 of 46030 images\n",
      "processed image 26001 of 46030 images\n",
      "processed image 27001 of 46030 images\n",
      "processed image 28001 of 46030 images\n",
      "processed image 29001 of 46030 images\n",
      "processed image 30001 of 46030 images\n",
      "processed image 31001 of 46030 images\n",
      "processed image 32001 of 46030 images\n",
      "processed image 33001 of 46030 images\n",
      "processed image 34001 of 46030 images\n",
      "processed image 35001 of 46030 images\n",
      "processed image 36001 of 46030 images\n",
      "processed image 37001 of 46030 images\n",
      "processed image 38001 of 46030 images\n",
      "processed image 39001 of 46030 images\n",
      "processed image 40001 of 46030 images\n",
      "processed image 41001 of 46030 images\n",
      "processed image 42001 of 46030 images\n",
      "processed image 43001 of 46030 images\n",
      "processed image 44001 of 46030 images\n",
      "processed image 45001 of 46030 images\n",
      "processed image 46001 of 46030 images\n",
      "finished running module...\n"
     ]
    }
   ],
   "source": [
    "mean_removal = RemoveMeanOrMedianModule(mode=\"mean\",\n",
    "                                        name_in=\"00_remove_mean\",\n",
    "                                        image_in_tag=tag,\n",
    "                                        image_out_tag=tag + \"_00\",\n",
    "                                        number_of_images_in_memory=1000)\n",
    "\n",
    "pipeline.add_module(mean_removal)\n",
    "pipeline.run_module(\"00_remove_mean\")"
   ]
  },
  {
   "cell_type": "markdown",
   "metadata": {},
   "source": [
    "## Rotate"
   ]
  },
  {
   "cell_type": "code",
   "execution_count": 5,
   "metadata": {
    "collapsed": true
   },
   "outputs": [
    {
     "name": "stdout",
     "output_type": "stream",
     "text": [
      "validating module...\n",
      "Start running module...\n",
      "finished running module...\n"
     ]
    }
   ],
   "source": [
    "rotate = RotateFramesModule(name_in=\"01_rotation\",\n",
    "                            image_in_tag=tag + \"_00\",\n",
    "                            rot_out_tag=tag + \"_01\")\n",
    "pipeline.add_module(rotate)\n",
    "pipeline.run_module(\"01_rotation\")"
   ]
  },
  {
   "cell_type": "markdown",
   "metadata": {},
   "source": [
    "## Combine"
   ]
  },
  {
   "cell_type": "code",
   "execution_count": 8,
   "metadata": {
    "collapsed": true
   },
   "outputs": [
    {
     "name": "stdout",
     "output_type": "stream",
     "text": [
      "validating module...\n",
      "Start running module...\n",
      "finished running module...\n"
     ]
    },
    {
     "name": "stderr",
     "output_type": "stream",
     "text": [
      "/Users/markusbonse/Documents/Arbeit/ETH/Git/PynPoint/PynPoint2/core/Pypeline.py:135: UserWarning: Processing module names need to be unique. Overwriting the old Module\n",
      "  warnings.warn('Processing module names need to be unique. Overwriting the old Module')\n"
     ]
    }
   ],
   "source": [
    "combine_mean = CombineADIModule(type_in=\"median\",\n",
    "                                name_in=\"02_combine_mean\",\n",
    "                                image_in_tag=tag + \"_01\",\n",
    "                                image_out_tag=tag + \"_mean\")\n",
    "\n",
    "pipeline.add_module(combine_mean)\n",
    "pipeline.run_module(\"02_combine_mean\")"
   ]
  },
  {
   "cell_type": "markdown",
   "metadata": {},
   "source": [
    "## Combine Mode"
   ]
  },
  {
   "cell_type": "code",
   "execution_count": 4,
   "metadata": {
    "collapsed": false
   },
   "outputs": [
    {
     "name": "stdout",
     "output_type": "stream",
     "text": [
      "validating module...\n",
      "Start running module...\n",
      "[-0.1001001]\n",
      "Preparing database for analysis ...\n",
      "Database prepared. Starting analysis with 4 processes.\n",
      "reading lines from 0 to 2\n",
      "Process LineProcessor-2 got data for row (0, 2) and starts processing...\n",
      "Process LineProcessor-3 got data for row (2, 4) and starts processing...\n",
      "Process LineProcessor-4 got data for row (4, 6) and starts processing...\n",
      "Process LineProcessor-5 got data for row (6, 8) and starts processing...\n",
      "reading lines from 2 to 4[-0.1001001][ 0.1001001][ 0.1001001][ 0.1001001]\n",
      "\n",
      "\n",
      "\n",
      "\n",
      "reading lines from 4 to 6[ 0.1001001][ 0.1001001][ 0.1001001][ 0.1001001]\n",
      "\n",
      "\n",
      "\n",
      "\n",
      "reading lines from 6 to 8[ 0.1001001][ 0.1001001][ 0.1001001][ 0.1001001]\n",
      "\n",
      "\n",
      "\n",
      "\n",
      "reading lines from 8 to 10[ 0.1001001][ 0.1001001][ 0.1001001][ 0.1001001]\n",
      "\n",
      "\n",
      "\n",
      "\n",
      "reading lines from 10 to 12[ 0.1001001][ 0.1001001][ 0.1001001][ 0.1001001]\n",
      "\n",
      "\n",
      "\n",
      "\n",
      "reading lines from 12 to 14[ 0.1001001][ 0.1001001][ 0.1001001][ 0.1001001]\n",
      "\n",
      "\n",
      "\n",
      "\n",
      "reading lines from 14 to 16[ 0.1001001][ 0.1001001][ 0.1001001][ 0.1001001]\n",
      "\n",
      "\n",
      "\n",
      "\n",
      "reading lines from 16 to 18[ 0.1001001][ 0.1001001][ 0.1001001][ 0.1001001]\n",
      "\n",
      "\n",
      "\n",
      "\n",
      "[ 0.1001001][ 0.1001001][ 0.1001001][ 0.1001001]\n",
      "\n",
      "\n",
      "\n",
      "[ 0.1001001][ 0.1001001][ 0.1001001][ 0.1001001]\n",
      "\n",
      "\n",
      "\n",
      "[ 0.1001001][ 0.1001001][ 0.1001001][ 0.1001001]\n",
      "\n",
      "\n",
      "\n",
      "[-0.1001001][ 0.1001001][ 0.1001001][ 0.1001001]\n",
      "\n",
      "\n",
      "\n",
      "[-0.1001001][-0.1001001][ 0.1001001]\n",
      "\n",
      "\n",
      "[-0.1001001]\n"
     ]
    },
    {
     "ename": "KeyboardInterrupt",
     "evalue": "",
     "output_type": "error",
     "traceback": [
      "\u001b[0;31m---------------------------------------------------------------------------\u001b[0m",
      "\u001b[0;31mKeyboardInterrupt\u001b[0m                         Traceback (most recent call last)",
      "\u001b[0;32m<ipython-input-4-f792f2352b06>\u001b[0m in \u001b[0;36m<module>\u001b[0;34m()\u001b[0m\n\u001b[1;32m      5\u001b[0m                                  number_of_rows_in_memory=5)\n\u001b[1;32m      6\u001b[0m \u001b[0mpipeline\u001b[0m\u001b[0;34m.\u001b[0m\u001b[0madd_module\u001b[0m\u001b[0;34m(\u001b[0m\u001b[0mmode_combine\u001b[0m\u001b[0;34m)\u001b[0m\u001b[0;34m\u001b[0m\u001b[0m\n\u001b[0;32m----> 7\u001b[0;31m \u001b[0mpipeline\u001b[0m\u001b[0;34m.\u001b[0m\u001b[0mrun_module\u001b[0m\u001b[0;34m(\u001b[0m\u001b[0;34m\"mode_calc\"\u001b[0m\u001b[0;34m)\u001b[0m\u001b[0;34m\u001b[0m\u001b[0m\n\u001b[0m",
      "\u001b[0;32m/Users/markusbonse/Documents/Arbeit/ETH/Git/PynPoint/PynPoint2/core/Pypeline.pyc\u001b[0m in \u001b[0;36mrun_module\u001b[0;34m(self, name)\u001b[0m\n\u001b[1;32m    250\u001b[0m \u001b[0;34m\u001b[0m\u001b[0m\n\u001b[1;32m    251\u001b[0m             \u001b[0;32mprint\u001b[0m \u001b[0;34m\"Start running module...\"\u001b[0m\u001b[0;34m\u001b[0m\u001b[0m\n\u001b[0;32m--> 252\u001b[0;31m             \u001b[0mself\u001b[0m\u001b[0;34m.\u001b[0m\u001b[0m_m_modules\u001b[0m\u001b[0;34m[\u001b[0m\u001b[0mname\u001b[0m\u001b[0;34m]\u001b[0m\u001b[0;34m.\u001b[0m\u001b[0mrun\u001b[0m\u001b[0;34m(\u001b[0m\u001b[0;34m)\u001b[0m\u001b[0;34m\u001b[0m\u001b[0m\n\u001b[0m\u001b[1;32m    253\u001b[0m             \u001b[0;32mprint\u001b[0m \u001b[0;34m\"finished running module...\"\u001b[0m\u001b[0;34m\u001b[0m\u001b[0m\n\u001b[1;32m    254\u001b[0m         \u001b[0;32melse\u001b[0m\u001b[0;34m:\u001b[0m\u001b[0;34m\u001b[0m\u001b[0m\n",
      "\u001b[0;32m/Users/markusbonse/Documents/Arbeit/ETH/Git/PynPoint/PynPoint2/processing_modules/ToolsForPCAstudy.py\u001b[0m in \u001b[0;36mrun\u001b[0;34m(self)\u001b[0m\n\u001b[1;32m    209\u001b[0m                                                              \u001b[0mself\u001b[0m\u001b[0;34m.\u001b[0m\u001b[0mm_image_out_port\u001b[0m\u001b[0;34m,\u001b[0m\u001b[0;34m\u001b[0m\u001b[0m\n\u001b[1;32m    210\u001b[0m                                                              \u001b[0mnum_rows_in_memory\u001b[0m\u001b[0;34m=\u001b[0m\u001b[0;34m\u001b[0m\u001b[0m\n\u001b[0;32m--> 211\u001b[0;31m                                                              self.m_number_of_rows_in_memory)\n\u001b[0m\u001b[1;32m    212\u001b[0m \u001b[0;34m\u001b[0m\u001b[0m\n\u001b[1;32m    213\u001b[0m         self.m_image_out_port.add_history_information(\"Mode Estimate\", \"KDE + \" \\\n",
      "\u001b[0;32m/Users/markusbonse/Documents/Arbeit/ETH/Git/PynPoint/PynPoint2/core/Processing.pyc\u001b[0m in \u001b[0;36mapply_function_to_line_in_time_multi_processing\u001b[0;34m(func, image_in_port, image_out_port, func_args, num_rows_in_memory)\u001b[0m\n\u001b[1;32m    494\u001b[0m \u001b[0;34m\u001b[0m\u001b[0m\n\u001b[1;32m    495\u001b[0m         \u001b[0;32mfor\u001b[0m \u001b[0mprocessor\u001b[0m \u001b[0;32min\u001b[0m \u001b[0mline_processors\u001b[0m\u001b[0;34m:\u001b[0m\u001b[0;34m\u001b[0m\u001b[0m\n\u001b[0;32m--> 496\u001b[0;31m             \u001b[0mprocessor\u001b[0m\u001b[0;34m.\u001b[0m\u001b[0mjoin\u001b[0m\u001b[0;34m(\u001b[0m\u001b[0;34m)\u001b[0m\u001b[0;34m\u001b[0m\u001b[0m\n\u001b[0m\u001b[1;32m    497\u001b[0m \u001b[0;34m\u001b[0m\u001b[0m\n\u001b[1;32m    498\u001b[0m         \u001b[0mwriter\u001b[0m\u001b[0;34m.\u001b[0m\u001b[0mjoin\u001b[0m\u001b[0;34m(\u001b[0m\u001b[0;34m)\u001b[0m\u001b[0;34m\u001b[0m\u001b[0m\n",
      "\u001b[0;32m/System/Library/Frameworks/Python.framework/Versions/2.7/lib/python2.7/multiprocessing/process.pyc\u001b[0m in \u001b[0;36mjoin\u001b[0;34m(self, timeout)\u001b[0m\n\u001b[1;32m    143\u001b[0m         \u001b[0;32massert\u001b[0m \u001b[0mself\u001b[0m\u001b[0;34m.\u001b[0m\u001b[0m_parent_pid\u001b[0m \u001b[0;34m==\u001b[0m \u001b[0mos\u001b[0m\u001b[0;34m.\u001b[0m\u001b[0mgetpid\u001b[0m\u001b[0;34m(\u001b[0m\u001b[0;34m)\u001b[0m\u001b[0;34m,\u001b[0m \u001b[0;34m'can only join a child process'\u001b[0m\u001b[0;34m\u001b[0m\u001b[0m\n\u001b[1;32m    144\u001b[0m         \u001b[0;32massert\u001b[0m \u001b[0mself\u001b[0m\u001b[0;34m.\u001b[0m\u001b[0m_popen\u001b[0m \u001b[0;32mis\u001b[0m \u001b[0;32mnot\u001b[0m \u001b[0mNone\u001b[0m\u001b[0;34m,\u001b[0m \u001b[0;34m'can only join a started process'\u001b[0m\u001b[0;34m\u001b[0m\u001b[0m\n\u001b[0;32m--> 145\u001b[0;31m         \u001b[0mres\u001b[0m \u001b[0;34m=\u001b[0m \u001b[0mself\u001b[0m\u001b[0;34m.\u001b[0m\u001b[0m_popen\u001b[0m\u001b[0;34m.\u001b[0m\u001b[0mwait\u001b[0m\u001b[0;34m(\u001b[0m\u001b[0mtimeout\u001b[0m\u001b[0;34m)\u001b[0m\u001b[0;34m\u001b[0m\u001b[0m\n\u001b[0m\u001b[1;32m    146\u001b[0m         \u001b[0;32mif\u001b[0m \u001b[0mres\u001b[0m \u001b[0;32mis\u001b[0m \u001b[0;32mnot\u001b[0m \u001b[0mNone\u001b[0m\u001b[0;34m:\u001b[0m\u001b[0;34m\u001b[0m\u001b[0m\n\u001b[1;32m    147\u001b[0m             \u001b[0m_current_process\u001b[0m\u001b[0;34m.\u001b[0m\u001b[0m_children\u001b[0m\u001b[0;34m.\u001b[0m\u001b[0mdiscard\u001b[0m\u001b[0;34m(\u001b[0m\u001b[0mself\u001b[0m\u001b[0;34m)\u001b[0m\u001b[0;34m\u001b[0m\u001b[0m\n",
      "\u001b[0;32m/System/Library/Frameworks/Python.framework/Versions/2.7/lib/python2.7/multiprocessing/forking.pyc\u001b[0m in \u001b[0;36mwait\u001b[0;34m(self, timeout)\u001b[0m\n\u001b[1;32m    152\u001b[0m         \u001b[0;32mdef\u001b[0m \u001b[0mwait\u001b[0m\u001b[0;34m(\u001b[0m\u001b[0mself\u001b[0m\u001b[0;34m,\u001b[0m \u001b[0mtimeout\u001b[0m\u001b[0;34m=\u001b[0m\u001b[0mNone\u001b[0m\u001b[0;34m)\u001b[0m\u001b[0;34m:\u001b[0m\u001b[0;34m\u001b[0m\u001b[0m\n\u001b[1;32m    153\u001b[0m             \u001b[0;32mif\u001b[0m \u001b[0mtimeout\u001b[0m \u001b[0;32mis\u001b[0m \u001b[0mNone\u001b[0m\u001b[0;34m:\u001b[0m\u001b[0;34m\u001b[0m\u001b[0m\n\u001b[0;32m--> 154\u001b[0;31m                 \u001b[0;32mreturn\u001b[0m \u001b[0mself\u001b[0m\u001b[0;34m.\u001b[0m\u001b[0mpoll\u001b[0m\u001b[0;34m(\u001b[0m\u001b[0;36m0\u001b[0m\u001b[0;34m)\u001b[0m\u001b[0;34m\u001b[0m\u001b[0m\n\u001b[0m\u001b[1;32m    155\u001b[0m             \u001b[0mdeadline\u001b[0m \u001b[0;34m=\u001b[0m \u001b[0mtime\u001b[0m\u001b[0;34m.\u001b[0m\u001b[0mtime\u001b[0m\u001b[0;34m(\u001b[0m\u001b[0;34m)\u001b[0m \u001b[0;34m+\u001b[0m \u001b[0mtimeout\u001b[0m\u001b[0;34m\u001b[0m\u001b[0m\n\u001b[1;32m    156\u001b[0m             \u001b[0mdelay\u001b[0m \u001b[0;34m=\u001b[0m \u001b[0;36m0.0005\u001b[0m\u001b[0;34m\u001b[0m\u001b[0m\n",
      "\u001b[0;32m/System/Library/Frameworks/Python.framework/Versions/2.7/lib/python2.7/multiprocessing/forking.pyc\u001b[0m in \u001b[0;36mpoll\u001b[0;34m(self, flag)\u001b[0m\n\u001b[1;32m    133\u001b[0m                 \u001b[0;32mwhile\u001b[0m \u001b[0mTrue\u001b[0m\u001b[0;34m:\u001b[0m\u001b[0;34m\u001b[0m\u001b[0m\n\u001b[1;32m    134\u001b[0m                     \u001b[0;32mtry\u001b[0m\u001b[0;34m:\u001b[0m\u001b[0;34m\u001b[0m\u001b[0m\n\u001b[0;32m--> 135\u001b[0;31m                         \u001b[0mpid\u001b[0m\u001b[0;34m,\u001b[0m \u001b[0msts\u001b[0m \u001b[0;34m=\u001b[0m \u001b[0mos\u001b[0m\u001b[0;34m.\u001b[0m\u001b[0mwaitpid\u001b[0m\u001b[0;34m(\u001b[0m\u001b[0mself\u001b[0m\u001b[0;34m.\u001b[0m\u001b[0mpid\u001b[0m\u001b[0;34m,\u001b[0m \u001b[0mflag\u001b[0m\u001b[0;34m)\u001b[0m\u001b[0;34m\u001b[0m\u001b[0m\n\u001b[0m\u001b[1;32m    136\u001b[0m                     \u001b[0;32mexcept\u001b[0m \u001b[0mos\u001b[0m\u001b[0;34m.\u001b[0m\u001b[0merror\u001b[0m \u001b[0;32mas\u001b[0m \u001b[0me\u001b[0m\u001b[0;34m:\u001b[0m\u001b[0;34m\u001b[0m\u001b[0m\n\u001b[1;32m    137\u001b[0m                         \u001b[0;32mif\u001b[0m \u001b[0me\u001b[0m\u001b[0;34m.\u001b[0m\u001b[0merrno\u001b[0m \u001b[0;34m==\u001b[0m \u001b[0merrno\u001b[0m\u001b[0;34m.\u001b[0m\u001b[0mEINTR\u001b[0m\u001b[0;34m:\u001b[0m\u001b[0;34m\u001b[0m\u001b[0m\n",
      "\u001b[0;31mKeyboardInterrupt\u001b[0m: "
     ]
    }
   ],
   "source": [
    "from PynPoint2.processing_modules import ComputeModeModule\n",
    "mode_combine = ComputeModeModule(name_in=\"mode_calc\",\n",
    "                                 image_in_tag=tag + \"_01\",\n",
    "                                 image_out_tag=tag + \"im_arr_mode\",\n",
    "                                 number_of_rows_in_memory=5)\n",
    "pipeline.add_module(mode_combine)\n",
    "pipeline.run_module(\"mode_calc\")"
   ]
  },
  {
   "cell_type": "markdown",
   "metadata": {},
   "source": [
    "## Write out"
   ]
  },
  {
   "cell_type": "code",
   "execution_count": 9,
   "metadata": {
    "collapsed": false
   },
   "outputs": [
    {
     "name": "stdout",
     "output_type": "stream",
     "text": [
      "validating module...\n",
      "Start running module...\n",
      "finished running module...\n"
     ]
    },
    {
     "name": "stderr",
     "output_type": "stream",
     "text": [
      "/Users/markusbonse/Documents/Arbeit/ETH/Git/PynPoint/PynPoint2/core/Pypeline.py:135: UserWarning: Processing module names need to be unique. Overwriting the old Module\n",
      "  warnings.warn('Processing module names need to be unique. Overwriting the old Module')\n"
     ]
    }
   ],
   "source": [
    "writing_mean = WriteAsSingleFitsFile(\"ADI_wavelets.fits\",\n",
    "                                     name_in=\"07_combine_mean\",\n",
    "                                     data_tag=tag + \"_mean\")\n",
    "\n",
    "pipeline.add_module(writing_mean)\n",
    "pipeline.run_module(\"07_combine_mean\")"
   ]
  },
  {
   "cell_type": "code",
   "execution_count": null,
   "metadata": {
    "collapsed": true
   },
   "outputs": [],
   "source": []
  }
 ],
 "metadata": {
  "kernelspec": {
   "display_name": "Python 2",
   "language": "python",
   "name": "python2"
  },
  "language_info": {
   "codemirror_mode": {
    "name": "ipython",
    "version": 2
   },
   "file_extension": ".py",
   "mimetype": "text/x-python",
   "name": "python",
   "nbconvert_exporter": "python",
   "pygments_lexer": "ipython2",
   "version": "2.7.5"
  }
 },
 "nbformat": 4,
 "nbformat_minor": 0
}
