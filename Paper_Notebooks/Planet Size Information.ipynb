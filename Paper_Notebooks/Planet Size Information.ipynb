{
 "cells": [
  {
   "cell_type": "code",
   "execution_count": 1,
   "metadata": {
    "collapsed": true
   },
   "outputs": [],
   "source": [
    "import numpy as np\n",
    "import matplotlib.pyplot as plt"
   ]
  },
  {
   "cell_type": "code",
   "execution_count": null,
   "metadata": {
    "collapsed": true
   },
   "outputs": [],
   "source": []
  },
  {
   "cell_type": "code",
   "execution_count": 67,
   "metadata": {
    "collapsed": true
   },
   "outputs": [],
   "source": [
    "def arc(d):\n",
    "    R = 3.0\n",
    "    r = 2.0\n",
    "    s = (-d+r-R)*(-d-r+R)*(-d+r+R)*(d+r+R)\n",
    "    if s < 0:\n",
    "        return 0\n",
    "    a = (1.0/d) *np.sqrt((-d+r-R)*(-d-r+R)*(-d+r+R)*(d+r+R))\n",
    "    return 360*np.arcsin(a/(2.0*R))/(2*np.pi)"
   ]
  },
  {
   "cell_type": "code",
   "execution_count": 70,
   "metadata": {
    "collapsed": false
   },
   "outputs": [],
   "source": [
    "y = np.asarray(map(arc, np.linspace(0,10, 500)))\n",
    "def cover(angle):\n",
    "    return (y > angle).sum()\n",
    "\n",
    "cov_y = map(cover, np.linspace(0,60, 500))"
   ]
  },
  {
   "cell_type": "code",
   "execution_count": 72,
   "metadata": {
    "collapsed": false
   },
   "outputs": [],
   "source": [
    "plt.plot(np.linspace(0,60, 500), cov_y)\n",
    "plt.plot(np.linspace(0,60, 500), 0.8*np.ones(500)*np.max(cov_y))\n",
    "plt.show()"
   ]
  },
  {
   "cell_type": "code",
   "execution_count": 75,
   "metadata": {
    "collapsed": true
   },
   "outputs": [],
   "source": [
    "def find_cut():\n",
    "    for i in range(len(cov_y)):\n",
    "        if cov_y[i] < 0.8*np.max(cov_y):\n",
    "            return i"
   ]
  },
  {
   "cell_type": "code",
   "execution_count": 76,
   "metadata": {
    "collapsed": false
   },
   "outputs": [],
   "source": [
    "plt.plot(np.linspace(0,60, 500), y)\n",
    "plt.plot(np.linspace(0,60, 500), np.ones(500)*np.linspace(0,60, 500)[find_cut()])\n",
    "plt.show()"
   ]
  },
  {
   "cell_type": "code",
   "execution_count": null,
   "metadata": {
    "collapsed": true
   },
   "outputs": [],
   "source": []
  }
 ],
 "metadata": {
  "kernelspec": {
   "display_name": "Python 2",
   "language": "python",
   "name": "python2"
  },
  "language_info": {
   "codemirror_mode": {
    "name": "ipython",
    "version": 2
   },
   "file_extension": ".py",
   "mimetype": "text/x-python",
   "name": "python",
   "nbconvert_exporter": "python",
   "pygments_lexer": "ipython2",
   "version": "2.7.5"
  }
 },
 "nbformat": 4,
 "nbformat_minor": 0
}
