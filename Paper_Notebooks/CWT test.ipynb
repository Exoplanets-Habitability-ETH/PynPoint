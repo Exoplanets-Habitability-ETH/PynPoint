{
 "cells": [
  {
   "cell_type": "code",
   "execution_count": 1,
   "metadata": {
    "collapsed": false
   },
   "outputs": [],
   "source": [
    "import numpy as np\n",
    "import matplotlib.pyplot as plt\n",
    "import scipy\n",
    "from PynPoint.util import CWT"
   ]
  },
  {
   "cell_type": "code",
   "execution_count": 13,
   "metadata": {
    "collapsed": false
   },
   "outputs": [],
   "source": [
    "g_signal = scipy.signal.gaussian(15000, 3000)\n",
    "#g_signal = np.append(np.zeros(3779), g_signal)\n",
    "g_signal = np.append(g_signal[7000:], np.zeros(10000))\n",
    "#g_signal += np.random.normal(0, 7.0, len(g_signal))\n",
    "plt.plot(g_signal)\n",
    "plt.show()"
   ]
  },
  {
   "cell_type": "code",
   "execution_count": 12,
   "metadata": {
    "collapsed": false
   },
   "outputs": [
    {
     "name": "stderr",
     "output_type": "stream",
     "text": [
      "/opt/local/Library/Frameworks/Python.framework/Versions/2.7/lib/python2.7/site-packages/matplotlib/image.py:375: UserWarning: Images are not supported on non-linear axes.\n",
      "  warnings.warn(\"Images are not supported on non-linear axes.\")\n",
      "/opt/local/Library/Frameworks/Python.framework/Versions/2.7/lib/python2.7/site-packages/matplotlib/image.py:375: UserWarning: Images are not supported on non-linear axes.\n",
      "  warnings.warn(\"Images are not supported on non-linear axes.\")\n"
     ]
    }
   ],
   "source": [
    "'''\n",
    "cwt_rep = CWT.WaveletAnalysisCapsule(g_signal,\n",
    "                                     padding=\"zero\", \n",
    "                                     frequency_resolution=0.1)\n",
    "\n",
    "cwt_rep.compute_cwt()\n",
    "cwt_rep.plot_spectrum()\n",
    "\n",
    "cwt_rep.denoise_spectrum_universal_threshold_planet_save(2000,\n",
    "                                                        30000)\n",
    "cwt_rep.plot_spectrum()\n",
    "cwt_rep.update_signal()\n",
    "#cwt_rep.median_filter()\n",
    "'''\n",
    "\n",
    "cwt_rep = CWT.WaveletAnalysisCapsule(g_signal,\n",
    "                                     wavelet_in=\"dog\",\n",
    "                                     order=2,\n",
    "                                     padding=\"mirror\", \n",
    "                                     frequency_resolution=0.1)\n",
    "cwt_rep.compute_cwt()\n",
    "cwt_rep.plot_spectrum()\n",
    "cwt_rep.denoise_spectrum_universal_threshold(soft=True)\n",
    "cwt_rep.plot_spectrum()\n",
    "cwt_rep.update_signal()\n",
    "cwt_rep.median_filter()\n",
    "plt.plot(cwt_rep.get_signal())\n",
    "plt.show()"
   ]
  },
  {
   "cell_type": "code",
   "execution_count": null,
   "metadata": {
    "collapsed": true
   },
   "outputs": [],
   "source": []
  },
  {
   "cell_type": "code",
   "execution_count": null,
   "metadata": {
    "collapsed": true
   },
   "outputs": [],
   "source": []
  }
 ],
 "metadata": {
  "kernelspec": {
   "display_name": "Python 2",
   "language": "python",
   "name": "python2"
  },
  "language_info": {
   "codemirror_mode": {
    "name": "ipython",
    "version": 2
   },
   "file_extension": ".py",
   "mimetype": "text/x-python",
   "name": "python",
   "nbconvert_exporter": "python",
   "pygments_lexer": "ipython2",
   "version": "2.7.5"
  }
 },
 "nbformat": 4,
 "nbformat_minor": 0
}
