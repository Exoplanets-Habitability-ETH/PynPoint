{
 "cells": [
  {
   "cell_type": "code",
   "execution_count": 1,
   "metadata": {
    "collapsed": true
   },
   "outputs": [],
   "source": [
    "import os\n",
    "import sys\n",
    "module_path = os.path.abspath(os.path.join('../'))\n",
    "if module_path not in sys.path:\n",
    "    sys.path.append(module_path)"
   ]
  },
  {
   "cell_type": "markdown",
   "metadata": {},
   "source": [
    "## Create Pipeline"
   ]
  },
  {
   "cell_type": "code",
   "execution_count": 2,
   "metadata": {
    "collapsed": false
   },
   "outputs": [],
   "source": [
    "from PynPoint2 import Pypeline\n",
    "\n",
    "pipeline = Pypeline(\"/Users/markusbonse/Desktop/Workplace_wv\",\n",
    "                    \"/Users/markusbonse/Desktop\",\n",
    "                    \"/Users/markusbonse/Desktop/Results_ADI_wv\")"
   ]
  },
  {
   "cell_type": "code",
   "execution_count": 71,
   "metadata": {
    "collapsed": true
   },
   "outputs": [],
   "source": [
    "from PynPoint2 import Pypeline\n",
    "\n",
    "pipeline = Pypeline(\"/Users/markusbonse/Desktop/Workplace_no_wv\",\n",
    "                    \"/Users/markusbonse/Desktop\",\n",
    "                    \"/Users/markusbonse/Desktop/Results_ADI_no_wv\")"
   ]
  },
  {
   "cell_type": "markdown",
   "metadata": {},
   "source": [
    "## Create Data Port"
   ]
  },
  {
   "cell_type": "code",
   "execution_count": 80,
   "metadata": {
    "collapsed": true
   },
   "outputs": [],
   "source": [
    "from PynPoint2.core import InputPort\n",
    "\n",
    "data_port = InputPort(\"09_star_arr_shifted_01\",\n",
    "                     pipeline.m_data_storage)"
   ]
  },
  {
   "cell_type": "code",
   "execution_count": 3,
   "metadata": {
    "collapsed": true
   },
   "outputs": [],
   "source": [
    "from PynPoint2.core import InputPort\n",
    "\n",
    "data_port = InputPort(\"10_wavelet_denoised_soft_01\",\n",
    "                     pipeline.m_data_storage)"
   ]
  },
  {
   "cell_type": "markdown",
   "metadata": {},
   "source": [
    "## Get Planet line"
   ]
  },
  {
   "cell_type": "code",
   "execution_count": 51,
   "metadata": {
    "collapsed": false
   },
   "outputs": [],
   "source": [
    "import numpy as np\n",
    "pos = [66, 48] # speckle\n",
    "#pos = [67, 60] # e\n",
    "#pos = [67, 60]\n",
    "\n",
    "planet_line = data_port[:, pos[0], pos[1]]"
   ]
  },
  {
   "cell_type": "markdown",
   "metadata": {},
   "source": [
    "## Detection Class"
   ]
  },
  {
   "cell_type": "code",
   "execution_count": 52,
   "metadata": {
    "collapsed": false
   },
   "outputs": [],
   "source": [
    "from PynPoint2.util import PeakDetection\n",
    "peak_detection = PeakDetection(planet_line)"
   ]
  },
  {
   "cell_type": "code",
   "execution_count": 53,
   "metadata": {
    "collapsed": true
   },
   "outputs": [],
   "source": [
    "peak_detection.detect_peaks(max_peaks=1)\n",
    "peak_detection.calc_peak_support()"
   ]
  },
  {
   "cell_type": "code",
   "execution_count": 54,
   "metadata": {
    "collapsed": false
   },
   "outputs": [
    {
     "name": "stdout",
     "output_type": "stream",
     "text": [
      "max mode -2.89087408069\n",
      "mean 12.4901597103\n",
      "median 6.97906322913\n"
     ]
    }
   ],
   "source": [
    "peak_detection.plot_pdf()"
   ]
  },
  {
   "cell_type": "code",
   "execution_count": 55,
   "metadata": {
    "collapsed": false
   },
   "outputs": [
    {
     "name": "stdout",
     "output_type": "stream",
     "text": [
      "12.8520566658\n",
      "-2.89087408069\n",
      "12.8520566658\n",
      "-2.89087408069\n",
      "12.8520566658\n",
      "-2.89087408069\n",
      "0.996197563312\n"
     ]
    }
   ],
   "source": [
    "print peak_detection.get_best_peak_mean()\n",
    "print peak_detection.get_best_peak_mode()\n",
    "print peak_detection.get_lowest_peak_mean()\n",
    "print peak_detection.get_lowest_peak_mode()\n",
    "print peak_detection.get_highest_peak_mean()\n",
    "print peak_detection.get_highest_peak_mode()\n",
    "print peak_detection.get_peak_accuray()"
   ]
  },
  {
   "cell_type": "code",
   "execution_count": null,
   "metadata": {
    "collapsed": true
   },
   "outputs": [],
   "source": []
  }
 ],
 "metadata": {
  "kernelspec": {
   "display_name": "Python 2",
   "language": "python",
   "name": "python2"
  },
  "language_info": {
   "codemirror_mode": {
    "name": "ipython",
    "version": 2
   },
   "file_extension": ".py",
   "mimetype": "text/x-python",
   "name": "python",
   "nbconvert_exporter": "python",
   "pygments_lexer": "ipython2",
   "version": "2.7.5"
  }
 },
 "nbformat": 4,
 "nbformat_minor": 0
}
