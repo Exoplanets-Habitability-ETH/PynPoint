{
 "cells": [
  {
   "cell_type": "code",
   "execution_count": 1,
   "metadata": {
    "collapsed": true
   },
   "outputs": [],
   "source": [
    "import os\n",
    "import sys\n",
    "module_path = os.path.abspath(os.path.join('../'))\n",
    "if module_path not in sys.path:\n",
    "    sys.path.append(module_path)"
   ]
  },
  {
   "cell_type": "markdown",
   "metadata": {},
   "source": [
    "## Create Pipeline"
   ]
  },
  {
   "cell_type": "code",
   "execution_count": 52,
   "metadata": {
    "collapsed": true
   },
   "outputs": [],
   "source": [
    "from PynPoint2 import Pypeline\n",
    "\n",
    "pipeline = Pypeline(\"/Users/markusbonse/Desktop/Workplace_wv\",\n",
    "                    \"/Users/markusbonse/Desktop\",\n",
    "                    \"/Users/markusbonse/Desktop/Results_ADI_wv\")"
   ]
  },
  {
   "cell_type": "code",
   "execution_count": 38,
   "metadata": {
    "collapsed": true
   },
   "outputs": [],
   "source": [
    "from PynPoint2 import Pypeline\n",
    "\n",
    "pipeline = Pypeline(\"/Users/markusbonse/Desktop/Workplace_no_wv\",\n",
    "                    \"/Users/markusbonse/Desktop\",\n",
    "                    \"/Users/markusbonse/Desktop/Results_ADI_no_wv\")"
   ]
  },
  {
   "cell_type": "markdown",
   "metadata": {},
   "source": [
    "## Create Data Port"
   ]
  },
  {
   "cell_type": "code",
   "execution_count": 39,
   "metadata": {
    "collapsed": true
   },
   "outputs": [],
   "source": [
    "from PynPoint2.core import InputPort\n",
    "\n",
    "data_port = InputPort(\"09_star_arr_shifted_01\",\n",
    "                     pipeline.m_data_storage)"
   ]
  },
  {
   "cell_type": "code",
   "execution_count": 53,
   "metadata": {
    "collapsed": true
   },
   "outputs": [],
   "source": [
    "from PynPoint2.core import InputPort\n",
    "\n",
    "data_port = InputPort(\"10_wavelet_denoised_soft_01\",\n",
    "                     pipeline.m_data_storage)"
   ]
  },
  {
   "cell_type": "markdown",
   "metadata": {},
   "source": [
    "## Get Planet line"
   ]
  },
  {
   "cell_type": "code",
   "execution_count": 54,
   "metadata": {
    "collapsed": false
   },
   "outputs": [],
   "source": [
    "planet_line = data_port[:,66, 48]"
   ]
  },
  {
   "cell_type": "markdown",
   "metadata": {},
   "source": [
    "## Plot Density"
   ]
  },
  {
   "cell_type": "code",
   "execution_count": 61,
   "metadata": {
    "collapsed": false
   },
   "outputs": [],
   "source": [
    "from sklearn.neighbors import KernelDensity\n",
    "\n",
    "'''\n",
    "def kde_scipy(x, x_grid, bandwidth=200, **kwargs):\n",
    "    \"\"\"Kernel Density Estimation with Scipy\"\"\"\n",
    "    # Note that scipy weights its bandwidth by the covariance of the\n",
    "    # input data.  To make the results comparable to the other methods,\n",
    "    # we divide the bandwidth by the sample standard deviation here.\n",
    "    kde = gaussian_kde(x, bw_method=bandwidth / x.std(ddof=1), **kwargs)\n",
    "    return kde.evaluate(x_grid)'''\n",
    "\n",
    "\n",
    "def kde_sklearn(x, x_grid, bandwidth=0.2, **kwargs):\n",
    "    \"\"\"Kernel Density Estimation with Scikit-learn\"\"\"\n",
    "    kde_skl = KernelDensity(bandwidth=bandwidth, **kwargs)\n",
    "    kde_skl.fit(x[:, np.newaxis])\n",
    "    # score_samples() returns the log-likelihood of the samples\n",
    "    log_pdf = kde_skl.score_samples(x_grid[:, np.newaxis])\n",
    "    return np.exp(log_pdf)"
   ]
  },
  {
   "cell_type": "code",
   "execution_count": null,
   "metadata": {
    "collapsed": false
   },
   "outputs": [],
   "source": [
    "%matplotlib nbagg    \n",
    "import numpy as np\n",
    "import matplotlib.pyplot as plt\n",
    "from sklearn.grid_search import GridSearchCV\n",
    "\n",
    "# The grid we'll use for plotting\n",
    "x_grid = np.linspace(-400, 400, 1000)\n",
    "\n",
    "# estimate bandwidth\n",
    "from sklearn.grid_search import GridSearchCV\n",
    "grid = GridSearchCV(KernelDensity(),\n",
    "                    {'bandwidth': np.linspace(0.2, 20.0, 20)},\n",
    "                    cv=5)\n",
    "grid.fit(planet_line[:, None])\n",
    "\n",
    "print grid.best_params_['bandwidth']\n",
    "\n",
    "# Plot the kernel density estimate\n",
    "pdf = kde_sklearn(planet_line,\n",
    "                  x_grid,\n",
    "                  bandwidth=grid.best_params_['bandwidth'])\n",
    "plt.plot(x_grid, pdf, color='blue', alpha=0.5, lw=3)\n",
    "plt.title(\"KDE\")\n",
    "plt.xlim(-200, 200)\n",
    "plt.show()"
   ]
  },
  {
   "cell_type": "code",
   "execution_count": 57,
   "metadata": {
    "collapsed": false
   },
   "outputs": [
    {
     "name": "stdout",
     "output_type": "stream",
     "text": [
      "-2.4402440244\n",
      "12.4901597103\n",
      "6.97906322913\n"
     ]
    },
    {
     "data": {
      "text/plain": [
       "-124.70981423473188"
      ]
     },
     "execution_count": 57,
     "metadata": {},
     "output_type": "execute_result"
    }
   ],
   "source": [
    "print x_grid[np.argsort(pdf)[-1]]\n",
    "\n",
    "\n",
    "print np.mean(planet_line)\n",
    "print np.median(planet_line)\n",
    "np.min(planet_line)"
   ]
  },
  {
   "cell_type": "code",
   "execution_count": 71,
   "metadata": {
    "collapsed": false
   },
   "outputs": [
    {
     "name": "stdout",
     "output_type": "stream",
     "text": [
      "4.0\n"
     ]
    }
   ],
   "source": [
    "print grid.best_params_['bandwidth']"
   ]
  },
  {
   "cell_type": "code",
   "execution_count": null,
   "metadata": {
    "collapsed": true
   },
   "outputs": [],
   "source": []
  }
 ],
 "metadata": {
  "kernelspec": {
   "display_name": "Python 2",
   "language": "python",
   "name": "python2"
  },
  "language_info": {
   "codemirror_mode": {
    "name": "ipython",
    "version": 2
   },
   "file_extension": ".py",
   "mimetype": "text/x-python",
   "name": "python",
   "nbconvert_exporter": "python",
   "pygments_lexer": "ipython2",
   "version": "2.7.5"
  }
 },
 "nbformat": 4,
 "nbformat_minor": 0
}
