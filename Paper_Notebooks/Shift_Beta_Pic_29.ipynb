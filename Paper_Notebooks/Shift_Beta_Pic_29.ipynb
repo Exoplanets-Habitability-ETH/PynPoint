{
 "cells": [
  {
   "cell_type": "code",
   "execution_count": 1,
   "metadata": {
    "collapsed": true
   },
   "outputs": [],
   "source": [
    "import os\n",
    "import sys\n",
    "module_path = os.path.abspath(os.path.join('../'))\n",
    "if module_path not in sys.path:\n",
    "    sys.path.append(module_path)"
   ]
  },
  {
   "cell_type": "markdown",
   "metadata": {},
   "source": [
    "## Create Pipeline"
   ]
  },
  {
   "cell_type": "code",
   "execution_count": 2,
   "metadata": {
    "collapsed": true
   },
   "outputs": [],
   "source": [
    "from PynPoint2 import Pypeline\n",
    "\n",
    "pipeline = Pypeline(\"/scratch/user/mbonse/after_new_preprocessing/Beta_Pic_2009_12_29/Workplace\",\n",
    "                    \"/scratch/user/mbonse/after_new_preprocessing/Beta_Pic_2009_12_29/Data/00_raw_Data\",\n",
    "                    \"/scratch/user/mbonse/after_new_preprocessing/Beta_Pic_2009_12_29/Results\")"
   ]
  },
  {
   "cell_type": "code",
   "execution_count": 12,
   "metadata": {
    "collapsed": false
   },
   "outputs": [
    {
     "name": "stdout",
     "output_type": "stream",
     "text": [
      "validating module...\n",
      "Start running module...\n",
      "processed image 1 of 29799 images\n",
      "processed image 1001 of 29799 images\n",
      "processed image 2001 of 29799 images\n",
      "processed image 3001 of 29799 images\n",
      "processed image 4001 of 29799 images\n",
      "processed image 5001 of 29799 images\n",
      "processed image 6001 of 29799 images\n",
      "processed image 7001 of 29799 images\n",
      "processed image 8001 of 29799 images\n",
      "processed image 9001 of 29799 images\n",
      "processed image 10001 of 29799 images\n",
      "processed image 11001 of 29799 images\n",
      "processed image 12001 of 29799 images\n",
      "processed image 13001 of 29799 images\n",
      "processed image 14001 of 29799 images\n",
      "processed image 15001 of 29799 images\n",
      "processed image 16001 of 29799 images\n",
      "processed image 17001 of 29799 images\n",
      "processed image 18001 of 29799 images\n",
      "processed image 19001 of 29799 images\n",
      "processed image 20001 of 29799 images\n",
      "processed image 21001 of 29799 images\n",
      "processed image 22001 of 29799 images\n",
      "processed image 23001 of 29799 images\n",
      "processed image 24001 of 29799 images\n",
      "processed image 25001 of 29799 images\n",
      "processed image 26001 of 29799 images\n",
      "processed image 27001 of 29799 images\n",
      "processed image 28001 of 29799 images\n",
      "processed image 29001 of 29799 images\n",
      "finished running module...\n"
     ]
    },
    {
     "name": "stderr",
     "output_type": "stream",
     "text": [
      "/Users/markusbonse/Documents/Arbeit/ETH/Git/PynPoint/PynPoint2/core/Pypeline.py:135: UserWarning: Processing module names need to be unique. Overwriting the old Module\n",
      "  warnings.warn('Processing module names need to be unique. Overwriting the old Module')\n"
     ]
    }
   ],
   "source": [
    "from PynPoint2.processing_modules import ShiftForCenteringModule\n",
    "\n",
    "shift = ShiftForCenteringModule((-0.3,0.5),\n",
    "                                name_in=\"shift\",\n",
    "                                image_in_tag=\"08_star_arr_normalized\",\n",
    "                                image_out_tag=\"09_star_arr_shifted\",\n",
    "                                number_of_images_in_memory=1000)\n",
    "pipeline.add_module(shift)\n",
    "pipeline.run_module(\"shift\")"
   ]
  },
  {
   "cell_type": "code",
   "execution_count": 13,
   "metadata": {
    "collapsed": false
   },
   "outputs": [
    {
     "name": "stdout",
     "output_type": "stream",
     "text": [
      "validating module...\n",
      "Start running module...\n",
      "finished running module...\n"
     ]
    },
    {
     "name": "stderr",
     "output_type": "stream",
     "text": [
      "/Users/markusbonse/Documents/Arbeit/ETH/Git/PynPoint/PynPoint2/core/Pypeline.py:135: UserWarning: Processing module names need to be unique. Overwriting the old Module\n",
      "  warnings.warn('Processing module names need to be unique. Overwriting the old Module')\n",
      "/Users/markusbonse/Documents/Arbeit/ETH/Git/PynPoint/PynPoint2/io_modules/FitsWriting.py:78: UserWarning: Overwriting old file /Users/markusbonse/Desktop/Results/after_shift.fits\n",
      "  warnings.warn('Overwriting old file %s' % out_name)\n"
     ]
    }
   ],
   "source": [
    "from PynPoint2.io_modules import WriteAsSingleFitsFile\n",
    "writing = WriteAsSingleFitsFile(\"after_shift.fits\",\n",
    "                                name_in=\"after_shift\",\n",
    "                                data_tag=\"09_star_arr_shifted\",\n",
    "                                data_range=(2000,2100))\n",
    "pipeline.add_module(writing)\n",
    "pipeline.run_module(\"after_shift\")"
   ]
  },
  {
   "cell_type": "code",
   "execution_count": null,
   "metadata": {
    "collapsed": true
   },
   "outputs": [],
   "source": []
  }
 ],
 "metadata": {
  "kernelspec": {
   "display_name": "Python 2",
   "language": "python",
   "name": "python2"
  },
  "language_info": {
   "codemirror_mode": {
    "name": "ipython",
    "version": 2
   },
   "file_extension": ".py",
   "mimetype": "text/x-python",
   "name": "python",
   "nbconvert_exporter": "python",
   "pygments_lexer": "ipython2",
   "version": "2.7.5"
  }
 },
 "nbformat": 4,
 "nbformat_minor": 0
}
