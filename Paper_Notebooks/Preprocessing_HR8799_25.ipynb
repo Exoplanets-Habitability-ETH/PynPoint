{
 "metadata": {
  "name": "",
  "signature": "sha256:135ca77b5937249d44648169d47821a4213b6c49040a4d231a9862fd668b4249"
 },
 "nbformat": 3,
 "nbformat_minor": 0,
 "worksheets": [
  {
   "cells": [
    {
     "cell_type": "heading",
     "level": 2,
     "metadata": {},
     "source": [
      "Imports we need to run PynPoint 0.3.0"
     ]
    },
    {
     "cell_type": "code",
     "collapsed": false,
     "input": [
      "import os\n",
      "import sys\n",
      "module_path = os.path.abspath(os.path.join('../'))\n",
      "if module_path not in sys.path:\n",
      "    sys.path.append(module_path)"
     ],
     "language": "python",
     "metadata": {},
     "outputs": [],
     "prompt_number": 1
    },
    {
     "cell_type": "heading",
     "level": 2,
     "metadata": {},
     "source": [
      "PynPoint Imports"
     ]
    },
    {
     "cell_type": "code",
     "collapsed": false,
     "input": [
      "from PynPoint2 import Pypeline\n",
      "from PynPoint2.io_modules import ReadFitsCubesDirectory\n",
      "\n",
      "from PynPoint2.processing_modules import BadPixelCleaningSigmaFilterModule, \\\n",
      "DarkSubtractionModule, FlatSubtractionModule, CutTopTwoLinesModule, \\\n",
      "AngleCalculationModule, MeanBackgroundSubtractionModule, \\\n",
      "StarExtractionModule, StarAlignmentModule, TimeNormalizationModule\n",
      "\n",
      "from PynPoint2.io_modules import WriteAsSingleFitsFile"
     ],
     "language": "python",
     "metadata": {},
     "outputs": [],
     "prompt_number": 3
    },
    {
     "cell_type": "heading",
     "level": 2,
     "metadata": {},
     "source": [
      "Pypeline creation"
     ]
    },
    {
     "cell_type": "code",
     "collapsed": false,
     "input": [
      "pipeline = Pypeline(\"/scratch/user/mbonse/after_new_preprocessing/HR8799_2012_08_25/Workplace\",\n",
      "                    \"/scratch/user/mbonse/after_new_preprocessing/HR8799_2012_08_25/Data/00_raw_data\",\n",
      "                    \"/scratch/user/mbonse/after_new_preprocessing/HR8799_2012_08_25/Results\")"
     ],
     "language": "python",
     "metadata": {},
     "outputs": [],
     "prompt_number": 4
    },
    {
     "cell_type": "heading",
     "level": 2,
     "metadata": {},
     "source": [
      "00 read the data"
     ]
    },
    {
     "cell_type": "code",
     "collapsed": false,
     "input": [
      "reading_data = ReadFitsCubesDirectory(name_in=\"Fits_reading\",\n",
      "                                      image_tag=\"00_raw_data\")\n",
      "pipeline.add_module(reading_data)\n",
      "pipeline.run_module(\"Fits_reading\")"
     ],
     "language": "python",
     "metadata": {},
     "outputs": [
      {
       "output_type": "stream",
       "stream": "stdout",
       "text": [
        "validating module...\n",
        "Start running module...\n",
        "Reading NACO.2012-08-25T03:58:38.237.fits\n",
        "Reading NACO.2012-08-25T03:59:21.607.fits"
       ]
      },
      {
       "output_type": "stream",
       "stream": "stderr",
       "text": [
        "/home/mbonse/Git/PynPoint/PynPoint2/io_modules/FitsReading.py:189: UserWarning: Unknown Header \"ESO AOS VIS DET WFS MODE\" key found\n",
        "  warnings.warn('Unknown Header \"%s\" key found' %str(key))\n",
        "/home/mbonse/Git/PynPoint/PynPoint2/io_modules/FitsReading.py:189: UserWarning: Unknown Header \"ESO AOS VIS INS ADC1 POSNAM\" key found\n",
        "  warnings.warn('Unknown Header \"%s\" key found' %str(key))\n",
        "/home/mbonse/Git/PynPoint/PynPoint2/io_modules/FitsReading.py:189: UserWarning: Unknown Header \"ESO AOS VIS INS ADC2 POSNAM\" key found\n",
        "  warnings.warn('Unknown Header \"%s\" key found' %str(key))\n",
        "/home/mbonse/Git/PynPoint/PynPoint2/io_modules/FitsReading.py:189: UserWarning: Unknown Header \"ESO AOS VIS INS DIAP POSNAM\" key found\n",
        "  warnings.warn('Unknown Header \"%s\" key found' %str(key))\n",
        "/home/mbonse/Git/PynPoint/PynPoint2/io_modules/FitsReading.py:189: UserWarning: Unknown Header \"ESO AOS VIS INS LENS POSNAM\" key found\n",
        "  warnings.warn('Unknown Header \"%s\" key found' %str(key))\n",
        "/home/mbonse/Git/PynPoint/PynPoint2/io_modules/FitsReading.py:189: UserWarning: Unknown Header \"ESO AOS VIS DET WFS MODE\" key found\n",
        "  warnings.warn('Unknown Header \"%s\" key found' %str(key))\n"
       ]
      },
      {
       "output_type": "stream",
       "stream": "stdout",
       "text": [
        "\n",
        "Reading NACO.2012-08-25T04:00:12.858.fits"
       ]
      },
      {
       "output_type": "stream",
       "stream": "stderr",
       "text": [
        "/home/mbonse/Git/PynPoint/PynPoint2/io_modules/FitsReading.py:189: UserWarning: Unknown Header \"ESO AOS VIS INS ADC1 POSNAM\" key found\n",
        "  warnings.warn('Unknown Header \"%s\" key found' %str(key))\n",
        "/home/mbonse/Git/PynPoint/PynPoint2/io_modules/FitsReading.py:189: UserWarning: Unknown Header \"ESO AOS VIS INS ADC2 POSNAM\" key found\n",
        "  warnings.warn('Unknown Header \"%s\" key found' %str(key))\n",
        "/home/mbonse/Git/PynPoint/PynPoint2/io_modules/FitsReading.py:189: UserWarning: Unknown Header \"ESO AOS VIS INS DIAP POSNAM\" key found\n",
        "  warnings.warn('Unknown Header \"%s\" key found' %str(key))\n",
        "/home/mbonse/Git/PynPoint/PynPoint2/io_modules/FitsReading.py:189: UserWarning: Unknown Header \"ESO AOS VIS INS LENS POSNAM\" key found\n",
        "  warnings.warn('Unknown Header \"%s\" key found' %str(key))\n",
        "/home/mbonse/Git/PynPoint/PynPoint2/io_modules/FitsReading.py:189: UserWarning: Unknown Header \"ESO AOS VIS DET WFS MODE\" key found\n",
        "  warnings.warn('Unknown Header \"%s\" key found' %str(key))\n"
       ]
      },
      {
       "output_type": "stream",
       "stream": "stdout",
       "text": [
        "\n",
        "Reading NACO.2012-08-25T04:00:56.316.fits"
       ]
      },
      {
       "output_type": "stream",
       "stream": "stderr",
       "text": [
        "/home/mbonse/Git/PynPoint/PynPoint2/io_modules/FitsReading.py:189: UserWarning: Unknown Header \"ESO AOS VIS INS ADC1 POSNAM\" key found\n",
        "  warnings.warn('Unknown Header \"%s\" key found' %str(key))\n",
        "/home/mbonse/Git/PynPoint/PynPoint2/io_modules/FitsReading.py:189: UserWarning: Unknown Header \"ESO AOS VIS INS ADC2 POSNAM\" key found\n",
        "  warnings.warn('Unknown Header \"%s\" key found' %str(key))\n",
        "/home/mbonse/Git/PynPoint/PynPoint2/io_modules/FitsReading.py:189: UserWarning: Unknown Header \"ESO AOS VIS INS DIAP POSNAM\" key found\n",
        "  warnings.warn('Unknown Header \"%s\" key found' %str(key))\n",
        "/home/mbonse/Git/PynPoint/PynPoint2/io_modules/FitsReading.py:189: UserWarning: Unknown Header \"ESO AOS VIS INS LENS POSNAM\" key found\n",
        "  warnings.warn('Unknown Header \"%s\" key found' %str(key))\n",
        "/home/mbonse/Git/PynPoint/PynPoint2/io_modules/FitsReading.py:189: UserWarning: Unknown Header \"ESO AOS VIS DET WFS MODE\" key found\n",
        "  warnings.warn('Unknown Header \"%s\" key found' %str(key))\n"
       ]
      },
      {
       "output_type": "stream",
       "stream": "stdout",
       "text": [
        "\n",
        "Reading NACO.2012-08-25T04:01:48.490.fits"
       ]
      },
      {
       "output_type": "stream",
       "stream": "stderr",
       "text": [
        "/home/mbonse/Git/PynPoint/PynPoint2/io_modules/FitsReading.py:189: UserWarning: Unknown Header \"ESO AOS VIS INS ADC1 POSNAM\" key found\n",
        "  warnings.warn('Unknown Header \"%s\" key found' %str(key))\n",
        "/home/mbonse/Git/PynPoint/PynPoint2/io_modules/FitsReading.py:189: UserWarning: Unknown Header \"ESO AOS VIS INS ADC2 POSNAM\" key found\n",
        "  warnings.warn('Unknown Header \"%s\" key found' %str(key))\n",
        "/home/mbonse/Git/PynPoint/PynPoint2/io_modules/FitsReading.py:189: UserWarning: Unknown Header \"ESO AOS VIS INS DIAP POSNAM\" key found\n",
        "  warnings.warn('Unknown Header \"%s\" key found' %str(key))\n",
        "/home/mbonse/Git/PynPoint/PynPoint2/io_modules/FitsReading.py:189: UserWarning: Unknown Header \"ESO AOS VIS INS LENS POSNAM\" key found\n",
        "  warnings.warn('Unknown Header \"%s\" key found' %str(key))\n",
        "/home/mbonse/Git/PynPoint/PynPoint2/io_modules/FitsReading.py:189: UserWarning: Unknown Header \"ESO AOS VIS DET WFS MODE\" key found\n",
        "  warnings.warn('Unknown Header \"%s\" key found' %str(key))\n"
       ]
      },
      {
       "output_type": "stream",
       "stream": "stdout",
       "text": [
        "\n",
        "Reading NACO.2012-08-25T04:02:31.796.fits"
       ]
      },
      {
       "output_type": "stream",
       "stream": "stderr",
       "text": [
        "/home/mbonse/Git/PynPoint/PynPoint2/io_modules/FitsReading.py:189: UserWarning: Unknown Header \"ESO AOS VIS INS ADC1 POSNAM\" key found\n",
        "  warnings.warn('Unknown Header \"%s\" key found' %str(key))\n",
        "/home/mbonse/Git/PynPoint/PynPoint2/io_modules/FitsReading.py:189: UserWarning: Unknown Header \"ESO AOS VIS INS ADC2 POSNAM\" key found\n",
        "  warnings.warn('Unknown Header \"%s\" key found' %str(key))\n",
        "/home/mbonse/Git/PynPoint/PynPoint2/io_modules/FitsReading.py:189: UserWarning: Unknown Header \"ESO AOS VIS INS DIAP POSNAM\" key found\n",
        "  warnings.warn('Unknown Header \"%s\" key found' %str(key))\n",
        "/home/mbonse/Git/PynPoint/PynPoint2/io_modules/FitsReading.py:189: UserWarning: Unknown Header \"ESO AOS VIS INS LENS POSNAM\" key found\n",
        "  warnings.warn('Unknown Header \"%s\" key found' %str(key))\n",
        "/home/mbonse/Git/PynPoint/PynPoint2/io_modules/FitsReading.py:189: UserWarning: Unknown Header \"ESO AOS VIS DET WFS MODE\" key found\n",
        "  warnings.warn('Unknown Header \"%s\" key found' %str(key))\n"
       ]
      },
      {
       "output_type": "stream",
       "stream": "stdout",
       "text": [
        "\n",
        "Reading NACO.2012-08-25T04:03:22.450.fits"
       ]
      },
      {
       "output_type": "stream",
       "stream": "stderr",
       "text": [
        "/home/mbonse/Git/PynPoint/PynPoint2/io_modules/FitsReading.py:189: UserWarning: Unknown Header \"ESO AOS VIS INS ADC1 POSNAM\" key found\n",
        "  warnings.warn('Unknown Header \"%s\" key found' %str(key))\n",
        "/home/mbonse/Git/PynPoint/PynPoint2/io_modules/FitsReading.py:189: UserWarning: Unknown Header \"ESO AOS VIS INS ADC2 POSNAM\" key found\n",
        "  warnings.warn('Unknown Header \"%s\" key found' %str(key))\n",
        "/home/mbonse/Git/PynPoint/PynPoint2/io_modules/FitsReading.py:189: UserWarning: Unknown Header \"ESO AOS VIS INS DIAP POSNAM\" key found\n",
        "  warnings.warn('Unknown Header \"%s\" key found' %str(key))\n",
        "/home/mbonse/Git/PynPoint/PynPoint2/io_modules/FitsReading.py:189: UserWarning: Unknown Header \"ESO AOS VIS INS LENS POSNAM\" key found\n",
        "  warnings.warn('Unknown Header \"%s\" key found' %str(key))\n",
        "/home/mbonse/Git/PynPoint/PynPoint2/io_modules/FitsReading.py:189: UserWarning: Unknown Header \"ESO AOS VIS DET WFS MODE\" key found\n",
        "  warnings.warn('Unknown Header \"%s\" key found' %str(key))\n"
       ]
      },
      {
       "output_type": "stream",
       "stream": "stdout",
       "text": [
        "\n",
        "Reading NACO.2012-08-25T04:04:05.950.fits"
       ]
      },
      {
       "output_type": "stream",
       "stream": "stderr",
       "text": [
        "/home/mbonse/Git/PynPoint/PynPoint2/io_modules/FitsReading.py:189: UserWarning: Unknown Header \"ESO AOS VIS INS ADC1 POSNAM\" key found\n",
        "  warnings.warn('Unknown Header \"%s\" key found' %str(key))\n",
        "/home/mbonse/Git/PynPoint/PynPoint2/io_modules/FitsReading.py:189: UserWarning: Unknown Header \"ESO AOS VIS INS ADC2 POSNAM\" key found\n",
        "  warnings.warn('Unknown Header \"%s\" key found' %str(key))\n",
        "/home/mbonse/Git/PynPoint/PynPoint2/io_modules/FitsReading.py:189: UserWarning: Unknown Header \"ESO AOS VIS INS DIAP POSNAM\" key found\n",
        "  warnings.warn('Unknown Header \"%s\" key found' %str(key))\n",
        "/home/mbonse/Git/PynPoint/PynPoint2/io_modules/FitsReading.py:189: UserWarning: Unknown Header \"ESO AOS VIS INS LENS POSNAM\" key found\n",
        "  warnings.warn('Unknown Header \"%s\" key found' %str(key))\n",
        "/home/mbonse/Git/PynPoint/PynPoint2/io_modules/FitsReading.py:189: UserWarning: Unknown Header \"ESO AOS VIS DET WFS MODE\" key found\n",
        "  warnings.warn('Unknown Header \"%s\" key found' %str(key))\n"
       ]
      },
      {
       "output_type": "stream",
       "stream": "stdout",
       "text": [
        "\n",
        "Reading NACO.2012-08-25T04:05:13.807.fits"
       ]
      },
      {
       "output_type": "stream",
       "stream": "stderr",
       "text": [
        "/home/mbonse/Git/PynPoint/PynPoint2/io_modules/FitsReading.py:189: UserWarning: Unknown Header \"ESO AOS VIS INS ADC1 POSNAM\" key found\n",
        "  warnings.warn('Unknown Header \"%s\" key found' %str(key))\n",
        "/home/mbonse/Git/PynPoint/PynPoint2/io_modules/FitsReading.py:189: UserWarning: Unknown Header \"ESO AOS VIS INS ADC2 POSNAM\" key found\n",
        "  warnings.warn('Unknown Header \"%s\" key found' %str(key))\n",
        "/home/mbonse/Git/PynPoint/PynPoint2/io_modules/FitsReading.py:189: UserWarning: Unknown Header \"ESO AOS VIS INS DIAP POSNAM\" key found\n",
        "  warnings.warn('Unknown Header \"%s\" key found' %str(key))\n",
        "/home/mbonse/Git/PynPoint/PynPoint2/io_modules/FitsReading.py:189: UserWarning: Unknown Header \"ESO AOS VIS INS LENS POSNAM\" key found\n",
        "  warnings.warn('Unknown Header \"%s\" key found' %str(key))\n",
        "/home/mbonse/Git/PynPoint/PynPoint2/io_modules/FitsReading.py:189: UserWarning: Unknown Header \"ESO AOS VIS DET WFS MODE\" key found\n",
        "  warnings.warn('Unknown Header \"%s\" key found' %str(key))\n"
       ]
      },
      {
       "output_type": "stream",
       "stream": "stdout",
       "text": [
        "\n",
        "Reading NACO.2012-08-25T04:05:57.300.fits"
       ]
      },
      {
       "output_type": "stream",
       "stream": "stderr",
       "text": [
        "/home/mbonse/Git/PynPoint/PynPoint2/io_modules/FitsReading.py:189: UserWarning: Unknown Header \"ESO AOS VIS INS ADC1 POSNAM\" key found\n",
        "  warnings.warn('Unknown Header \"%s\" key found' %str(key))\n",
        "/home/mbonse/Git/PynPoint/PynPoint2/io_modules/FitsReading.py:189: UserWarning: Unknown Header \"ESO AOS VIS INS ADC2 POSNAM\" key found\n",
        "  warnings.warn('Unknown Header \"%s\" key found' %str(key))\n",
        "/home/mbonse/Git/PynPoint/PynPoint2/io_modules/FitsReading.py:189: UserWarning: Unknown Header \"ESO AOS VIS INS DIAP POSNAM\" key found\n",
        "  warnings.warn('Unknown Header \"%s\" key found' %str(key))\n",
        "/home/mbonse/Git/PynPoint/PynPoint2/io_modules/FitsReading.py:189: UserWarning: Unknown Header \"ESO AOS VIS INS LENS POSNAM\" key found\n",
        "  warnings.warn('Unknown Header \"%s\" key found' %str(key))\n",
        "/home/mbonse/Git/PynPoint/PynPoint2/io_modules/FitsReading.py:189: UserWarning: Unknown Header \"ESO AOS VIS DET WFS MODE\" key found\n",
        "  warnings.warn('Unknown Header \"%s\" key found' %str(key))\n"
       ]
      },
      {
       "output_type": "stream",
       "stream": "stdout",
       "text": [
        "\n",
        "Reading NACO.2012-08-25T04:06:48.243.fits"
       ]
      },
      {
       "output_type": "stream",
       "stream": "stderr",
       "text": [
        "/home/mbonse/Git/PynPoint/PynPoint2/io_modules/FitsReading.py:189: UserWarning: Unknown Header \"ESO AOS VIS INS ADC1 POSNAM\" key found\n",
        "  warnings.warn('Unknown Header \"%s\" key found' %str(key))\n",
        "/home/mbonse/Git/PynPoint/PynPoint2/io_modules/FitsReading.py:189: UserWarning: Unknown Header \"ESO AOS VIS INS ADC2 POSNAM\" key found\n",
        "  warnings.warn('Unknown Header \"%s\" key found' %str(key))\n",
        "/home/mbonse/Git/PynPoint/PynPoint2/io_modules/FitsReading.py:189: UserWarning: Unknown Header \"ESO AOS VIS INS DIAP POSNAM\" key found\n",
        "  warnings.warn('Unknown Header \"%s\" key found' %str(key))\n",
        "/home/mbonse/Git/PynPoint/PynPoint2/io_modules/FitsReading.py:189: UserWarning: Unknown Header \"ESO AOS VIS INS LENS POSNAM\" key found\n",
        "  warnings.warn('Unknown Header \"%s\" key found' %str(key))\n",
        "/home/mbonse/Git/PynPoint/PynPoint2/io_modules/FitsReading.py:189: UserWarning: Unknown Header \"ESO AOS VIS DET WFS MODE\" key found\n",
        "  warnings.warn('Unknown Header \"%s\" key found' %str(key))\n"
       ]
      },
      {
       "output_type": "stream",
       "stream": "stdout",
       "text": [
        "\n",
        "Reading NACO.2012-08-25T04:07:31.696.fits"
       ]
      },
      {
       "output_type": "stream",
       "stream": "stderr",
       "text": [
        "/home/mbonse/Git/PynPoint/PynPoint2/io_modules/FitsReading.py:189: UserWarning: Unknown Header \"ESO AOS VIS INS ADC1 POSNAM\" key found\n",
        "  warnings.warn('Unknown Header \"%s\" key found' %str(key))\n",
        "/home/mbonse/Git/PynPoint/PynPoint2/io_modules/FitsReading.py:189: UserWarning: Unknown Header \"ESO AOS VIS INS ADC2 POSNAM\" key found\n",
        "  warnings.warn('Unknown Header \"%s\" key found' %str(key))\n",
        "/home/mbonse/Git/PynPoint/PynPoint2/io_modules/FitsReading.py:189: UserWarning: Unknown Header \"ESO AOS VIS INS DIAP POSNAM\" key found\n",
        "  warnings.warn('Unknown Header \"%s\" key found' %str(key))\n",
        "/home/mbonse/Git/PynPoint/PynPoint2/io_modules/FitsReading.py:189: UserWarning: Unknown Header \"ESO AOS VIS INS LENS POSNAM\" key found\n",
        "  warnings.warn('Unknown Header \"%s\" key found' %str(key))\n",
        "/home/mbonse/Git/PynPoint/PynPoint2/io_modules/FitsReading.py:189: UserWarning: Unknown Header \"ESO AOS VIS DET WFS MODE\" key found\n",
        "  warnings.warn('Unknown Header \"%s\" key found' %str(key))\n"
       ]
      },
      {
       "output_type": "stream",
       "stream": "stdout",
       "text": [
        "\n",
        "Reading NACO.2012-08-25T04:08:24.348.fits"
       ]
      },
      {
       "output_type": "stream",
       "stream": "stderr",
       "text": [
        "/home/mbonse/Git/PynPoint/PynPoint2/io_modules/FitsReading.py:189: UserWarning: Unknown Header \"ESO AOS VIS INS ADC1 POSNAM\" key found\n",
        "  warnings.warn('Unknown Header \"%s\" key found' %str(key))\n",
        "/home/mbonse/Git/PynPoint/PynPoint2/io_modules/FitsReading.py:189: UserWarning: Unknown Header \"ESO AOS VIS INS ADC2 POSNAM\" key found\n",
        "  warnings.warn('Unknown Header \"%s\" key found' %str(key))\n",
        "/home/mbonse/Git/PynPoint/PynPoint2/io_modules/FitsReading.py:189: UserWarning: Unknown Header \"ESO AOS VIS INS DIAP POSNAM\" key found\n",
        "  warnings.warn('Unknown Header \"%s\" key found' %str(key))\n",
        "/home/mbonse/Git/PynPoint/PynPoint2/io_modules/FitsReading.py:189: UserWarning: Unknown Header \"ESO AOS VIS INS LENS POSNAM\" key found\n",
        "  warnings.warn('Unknown Header \"%s\" key found' %str(key))\n",
        "/home/mbonse/Git/PynPoint/PynPoint2/io_modules/FitsReading.py:189: UserWarning: Unknown Header \"ESO AOS VIS DET WFS MODE\" key found\n",
        "  warnings.warn('Unknown Header \"%s\" key found' %str(key))\n"
       ]
      },
      {
       "output_type": "stream",
       "stream": "stdout",
       "text": [
        "\n",
        "Reading NACO.2012-08-25T04:09:07.648.fits"
       ]
      },
      {
       "output_type": "stream",
       "stream": "stderr",
       "text": [
        "/home/mbonse/Git/PynPoint/PynPoint2/io_modules/FitsReading.py:189: UserWarning: Unknown Header \"ESO AOS VIS INS ADC1 POSNAM\" key found\n",
        "  warnings.warn('Unknown Header \"%s\" key found' %str(key))\n",
        "/home/mbonse/Git/PynPoint/PynPoint2/io_modules/FitsReading.py:189: UserWarning: Unknown Header \"ESO AOS VIS INS ADC2 POSNAM\" key found\n",
        "  warnings.warn('Unknown Header \"%s\" key found' %str(key))\n",
        "/home/mbonse/Git/PynPoint/PynPoint2/io_modules/FitsReading.py:189: UserWarning: Unknown Header \"ESO AOS VIS INS DIAP POSNAM\" key found\n",
        "  warnings.warn('Unknown Header \"%s\" key found' %str(key))\n",
        "/home/mbonse/Git/PynPoint/PynPoint2/io_modules/FitsReading.py:189: UserWarning: Unknown Header \"ESO AOS VIS INS LENS POSNAM\" key found\n",
        "  warnings.warn('Unknown Header \"%s\" key found' %str(key))\n",
        "/home/mbonse/Git/PynPoint/PynPoint2/io_modules/FitsReading.py:189: UserWarning: Unknown Header \"ESO AOS VIS DET WFS MODE\" key found\n",
        "  warnings.warn('Unknown Header \"%s\" key found' %str(key))\n"
       ]
      },
      {
       "output_type": "stream",
       "stream": "stdout",
       "text": [
        "\n",
        "Reading NACO.2012-08-25T04:10:00.155.fits"
       ]
      },
      {
       "output_type": "stream",
       "stream": "stderr",
       "text": [
        "/home/mbonse/Git/PynPoint/PynPoint2/io_modules/FitsReading.py:189: UserWarning: Unknown Header \"ESO AOS VIS INS ADC1 POSNAM\" key found\n",
        "  warnings.warn('Unknown Header \"%s\" key found' %str(key))\n",
        "/home/mbonse/Git/PynPoint/PynPoint2/io_modules/FitsReading.py:189: UserWarning: Unknown Header \"ESO AOS VIS INS ADC2 POSNAM\" key found\n",
        "  warnings.warn('Unknown Header \"%s\" key found' %str(key))\n",
        "/home/mbonse/Git/PynPoint/PynPoint2/io_modules/FitsReading.py:189: UserWarning: Unknown Header \"ESO AOS VIS INS DIAP POSNAM\" key found\n",
        "  warnings.warn('Unknown Header \"%s\" key found' %str(key))\n",
        "/home/mbonse/Git/PynPoint/PynPoint2/io_modules/FitsReading.py:189: UserWarning: Unknown Header \"ESO AOS VIS INS LENS POSNAM\" key found\n",
        "  warnings.warn('Unknown Header \"%s\" key found' %str(key))\n",
        "/home/mbonse/Git/PynPoint/PynPoint2/io_modules/FitsReading.py:189: UserWarning: Unknown Header \"ESO AOS VIS DET WFS MODE\" key found\n",
        "  warnings.warn('Unknown Header \"%s\" key found' %str(key))\n"
       ]
      },
      {
       "output_type": "stream",
       "stream": "stdout",
       "text": [
        "\n",
        "Reading NACO.2012-08-25T04:10:43.662.fits"
       ]
      },
      {
       "output_type": "stream",
       "stream": "stderr",
       "text": [
        "/home/mbonse/Git/PynPoint/PynPoint2/io_modules/FitsReading.py:189: UserWarning: Unknown Header \"ESO AOS VIS INS ADC1 POSNAM\" key found\n",
        "  warnings.warn('Unknown Header \"%s\" key found' %str(key))\n",
        "/home/mbonse/Git/PynPoint/PynPoint2/io_modules/FitsReading.py:189: UserWarning: Unknown Header \"ESO AOS VIS INS ADC2 POSNAM\" key found\n",
        "  warnings.warn('Unknown Header \"%s\" key found' %str(key))\n",
        "/home/mbonse/Git/PynPoint/PynPoint2/io_modules/FitsReading.py:189: UserWarning: Unknown Header \"ESO AOS VIS INS DIAP POSNAM\" key found\n",
        "  warnings.warn('Unknown Header \"%s\" key found' %str(key))\n",
        "/home/mbonse/Git/PynPoint/PynPoint2/io_modules/FitsReading.py:189: UserWarning: Unknown Header \"ESO AOS VIS INS LENS POSNAM\" key found\n",
        "  warnings.warn('Unknown Header \"%s\" key found' %str(key))\n",
        "/home/mbonse/Git/PynPoint/PynPoint2/io_modules/FitsReading.py:189: UserWarning: Unknown Header \"ESO AOS VIS DET WFS MODE\" key found\n",
        "  warnings.warn('Unknown Header \"%s\" key found' %str(key))\n"
       ]
      },
      {
       "output_type": "stream",
       "stream": "stdout",
       "text": [
        "\n",
        "Reading NACO.2012-08-25T04:12:18.899.fits"
       ]
      },
      {
       "output_type": "stream",
       "stream": "stderr",
       "text": [
        "/home/mbonse/Git/PynPoint/PynPoint2/io_modules/FitsReading.py:189: UserWarning: Unknown Header \"ESO AOS VIS INS ADC1 POSNAM\" key found\n",
        "  warnings.warn('Unknown Header \"%s\" key found' %str(key))\n",
        "/home/mbonse/Git/PynPoint/PynPoint2/io_modules/FitsReading.py:189: UserWarning: Unknown Header \"ESO AOS VIS INS ADC2 POSNAM\" key found\n",
        "  warnings.warn('Unknown Header \"%s\" key found' %str(key))\n",
        "/home/mbonse/Git/PynPoint/PynPoint2/io_modules/FitsReading.py:189: UserWarning: Unknown Header \"ESO AOS VIS INS DIAP POSNAM\" key found\n",
        "  warnings.warn('Unknown Header \"%s\" key found' %str(key))\n",
        "/home/mbonse/Git/PynPoint/PynPoint2/io_modules/FitsReading.py:189: UserWarning: Unknown Header \"ESO AOS VIS INS LENS POSNAM\" key found\n",
        "  warnings.warn('Unknown Header \"%s\" key found' %str(key))\n",
        "/home/mbonse/Git/PynPoint/PynPoint2/io_modules/FitsReading.py:189: UserWarning: Unknown Header \"ESO AOS VIS DET WFS MODE\" key found\n",
        "  warnings.warn('Unknown Header \"%s\" key found' %str(key))\n"
       ]
      },
      {
       "output_type": "stream",
       "stream": "stdout",
       "text": [
        "\n",
        "Reading NACO.2012-08-25T04:13:03.354.fits"
       ]
      },
      {
       "output_type": "stream",
       "stream": "stderr",
       "text": [
        "/home/mbonse/Git/PynPoint/PynPoint2/io_modules/FitsReading.py:189: UserWarning: Unknown Header \"ESO AOS VIS INS ADC1 POSNAM\" key found\n",
        "  warnings.warn('Unknown Header \"%s\" key found' %str(key))\n",
        "/home/mbonse/Git/PynPoint/PynPoint2/io_modules/FitsReading.py:189: UserWarning: Unknown Header \"ESO AOS VIS INS ADC2 POSNAM\" key found\n",
        "  warnings.warn('Unknown Header \"%s\" key found' %str(key))\n",
        "/home/mbonse/Git/PynPoint/PynPoint2/io_modules/FitsReading.py:189: UserWarning: Unknown Header \"ESO AOS VIS INS DIAP POSNAM\" key found\n",
        "  warnings.warn('Unknown Header \"%s\" key found' %str(key))\n",
        "/home/mbonse/Git/PynPoint/PynPoint2/io_modules/FitsReading.py:189: UserWarning: Unknown Header \"ESO AOS VIS INS LENS POSNAM\" key found\n",
        "  warnings.warn('Unknown Header \"%s\" key found' %str(key))\n",
        "/home/mbonse/Git/PynPoint/PynPoint2/io_modules/FitsReading.py:189: UserWarning: Unknown Header \"ESO AOS VIS DET WFS MODE\" key found\n",
        "  warnings.warn('Unknown Header \"%s\" key found' %str(key))\n"
       ]
      },
      {
       "output_type": "stream",
       "stream": "stdout",
       "text": [
        "\n",
        "Reading NACO.2012-08-25T04:13:54.605.fits"
       ]
      },
      {
       "output_type": "stream",
       "stream": "stderr",
       "text": [
        "/home/mbonse/Git/PynPoint/PynPoint2/io_modules/FitsReading.py:189: UserWarning: Unknown Header \"ESO AOS VIS INS ADC1 POSNAM\" key found\n",
        "  warnings.warn('Unknown Header \"%s\" key found' %str(key))\n",
        "/home/mbonse/Git/PynPoint/PynPoint2/io_modules/FitsReading.py:189: UserWarning: Unknown Header \"ESO AOS VIS INS ADC2 POSNAM\" key found\n",
        "  warnings.warn('Unknown Header \"%s\" key found' %str(key))\n",
        "/home/mbonse/Git/PynPoint/PynPoint2/io_modules/FitsReading.py:189: UserWarning: Unknown Header \"ESO AOS VIS INS DIAP POSNAM\" key found\n",
        "  warnings.warn('Unknown Header \"%s\" key found' %str(key))\n",
        "/home/mbonse/Git/PynPoint/PynPoint2/io_modules/FitsReading.py:189: UserWarning: Unknown Header \"ESO AOS VIS INS LENS POSNAM\" key found\n",
        "  warnings.warn('Unknown Header \"%s\" key found' %str(key))\n",
        "/home/mbonse/Git/PynPoint/PynPoint2/io_modules/FitsReading.py:189: UserWarning: Unknown Header \"ESO AOS VIS DET WFS MODE\" key found\n",
        "  warnings.warn('Unknown Header \"%s\" key found' %str(key))\n"
       ]
      },
      {
       "output_type": "stream",
       "stream": "stdout",
       "text": [
        "\n",
        "Reading NACO.2012-08-25T04:14:38.068.fits"
       ]
      },
      {
       "output_type": "stream",
       "stream": "stderr",
       "text": [
        "/home/mbonse/Git/PynPoint/PynPoint2/io_modules/FitsReading.py:189: UserWarning: Unknown Header \"ESO AOS VIS INS ADC1 POSNAM\" key found\n",
        "  warnings.warn('Unknown Header \"%s\" key found' %str(key))\n",
        "/home/mbonse/Git/PynPoint/PynPoint2/io_modules/FitsReading.py:189: UserWarning: Unknown Header \"ESO AOS VIS INS ADC2 POSNAM\" key found\n",
        "  warnings.warn('Unknown Header \"%s\" key found' %str(key))\n",
        "/home/mbonse/Git/PynPoint/PynPoint2/io_modules/FitsReading.py:189: UserWarning: Unknown Header \"ESO AOS VIS INS DIAP POSNAM\" key found\n",
        "  warnings.warn('Unknown Header \"%s\" key found' %str(key))\n",
        "/home/mbonse/Git/PynPoint/PynPoint2/io_modules/FitsReading.py:189: UserWarning: Unknown Header \"ESO AOS VIS INS LENS POSNAM\" key found\n",
        "  warnings.warn('Unknown Header \"%s\" key found' %str(key))\n",
        "/home/mbonse/Git/PynPoint/PynPoint2/io_modules/FitsReading.py:189: UserWarning: Unknown Header \"ESO AOS VIS DET WFS MODE\" key found\n",
        "  warnings.warn('Unknown Header \"%s\" key found' %str(key))\n"
       ]
      },
      {
       "output_type": "stream",
       "stream": "stdout",
       "text": [
        "\n",
        "Reading NACO.2012-08-25T04:15:30.155.fits"
       ]
      },
      {
       "output_type": "stream",
       "stream": "stderr",
       "text": [
        "/home/mbonse/Git/PynPoint/PynPoint2/io_modules/FitsReading.py:189: UserWarning: Unknown Header \"ESO AOS VIS INS ADC1 POSNAM\" key found\n",
        "  warnings.warn('Unknown Header \"%s\" key found' %str(key))\n",
        "/home/mbonse/Git/PynPoint/PynPoint2/io_modules/FitsReading.py:189: UserWarning: Unknown Header \"ESO AOS VIS INS ADC2 POSNAM\" key found\n",
        "  warnings.warn('Unknown Header \"%s\" key found' %str(key))\n",
        "/home/mbonse/Git/PynPoint/PynPoint2/io_modules/FitsReading.py:189: UserWarning: Unknown Header \"ESO AOS VIS INS DIAP POSNAM\" key found\n",
        "  warnings.warn('Unknown Header \"%s\" key found' %str(key))\n",
        "/home/mbonse/Git/PynPoint/PynPoint2/io_modules/FitsReading.py:189: UserWarning: Unknown Header \"ESO AOS VIS INS LENS POSNAM\" key found\n",
        "  warnings.warn('Unknown Header \"%s\" key found' %str(key))\n",
        "/home/mbonse/Git/PynPoint/PynPoint2/io_modules/FitsReading.py:189: UserWarning: Unknown Header \"ESO AOS VIS DET WFS MODE\" key found\n",
        "  warnings.warn('Unknown Header \"%s\" key found' %str(key))\n"
       ]
      },
      {
       "output_type": "stream",
       "stream": "stdout",
       "text": [
        "\n",
        "Reading NACO.2012-08-25T04:16:13.642.fits"
       ]
      },
      {
       "output_type": "stream",
       "stream": "stderr",
       "text": [
        "/home/mbonse/Git/PynPoint/PynPoint2/io_modules/FitsReading.py:189: UserWarning: Unknown Header \"ESO AOS VIS INS ADC1 POSNAM\" key found\n",
        "  warnings.warn('Unknown Header \"%s\" key found' %str(key))\n",
        "/home/mbonse/Git/PynPoint/PynPoint2/io_modules/FitsReading.py:189: UserWarning: Unknown Header \"ESO AOS VIS INS ADC2 POSNAM\" key found\n",
        "  warnings.warn('Unknown Header \"%s\" key found' %str(key))\n",
        "/home/mbonse/Git/PynPoint/PynPoint2/io_modules/FitsReading.py:189: UserWarning: Unknown Header \"ESO AOS VIS INS DIAP POSNAM\" key found\n",
        "  warnings.warn('Unknown Header \"%s\" key found' %str(key))\n",
        "/home/mbonse/Git/PynPoint/PynPoint2/io_modules/FitsReading.py:189: UserWarning: Unknown Header \"ESO AOS VIS INS LENS POSNAM\" key found\n",
        "  warnings.warn('Unknown Header \"%s\" key found' %str(key))\n",
        "/home/mbonse/Git/PynPoint/PynPoint2/io_modules/FitsReading.py:189: UserWarning: Unknown Header \"ESO AOS VIS DET WFS MODE\" key found\n",
        "  warnings.warn('Unknown Header \"%s\" key found' %str(key))\n"
       ]
      },
      {
       "output_type": "stream",
       "stream": "stdout",
       "text": [
        "\n",
        "Reading NACO.2012-08-25T04:17:04.193.fits"
       ]
      },
      {
       "output_type": "stream",
       "stream": "stderr",
       "text": [
        "/home/mbonse/Git/PynPoint/PynPoint2/io_modules/FitsReading.py:189: UserWarning: Unknown Header \"ESO AOS VIS INS ADC1 POSNAM\" key found\n",
        "  warnings.warn('Unknown Header \"%s\" key found' %str(key))\n",
        "/home/mbonse/Git/PynPoint/PynPoint2/io_modules/FitsReading.py:189: UserWarning: Unknown Header \"ESO AOS VIS INS ADC2 POSNAM\" key found\n",
        "  warnings.warn('Unknown Header \"%s\" key found' %str(key))\n",
        "/home/mbonse/Git/PynPoint/PynPoint2/io_modules/FitsReading.py:189: UserWarning: Unknown Header \"ESO AOS VIS INS DIAP POSNAM\" key found\n",
        "  warnings.warn('Unknown Header \"%s\" key found' %str(key))\n",
        "/home/mbonse/Git/PynPoint/PynPoint2/io_modules/FitsReading.py:189: UserWarning: Unknown Header \"ESO AOS VIS INS LENS POSNAM\" key found\n",
        "  warnings.warn('Unknown Header \"%s\" key found' %str(key))\n",
        "/home/mbonse/Git/PynPoint/PynPoint2/io_modules/FitsReading.py:189: UserWarning: Unknown Header \"ESO AOS VIS DET WFS MODE\" key found\n",
        "  warnings.warn('Unknown Header \"%s\" key found' %str(key))\n"
       ]
      },
      {
       "output_type": "stream",
       "stream": "stdout",
       "text": [
        "\n",
        "Reading NACO.2012-08-25T04:17:47.694.fits"
       ]
      },
      {
       "output_type": "stream",
       "stream": "stderr",
       "text": [
        "/home/mbonse/Git/PynPoint/PynPoint2/io_modules/FitsReading.py:189: UserWarning: Unknown Header \"ESO AOS VIS INS ADC1 POSNAM\" key found\n",
        "  warnings.warn('Unknown Header \"%s\" key found' %str(key))\n",
        "/home/mbonse/Git/PynPoint/PynPoint2/io_modules/FitsReading.py:189: UserWarning: Unknown Header \"ESO AOS VIS INS ADC2 POSNAM\" key found\n",
        "  warnings.warn('Unknown Header \"%s\" key found' %str(key))\n",
        "/home/mbonse/Git/PynPoint/PynPoint2/io_modules/FitsReading.py:189: UserWarning: Unknown Header \"ESO AOS VIS INS DIAP POSNAM\" key found\n",
        "  warnings.warn('Unknown Header \"%s\" key found' %str(key))\n",
        "/home/mbonse/Git/PynPoint/PynPoint2/io_modules/FitsReading.py:189: UserWarning: Unknown Header \"ESO AOS VIS INS LENS POSNAM\" key found\n",
        "  warnings.warn('Unknown Header \"%s\" key found' %str(key))\n",
        "/home/mbonse/Git/PynPoint/PynPoint2/io_modules/FitsReading.py:189: UserWarning: Unknown Header \"ESO AOS VIS DET WFS MODE\" key found\n",
        "  warnings.warn('Unknown Header \"%s\" key found' %str(key))\n"
       ]
      },
      {
       "output_type": "stream",
       "stream": "stdout",
       "text": [
        "\n",
        "Reading NACO.2012-08-25T04:18:56.378.fits"
       ]
      },
      {
       "output_type": "stream",
       "stream": "stderr",
       "text": [
        "/home/mbonse/Git/PynPoint/PynPoint2/io_modules/FitsReading.py:189: UserWarning: Unknown Header \"ESO AOS VIS INS ADC1 POSNAM\" key found\n",
        "  warnings.warn('Unknown Header \"%s\" key found' %str(key))\n",
        "/home/mbonse/Git/PynPoint/PynPoint2/io_modules/FitsReading.py:189: UserWarning: Unknown Header \"ESO AOS VIS INS ADC2 POSNAM\" key found\n",
        "  warnings.warn('Unknown Header \"%s\" key found' %str(key))\n",
        "/home/mbonse/Git/PynPoint/PynPoint2/io_modules/FitsReading.py:189: UserWarning: Unknown Header \"ESO AOS VIS INS DIAP POSNAM\" key found\n",
        "  warnings.warn('Unknown Header \"%s\" key found' %str(key))\n",
        "/home/mbonse/Git/PynPoint/PynPoint2/io_modules/FitsReading.py:189: UserWarning: Unknown Header \"ESO AOS VIS INS LENS POSNAM\" key found\n",
        "  warnings.warn('Unknown Header \"%s\" key found' %str(key))\n",
        "/home/mbonse/Git/PynPoint/PynPoint2/io_modules/FitsReading.py:189: UserWarning: Unknown Header \"ESO AOS VIS DET WFS MODE\" key found\n",
        "  warnings.warn('Unknown Header \"%s\" key found' %str(key))\n"
       ]
      },
      {
       "output_type": "stream",
       "stream": "stdout",
       "text": [
        "\n",
        "Reading NACO.2012-08-25T04:19:39.718.fits"
       ]
      },
      {
       "output_type": "stream",
       "stream": "stderr",
       "text": [
        "/home/mbonse/Git/PynPoint/PynPoint2/io_modules/FitsReading.py:189: UserWarning: Unknown Header \"ESO AOS VIS INS ADC1 POSNAM\" key found\n",
        "  warnings.warn('Unknown Header \"%s\" key found' %str(key))\n",
        "/home/mbonse/Git/PynPoint/PynPoint2/io_modules/FitsReading.py:189: UserWarning: Unknown Header \"ESO AOS VIS INS ADC2 POSNAM\" key found\n",
        "  warnings.warn('Unknown Header \"%s\" key found' %str(key))\n",
        "/home/mbonse/Git/PynPoint/PynPoint2/io_modules/FitsReading.py:189: UserWarning: Unknown Header \"ESO AOS VIS INS DIAP POSNAM\" key found\n",
        "  warnings.warn('Unknown Header \"%s\" key found' %str(key))\n",
        "/home/mbonse/Git/PynPoint/PynPoint2/io_modules/FitsReading.py:189: UserWarning: Unknown Header \"ESO AOS VIS INS LENS POSNAM\" key found\n",
        "  warnings.warn('Unknown Header \"%s\" key found' %str(key))\n",
        "/home/mbonse/Git/PynPoint/PynPoint2/io_modules/FitsReading.py:189: UserWarning: Unknown Header \"ESO AOS VIS DET WFS MODE\" key found\n",
        "  warnings.warn('Unknown Header \"%s\" key found' %str(key))\n"
       ]
      },
      {
       "output_type": "stream",
       "stream": "stdout",
       "text": [
        "\n",
        "Reading NACO.2012-08-25T04:20:30.412.fits"
       ]
      },
      {
       "output_type": "stream",
       "stream": "stderr",
       "text": [
        "/home/mbonse/Git/PynPoint/PynPoint2/io_modules/FitsReading.py:189: UserWarning: Unknown Header \"ESO AOS VIS INS ADC1 POSNAM\" key found\n",
        "  warnings.warn('Unknown Header \"%s\" key found' %str(key))\n",
        "/home/mbonse/Git/PynPoint/PynPoint2/io_modules/FitsReading.py:189: UserWarning: Unknown Header \"ESO AOS VIS INS ADC2 POSNAM\" key found\n",
        "  warnings.warn('Unknown Header \"%s\" key found' %str(key))\n",
        "/home/mbonse/Git/PynPoint/PynPoint2/io_modules/FitsReading.py:189: UserWarning: Unknown Header \"ESO AOS VIS INS DIAP POSNAM\" key found\n",
        "  warnings.warn('Unknown Header \"%s\" key found' %str(key))\n",
        "/home/mbonse/Git/PynPoint/PynPoint2/io_modules/FitsReading.py:189: UserWarning: Unknown Header \"ESO AOS VIS INS LENS POSNAM\" key found\n",
        "  warnings.warn('Unknown Header \"%s\" key found' %str(key))\n",
        "/home/mbonse/Git/PynPoint/PynPoint2/io_modules/FitsReading.py:189: UserWarning: Unknown Header \"ESO AOS VIS DET WFS MODE\" key found\n",
        "  warnings.warn('Unknown Header \"%s\" key found' %str(key))\n"
       ]
      },
      {
       "output_type": "stream",
       "stream": "stdout",
       "text": [
        "\n",
        "Reading NACO.2012-08-25T04:21:13.758.fits"
       ]
      },
      {
       "output_type": "stream",
       "stream": "stderr",
       "text": [
        "/home/mbonse/Git/PynPoint/PynPoint2/io_modules/FitsReading.py:189: UserWarning: Unknown Header \"ESO AOS VIS INS ADC1 POSNAM\" key found\n",
        "  warnings.warn('Unknown Header \"%s\" key found' %str(key))\n",
        "/home/mbonse/Git/PynPoint/PynPoint2/io_modules/FitsReading.py:189: UserWarning: Unknown Header \"ESO AOS VIS INS ADC2 POSNAM\" key found\n",
        "  warnings.warn('Unknown Header \"%s\" key found' %str(key))\n",
        "/home/mbonse/Git/PynPoint/PynPoint2/io_modules/FitsReading.py:189: UserWarning: Unknown Header \"ESO AOS VIS INS DIAP POSNAM\" key found\n",
        "  warnings.warn('Unknown Header \"%s\" key found' %str(key))\n",
        "/home/mbonse/Git/PynPoint/PynPoint2/io_modules/FitsReading.py:189: UserWarning: Unknown Header \"ESO AOS VIS INS LENS POSNAM\" key found\n",
        "  warnings.warn('Unknown Header \"%s\" key found' %str(key))\n",
        "/home/mbonse/Git/PynPoint/PynPoint2/io_modules/FitsReading.py:189: UserWarning: Unknown Header \"ESO AOS VIS DET WFS MODE\" key found\n",
        "  warnings.warn('Unknown Header \"%s\" key found' %str(key))\n"
       ]
      },
      {
       "output_type": "stream",
       "stream": "stdout",
       "text": [
        "\n",
        "Reading NACO.2012-08-25T04:22:04.862.fits"
       ]
      },
      {
       "output_type": "stream",
       "stream": "stderr",
       "text": [
        "/home/mbonse/Git/PynPoint/PynPoint2/io_modules/FitsReading.py:189: UserWarning: Unknown Header \"ESO AOS VIS INS ADC1 POSNAM\" key found\n",
        "  warnings.warn('Unknown Header \"%s\" key found' %str(key))\n",
        "/home/mbonse/Git/PynPoint/PynPoint2/io_modules/FitsReading.py:189: UserWarning: Unknown Header \"ESO AOS VIS INS ADC2 POSNAM\" key found\n",
        "  warnings.warn('Unknown Header \"%s\" key found' %str(key))\n",
        "/home/mbonse/Git/PynPoint/PynPoint2/io_modules/FitsReading.py:189: UserWarning: Unknown Header \"ESO AOS VIS INS DIAP POSNAM\" key found\n",
        "  warnings.warn('Unknown Header \"%s\" key found' %str(key))\n",
        "/home/mbonse/Git/PynPoint/PynPoint2/io_modules/FitsReading.py:189: UserWarning: Unknown Header \"ESO AOS VIS INS LENS POSNAM\" key found\n",
        "  warnings.warn('Unknown Header \"%s\" key found' %str(key))\n",
        "/home/mbonse/Git/PynPoint/PynPoint2/io_modules/FitsReading.py:189: UserWarning: Unknown Header \"ESO AOS VIS DET WFS MODE\" key found\n",
        "  warnings.warn('Unknown Header \"%s\" key found' %str(key))\n"
       ]
      },
      {
       "output_type": "stream",
       "stream": "stdout",
       "text": [
        "\n",
        "Reading NACO.2012-08-25T04:22:48.321.fits"
       ]
      },
      {
       "output_type": "stream",
       "stream": "stderr",
       "text": [
        "/home/mbonse/Git/PynPoint/PynPoint2/io_modules/FitsReading.py:189: UserWarning: Unknown Header \"ESO AOS VIS INS ADC1 POSNAM\" key found\n",
        "  warnings.warn('Unknown Header \"%s\" key found' %str(key))\n",
        "/home/mbonse/Git/PynPoint/PynPoint2/io_modules/FitsReading.py:189: UserWarning: Unknown Header \"ESO AOS VIS INS ADC2 POSNAM\" key found\n",
        "  warnings.warn('Unknown Header \"%s\" key found' %str(key))\n",
        "/home/mbonse/Git/PynPoint/PynPoint2/io_modules/FitsReading.py:189: UserWarning: Unknown Header \"ESO AOS VIS INS DIAP POSNAM\" key found\n",
        "  warnings.warn('Unknown Header \"%s\" key found' %str(key))\n",
        "/home/mbonse/Git/PynPoint/PynPoint2/io_modules/FitsReading.py:189: UserWarning: Unknown Header \"ESO AOS VIS INS LENS POSNAM\" key found\n",
        "  warnings.warn('Unknown Header \"%s\" key found' %str(key))\n",
        "/home/mbonse/Git/PynPoint/PynPoint2/io_modules/FitsReading.py:189: UserWarning: Unknown Header \"ESO AOS VIS DET WFS MODE\" key found\n",
        "  warnings.warn('Unknown Header \"%s\" key found' %str(key))\n"
       ]
      },
      {
       "output_type": "stream",
       "stream": "stdout",
       "text": [
        "\n",
        "Reading NACO.2012-08-25T04:23:41.375.fits"
       ]
      },
      {
       "output_type": "stream",
       "stream": "stderr",
       "text": [
        "/home/mbonse/Git/PynPoint/PynPoint2/io_modules/FitsReading.py:189: UserWarning: Unknown Header \"ESO AOS VIS INS ADC1 POSNAM\" key found\n",
        "  warnings.warn('Unknown Header \"%s\" key found' %str(key))\n",
        "/home/mbonse/Git/PynPoint/PynPoint2/io_modules/FitsReading.py:189: UserWarning: Unknown Header \"ESO AOS VIS INS ADC2 POSNAM\" key found\n",
        "  warnings.warn('Unknown Header \"%s\" key found' %str(key))\n",
        "/home/mbonse/Git/PynPoint/PynPoint2/io_modules/FitsReading.py:189: UserWarning: Unknown Header \"ESO AOS VIS INS DIAP POSNAM\" key found\n",
        "  warnings.warn('Unknown Header \"%s\" key found' %str(key))\n",
        "/home/mbonse/Git/PynPoint/PynPoint2/io_modules/FitsReading.py:189: UserWarning: Unknown Header \"ESO AOS VIS INS LENS POSNAM\" key found\n",
        "  warnings.warn('Unknown Header \"%s\" key found' %str(key))\n",
        "/home/mbonse/Git/PynPoint/PynPoint2/io_modules/FitsReading.py:189: UserWarning: Unknown Header \"ESO AOS VIS DET WFS MODE\" key found\n",
        "  warnings.warn('Unknown Header \"%s\" key found' %str(key))\n"
       ]
      },
      {
       "output_type": "stream",
       "stream": "stdout",
       "text": [
        "\n",
        "Reading NACO.2012-08-25T04:24:24.631.fits"
       ]
      },
      {
       "output_type": "stream",
       "stream": "stderr",
       "text": [
        "/home/mbonse/Git/PynPoint/PynPoint2/io_modules/FitsReading.py:189: UserWarning: Unknown Header \"ESO AOS VIS INS ADC1 POSNAM\" key found\n",
        "  warnings.warn('Unknown Header \"%s\" key found' %str(key))\n",
        "/home/mbonse/Git/PynPoint/PynPoint2/io_modules/FitsReading.py:189: UserWarning: Unknown Header \"ESO AOS VIS INS ADC2 POSNAM\" key found\n",
        "  warnings.warn('Unknown Header \"%s\" key found' %str(key))\n",
        "/home/mbonse/Git/PynPoint/PynPoint2/io_modules/FitsReading.py:189: UserWarning: Unknown Header \"ESO AOS VIS INS DIAP POSNAM\" key found\n",
        "  warnings.warn('Unknown Header \"%s\" key found' %str(key))\n",
        "/home/mbonse/Git/PynPoint/PynPoint2/io_modules/FitsReading.py:189: UserWarning: Unknown Header \"ESO AOS VIS INS LENS POSNAM\" key found\n",
        "  warnings.warn('Unknown Header \"%s\" key found' %str(key))\n",
        "/home/mbonse/Git/PynPoint/PynPoint2/io_modules/FitsReading.py:189: UserWarning: Unknown Header \"ESO AOS VIS DET WFS MODE\" key found\n",
        "  warnings.warn('Unknown Header \"%s\" key found' %str(key))\n"
       ]
      },
      {
       "output_type": "stream",
       "stream": "stdout",
       "text": [
        "\n",
        "Reading NACO.2012-08-25T04:26:06.624.fits"
       ]
      },
      {
       "output_type": "stream",
       "stream": "stderr",
       "text": [
        "/home/mbonse/Git/PynPoint/PynPoint2/io_modules/FitsReading.py:189: UserWarning: Unknown Header \"ESO AOS VIS INS ADC1 POSNAM\" key found\n",
        "  warnings.warn('Unknown Header \"%s\" key found' %str(key))\n",
        "/home/mbonse/Git/PynPoint/PynPoint2/io_modules/FitsReading.py:189: UserWarning: Unknown Header \"ESO AOS VIS INS ADC2 POSNAM\" key found\n",
        "  warnings.warn('Unknown Header \"%s\" key found' %str(key))\n",
        "/home/mbonse/Git/PynPoint/PynPoint2/io_modules/FitsReading.py:189: UserWarning: Unknown Header \"ESO AOS VIS INS DIAP POSNAM\" key found\n",
        "  warnings.warn('Unknown Header \"%s\" key found' %str(key))\n",
        "/home/mbonse/Git/PynPoint/PynPoint2/io_modules/FitsReading.py:189: UserWarning: Unknown Header \"ESO AOS VIS INS LENS POSNAM\" key found\n",
        "  warnings.warn('Unknown Header \"%s\" key found' %str(key))\n",
        "/home/mbonse/Git/PynPoint/PynPoint2/io_modules/FitsReading.py:189: UserWarning: Unknown Header \"ESO AOS VIS DET WFS MODE\" key found\n",
        "  warnings.warn('Unknown Header \"%s\" key found' %str(key))\n"
       ]
      },
      {
       "output_type": "stream",
       "stream": "stderr",
       "text": [
        "/home/mbonse/Git/PynPoint/PynPoint2/io_modules/FitsReading.py:189: UserWarning: Unknown Header \"ESO AOS VIS INS ADC1 POSNAM\" key found\n",
        "  warnings.warn('Unknown Header \"%s\" key found' %str(key))\n",
        "/home/mbonse/Git/PynPoint/PynPoint2/io_modules/FitsReading.py:189: UserWarning: Unknown Header \"ESO AOS VIS INS ADC2 POSNAM\" key found\n",
        "  warnings.warn('Unknown Header \"%s\" key found' %str(key))\n",
        "/home/mbonse/Git/PynPoint/PynPoint2/io_modules/FitsReading.py:189: UserWarning: Unknown Header \"ESO AOS VIS INS DIAP POSNAM\" key found\n",
        "  warnings.warn('Unknown Header \"%s\" key found' %str(key))\n",
        "/home/mbonse/Git/PynPoint/PynPoint2/io_modules/FitsReading.py:189: UserWarning: Unknown Header \"ESO AOS VIS INS LENS POSNAM\" key found\n",
        "  warnings.warn('Unknown Header \"%s\" key found' %str(key))\n",
        "/home/mbonse/Git/PynPoint/PynPoint2/io_modules/FitsReading.py:174: UserWarning: Static keyword ESO OBS ID has changed. Probably the current file NACO.2012-08-25T04:26:06.624.fits does not belong to the data set \"00_raw_data\" of the PynPoint database. Updating Keyword...\n",
        "  % (key, fits_file, self.m_image_tag))\n"
       ]
      },
      {
       "output_type": "stream",
       "stream": "stdout",
       "text": [
        "\n",
        "Reading NACO.2012-08-25T04:26:50.082.fits"
       ]
      },
      {
       "output_type": "stream",
       "stream": "stderr",
       "text": [
        "/home/mbonse/Git/PynPoint/PynPoint2/io_modules/FitsReading.py:189: UserWarning: Unknown Header \"ESO AOS VIS DET WFS MODE\" key found\n",
        "  warnings.warn('Unknown Header \"%s\" key found' %str(key))\n",
        "/home/mbonse/Git/PynPoint/PynPoint2/io_modules/FitsReading.py:189: UserWarning: Unknown Header \"ESO AOS VIS INS ADC1 POSNAM\" key found\n",
        "  warnings.warn('Unknown Header \"%s\" key found' %str(key))\n",
        "/home/mbonse/Git/PynPoint/PynPoint2/io_modules/FitsReading.py:189: UserWarning: Unknown Header \"ESO AOS VIS INS ADC2 POSNAM\" key found\n",
        "  warnings.warn('Unknown Header \"%s\" key found' %str(key))\n",
        "/home/mbonse/Git/PynPoint/PynPoint2/io_modules/FitsReading.py:189: UserWarning: Unknown Header \"ESO AOS VIS INS DIAP POSNAM\" key found\n",
        "  warnings.warn('Unknown Header \"%s\" key found' %str(key))\n",
        "/home/mbonse/Git/PynPoint/PynPoint2/io_modules/FitsReading.py:189: UserWarning: Unknown Header \"ESO AOS VIS INS LENS POSNAM\" key found\n",
        "  warnings.warn('Unknown Header \"%s\" key found' %str(key))\n",
        "/home/mbonse/Git/PynPoint/PynPoint2/io_modules/FitsReading.py:174: UserWarning: Static keyword ESO OBS ID has changed. Probably the current file NACO.2012-08-25T04:26:50.082.fits does not belong to the data set \"00_raw_data\" of the PynPoint database. Updating Keyword...\n",
        "  % (key, fits_file, self.m_image_tag))\n"
       ]
      },
      {
       "output_type": "stream",
       "stream": "stdout",
       "text": [
        "\n",
        "Reading NACO.2012-08-25T04:27:43.139.fits"
       ]
      },
      {
       "output_type": "stream",
       "stream": "stderr",
       "text": [
        "/home/mbonse/Git/PynPoint/PynPoint2/io_modules/FitsReading.py:189: UserWarning: Unknown Header \"ESO AOS VIS DET WFS MODE\" key found\n",
        "  warnings.warn('Unknown Header \"%s\" key found' %str(key))\n",
        "/home/mbonse/Git/PynPoint/PynPoint2/io_modules/FitsReading.py:189: UserWarning: Unknown Header \"ESO AOS VIS INS ADC1 POSNAM\" key found\n",
        "  warnings.warn('Unknown Header \"%s\" key found' %str(key))\n",
        "/home/mbonse/Git/PynPoint/PynPoint2/io_modules/FitsReading.py:189: UserWarning: Unknown Header \"ESO AOS VIS INS ADC2 POSNAM\" key found\n",
        "  warnings.warn('Unknown Header \"%s\" key found' %str(key))\n",
        "/home/mbonse/Git/PynPoint/PynPoint2/io_modules/FitsReading.py:189: UserWarning: Unknown Header \"ESO AOS VIS INS DIAP POSNAM\" key found\n",
        "  warnings.warn('Unknown Header \"%s\" key found' %str(key))\n",
        "/home/mbonse/Git/PynPoint/PynPoint2/io_modules/FitsReading.py:189: UserWarning: Unknown Header \"ESO AOS VIS INS LENS POSNAM\" key found\n",
        "  warnings.warn('Unknown Header \"%s\" key found' %str(key))\n",
        "/home/mbonse/Git/PynPoint/PynPoint2/io_modules/FitsReading.py:174: UserWarning: Static keyword ESO OBS ID has changed. Probably the current file NACO.2012-08-25T04:27:43.139.fits does not belong to the data set \"00_raw_data\" of the PynPoint database. Updating Keyword...\n",
        "  % (key, fits_file, self.m_image_tag))\n"
       ]
      },
      {
       "output_type": "stream",
       "stream": "stdout",
       "text": [
        "\n",
        "Reading NACO.2012-08-25T04:28:26.427.fits"
       ]
      },
      {
       "output_type": "stream",
       "stream": "stderr",
       "text": [
        "/home/mbonse/Git/PynPoint/PynPoint2/io_modules/FitsReading.py:189: UserWarning: Unknown Header \"ESO AOS VIS DET WFS MODE\" key found\n",
        "  warnings.warn('Unknown Header \"%s\" key found' %str(key))\n",
        "/home/mbonse/Git/PynPoint/PynPoint2/io_modules/FitsReading.py:189: UserWarning: Unknown Header \"ESO AOS VIS INS ADC1 POSNAM\" key found\n",
        "  warnings.warn('Unknown Header \"%s\" key found' %str(key))\n",
        "/home/mbonse/Git/PynPoint/PynPoint2/io_modules/FitsReading.py:189: UserWarning: Unknown Header \"ESO AOS VIS INS ADC2 POSNAM\" key found\n",
        "  warnings.warn('Unknown Header \"%s\" key found' %str(key))\n",
        "/home/mbonse/Git/PynPoint/PynPoint2/io_modules/FitsReading.py:189: UserWarning: Unknown Header \"ESO AOS VIS INS DIAP POSNAM\" key found\n",
        "  warnings.warn('Unknown Header \"%s\" key found' %str(key))\n",
        "/home/mbonse/Git/PynPoint/PynPoint2/io_modules/FitsReading.py:189: UserWarning: Unknown Header \"ESO AOS VIS INS LENS POSNAM\" key found\n",
        "  warnings.warn('Unknown Header \"%s\" key found' %str(key))\n",
        "/home/mbonse/Git/PynPoint/PynPoint2/io_modules/FitsReading.py:174: UserWarning: Static keyword ESO OBS ID has changed. Probably the current file NACO.2012-08-25T04:28:26.427.fits does not belong to the data set \"00_raw_data\" of the PynPoint database. Updating Keyword...\n",
        "  % (key, fits_file, self.m_image_tag))\n"
       ]
      },
      {
       "output_type": "stream",
       "stream": "stdout",
       "text": [
        "\n",
        "Reading NACO.2012-08-25T04:29:20.480.fits"
       ]
      },
      {
       "output_type": "stream",
       "stream": "stderr",
       "text": [
        "/home/mbonse/Git/PynPoint/PynPoint2/io_modules/FitsReading.py:189: UserWarning: Unknown Header \"ESO AOS VIS DET WFS MODE\" key found\n",
        "  warnings.warn('Unknown Header \"%s\" key found' %str(key))\n",
        "/home/mbonse/Git/PynPoint/PynPoint2/io_modules/FitsReading.py:189: UserWarning: Unknown Header \"ESO AOS VIS INS ADC1 POSNAM\" key found\n",
        "  warnings.warn('Unknown Header \"%s\" key found' %str(key))\n",
        "/home/mbonse/Git/PynPoint/PynPoint2/io_modules/FitsReading.py:189: UserWarning: Unknown Header \"ESO AOS VIS INS ADC2 POSNAM\" key found\n",
        "  warnings.warn('Unknown Header \"%s\" key found' %str(key))\n",
        "/home/mbonse/Git/PynPoint/PynPoint2/io_modules/FitsReading.py:189: UserWarning: Unknown Header \"ESO AOS VIS INS DIAP POSNAM\" key found\n",
        "  warnings.warn('Unknown Header \"%s\" key found' %str(key))\n",
        "/home/mbonse/Git/PynPoint/PynPoint2/io_modules/FitsReading.py:189: UserWarning: Unknown Header \"ESO AOS VIS INS LENS POSNAM\" key found\n",
        "  warnings.warn('Unknown Header \"%s\" key found' %str(key))\n",
        "/home/mbonse/Git/PynPoint/PynPoint2/io_modules/FitsReading.py:174: UserWarning: Static keyword ESO OBS ID has changed. Probably the current file NACO.2012-08-25T04:29:20.480.fits does not belong to the data set \"00_raw_data\" of the PynPoint database. Updating Keyword...\n",
        "  % (key, fits_file, self.m_image_tag))\n"
       ]
      },
      {
       "output_type": "stream",
       "stream": "stdout",
       "text": [
        "\n",
        "Reading NACO.2012-08-25T04:30:03.937.fits"
       ]
      },
      {
       "output_type": "stream",
       "stream": "stderr",
       "text": [
        "/home/mbonse/Git/PynPoint/PynPoint2/io_modules/FitsReading.py:189: UserWarning: Unknown Header \"ESO AOS VIS DET WFS MODE\" key found\n",
        "  warnings.warn('Unknown Header \"%s\" key found' %str(key))\n",
        "/home/mbonse/Git/PynPoint/PynPoint2/io_modules/FitsReading.py:189: UserWarning: Unknown Header \"ESO AOS VIS INS ADC1 POSNAM\" key found\n",
        "  warnings.warn('Unknown Header \"%s\" key found' %str(key))\n",
        "/home/mbonse/Git/PynPoint/PynPoint2/io_modules/FitsReading.py:189: UserWarning: Unknown Header \"ESO AOS VIS INS ADC2 POSNAM\" key found\n",
        "  warnings.warn('Unknown Header \"%s\" key found' %str(key))\n",
        "/home/mbonse/Git/PynPoint/PynPoint2/io_modules/FitsReading.py:189: UserWarning: Unknown Header \"ESO AOS VIS INS DIAP POSNAM\" key found\n",
        "  warnings.warn('Unknown Header \"%s\" key found' %str(key))\n",
        "/home/mbonse/Git/PynPoint/PynPoint2/io_modules/FitsReading.py:189: UserWarning: Unknown Header \"ESO AOS VIS INS LENS POSNAM\" key found\n",
        "  warnings.warn('Unknown Header \"%s\" key found' %str(key))\n",
        "/home/mbonse/Git/PynPoint/PynPoint2/io_modules/FitsReading.py:174: UserWarning: Static keyword ESO OBS ID has changed. Probably the current file NACO.2012-08-25T04:30:03.937.fits does not belong to the data set \"00_raw_data\" of the PynPoint database. Updating Keyword...\n",
        "  % (key, fits_file, self.m_image_tag))\n"
       ]
      },
      {
       "output_type": "stream",
       "stream": "stdout",
       "text": [
        "\n",
        "Reading NACO.2012-08-25T04:30:54.791.fits"
       ]
      },
      {
       "output_type": "stream",
       "stream": "stderr",
       "text": [
        "/home/mbonse/Git/PynPoint/PynPoint2/io_modules/FitsReading.py:189: UserWarning: Unknown Header \"ESO AOS VIS DET WFS MODE\" key found\n",
        "  warnings.warn('Unknown Header \"%s\" key found' %str(key))\n",
        "/home/mbonse/Git/PynPoint/PynPoint2/io_modules/FitsReading.py:189: UserWarning: Unknown Header \"ESO AOS VIS INS ADC1 POSNAM\" key found\n",
        "  warnings.warn('Unknown Header \"%s\" key found' %str(key))\n",
        "/home/mbonse/Git/PynPoint/PynPoint2/io_modules/FitsReading.py:189: UserWarning: Unknown Header \"ESO AOS VIS INS ADC2 POSNAM\" key found\n",
        "  warnings.warn('Unknown Header \"%s\" key found' %str(key))\n",
        "/home/mbonse/Git/PynPoint/PynPoint2/io_modules/FitsReading.py:189: UserWarning: Unknown Header \"ESO AOS VIS INS DIAP POSNAM\" key found\n",
        "  warnings.warn('Unknown Header \"%s\" key found' %str(key))\n",
        "/home/mbonse/Git/PynPoint/PynPoint2/io_modules/FitsReading.py:189: UserWarning: Unknown Header \"ESO AOS VIS INS LENS POSNAM\" key found\n",
        "  warnings.warn('Unknown Header \"%s\" key found' %str(key))\n",
        "/home/mbonse/Git/PynPoint/PynPoint2/io_modules/FitsReading.py:174: UserWarning: Static keyword ESO OBS ID has changed. Probably the current file NACO.2012-08-25T04:30:54.791.fits does not belong to the data set \"00_raw_data\" of the PynPoint database. Updating Keyword...\n",
        "  % (key, fits_file, self.m_image_tag))\n"
       ]
      },
      {
       "output_type": "stream",
       "stream": "stdout",
       "text": [
        "\n",
        "Reading NACO.2012-08-25T04:31:38.290.fits"
       ]
      },
      {
       "output_type": "stream",
       "stream": "stderr",
       "text": [
        "/home/mbonse/Git/PynPoint/PynPoint2/io_modules/FitsReading.py:189: UserWarning: Unknown Header \"ESO AOS VIS DET WFS MODE\" key found\n",
        "  warnings.warn('Unknown Header \"%s\" key found' %str(key))\n",
        "/home/mbonse/Git/PynPoint/PynPoint2/io_modules/FitsReading.py:189: UserWarning: Unknown Header \"ESO AOS VIS INS ADC1 POSNAM\" key found\n",
        "  warnings.warn('Unknown Header \"%s\" key found' %str(key))\n",
        "/home/mbonse/Git/PynPoint/PynPoint2/io_modules/FitsReading.py:189: UserWarning: Unknown Header \"ESO AOS VIS INS ADC2 POSNAM\" key found\n",
        "  warnings.warn('Unknown Header \"%s\" key found' %str(key))\n",
        "/home/mbonse/Git/PynPoint/PynPoint2/io_modules/FitsReading.py:189: UserWarning: Unknown Header \"ESO AOS VIS INS DIAP POSNAM\" key found\n",
        "  warnings.warn('Unknown Header \"%s\" key found' %str(key))\n",
        "/home/mbonse/Git/PynPoint/PynPoint2/io_modules/FitsReading.py:189: UserWarning: Unknown Header \"ESO AOS VIS INS LENS POSNAM\" key found\n",
        "  warnings.warn('Unknown Header \"%s\" key found' %str(key))\n",
        "/home/mbonse/Git/PynPoint/PynPoint2/io_modules/FitsReading.py:174: UserWarning: Static keyword ESO OBS ID has changed. Probably the current file NACO.2012-08-25T04:31:38.290.fits does not belong to the data set \"00_raw_data\" of the PynPoint database. Updating Keyword...\n",
        "  % (key, fits_file, self.m_image_tag))\n"
       ]
      },
      {
       "output_type": "stream",
       "stream": "stdout",
       "text": [
        "\n",
        "Reading NACO.2012-08-25T04:33:02.803.fits"
       ]
      },
      {
       "output_type": "stream",
       "stream": "stderr",
       "text": [
        "/home/mbonse/Git/PynPoint/PynPoint2/io_modules/FitsReading.py:189: UserWarning: Unknown Header \"ESO AOS VIS DET WFS MODE\" key found\n",
        "  warnings.warn('Unknown Header \"%s\" key found' %str(key))\n",
        "/home/mbonse/Git/PynPoint/PynPoint2/io_modules/FitsReading.py:189: UserWarning: Unknown Header \"ESO AOS VIS INS ADC1 POSNAM\" key found\n",
        "  warnings.warn('Unknown Header \"%s\" key found' %str(key))\n",
        "/home/mbonse/Git/PynPoint/PynPoint2/io_modules/FitsReading.py:189: UserWarning: Unknown Header \"ESO AOS VIS INS ADC2 POSNAM\" key found\n",
        "  warnings.warn('Unknown Header \"%s\" key found' %str(key))\n",
        "/home/mbonse/Git/PynPoint/PynPoint2/io_modules/FitsReading.py:189: UserWarning: Unknown Header \"ESO AOS VIS INS DIAP POSNAM\" key found\n",
        "  warnings.warn('Unknown Header \"%s\" key found' %str(key))\n",
        "/home/mbonse/Git/PynPoint/PynPoint2/io_modules/FitsReading.py:189: UserWarning: Unknown Header \"ESO AOS VIS INS LENS POSNAM\" key found\n",
        "  warnings.warn('Unknown Header \"%s\" key found' %str(key))\n",
        "/home/mbonse/Git/PynPoint/PynPoint2/io_modules/FitsReading.py:174: UserWarning: Static keyword ESO OBS ID has changed. Probably the current file NACO.2012-08-25T04:33:02.803.fits does not belong to the data set \"00_raw_data\" of the PynPoint database. Updating Keyword...\n",
        "  % (key, fits_file, self.m_image_tag))\n"
       ]
      },
      {
       "output_type": "stream",
       "stream": "stdout",
       "text": [
        "\n",
        "Reading NACO.2012-08-25T04:33:46.500.fits"
       ]
      },
      {
       "output_type": "stream",
       "stream": "stderr",
       "text": [
        "/home/mbonse/Git/PynPoint/PynPoint2/io_modules/FitsReading.py:189: UserWarning: Unknown Header \"ESO AOS VIS DET WFS MODE\" key found\n",
        "  warnings.warn('Unknown Header \"%s\" key found' %str(key))\n",
        "/home/mbonse/Git/PynPoint/PynPoint2/io_modules/FitsReading.py:189: UserWarning: Unknown Header \"ESO AOS VIS INS ADC1 POSNAM\" key found\n",
        "  warnings.warn('Unknown Header \"%s\" key found' %str(key))\n",
        "/home/mbonse/Git/PynPoint/PynPoint2/io_modules/FitsReading.py:189: UserWarning: Unknown Header \"ESO AOS VIS INS ADC2 POSNAM\" key found\n",
        "  warnings.warn('Unknown Header \"%s\" key found' %str(key))\n",
        "/home/mbonse/Git/PynPoint/PynPoint2/io_modules/FitsReading.py:189: UserWarning: Unknown Header \"ESO AOS VIS INS DIAP POSNAM\" key found\n",
        "  warnings.warn('Unknown Header \"%s\" key found' %str(key))\n",
        "/home/mbonse/Git/PynPoint/PynPoint2/io_modules/FitsReading.py:189: UserWarning: Unknown Header \"ESO AOS VIS INS LENS POSNAM\" key found\n",
        "  warnings.warn('Unknown Header \"%s\" key found' %str(key))\n",
        "/home/mbonse/Git/PynPoint/PynPoint2/io_modules/FitsReading.py:174: UserWarning: Static keyword ESO OBS ID has changed. Probably the current file NACO.2012-08-25T04:33:46.500.fits does not belong to the data set \"00_raw_data\" of the PynPoint database. Updating Keyword...\n",
        "  % (key, fits_file, self.m_image_tag))\n"
       ]
      },
      {
       "output_type": "stream",
       "stream": "stdout",
       "text": [
        "\n",
        "Reading NACO.2012-08-25T04:34:37.552.fits"
       ]
      },
      {
       "output_type": "stream",
       "stream": "stderr",
       "text": [
        "/home/mbonse/Git/PynPoint/PynPoint2/io_modules/FitsReading.py:189: UserWarning: Unknown Header \"ESO AOS VIS DET WFS MODE\" key found\n",
        "  warnings.warn('Unknown Header \"%s\" key found' %str(key))\n",
        "/home/mbonse/Git/PynPoint/PynPoint2/io_modules/FitsReading.py:189: UserWarning: Unknown Header \"ESO AOS VIS INS ADC1 POSNAM\" key found\n",
        "  warnings.warn('Unknown Header \"%s\" key found' %str(key))\n",
        "/home/mbonse/Git/PynPoint/PynPoint2/io_modules/FitsReading.py:189: UserWarning: Unknown Header \"ESO AOS VIS INS ADC2 POSNAM\" key found\n",
        "  warnings.warn('Unknown Header \"%s\" key found' %str(key))\n",
        "/home/mbonse/Git/PynPoint/PynPoint2/io_modules/FitsReading.py:189: UserWarning: Unknown Header \"ESO AOS VIS INS DIAP POSNAM\" key found\n",
        "  warnings.warn('Unknown Header \"%s\" key found' %str(key))\n",
        "/home/mbonse/Git/PynPoint/PynPoint2/io_modules/FitsReading.py:189: UserWarning: Unknown Header \"ESO AOS VIS INS LENS POSNAM\" key found\n",
        "  warnings.warn('Unknown Header \"%s\" key found' %str(key))\n",
        "/home/mbonse/Git/PynPoint/PynPoint2/io_modules/FitsReading.py:174: UserWarning: Static keyword ESO OBS ID has changed. Probably the current file NACO.2012-08-25T04:34:37.552.fits does not belong to the data set \"00_raw_data\" of the PynPoint database. Updating Keyword...\n",
        "  % (key, fits_file, self.m_image_tag))\n"
       ]
      },
      {
       "output_type": "stream",
       "stream": "stdout",
       "text": [
        "\n",
        "Reading NACO.2012-08-25T04:35:20.812.fits"
       ]
      },
      {
       "output_type": "stream",
       "stream": "stderr",
       "text": [
        "/home/mbonse/Git/PynPoint/PynPoint2/io_modules/FitsReading.py:189: UserWarning: Unknown Header \"ESO AOS VIS DET WFS MODE\" key found\n",
        "  warnings.warn('Unknown Header \"%s\" key found' %str(key))\n",
        "/home/mbonse/Git/PynPoint/PynPoint2/io_modules/FitsReading.py:189: UserWarning: Unknown Header \"ESO AOS VIS INS ADC1 POSNAM\" key found\n",
        "  warnings.warn('Unknown Header \"%s\" key found' %str(key))\n",
        "/home/mbonse/Git/PynPoint/PynPoint2/io_modules/FitsReading.py:189: UserWarning: Unknown Header \"ESO AOS VIS INS ADC2 POSNAM\" key found\n",
        "  warnings.warn('Unknown Header \"%s\" key found' %str(key))\n",
        "/home/mbonse/Git/PynPoint/PynPoint2/io_modules/FitsReading.py:189: UserWarning: Unknown Header \"ESO AOS VIS INS DIAP POSNAM\" key found\n",
        "  warnings.warn('Unknown Header \"%s\" key found' %str(key))\n",
        "/home/mbonse/Git/PynPoint/PynPoint2/io_modules/FitsReading.py:189: UserWarning: Unknown Header \"ESO AOS VIS INS LENS POSNAM\" key found\n",
        "  warnings.warn('Unknown Header \"%s\" key found' %str(key))\n",
        "/home/mbonse/Git/PynPoint/PynPoint2/io_modules/FitsReading.py:174: UserWarning: Static keyword ESO OBS ID has changed. Probably the current file NACO.2012-08-25T04:35:20.812.fits does not belong to the data set \"00_raw_data\" of the PynPoint database. Updating Keyword...\n",
        "  % (key, fits_file, self.m_image_tag))\n"
       ]
      },
      {
       "output_type": "stream",
       "stream": "stdout",
       "text": [
        "\n",
        "Reading NACO.2012-08-25T04:36:14.174.fits"
       ]
      },
      {
       "output_type": "stream",
       "stream": "stderr",
       "text": [
        "/home/mbonse/Git/PynPoint/PynPoint2/io_modules/FitsReading.py:189: UserWarning: Unknown Header \"ESO AOS VIS DET WFS MODE\" key found\n",
        "  warnings.warn('Unknown Header \"%s\" key found' %str(key))\n",
        "/home/mbonse/Git/PynPoint/PynPoint2/io_modules/FitsReading.py:189: UserWarning: Unknown Header \"ESO AOS VIS INS ADC1 POSNAM\" key found\n",
        "  warnings.warn('Unknown Header \"%s\" key found' %str(key))\n",
        "/home/mbonse/Git/PynPoint/PynPoint2/io_modules/FitsReading.py:189: UserWarning: Unknown Header \"ESO AOS VIS INS ADC2 POSNAM\" key found\n",
        "  warnings.warn('Unknown Header \"%s\" key found' %str(key))\n",
        "/home/mbonse/Git/PynPoint/PynPoint2/io_modules/FitsReading.py:189: UserWarning: Unknown Header \"ESO AOS VIS INS DIAP POSNAM\" key found\n",
        "  warnings.warn('Unknown Header \"%s\" key found' %str(key))\n",
        "/home/mbonse/Git/PynPoint/PynPoint2/io_modules/FitsReading.py:189: UserWarning: Unknown Header \"ESO AOS VIS INS LENS POSNAM\" key found\n",
        "  warnings.warn('Unknown Header \"%s\" key found' %str(key))\n",
        "/home/mbonse/Git/PynPoint/PynPoint2/io_modules/FitsReading.py:174: UserWarning: Static keyword ESO OBS ID has changed. Probably the current file NACO.2012-08-25T04:36:14.174.fits does not belong to the data set \"00_raw_data\" of the PynPoint database. Updating Keyword...\n",
        "  % (key, fits_file, self.m_image_tag))\n"
       ]
      },
      {
       "output_type": "stream",
       "stream": "stdout",
       "text": [
        "\n",
        "Reading NACO.2012-08-25T04:36:57.715.fits"
       ]
      },
      {
       "output_type": "stream",
       "stream": "stderr",
       "text": [
        "/home/mbonse/Git/PynPoint/PynPoint2/io_modules/FitsReading.py:189: UserWarning: Unknown Header \"ESO AOS VIS DET WFS MODE\" key found\n",
        "  warnings.warn('Unknown Header \"%s\" key found' %str(key))\n",
        "/home/mbonse/Git/PynPoint/PynPoint2/io_modules/FitsReading.py:189: UserWarning: Unknown Header \"ESO AOS VIS INS ADC1 POSNAM\" key found\n",
        "  warnings.warn('Unknown Header \"%s\" key found' %str(key))\n",
        "/home/mbonse/Git/PynPoint/PynPoint2/io_modules/FitsReading.py:189: UserWarning: Unknown Header \"ESO AOS VIS INS ADC2 POSNAM\" key found\n",
        "  warnings.warn('Unknown Header \"%s\" key found' %str(key))\n",
        "/home/mbonse/Git/PynPoint/PynPoint2/io_modules/FitsReading.py:189: UserWarning: Unknown Header \"ESO AOS VIS INS DIAP POSNAM\" key found\n",
        "  warnings.warn('Unknown Header \"%s\" key found' %str(key))\n",
        "/home/mbonse/Git/PynPoint/PynPoint2/io_modules/FitsReading.py:189: UserWarning: Unknown Header \"ESO AOS VIS INS LENS POSNAM\" key found\n",
        "  warnings.warn('Unknown Header \"%s\" key found' %str(key))\n",
        "/home/mbonse/Git/PynPoint/PynPoint2/io_modules/FitsReading.py:174: UserWarning: Static keyword ESO INS PRES-MON PRES1 has changed. Probably the current file NACO.2012-08-25T04:36:57.715.fits does not belong to the data set \"00_raw_data\" of the PynPoint database. Updating Keyword...\n",
        "  % (key, fits_file, self.m_image_tag))\n"
       ]
      },
      {
       "output_type": "stream",
       "stream": "stdout",
       "text": [
        "\n",
        "Reading NACO.2012-08-25T04:37:48.367.fits"
       ]
      },
      {
       "output_type": "stream",
       "stream": "stderr",
       "text": [
        "/home/mbonse/Git/PynPoint/PynPoint2/io_modules/FitsReading.py:174: UserWarning: Static keyword ESO OBS ID has changed. Probably the current file NACO.2012-08-25T04:36:57.715.fits does not belong to the data set \"00_raw_data\" of the PynPoint database. Updating Keyword...\n",
        "  % (key, fits_file, self.m_image_tag))\n",
        "/home/mbonse/Git/PynPoint/PynPoint2/io_modules/FitsReading.py:189: UserWarning: Unknown Header \"ESO AOS VIS DET WFS MODE\" key found\n",
        "  warnings.warn('Unknown Header \"%s\" key found' %str(key))\n"
       ]
      },
      {
       "output_type": "stream",
       "stream": "stderr",
       "text": [
        "/home/mbonse/Git/PynPoint/PynPoint2/io_modules/FitsReading.py:189: UserWarning: Unknown Header \"ESO AOS VIS INS ADC1 POSNAM\" key found\n",
        "  warnings.warn('Unknown Header \"%s\" key found' %str(key))\n",
        "/home/mbonse/Git/PynPoint/PynPoint2/io_modules/FitsReading.py:189: UserWarning: Unknown Header \"ESO AOS VIS INS ADC2 POSNAM\" key found\n",
        "  warnings.warn('Unknown Header \"%s\" key found' %str(key))\n",
        "/home/mbonse/Git/PynPoint/PynPoint2/io_modules/FitsReading.py:189: UserWarning: Unknown Header \"ESO AOS VIS INS DIAP POSNAM\" key found\n",
        "  warnings.warn('Unknown Header \"%s\" key found' %str(key))\n",
        "/home/mbonse/Git/PynPoint/PynPoint2/io_modules/FitsReading.py:189: UserWarning: Unknown Header \"ESO AOS VIS INS LENS POSNAM\" key found\n",
        "  warnings.warn('Unknown Header \"%s\" key found' %str(key))\n",
        "/home/mbonse/Git/PynPoint/PynPoint2/io_modules/FitsReading.py:174: UserWarning: Static keyword ESO INS PRES-MON PRES1 has changed. Probably the current file NACO.2012-08-25T04:37:48.367.fits does not belong to the data set \"00_raw_data\" of the PynPoint database. Updating Keyword...\n",
        "  % (key, fits_file, self.m_image_tag))\n"
       ]
      },
      {
       "output_type": "stream",
       "stream": "stdout",
       "text": [
        "\n",
        "Reading NACO.2012-08-25T04:38:31.739.fits"
       ]
      },
      {
       "output_type": "stream",
       "stream": "stderr",
       "text": [
        "/home/mbonse/Git/PynPoint/PynPoint2/io_modules/FitsReading.py:174: UserWarning: Static keyword ESO OBS ID has changed. Probably the current file NACO.2012-08-25T04:37:48.367.fits does not belong to the data set \"00_raw_data\" of the PynPoint database. Updating Keyword...\n",
        "  % (key, fits_file, self.m_image_tag))\n",
        "/home/mbonse/Git/PynPoint/PynPoint2/io_modules/FitsReading.py:189: UserWarning: Unknown Header \"ESO AOS VIS DET WFS MODE\" key found\n",
        "  warnings.warn('Unknown Header \"%s\" key found' %str(key))\n"
       ]
      },
      {
       "output_type": "stream",
       "stream": "stderr",
       "text": [
        "/home/mbonse/Git/PynPoint/PynPoint2/io_modules/FitsReading.py:189: UserWarning: Unknown Header \"ESO AOS VIS INS ADC1 POSNAM\" key found\n",
        "  warnings.warn('Unknown Header \"%s\" key found' %str(key))\n",
        "/home/mbonse/Git/PynPoint/PynPoint2/io_modules/FitsReading.py:189: UserWarning: Unknown Header \"ESO AOS VIS INS ADC2 POSNAM\" key found\n",
        "  warnings.warn('Unknown Header \"%s\" key found' %str(key))\n",
        "/home/mbonse/Git/PynPoint/PynPoint2/io_modules/FitsReading.py:189: UserWarning: Unknown Header \"ESO AOS VIS INS DIAP POSNAM\" key found\n",
        "  warnings.warn('Unknown Header \"%s\" key found' %str(key))\n",
        "/home/mbonse/Git/PynPoint/PynPoint2/io_modules/FitsReading.py:189: UserWarning: Unknown Header \"ESO AOS VIS INS LENS POSNAM\" key found\n",
        "  warnings.warn('Unknown Header \"%s\" key found' %str(key))\n",
        "/home/mbonse/Git/PynPoint/PynPoint2/io_modules/FitsReading.py:174: UserWarning: Static keyword ESO INS PRES-MON PRES1 has changed. Probably the current file NACO.2012-08-25T04:38:31.739.fits does not belong to the data set \"00_raw_data\" of the PynPoint database. Updating Keyword...\n",
        "  % (key, fits_file, self.m_image_tag))\n"
       ]
      },
      {
       "output_type": "stream",
       "stream": "stdout",
       "text": [
        "\n",
        "Reading NACO.2012-08-25T04:40:13.437.fits"
       ]
      },
      {
       "output_type": "stream",
       "stream": "stderr",
       "text": [
        "/home/mbonse/Git/PynPoint/PynPoint2/io_modules/FitsReading.py:174: UserWarning: Static keyword ESO OBS ID has changed. Probably the current file NACO.2012-08-25T04:38:31.739.fits does not belong to the data set \"00_raw_data\" of the PynPoint database. Updating Keyword...\n",
        "  % (key, fits_file, self.m_image_tag))\n",
        "/home/mbonse/Git/PynPoint/PynPoint2/io_modules/FitsReading.py:189: UserWarning: Unknown Header \"ESO AOS VIS DET WFS MODE\" key found\n",
        "  warnings.warn('Unknown Header \"%s\" key found' %str(key))\n"
       ]
      },
      {
       "output_type": "stream",
       "stream": "stderr",
       "text": [
        "/home/mbonse/Git/PynPoint/PynPoint2/io_modules/FitsReading.py:189: UserWarning: Unknown Header \"ESO AOS VIS INS ADC1 POSNAM\" key found\n",
        "  warnings.warn('Unknown Header \"%s\" key found' %str(key))\n",
        "/home/mbonse/Git/PynPoint/PynPoint2/io_modules/FitsReading.py:189: UserWarning: Unknown Header \"ESO AOS VIS INS ADC2 POSNAM\" key found\n",
        "  warnings.warn('Unknown Header \"%s\" key found' %str(key))\n",
        "/home/mbonse/Git/PynPoint/PynPoint2/io_modules/FitsReading.py:189: UserWarning: Unknown Header \"ESO AOS VIS INS DIAP POSNAM\" key found\n",
        "  warnings.warn('Unknown Header \"%s\" key found' %str(key))\n",
        "/home/mbonse/Git/PynPoint/PynPoint2/io_modules/FitsReading.py:189: UserWarning: Unknown Header \"ESO AOS VIS INS LENS POSNAM\" key found\n",
        "  warnings.warn('Unknown Header \"%s\" key found' %str(key))\n",
        "/home/mbonse/Git/PynPoint/PynPoint2/io_modules/FitsReading.py:174: UserWarning: Static keyword ESO INS PRES-MON PRES1 has changed. Probably the current file NACO.2012-08-25T04:40:13.437.fits does not belong to the data set \"00_raw_data\" of the PynPoint database. Updating Keyword...\n",
        "  % (key, fits_file, self.m_image_tag))\n"
       ]
      },
      {
       "output_type": "stream",
       "stream": "stdout",
       "text": [
        "\n",
        "Reading NACO.2012-08-25T04:40:56.728.fits"
       ]
      },
      {
       "output_type": "stream",
       "stream": "stderr",
       "text": [
        "/home/mbonse/Git/PynPoint/PynPoint2/io_modules/FitsReading.py:174: UserWarning: Static keyword ESO OBS ID has changed. Probably the current file NACO.2012-08-25T04:40:13.437.fits does not belong to the data set \"00_raw_data\" of the PynPoint database. Updating Keyword...\n",
        "  % (key, fits_file, self.m_image_tag))\n",
        "/home/mbonse/Git/PynPoint/PynPoint2/io_modules/FitsReading.py:189: UserWarning: Unknown Header \"ESO AOS VIS DET WFS MODE\" key found\n",
        "  warnings.warn('Unknown Header \"%s\" key found' %str(key))\n"
       ]
      },
      {
       "output_type": "stream",
       "stream": "stderr",
       "text": [
        "/home/mbonse/Git/PynPoint/PynPoint2/io_modules/FitsReading.py:189: UserWarning: Unknown Header \"ESO AOS VIS INS ADC1 POSNAM\" key found\n",
        "  warnings.warn('Unknown Header \"%s\" key found' %str(key))\n",
        "/home/mbonse/Git/PynPoint/PynPoint2/io_modules/FitsReading.py:189: UserWarning: Unknown Header \"ESO AOS VIS INS ADC2 POSNAM\" key found\n",
        "  warnings.warn('Unknown Header \"%s\" key found' %str(key))\n",
        "/home/mbonse/Git/PynPoint/PynPoint2/io_modules/FitsReading.py:189: UserWarning: Unknown Header \"ESO AOS VIS INS DIAP POSNAM\" key found\n",
        "  warnings.warn('Unknown Header \"%s\" key found' %str(key))\n",
        "/home/mbonse/Git/PynPoint/PynPoint2/io_modules/FitsReading.py:189: UserWarning: Unknown Header \"ESO AOS VIS INS LENS POSNAM\" key found\n",
        "  warnings.warn('Unknown Header \"%s\" key found' %str(key))\n",
        "/home/mbonse/Git/PynPoint/PynPoint2/io_modules/FitsReading.py:174: UserWarning: Static keyword ESO INS PRES-MON PRES1 has changed. Probably the current file NACO.2012-08-25T04:40:56.728.fits does not belong to the data set \"00_raw_data\" of the PynPoint database. Updating Keyword...\n",
        "  % (key, fits_file, self.m_image_tag))\n"
       ]
      },
      {
       "output_type": "stream",
       "stream": "stdout",
       "text": [
        "\n",
        "Reading NACO.2012-08-25T04:41:49.108.fits"
       ]
      },
      {
       "output_type": "stream",
       "stream": "stderr",
       "text": [
        "/home/mbonse/Git/PynPoint/PynPoint2/io_modules/FitsReading.py:174: UserWarning: Static keyword ESO OBS ID has changed. Probably the current file NACO.2012-08-25T04:40:56.728.fits does not belong to the data set \"00_raw_data\" of the PynPoint database. Updating Keyword...\n",
        "  % (key, fits_file, self.m_image_tag))\n",
        "/home/mbonse/Git/PynPoint/PynPoint2/io_modules/FitsReading.py:189: UserWarning: Unknown Header \"ESO AOS VIS DET WFS MODE\" key found\n",
        "  warnings.warn('Unknown Header \"%s\" key found' %str(key))\n"
       ]
      },
      {
       "output_type": "stream",
       "stream": "stderr",
       "text": [
        "/home/mbonse/Git/PynPoint/PynPoint2/io_modules/FitsReading.py:189: UserWarning: Unknown Header \"ESO AOS VIS INS ADC1 POSNAM\" key found\n",
        "  warnings.warn('Unknown Header \"%s\" key found' %str(key))\n",
        "/home/mbonse/Git/PynPoint/PynPoint2/io_modules/FitsReading.py:189: UserWarning: Unknown Header \"ESO AOS VIS INS ADC2 POSNAM\" key found\n",
        "  warnings.warn('Unknown Header \"%s\" key found' %str(key))\n",
        "/home/mbonse/Git/PynPoint/PynPoint2/io_modules/FitsReading.py:189: UserWarning: Unknown Header \"ESO AOS VIS INS DIAP POSNAM\" key found\n",
        "  warnings.warn('Unknown Header \"%s\" key found' %str(key))\n",
        "/home/mbonse/Git/PynPoint/PynPoint2/io_modules/FitsReading.py:189: UserWarning: Unknown Header \"ESO AOS VIS INS LENS POSNAM\" key found\n",
        "  warnings.warn('Unknown Header \"%s\" key found' %str(key))\n",
        "/home/mbonse/Git/PynPoint/PynPoint2/io_modules/FitsReading.py:174: UserWarning: Static keyword ESO INS PRES-MON PRES1 has changed. Probably the current file NACO.2012-08-25T04:41:49.108.fits does not belong to the data set \"00_raw_data\" of the PynPoint database. Updating Keyword...\n",
        "  % (key, fits_file, self.m_image_tag))\n"
       ]
      },
      {
       "output_type": "stream",
       "stream": "stdout",
       "text": [
        "\n",
        "Reading NACO.2012-08-25T04:42:32.766.fits"
       ]
      },
      {
       "output_type": "stream",
       "stream": "stderr",
       "text": [
        "/home/mbonse/Git/PynPoint/PynPoint2/io_modules/FitsReading.py:174: UserWarning: Static keyword ESO OBS ID has changed. Probably the current file NACO.2012-08-25T04:41:49.108.fits does not belong to the data set \"00_raw_data\" of the PynPoint database. Updating Keyword...\n",
        "  % (key, fits_file, self.m_image_tag))\n",
        "/home/mbonse/Git/PynPoint/PynPoint2/io_modules/FitsReading.py:189: UserWarning: Unknown Header \"ESO AOS VIS DET WFS MODE\" key found\n",
        "  warnings.warn('Unknown Header \"%s\" key found' %str(key))\n"
       ]
      },
      {
       "output_type": "stream",
       "stream": "stderr",
       "text": [
        "/home/mbonse/Git/PynPoint/PynPoint2/io_modules/FitsReading.py:189: UserWarning: Unknown Header \"ESO AOS VIS INS ADC1 POSNAM\" key found\n",
        "  warnings.warn('Unknown Header \"%s\" key found' %str(key))\n",
        "/home/mbonse/Git/PynPoint/PynPoint2/io_modules/FitsReading.py:189: UserWarning: Unknown Header \"ESO AOS VIS INS ADC2 POSNAM\" key found\n",
        "  warnings.warn('Unknown Header \"%s\" key found' %str(key))\n",
        "/home/mbonse/Git/PynPoint/PynPoint2/io_modules/FitsReading.py:189: UserWarning: Unknown Header \"ESO AOS VIS INS DIAP POSNAM\" key found\n",
        "  warnings.warn('Unknown Header \"%s\" key found' %str(key))\n",
        "/home/mbonse/Git/PynPoint/PynPoint2/io_modules/FitsReading.py:189: UserWarning: Unknown Header \"ESO AOS VIS INS LENS POSNAM\" key found\n",
        "  warnings.warn('Unknown Header \"%s\" key found' %str(key))\n",
        "/home/mbonse/Git/PynPoint/PynPoint2/io_modules/FitsReading.py:174: UserWarning: Static keyword ESO INS PRES-MON PRES1 has changed. Probably the current file NACO.2012-08-25T04:42:32.766.fits does not belong to the data set \"00_raw_data\" of the PynPoint database. Updating Keyword...\n",
        "  % (key, fits_file, self.m_image_tag))\n"
       ]
      },
      {
       "output_type": "stream",
       "stream": "stdout",
       "text": [
        "\n",
        "Reading NACO.2012-08-25T04:43:24.241.fits"
       ]
      },
      {
       "output_type": "stream",
       "stream": "stderr",
       "text": [
        "/home/mbonse/Git/PynPoint/PynPoint2/io_modules/FitsReading.py:174: UserWarning: Static keyword ESO OBS ID has changed. Probably the current file NACO.2012-08-25T04:42:32.766.fits does not belong to the data set \"00_raw_data\" of the PynPoint database. Updating Keyword...\n",
        "  % (key, fits_file, self.m_image_tag))\n",
        "/home/mbonse/Git/PynPoint/PynPoint2/io_modules/FitsReading.py:189: UserWarning: Unknown Header \"ESO AOS VIS DET WFS MODE\" key found\n",
        "  warnings.warn('Unknown Header \"%s\" key found' %str(key))\n"
       ]
      },
      {
       "output_type": "stream",
       "stream": "stderr",
       "text": [
        "/home/mbonse/Git/PynPoint/PynPoint2/io_modules/FitsReading.py:189: UserWarning: Unknown Header \"ESO AOS VIS INS ADC1 POSNAM\" key found\n",
        "  warnings.warn('Unknown Header \"%s\" key found' %str(key))\n",
        "/home/mbonse/Git/PynPoint/PynPoint2/io_modules/FitsReading.py:189: UserWarning: Unknown Header \"ESO AOS VIS INS ADC2 POSNAM\" key found\n",
        "  warnings.warn('Unknown Header \"%s\" key found' %str(key))\n",
        "/home/mbonse/Git/PynPoint/PynPoint2/io_modules/FitsReading.py:189: UserWarning: Unknown Header \"ESO AOS VIS INS DIAP POSNAM\" key found\n",
        "  warnings.warn('Unknown Header \"%s\" key found' %str(key))\n",
        "/home/mbonse/Git/PynPoint/PynPoint2/io_modules/FitsReading.py:189: UserWarning: Unknown Header \"ESO AOS VIS INS LENS POSNAM\" key found\n",
        "  warnings.warn('Unknown Header \"%s\" key found' %str(key))\n",
        "/home/mbonse/Git/PynPoint/PynPoint2/io_modules/FitsReading.py:174: UserWarning: Static keyword ESO INS PRES-MON PRES1 has changed. Probably the current file NACO.2012-08-25T04:43:24.241.fits does not belong to the data set \"00_raw_data\" of the PynPoint database. Updating Keyword...\n",
        "  % (key, fits_file, self.m_image_tag))\n"
       ]
      },
      {
       "output_type": "stream",
       "stream": "stdout",
       "text": [
        "\n",
        "Reading NACO.2012-08-25T04:44:07.711.fits"
       ]
      },
      {
       "output_type": "stream",
       "stream": "stderr",
       "text": [
        "/home/mbonse/Git/PynPoint/PynPoint2/io_modules/FitsReading.py:174: UserWarning: Static keyword ESO OBS ID has changed. Probably the current file NACO.2012-08-25T04:43:24.241.fits does not belong to the data set \"00_raw_data\" of the PynPoint database. Updating Keyword...\n",
        "  % (key, fits_file, self.m_image_tag))\n",
        "/home/mbonse/Git/PynPoint/PynPoint2/io_modules/FitsReading.py:189: UserWarning: Unknown Header \"ESO AOS VIS DET WFS MODE\" key found\n",
        "  warnings.warn('Unknown Header \"%s\" key found' %str(key))\n"
       ]
      },
      {
       "output_type": "stream",
       "stream": "stderr",
       "text": [
        "/home/mbonse/Git/PynPoint/PynPoint2/io_modules/FitsReading.py:189: UserWarning: Unknown Header \"ESO AOS VIS INS ADC1 POSNAM\" key found\n",
        "  warnings.warn('Unknown Header \"%s\" key found' %str(key))\n",
        "/home/mbonse/Git/PynPoint/PynPoint2/io_modules/FitsReading.py:189: UserWarning: Unknown Header \"ESO AOS VIS INS ADC2 POSNAM\" key found\n",
        "  warnings.warn('Unknown Header \"%s\" key found' %str(key))\n",
        "/home/mbonse/Git/PynPoint/PynPoint2/io_modules/FitsReading.py:189: UserWarning: Unknown Header \"ESO AOS VIS INS DIAP POSNAM\" key found\n",
        "  warnings.warn('Unknown Header \"%s\" key found' %str(key))\n",
        "/home/mbonse/Git/PynPoint/PynPoint2/io_modules/FitsReading.py:189: UserWarning: Unknown Header \"ESO AOS VIS INS LENS POSNAM\" key found\n",
        "  warnings.warn('Unknown Header \"%s\" key found' %str(key))\n",
        "/home/mbonse/Git/PynPoint/PynPoint2/io_modules/FitsReading.py:174: UserWarning: Static keyword ESO INS PRES-MON PRES1 has changed. Probably the current file NACO.2012-08-25T04:44:07.711.fits does not belong to the data set \"00_raw_data\" of the PynPoint database. Updating Keyword...\n",
        "  % (key, fits_file, self.m_image_tag))\n"
       ]
      },
      {
       "output_type": "stream",
       "stream": "stdout",
       "text": [
        "\n",
        "Reading NACO.2012-08-25T04:44:58.221.fits"
       ]
      },
      {
       "output_type": "stream",
       "stream": "stderr",
       "text": [
        "/home/mbonse/Git/PynPoint/PynPoint2/io_modules/FitsReading.py:174: UserWarning: Static keyword ESO OBS ID has changed. Probably the current file NACO.2012-08-25T04:44:07.711.fits does not belong to the data set \"00_raw_data\" of the PynPoint database. Updating Keyword...\n",
        "  % (key, fits_file, self.m_image_tag))\n",
        "/home/mbonse/Git/PynPoint/PynPoint2/io_modules/FitsReading.py:189: UserWarning: Unknown Header \"ESO AOS VIS DET WFS MODE\" key found\n",
        "  warnings.warn('Unknown Header \"%s\" key found' %str(key))\n"
       ]
      },
      {
       "output_type": "stream",
       "stream": "stderr",
       "text": [
        "/home/mbonse/Git/PynPoint/PynPoint2/io_modules/FitsReading.py:189: UserWarning: Unknown Header \"ESO AOS VIS INS ADC1 POSNAM\" key found\n",
        "  warnings.warn('Unknown Header \"%s\" key found' %str(key))\n",
        "/home/mbonse/Git/PynPoint/PynPoint2/io_modules/FitsReading.py:189: UserWarning: Unknown Header \"ESO AOS VIS INS ADC2 POSNAM\" key found\n",
        "  warnings.warn('Unknown Header \"%s\" key found' %str(key))\n",
        "/home/mbonse/Git/PynPoint/PynPoint2/io_modules/FitsReading.py:189: UserWarning: Unknown Header \"ESO AOS VIS INS DIAP POSNAM\" key found\n",
        "  warnings.warn('Unknown Header \"%s\" key found' %str(key))\n",
        "/home/mbonse/Git/PynPoint/PynPoint2/io_modules/FitsReading.py:189: UserWarning: Unknown Header \"ESO AOS VIS INS LENS POSNAM\" key found\n",
        "  warnings.warn('Unknown Header \"%s\" key found' %str(key))\n",
        "/home/mbonse/Git/PynPoint/PynPoint2/io_modules/FitsReading.py:174: UserWarning: Static keyword ESO INS PRES-MON PRES1 has changed. Probably the current file NACO.2012-08-25T04:44:58.221.fits does not belong to the data set \"00_raw_data\" of the PynPoint database. Updating Keyword...\n",
        "  % (key, fits_file, self.m_image_tag))\n"
       ]
      },
      {
       "output_type": "stream",
       "stream": "stdout",
       "text": [
        "\n",
        "Reading NACO.2012-08-25T04:45:41.732.fits"
       ]
      },
      {
       "output_type": "stream",
       "stream": "stderr",
       "text": [
        "/home/mbonse/Git/PynPoint/PynPoint2/io_modules/FitsReading.py:174: UserWarning: Static keyword ESO OBS ID has changed. Probably the current file NACO.2012-08-25T04:44:58.221.fits does not belong to the data set \"00_raw_data\" of the PynPoint database. Updating Keyword...\n",
        "  % (key, fits_file, self.m_image_tag))\n",
        "/home/mbonse/Git/PynPoint/PynPoint2/io_modules/FitsReading.py:189: UserWarning: Unknown Header \"ESO AOS VIS DET WFS MODE\" key found\n",
        "  warnings.warn('Unknown Header \"%s\" key found' %str(key))\n"
       ]
      },
      {
       "output_type": "stream",
       "stream": "stderr",
       "text": [
        "/home/mbonse/Git/PynPoint/PynPoint2/io_modules/FitsReading.py:189: UserWarning: Unknown Header \"ESO AOS VIS INS ADC1 POSNAM\" key found\n",
        "  warnings.warn('Unknown Header \"%s\" key found' %str(key))\n",
        "/home/mbonse/Git/PynPoint/PynPoint2/io_modules/FitsReading.py:189: UserWarning: Unknown Header \"ESO AOS VIS INS ADC2 POSNAM\" key found\n",
        "  warnings.warn('Unknown Header \"%s\" key found' %str(key))\n",
        "/home/mbonse/Git/PynPoint/PynPoint2/io_modules/FitsReading.py:189: UserWarning: Unknown Header \"ESO AOS VIS INS DIAP POSNAM\" key found\n",
        "  warnings.warn('Unknown Header \"%s\" key found' %str(key))\n",
        "/home/mbonse/Git/PynPoint/PynPoint2/io_modules/FitsReading.py:189: UserWarning: Unknown Header \"ESO AOS VIS INS LENS POSNAM\" key found\n",
        "  warnings.warn('Unknown Header \"%s\" key found' %str(key))\n",
        "/home/mbonse/Git/PynPoint/PynPoint2/io_modules/FitsReading.py:174: UserWarning: Static keyword ESO INS PRES-MON PRES1 has changed. Probably the current file NACO.2012-08-25T04:45:41.732.fits does not belong to the data set \"00_raw_data\" of the PynPoint database. Updating Keyword...\n",
        "  % (key, fits_file, self.m_image_tag))\n"
       ]
      },
      {
       "output_type": "stream",
       "stream": "stdout",
       "text": [
        "\n",
        "Reading NACO.2012-08-25T04:46:50.484.fits"
       ]
      },
      {
       "output_type": "stream",
       "stream": "stderr",
       "text": [
        "/home/mbonse/Git/PynPoint/PynPoint2/io_modules/FitsReading.py:174: UserWarning: Static keyword ESO OBS ID has changed. Probably the current file NACO.2012-08-25T04:45:41.732.fits does not belong to the data set \"00_raw_data\" of the PynPoint database. Updating Keyword...\n",
        "  % (key, fits_file, self.m_image_tag))\n",
        "/home/mbonse/Git/PynPoint/PynPoint2/io_modules/FitsReading.py:189: UserWarning: Unknown Header \"ESO AOS VIS DET WFS MODE\" key found\n",
        "  warnings.warn('Unknown Header \"%s\" key found' %str(key))\n"
       ]
      },
      {
       "output_type": "stream",
       "stream": "stderr",
       "text": [
        "/home/mbonse/Git/PynPoint/PynPoint2/io_modules/FitsReading.py:189: UserWarning: Unknown Header \"ESO AOS VIS INS ADC1 POSNAM\" key found\n",
        "  warnings.warn('Unknown Header \"%s\" key found' %str(key))\n",
        "/home/mbonse/Git/PynPoint/PynPoint2/io_modules/FitsReading.py:189: UserWarning: Unknown Header \"ESO AOS VIS INS ADC2 POSNAM\" key found\n",
        "  warnings.warn('Unknown Header \"%s\" key found' %str(key))\n",
        "/home/mbonse/Git/PynPoint/PynPoint2/io_modules/FitsReading.py:189: UserWarning: Unknown Header \"ESO AOS VIS INS DIAP POSNAM\" key found\n",
        "  warnings.warn('Unknown Header \"%s\" key found' %str(key))\n",
        "/home/mbonse/Git/PynPoint/PynPoint2/io_modules/FitsReading.py:189: UserWarning: Unknown Header \"ESO AOS VIS INS LENS POSNAM\" key found\n",
        "  warnings.warn('Unknown Header \"%s\" key found' %str(key))\n",
        "/home/mbonse/Git/PynPoint/PynPoint2/io_modules/FitsReading.py:174: UserWarning: Static keyword ESO INS PRES-MON PRES1 has changed. Probably the current file NACO.2012-08-25T04:46:50.484.fits does not belong to the data set \"00_raw_data\" of the PynPoint database. Updating Keyword...\n",
        "  % (key, fits_file, self.m_image_tag))\n"
       ]
      },
      {
       "output_type": "stream",
       "stream": "stdout",
       "text": [
        "\n",
        "Reading NACO.2012-08-25T04:47:33.939.fits"
       ]
      },
      {
       "output_type": "stream",
       "stream": "stderr",
       "text": [
        "/home/mbonse/Git/PynPoint/PynPoint2/io_modules/FitsReading.py:174: UserWarning: Static keyword ESO OBS ID has changed. Probably the current file NACO.2012-08-25T04:46:50.484.fits does not belong to the data set \"00_raw_data\" of the PynPoint database. Updating Keyword...\n",
        "  % (key, fits_file, self.m_image_tag))\n",
        "/home/mbonse/Git/PynPoint/PynPoint2/io_modules/FitsReading.py:189: UserWarning: Unknown Header \"ESO AOS VIS DET WFS MODE\" key found\n",
        "  warnings.warn('Unknown Header \"%s\" key found' %str(key))\n"
       ]
      },
      {
       "output_type": "stream",
       "stream": "stderr",
       "text": [
        "/home/mbonse/Git/PynPoint/PynPoint2/io_modules/FitsReading.py:189: UserWarning: Unknown Header \"ESO AOS VIS INS ADC1 POSNAM\" key found\n",
        "  warnings.warn('Unknown Header \"%s\" key found' %str(key))\n",
        "/home/mbonse/Git/PynPoint/PynPoint2/io_modules/FitsReading.py:189: UserWarning: Unknown Header \"ESO AOS VIS INS ADC2 POSNAM\" key found\n",
        "  warnings.warn('Unknown Header \"%s\" key found' %str(key))\n",
        "/home/mbonse/Git/PynPoint/PynPoint2/io_modules/FitsReading.py:189: UserWarning: Unknown Header \"ESO AOS VIS INS DIAP POSNAM\" key found\n",
        "  warnings.warn('Unknown Header \"%s\" key found' %str(key))\n",
        "/home/mbonse/Git/PynPoint/PynPoint2/io_modules/FitsReading.py:189: UserWarning: Unknown Header \"ESO AOS VIS INS LENS POSNAM\" key found\n",
        "  warnings.warn('Unknown Header \"%s\" key found' %str(key))\n",
        "/home/mbonse/Git/PynPoint/PynPoint2/io_modules/FitsReading.py:174: UserWarning: Static keyword ESO INS PRES-MON PRES1 has changed. Probably the current file NACO.2012-08-25T04:47:33.939.fits does not belong to the data set \"00_raw_data\" of the PynPoint database. Updating Keyword...\n",
        "  % (key, fits_file, self.m_image_tag))\n"
       ]
      },
      {
       "output_type": "stream",
       "stream": "stdout",
       "text": [
        "\n",
        "Reading NACO.2012-08-25T04:48:25.420.fits"
       ]
      },
      {
       "output_type": "stream",
       "stream": "stderr",
       "text": [
        "/home/mbonse/Git/PynPoint/PynPoint2/io_modules/FitsReading.py:174: UserWarning: Static keyword ESO OBS ID has changed. Probably the current file NACO.2012-08-25T04:47:33.939.fits does not belong to the data set \"00_raw_data\" of the PynPoint database. Updating Keyword...\n",
        "  % (key, fits_file, self.m_image_tag))\n",
        "/home/mbonse/Git/PynPoint/PynPoint2/io_modules/FitsReading.py:189: UserWarning: Unknown Header \"ESO AOS VIS DET WFS MODE\" key found\n",
        "  warnings.warn('Unknown Header \"%s\" key found' %str(key))\n"
       ]
      },
      {
       "output_type": "stream",
       "stream": "stderr",
       "text": [
        "/home/mbonse/Git/PynPoint/PynPoint2/io_modules/FitsReading.py:189: UserWarning: Unknown Header \"ESO AOS VIS INS ADC1 POSNAM\" key found\n",
        "  warnings.warn('Unknown Header \"%s\" key found' %str(key))\n",
        "/home/mbonse/Git/PynPoint/PynPoint2/io_modules/FitsReading.py:189: UserWarning: Unknown Header \"ESO AOS VIS INS ADC2 POSNAM\" key found\n",
        "  warnings.warn('Unknown Header \"%s\" key found' %str(key))\n",
        "/home/mbonse/Git/PynPoint/PynPoint2/io_modules/FitsReading.py:189: UserWarning: Unknown Header \"ESO AOS VIS INS DIAP POSNAM\" key found\n",
        "  warnings.warn('Unknown Header \"%s\" key found' %str(key))\n",
        "/home/mbonse/Git/PynPoint/PynPoint2/io_modules/FitsReading.py:189: UserWarning: Unknown Header \"ESO AOS VIS INS LENS POSNAM\" key found\n",
        "  warnings.warn('Unknown Header \"%s\" key found' %str(key))\n",
        "/home/mbonse/Git/PynPoint/PynPoint2/io_modules/FitsReading.py:174: UserWarning: Static keyword ESO INS PRES-MON PRES1 has changed. Probably the current file NACO.2012-08-25T04:48:25.420.fits does not belong to the data set \"00_raw_data\" of the PynPoint database. Updating Keyword...\n",
        "  % (key, fits_file, self.m_image_tag))\n"
       ]
      },
      {
       "output_type": "stream",
       "stream": "stdout",
       "text": [
        "\n",
        "Reading NACO.2012-08-25T04:49:08.945.fits"
       ]
      },
      {
       "output_type": "stream",
       "stream": "stderr",
       "text": [
        "/home/mbonse/Git/PynPoint/PynPoint2/io_modules/FitsReading.py:174: UserWarning: Static keyword ESO OBS ID has changed. Probably the current file NACO.2012-08-25T04:48:25.420.fits does not belong to the data set \"00_raw_data\" of the PynPoint database. Updating Keyword...\n",
        "  % (key, fits_file, self.m_image_tag))\n",
        "/home/mbonse/Git/PynPoint/PynPoint2/io_modules/FitsReading.py:189: UserWarning: Unknown Header \"ESO AOS VIS DET WFS MODE\" key found\n",
        "  warnings.warn('Unknown Header \"%s\" key found' %str(key))\n"
       ]
      },
      {
       "output_type": "stream",
       "stream": "stderr",
       "text": [
        "/home/mbonse/Git/PynPoint/PynPoint2/io_modules/FitsReading.py:189: UserWarning: Unknown Header \"ESO AOS VIS INS ADC1 POSNAM\" key found\n",
        "  warnings.warn('Unknown Header \"%s\" key found' %str(key))\n",
        "/home/mbonse/Git/PynPoint/PynPoint2/io_modules/FitsReading.py:189: UserWarning: Unknown Header \"ESO AOS VIS INS ADC2 POSNAM\" key found\n",
        "  warnings.warn('Unknown Header \"%s\" key found' %str(key))\n",
        "/home/mbonse/Git/PynPoint/PynPoint2/io_modules/FitsReading.py:189: UserWarning: Unknown Header \"ESO AOS VIS INS DIAP POSNAM\" key found\n",
        "  warnings.warn('Unknown Header \"%s\" key found' %str(key))\n",
        "/home/mbonse/Git/PynPoint/PynPoint2/io_modules/FitsReading.py:189: UserWarning: Unknown Header \"ESO AOS VIS INS LENS POSNAM\" key found\n",
        "  warnings.warn('Unknown Header \"%s\" key found' %str(key))\n",
        "/home/mbonse/Git/PynPoint/PynPoint2/io_modules/FitsReading.py:174: UserWarning: Static keyword ESO INS PRES-MON PRES1 has changed. Probably the current file NACO.2012-08-25T04:49:08.945.fits does not belong to the data set \"00_raw_data\" of the PynPoint database. Updating Keyword...\n",
        "  % (key, fits_file, self.m_image_tag))\n"
       ]
      },
      {
       "output_type": "stream",
       "stream": "stdout",
       "text": [
        "\n",
        "Reading NACO.2012-08-25T04:50:00.233.fits"
       ]
      },
      {
       "output_type": "stream",
       "stream": "stderr",
       "text": [
        "/home/mbonse/Git/PynPoint/PynPoint2/io_modules/FitsReading.py:174: UserWarning: Static keyword ESO OBS ID has changed. Probably the current file NACO.2012-08-25T04:49:08.945.fits does not belong to the data set \"00_raw_data\" of the PynPoint database. Updating Keyword...\n",
        "  % (key, fits_file, self.m_image_tag))\n",
        "/home/mbonse/Git/PynPoint/PynPoint2/io_modules/FitsReading.py:189: UserWarning: Unknown Header \"ESO AOS VIS DET WFS MODE\" key found\n",
        "  warnings.warn('Unknown Header \"%s\" key found' %str(key))\n"
       ]
      },
      {
       "output_type": "stream",
       "stream": "stderr",
       "text": [
        "/home/mbonse/Git/PynPoint/PynPoint2/io_modules/FitsReading.py:189: UserWarning: Unknown Header \"ESO AOS VIS INS ADC1 POSNAM\" key found\n",
        "  warnings.warn('Unknown Header \"%s\" key found' %str(key))\n",
        "/home/mbonse/Git/PynPoint/PynPoint2/io_modules/FitsReading.py:189: UserWarning: Unknown Header \"ESO AOS VIS INS ADC2 POSNAM\" key found\n",
        "  warnings.warn('Unknown Header \"%s\" key found' %str(key))\n",
        "/home/mbonse/Git/PynPoint/PynPoint2/io_modules/FitsReading.py:189: UserWarning: Unknown Header \"ESO AOS VIS INS DIAP POSNAM\" key found\n",
        "  warnings.warn('Unknown Header \"%s\" key found' %str(key))\n",
        "/home/mbonse/Git/PynPoint/PynPoint2/io_modules/FitsReading.py:189: UserWarning: Unknown Header \"ESO AOS VIS INS LENS POSNAM\" key found\n",
        "  warnings.warn('Unknown Header \"%s\" key found' %str(key))\n",
        "/home/mbonse/Git/PynPoint/PynPoint2/io_modules/FitsReading.py:174: UserWarning: Static keyword ESO INS PRES-MON PRES1 has changed. Probably the current file NACO.2012-08-25T04:50:00.233.fits does not belong to the data set \"00_raw_data\" of the PynPoint database. Updating Keyword...\n",
        "  % (key, fits_file, self.m_image_tag))\n"
       ]
      },
      {
       "output_type": "stream",
       "stream": "stdout",
       "text": [
        "\n",
        "Reading NACO.2012-08-25T04:50:43.687.fits"
       ]
      },
      {
       "output_type": "stream",
       "stream": "stderr",
       "text": [
        "/home/mbonse/Git/PynPoint/PynPoint2/io_modules/FitsReading.py:174: UserWarning: Static keyword ESO OBS ID has changed. Probably the current file NACO.2012-08-25T04:50:00.233.fits does not belong to the data set \"00_raw_data\" of the PynPoint database. Updating Keyword...\n",
        "  % (key, fits_file, self.m_image_tag))\n",
        "/home/mbonse/Git/PynPoint/PynPoint2/io_modules/FitsReading.py:189: UserWarning: Unknown Header \"ESO AOS VIS DET WFS MODE\" key found\n",
        "  warnings.warn('Unknown Header \"%s\" key found' %str(key))\n"
       ]
      },
      {
       "output_type": "stream",
       "stream": "stderr",
       "text": [
        "/home/mbonse/Git/PynPoint/PynPoint2/io_modules/FitsReading.py:189: UserWarning: Unknown Header \"ESO AOS VIS INS ADC1 POSNAM\" key found\n",
        "  warnings.warn('Unknown Header \"%s\" key found' %str(key))\n",
        "/home/mbonse/Git/PynPoint/PynPoint2/io_modules/FitsReading.py:189: UserWarning: Unknown Header \"ESO AOS VIS INS ADC2 POSNAM\" key found\n",
        "  warnings.warn('Unknown Header \"%s\" key found' %str(key))\n",
        "/home/mbonse/Git/PynPoint/PynPoint2/io_modules/FitsReading.py:189: UserWarning: Unknown Header \"ESO AOS VIS INS DIAP POSNAM\" key found\n",
        "  warnings.warn('Unknown Header \"%s\" key found' %str(key))\n",
        "/home/mbonse/Git/PynPoint/PynPoint2/io_modules/FitsReading.py:189: UserWarning: Unknown Header \"ESO AOS VIS INS LENS POSNAM\" key found\n",
        "  warnings.warn('Unknown Header \"%s\" key found' %str(key))\n",
        "/home/mbonse/Git/PynPoint/PynPoint2/io_modules/FitsReading.py:174: UserWarning: Static keyword ESO INS PRES-MON PRES1 has changed. Probably the current file NACO.2012-08-25T04:50:43.687.fits does not belong to the data set \"00_raw_data\" of the PynPoint database. Updating Keyword...\n",
        "  % (key, fits_file, self.m_image_tag))\n"
       ]
      },
      {
       "output_type": "stream",
       "stream": "stdout",
       "text": [
        "\n",
        "Reading NACO.2012-08-25T04:51:34.803.fits"
       ]
      },
      {
       "output_type": "stream",
       "stream": "stderr",
       "text": [
        "/home/mbonse/Git/PynPoint/PynPoint2/io_modules/FitsReading.py:174: UserWarning: Static keyword ESO OBS ID has changed. Probably the current file NACO.2012-08-25T04:50:43.687.fits does not belong to the data set \"00_raw_data\" of the PynPoint database. Updating Keyword...\n",
        "  % (key, fits_file, self.m_image_tag))\n",
        "/home/mbonse/Git/PynPoint/PynPoint2/io_modules/FitsReading.py:189: UserWarning: Unknown Header \"ESO AOS VIS DET WFS MODE\" key found\n",
        "  warnings.warn('Unknown Header \"%s\" key found' %str(key))\n"
       ]
      },
      {
       "output_type": "stream",
       "stream": "stderr",
       "text": [
        "/home/mbonse/Git/PynPoint/PynPoint2/io_modules/FitsReading.py:189: UserWarning: Unknown Header \"ESO AOS VIS INS ADC1 POSNAM\" key found\n",
        "  warnings.warn('Unknown Header \"%s\" key found' %str(key))\n",
        "/home/mbonse/Git/PynPoint/PynPoint2/io_modules/FitsReading.py:189: UserWarning: Unknown Header \"ESO AOS VIS INS ADC2 POSNAM\" key found\n",
        "  warnings.warn('Unknown Header \"%s\" key found' %str(key))\n",
        "/home/mbonse/Git/PynPoint/PynPoint2/io_modules/FitsReading.py:189: UserWarning: Unknown Header \"ESO AOS VIS INS DIAP POSNAM\" key found\n",
        "  warnings.warn('Unknown Header \"%s\" key found' %str(key))\n",
        "/home/mbonse/Git/PynPoint/PynPoint2/io_modules/FitsReading.py:189: UserWarning: Unknown Header \"ESO AOS VIS INS LENS POSNAM\" key found\n",
        "  warnings.warn('Unknown Header \"%s\" key found' %str(key))\n",
        "/home/mbonse/Git/PynPoint/PynPoint2/io_modules/FitsReading.py:174: UserWarning: Static keyword ESO INS PRES-MON PRES1 has changed. Probably the current file NACO.2012-08-25T04:51:34.803.fits does not belong to the data set \"00_raw_data\" of the PynPoint database. Updating Keyword...\n",
        "  % (key, fits_file, self.m_image_tag))\n"
       ]
      },
      {
       "output_type": "stream",
       "stream": "stdout",
       "text": [
        "\n",
        "Reading NACO.2012-08-25T04:52:18.261.fits"
       ]
      },
      {
       "output_type": "stream",
       "stream": "stderr",
       "text": [
        "/home/mbonse/Git/PynPoint/PynPoint2/io_modules/FitsReading.py:174: UserWarning: Static keyword ESO OBS ID has changed. Probably the current file NACO.2012-08-25T04:51:34.803.fits does not belong to the data set \"00_raw_data\" of the PynPoint database. Updating Keyword...\n",
        "  % (key, fits_file, self.m_image_tag))\n",
        "/home/mbonse/Git/PynPoint/PynPoint2/io_modules/FitsReading.py:189: UserWarning: Unknown Header \"ESO AOS VIS DET WFS MODE\" key found\n",
        "  warnings.warn('Unknown Header \"%s\" key found' %str(key))\n"
       ]
      },
      {
       "output_type": "stream",
       "stream": "stderr",
       "text": [
        "/home/mbonse/Git/PynPoint/PynPoint2/io_modules/FitsReading.py:189: UserWarning: Unknown Header \"ESO AOS VIS INS ADC1 POSNAM\" key found\n",
        "  warnings.warn('Unknown Header \"%s\" key found' %str(key))\n",
        "/home/mbonse/Git/PynPoint/PynPoint2/io_modules/FitsReading.py:189: UserWarning: Unknown Header \"ESO AOS VIS INS ADC2 POSNAM\" key found\n",
        "  warnings.warn('Unknown Header \"%s\" key found' %str(key))\n",
        "/home/mbonse/Git/PynPoint/PynPoint2/io_modules/FitsReading.py:189: UserWarning: Unknown Header \"ESO AOS VIS INS DIAP POSNAM\" key found\n",
        "  warnings.warn('Unknown Header \"%s\" key found' %str(key))\n",
        "/home/mbonse/Git/PynPoint/PynPoint2/io_modules/FitsReading.py:189: UserWarning: Unknown Header \"ESO AOS VIS INS LENS POSNAM\" key found\n",
        "  warnings.warn('Unknown Header \"%s\" key found' %str(key))\n",
        "/home/mbonse/Git/PynPoint/PynPoint2/io_modules/FitsReading.py:174: UserWarning: Static keyword ESO INS PRES-MON PRES1 has changed. Probably the current file NACO.2012-08-25T04:52:18.261.fits does not belong to the data set \"00_raw_data\" of the PynPoint database. Updating Keyword...\n",
        "  % (key, fits_file, self.m_image_tag))\n"
       ]
      },
      {
       "output_type": "stream",
       "stream": "stdout",
       "text": [
        "\n",
        "Reading NACO.2012-08-25T04:53:24.574.fits"
       ]
      },
      {
       "output_type": "stream",
       "stream": "stderr",
       "text": [
        "/home/mbonse/Git/PynPoint/PynPoint2/io_modules/FitsReading.py:174: UserWarning: Static keyword ESO OBS ID has changed. Probably the current file NACO.2012-08-25T04:52:18.261.fits does not belong to the data set \"00_raw_data\" of the PynPoint database. Updating Keyword...\n",
        "  % (key, fits_file, self.m_image_tag))\n",
        "/home/mbonse/Git/PynPoint/PynPoint2/io_modules/FitsReading.py:189: UserWarning: Unknown Header \"ESO AOS VIS DET WFS MODE\" key found\n",
        "  warnings.warn('Unknown Header \"%s\" key found' %str(key))\n"
       ]
      },
      {
       "output_type": "stream",
       "stream": "stderr",
       "text": [
        "/home/mbonse/Git/PynPoint/PynPoint2/io_modules/FitsReading.py:189: UserWarning: Unknown Header \"ESO AOS VIS INS ADC1 POSNAM\" key found\n",
        "  warnings.warn('Unknown Header \"%s\" key found' %str(key))\n",
        "/home/mbonse/Git/PynPoint/PynPoint2/io_modules/FitsReading.py:189: UserWarning: Unknown Header \"ESO AOS VIS INS ADC2 POSNAM\" key found\n",
        "  warnings.warn('Unknown Header \"%s\" key found' %str(key))\n",
        "/home/mbonse/Git/PynPoint/PynPoint2/io_modules/FitsReading.py:189: UserWarning: Unknown Header \"ESO AOS VIS INS DIAP POSNAM\" key found\n",
        "  warnings.warn('Unknown Header \"%s\" key found' %str(key))\n",
        "/home/mbonse/Git/PynPoint/PynPoint2/io_modules/FitsReading.py:189: UserWarning: Unknown Header \"ESO AOS VIS INS LENS POSNAM\" key found\n",
        "  warnings.warn('Unknown Header \"%s\" key found' %str(key))\n",
        "/home/mbonse/Git/PynPoint/PynPoint2/io_modules/FitsReading.py:174: UserWarning: Static keyword ESO INS PRES-MON PRES1 has changed. Probably the current file NACO.2012-08-25T04:53:24.574.fits does not belong to the data set \"00_raw_data\" of the PynPoint database. Updating Keyword...\n",
        "  % (key, fits_file, self.m_image_tag))\n"
       ]
      },
      {
       "output_type": "stream",
       "stream": "stdout",
       "text": [
        "\n",
        "Reading NACO.2012-08-25T04:54:08.175.fits"
       ]
      },
      {
       "output_type": "stream",
       "stream": "stderr",
       "text": [
        "/home/mbonse/Git/PynPoint/PynPoint2/io_modules/FitsReading.py:174: UserWarning: Static keyword ESO OBS ID has changed. Probably the current file NACO.2012-08-25T04:53:24.574.fits does not belong to the data set \"00_raw_data\" of the PynPoint database. Updating Keyword...\n",
        "  % (key, fits_file, self.m_image_tag))\n",
        "/home/mbonse/Git/PynPoint/PynPoint2/io_modules/FitsReading.py:189: UserWarning: Unknown Header \"ESO AOS VIS DET WFS MODE\" key found\n",
        "  warnings.warn('Unknown Header \"%s\" key found' %str(key))\n"
       ]
      },
      {
       "output_type": "stream",
       "stream": "stderr",
       "text": [
        "/home/mbonse/Git/PynPoint/PynPoint2/io_modules/FitsReading.py:189: UserWarning: Unknown Header \"ESO AOS VIS INS ADC1 POSNAM\" key found\n",
        "  warnings.warn('Unknown Header \"%s\" key found' %str(key))\n",
        "/home/mbonse/Git/PynPoint/PynPoint2/io_modules/FitsReading.py:189: UserWarning: Unknown Header \"ESO AOS VIS INS ADC2 POSNAM\" key found\n",
        "  warnings.warn('Unknown Header \"%s\" key found' %str(key))\n",
        "/home/mbonse/Git/PynPoint/PynPoint2/io_modules/FitsReading.py:189: UserWarning: Unknown Header \"ESO AOS VIS INS DIAP POSNAM\" key found\n",
        "  warnings.warn('Unknown Header \"%s\" key found' %str(key))\n",
        "/home/mbonse/Git/PynPoint/PynPoint2/io_modules/FitsReading.py:189: UserWarning: Unknown Header \"ESO AOS VIS INS LENS POSNAM\" key found\n",
        "  warnings.warn('Unknown Header \"%s\" key found' %str(key))\n",
        "/home/mbonse/Git/PynPoint/PynPoint2/io_modules/FitsReading.py:174: UserWarning: Static keyword ESO INS PRES-MON PRES1 has changed. Probably the current file NACO.2012-08-25T04:54:08.175.fits does not belong to the data set \"00_raw_data\" of the PynPoint database. Updating Keyword...\n",
        "  % (key, fits_file, self.m_image_tag))\n"
       ]
      },
      {
       "output_type": "stream",
       "stream": "stdout",
       "text": [
        "\n",
        "Reading NACO.2012-08-25T04:55:00.027.fits"
       ]
      },
      {
       "output_type": "stream",
       "stream": "stderr",
       "text": [
        "/home/mbonse/Git/PynPoint/PynPoint2/io_modules/FitsReading.py:174: UserWarning: Static keyword ESO OBS ID has changed. Probably the current file NACO.2012-08-25T04:54:08.175.fits does not belong to the data set \"00_raw_data\" of the PynPoint database. Updating Keyword...\n",
        "  % (key, fits_file, self.m_image_tag))\n",
        "/home/mbonse/Git/PynPoint/PynPoint2/io_modules/FitsReading.py:189: UserWarning: Unknown Header \"ESO AOS VIS DET WFS MODE\" key found\n",
        "  warnings.warn('Unknown Header \"%s\" key found' %str(key))\n"
       ]
      },
      {
       "output_type": "stream",
       "stream": "stderr",
       "text": [
        "/home/mbonse/Git/PynPoint/PynPoint2/io_modules/FitsReading.py:189: UserWarning: Unknown Header \"ESO AOS VIS INS ADC1 POSNAM\" key found\n",
        "  warnings.warn('Unknown Header \"%s\" key found' %str(key))\n",
        "/home/mbonse/Git/PynPoint/PynPoint2/io_modules/FitsReading.py:189: UserWarning: Unknown Header \"ESO AOS VIS INS ADC2 POSNAM\" key found\n",
        "  warnings.warn('Unknown Header \"%s\" key found' %str(key))\n",
        "/home/mbonse/Git/PynPoint/PynPoint2/io_modules/FitsReading.py:189: UserWarning: Unknown Header \"ESO AOS VIS INS DIAP POSNAM\" key found\n",
        "  warnings.warn('Unknown Header \"%s\" key found' %str(key))\n",
        "/home/mbonse/Git/PynPoint/PynPoint2/io_modules/FitsReading.py:189: UserWarning: Unknown Header \"ESO AOS VIS INS LENS POSNAM\" key found\n",
        "  warnings.warn('Unknown Header \"%s\" key found' %str(key))\n",
        "/home/mbonse/Git/PynPoint/PynPoint2/io_modules/FitsReading.py:174: UserWarning: Static keyword ESO INS PRES-MON PRES1 has changed. Probably the current file NACO.2012-08-25T04:55:00.027.fits does not belong to the data set \"00_raw_data\" of the PynPoint database. Updating Keyword...\n",
        "  % (key, fits_file, self.m_image_tag))\n"
       ]
      },
      {
       "output_type": "stream",
       "stream": "stdout",
       "text": [
        "\n",
        "Reading NACO.2012-08-25T04:55:43.482.fits"
       ]
      },
      {
       "output_type": "stream",
       "stream": "stderr",
       "text": [
        "/home/mbonse/Git/PynPoint/PynPoint2/io_modules/FitsReading.py:174: UserWarning: Static keyword ESO OBS ID has changed. Probably the current file NACO.2012-08-25T04:55:00.027.fits does not belong to the data set \"00_raw_data\" of the PynPoint database. Updating Keyword...\n",
        "  % (key, fits_file, self.m_image_tag))\n",
        "/home/mbonse/Git/PynPoint/PynPoint2/io_modules/FitsReading.py:189: UserWarning: Unknown Header \"ESO AOS VIS DET WFS MODE\" key found\n",
        "  warnings.warn('Unknown Header \"%s\" key found' %str(key))\n"
       ]
      },
      {
       "output_type": "stream",
       "stream": "stderr",
       "text": [
        "/home/mbonse/Git/PynPoint/PynPoint2/io_modules/FitsReading.py:189: UserWarning: Unknown Header \"ESO AOS VIS INS ADC1 POSNAM\" key found\n",
        "  warnings.warn('Unknown Header \"%s\" key found' %str(key))\n",
        "/home/mbonse/Git/PynPoint/PynPoint2/io_modules/FitsReading.py:189: UserWarning: Unknown Header \"ESO AOS VIS INS ADC2 POSNAM\" key found\n",
        "  warnings.warn('Unknown Header \"%s\" key found' %str(key))\n",
        "/home/mbonse/Git/PynPoint/PynPoint2/io_modules/FitsReading.py:189: UserWarning: Unknown Header \"ESO AOS VIS INS DIAP POSNAM\" key found\n",
        "  warnings.warn('Unknown Header \"%s\" key found' %str(key))\n",
        "/home/mbonse/Git/PynPoint/PynPoint2/io_modules/FitsReading.py:189: UserWarning: Unknown Header \"ESO AOS VIS INS LENS POSNAM\" key found\n",
        "  warnings.warn('Unknown Header \"%s\" key found' %str(key))\n",
        "/home/mbonse/Git/PynPoint/PynPoint2/io_modules/FitsReading.py:174: UserWarning: Static keyword ESO INS PRES-MON PRES1 has changed. Probably the current file NACO.2012-08-25T04:55:43.482.fits does not belong to the data set \"00_raw_data\" of the PynPoint database. Updating Keyword...\n",
        "  % (key, fits_file, self.m_image_tag))\n"
       ]
      },
      {
       "output_type": "stream",
       "stream": "stdout",
       "text": [
        "\n",
        "Reading NACO.2012-08-25T04:56:34.535.fits"
       ]
      },
      {
       "output_type": "stream",
       "stream": "stderr",
       "text": [
        "/home/mbonse/Git/PynPoint/PynPoint2/io_modules/FitsReading.py:174: UserWarning: Static keyword ESO OBS ID has changed. Probably the current file NACO.2012-08-25T04:55:43.482.fits does not belong to the data set \"00_raw_data\" of the PynPoint database. Updating Keyword...\n",
        "  % (key, fits_file, self.m_image_tag))\n",
        "/home/mbonse/Git/PynPoint/PynPoint2/io_modules/FitsReading.py:189: UserWarning: Unknown Header \"ESO AOS VIS DET WFS MODE\" key found\n",
        "  warnings.warn('Unknown Header \"%s\" key found' %str(key))\n"
       ]
      },
      {
       "output_type": "stream",
       "stream": "stderr",
       "text": [
        "/home/mbonse/Git/PynPoint/PynPoint2/io_modules/FitsReading.py:189: UserWarning: Unknown Header \"ESO AOS VIS INS ADC1 POSNAM\" key found\n",
        "  warnings.warn('Unknown Header \"%s\" key found' %str(key))\n",
        "/home/mbonse/Git/PynPoint/PynPoint2/io_modules/FitsReading.py:189: UserWarning: Unknown Header \"ESO AOS VIS INS ADC2 POSNAM\" key found\n",
        "  warnings.warn('Unknown Header \"%s\" key found' %str(key))\n",
        "/home/mbonse/Git/PynPoint/PynPoint2/io_modules/FitsReading.py:189: UserWarning: Unknown Header \"ESO AOS VIS INS DIAP POSNAM\" key found\n",
        "  warnings.warn('Unknown Header \"%s\" key found' %str(key))\n",
        "/home/mbonse/Git/PynPoint/PynPoint2/io_modules/FitsReading.py:189: UserWarning: Unknown Header \"ESO AOS VIS INS LENS POSNAM\" key found\n",
        "  warnings.warn('Unknown Header \"%s\" key found' %str(key))\n",
        "/home/mbonse/Git/PynPoint/PynPoint2/io_modules/FitsReading.py:174: UserWarning: Static keyword ESO INS PRES-MON PRES1 has changed. Probably the current file NACO.2012-08-25T04:56:34.535.fits does not belong to the data set \"00_raw_data\" of the PynPoint database. Updating Keyword...\n",
        "  % (key, fits_file, self.m_image_tag))\n"
       ]
      },
      {
       "output_type": "stream",
       "stream": "stdout",
       "text": [
        "\n",
        "Reading NACO.2012-08-25T04:57:17.995.fits"
       ]
      },
      {
       "output_type": "stream",
       "stream": "stderr",
       "text": [
        "/home/mbonse/Git/PynPoint/PynPoint2/io_modules/FitsReading.py:174: UserWarning: Static keyword ESO OBS ID has changed. Probably the current file NACO.2012-08-25T04:56:34.535.fits does not belong to the data set \"00_raw_data\" of the PynPoint database. Updating Keyword...\n",
        "  % (key, fits_file, self.m_image_tag))\n",
        "/home/mbonse/Git/PynPoint/PynPoint2/io_modules/FitsReading.py:189: UserWarning: Unknown Header \"ESO AOS VIS DET WFS MODE\" key found\n",
        "  warnings.warn('Unknown Header \"%s\" key found' %str(key))\n"
       ]
      },
      {
       "output_type": "stream",
       "stream": "stderr",
       "text": [
        "/home/mbonse/Git/PynPoint/PynPoint2/io_modules/FitsReading.py:189: UserWarning: Unknown Header \"ESO AOS VIS INS ADC1 POSNAM\" key found\n",
        "  warnings.warn('Unknown Header \"%s\" key found' %str(key))\n",
        "/home/mbonse/Git/PynPoint/PynPoint2/io_modules/FitsReading.py:189: UserWarning: Unknown Header \"ESO AOS VIS INS ADC2 POSNAM\" key found\n",
        "  warnings.warn('Unknown Header \"%s\" key found' %str(key))\n",
        "/home/mbonse/Git/PynPoint/PynPoint2/io_modules/FitsReading.py:189: UserWarning: Unknown Header \"ESO AOS VIS INS DIAP POSNAM\" key found\n",
        "  warnings.warn('Unknown Header \"%s\" key found' %str(key))\n",
        "/home/mbonse/Git/PynPoint/PynPoint2/io_modules/FitsReading.py:189: UserWarning: Unknown Header \"ESO AOS VIS INS LENS POSNAM\" key found\n",
        "  warnings.warn('Unknown Header \"%s\" key found' %str(key))\n",
        "/home/mbonse/Git/PynPoint/PynPoint2/io_modules/FitsReading.py:174: UserWarning: Static keyword ESO INS PRES-MON PRES1 has changed. Probably the current file NACO.2012-08-25T04:57:17.995.fits does not belong to the data set \"00_raw_data\" of the PynPoint database. Updating Keyword...\n",
        "  % (key, fits_file, self.m_image_tag))\n"
       ]
      },
      {
       "output_type": "stream",
       "stream": "stdout",
       "text": [
        "\n",
        "Reading NACO.2012-08-25T04:58:08.447.fits"
       ]
      },
      {
       "output_type": "stream",
       "stream": "stderr",
       "text": [
        "/home/mbonse/Git/PynPoint/PynPoint2/io_modules/FitsReading.py:174: UserWarning: Static keyword ESO OBS ID has changed. Probably the current file NACO.2012-08-25T04:57:17.995.fits does not belong to the data set \"00_raw_data\" of the PynPoint database. Updating Keyword...\n",
        "  % (key, fits_file, self.m_image_tag))\n",
        "/home/mbonse/Git/PynPoint/PynPoint2/io_modules/FitsReading.py:174: UserWarning: Static keyword NAXIS3 has changed. Probably the current file NACO.2012-08-25T04:58:08.447.fits does not belong to the data set \"00_raw_data\" of the PynPoint database. Updating Keyword...\n",
        "  % (key, fits_file, self.m_image_tag))\n"
       ]
      },
      {
       "output_type": "stream",
       "stream": "stderr",
       "text": [
        "/home/mbonse/Git/PynPoint/PynPoint2/io_modules/FitsReading.py:189: UserWarning: Unknown Header \"ESO AOS VIS DET WFS MODE\" key found\n",
        "  warnings.warn('Unknown Header \"%s\" key found' %str(key))\n",
        "/home/mbonse/Git/PynPoint/PynPoint2/io_modules/FitsReading.py:189: UserWarning: Unknown Header \"ESO AOS VIS INS ADC1 POSNAM\" key found\n",
        "  warnings.warn('Unknown Header \"%s\" key found' %str(key))\n",
        "/home/mbonse/Git/PynPoint/PynPoint2/io_modules/FitsReading.py:189: UserWarning: Unknown Header \"ESO AOS VIS INS ADC2 POSNAM\" key found\n",
        "  warnings.warn('Unknown Header \"%s\" key found' %str(key))\n",
        "/home/mbonse/Git/PynPoint/PynPoint2/io_modules/FitsReading.py:189: UserWarning: Unknown Header \"ESO AOS VIS INS DIAP POSNAM\" key found\n",
        "  warnings.warn('Unknown Header \"%s\" key found' %str(key))\n",
        "/home/mbonse/Git/PynPoint/PynPoint2/io_modules/FitsReading.py:189: UserWarning: Unknown Header \"ESO AOS VIS INS LENS POSNAM\" key found\n",
        "  warnings.warn('Unknown Header \"%s\" key found' %str(key))\n",
        "/home/mbonse/Git/PynPoint/PynPoint2/io_modules/FitsReading.py:174: UserWarning: Static keyword ESO INS PRES-MON PRES1 has changed. Probably the current file NACO.2012-08-25T04:58:08.447.fits does not belong to the data set \"00_raw_data\" of the PynPoint database. Updating Keyword...\n",
        "  % (key, fits_file, self.m_image_tag))\n"
       ]
      },
      {
       "output_type": "stream",
       "stream": "stdout",
       "text": [
        "\n",
        "Reading NACO.2012-08-25T04:58:52.301.fits"
       ]
      },
      {
       "output_type": "stream",
       "stream": "stderr",
       "text": [
        "/home/mbonse/Git/PynPoint/PynPoint2/io_modules/FitsReading.py:174: UserWarning: Static keyword ESO OBS ID has changed. Probably the current file NACO.2012-08-25T04:58:08.447.fits does not belong to the data set \"00_raw_data\" of the PynPoint database. Updating Keyword...\n",
        "  % (key, fits_file, self.m_image_tag))\n",
        "/home/mbonse/Git/PynPoint/PynPoint2/io_modules/FitsReading.py:174: UserWarning: Static keyword NAXIS3 has changed. Probably the current file NACO.2012-08-25T04:58:52.301.fits does not belong to the data set \"00_raw_data\" of the PynPoint database. Updating Keyword...\n",
        "  % (key, fits_file, self.m_image_tag))\n"
       ]
      },
      {
       "output_type": "stream",
       "stream": "stderr",
       "text": [
        "/home/mbonse/Git/PynPoint/PynPoint2/io_modules/FitsReading.py:189: UserWarning: Unknown Header \"ESO AOS VIS DET WFS MODE\" key found\n",
        "  warnings.warn('Unknown Header \"%s\" key found' %str(key))\n",
        "/home/mbonse/Git/PynPoint/PynPoint2/io_modules/FitsReading.py:189: UserWarning: Unknown Header \"ESO AOS VIS INS ADC1 POSNAM\" key found\n",
        "  warnings.warn('Unknown Header \"%s\" key found' %str(key))\n",
        "/home/mbonse/Git/PynPoint/PynPoint2/io_modules/FitsReading.py:189: UserWarning: Unknown Header \"ESO AOS VIS INS ADC2 POSNAM\" key found\n",
        "  warnings.warn('Unknown Header \"%s\" key found' %str(key))\n",
        "/home/mbonse/Git/PynPoint/PynPoint2/io_modules/FitsReading.py:189: UserWarning: Unknown Header \"ESO AOS VIS INS DIAP POSNAM\" key found\n",
        "  warnings.warn('Unknown Header \"%s\" key found' %str(key))\n",
        "/home/mbonse/Git/PynPoint/PynPoint2/io_modules/FitsReading.py:189: UserWarning: Unknown Header \"ESO AOS VIS INS LENS POSNAM\" key found\n",
        "  warnings.warn('Unknown Header \"%s\" key found' %str(key))\n",
        "/home/mbonse/Git/PynPoint/PynPoint2/io_modules/FitsReading.py:174: UserWarning: Static keyword ESO INS PRES-MON PRES1 has changed. Probably the current file NACO.2012-08-25T04:58:52.301.fits does not belong to the data set \"00_raw_data\" of the PynPoint database. Updating Keyword...\n",
        "  % (key, fits_file, self.m_image_tag))\n"
       ]
      },
      {
       "output_type": "stream",
       "stream": "stdout",
       "text": [
        "\n",
        "Reading NACO.2012-08-25T04:59:59.194.fits"
       ]
      },
      {
       "output_type": "stream",
       "stream": "stderr",
       "text": [
        "/home/mbonse/Git/PynPoint/PynPoint2/io_modules/FitsReading.py:174: UserWarning: Static keyword ESO OBS ID has changed. Probably the current file NACO.2012-08-25T04:58:52.301.fits does not belong to the data set \"00_raw_data\" of the PynPoint database. Updating Keyword...\n",
        "  % (key, fits_file, self.m_image_tag))\n",
        "/home/mbonse/Git/PynPoint/PynPoint2/io_modules/FitsReading.py:189: UserWarning: Unknown Header \"ESO AOS VIS DET WFS MODE\" key found\n",
        "  warnings.warn('Unknown Header \"%s\" key found' %str(key))\n"
       ]
      },
      {
       "output_type": "stream",
       "stream": "stderr",
       "text": [
        "/home/mbonse/Git/PynPoint/PynPoint2/io_modules/FitsReading.py:189: UserWarning: Unknown Header \"ESO AOS VIS INS ADC1 POSNAM\" key found\n",
        "  warnings.warn('Unknown Header \"%s\" key found' %str(key))\n",
        "/home/mbonse/Git/PynPoint/PynPoint2/io_modules/FitsReading.py:189: UserWarning: Unknown Header \"ESO AOS VIS INS ADC2 POSNAM\" key found\n",
        "  warnings.warn('Unknown Header \"%s\" key found' %str(key))\n",
        "/home/mbonse/Git/PynPoint/PynPoint2/io_modules/FitsReading.py:189: UserWarning: Unknown Header \"ESO AOS VIS INS DIAP POSNAM\" key found\n",
        "  warnings.warn('Unknown Header \"%s\" key found' %str(key))\n",
        "/home/mbonse/Git/PynPoint/PynPoint2/io_modules/FitsReading.py:189: UserWarning: Unknown Header \"ESO AOS VIS INS LENS POSNAM\" key found\n",
        "  warnings.warn('Unknown Header \"%s\" key found' %str(key))\n",
        "/home/mbonse/Git/PynPoint/PynPoint2/io_modules/FitsReading.py:174: UserWarning: Static keyword ESO INS PRES-MON PRES1 has changed. Probably the current file NACO.2012-08-25T04:59:59.194.fits does not belong to the data set \"00_raw_data\" of the PynPoint database. Updating Keyword...\n",
        "  % (key, fits_file, self.m_image_tag))\n"
       ]
      },
      {
       "output_type": "stream",
       "stream": "stdout",
       "text": [
        "\n",
        "Reading NACO.2012-08-25T05:00:42.855.fits"
       ]
      },
      {
       "output_type": "stream",
       "stream": "stderr",
       "text": [
        "/home/mbonse/Git/PynPoint/PynPoint2/io_modules/FitsReading.py:174: UserWarning: Static keyword ESO OBS ID has changed. Probably the current file NACO.2012-08-25T04:59:59.194.fits does not belong to the data set \"00_raw_data\" of the PynPoint database. Updating Keyword...\n",
        "  % (key, fits_file, self.m_image_tag))\n",
        "/home/mbonse/Git/PynPoint/PynPoint2/io_modules/FitsReading.py:189: UserWarning: Unknown Header \"ESO AOS VIS DET WFS MODE\" key found\n",
        "  warnings.warn('Unknown Header \"%s\" key found' %str(key))\n"
       ]
      },
      {
       "output_type": "stream",
       "stream": "stderr",
       "text": [
        "/home/mbonse/Git/PynPoint/PynPoint2/io_modules/FitsReading.py:189: UserWarning: Unknown Header \"ESO AOS VIS INS ADC1 POSNAM\" key found\n",
        "  warnings.warn('Unknown Header \"%s\" key found' %str(key))\n",
        "/home/mbonse/Git/PynPoint/PynPoint2/io_modules/FitsReading.py:189: UserWarning: Unknown Header \"ESO AOS VIS INS ADC2 POSNAM\" key found\n",
        "  warnings.warn('Unknown Header \"%s\" key found' %str(key))\n",
        "/home/mbonse/Git/PynPoint/PynPoint2/io_modules/FitsReading.py:189: UserWarning: Unknown Header \"ESO AOS VIS INS DIAP POSNAM\" key found\n",
        "  warnings.warn('Unknown Header \"%s\" key found' %str(key))\n",
        "/home/mbonse/Git/PynPoint/PynPoint2/io_modules/FitsReading.py:189: UserWarning: Unknown Header \"ESO AOS VIS INS LENS POSNAM\" key found\n",
        "  warnings.warn('Unknown Header \"%s\" key found' %str(key))\n",
        "/home/mbonse/Git/PynPoint/PynPoint2/io_modules/FitsReading.py:174: UserWarning: Static keyword ESO INS PRES-MON PRES1 has changed. Probably the current file NACO.2012-08-25T05:00:42.855.fits does not belong to the data set \"00_raw_data\" of the PynPoint database. Updating Keyword...\n",
        "  % (key, fits_file, self.m_image_tag))\n"
       ]
      },
      {
       "output_type": "stream",
       "stream": "stdout",
       "text": [
        "\n",
        "Reading NACO.2012-08-25T05:01:36.036.fits"
       ]
      },
      {
       "output_type": "stream",
       "stream": "stderr",
       "text": [
        "/home/mbonse/Git/PynPoint/PynPoint2/io_modules/FitsReading.py:174: UserWarning: Static keyword ESO OBS ID has changed. Probably the current file NACO.2012-08-25T05:00:42.855.fits does not belong to the data set \"00_raw_data\" of the PynPoint database. Updating Keyword...\n",
        "  % (key, fits_file, self.m_image_tag))\n",
        "/home/mbonse/Git/PynPoint/PynPoint2/io_modules/FitsReading.py:189: UserWarning: Unknown Header \"ESO AOS VIS DET WFS MODE\" key found\n",
        "  warnings.warn('Unknown Header \"%s\" key found' %str(key))\n"
       ]
      },
      {
       "output_type": "stream",
       "stream": "stderr",
       "text": [
        "/home/mbonse/Git/PynPoint/PynPoint2/io_modules/FitsReading.py:189: UserWarning: Unknown Header \"ESO AOS VIS INS ADC1 POSNAM\" key found\n",
        "  warnings.warn('Unknown Header \"%s\" key found' %str(key))\n",
        "/home/mbonse/Git/PynPoint/PynPoint2/io_modules/FitsReading.py:189: UserWarning: Unknown Header \"ESO AOS VIS INS ADC2 POSNAM\" key found\n",
        "  warnings.warn('Unknown Header \"%s\" key found' %str(key))\n",
        "/home/mbonse/Git/PynPoint/PynPoint2/io_modules/FitsReading.py:189: UserWarning: Unknown Header \"ESO AOS VIS INS DIAP POSNAM\" key found\n",
        "  warnings.warn('Unknown Header \"%s\" key found' %str(key))\n",
        "/home/mbonse/Git/PynPoint/PynPoint2/io_modules/FitsReading.py:189: UserWarning: Unknown Header \"ESO AOS VIS INS LENS POSNAM\" key found\n",
        "  warnings.warn('Unknown Header \"%s\" key found' %str(key))\n",
        "/home/mbonse/Git/PynPoint/PynPoint2/io_modules/FitsReading.py:174: UserWarning: Static keyword ESO INS PRES-MON PRES1 has changed. Probably the current file NACO.2012-08-25T05:01:36.036.fits does not belong to the data set \"00_raw_data\" of the PynPoint database. Updating Keyword...\n",
        "  % (key, fits_file, self.m_image_tag))\n"
       ]
      },
      {
       "output_type": "stream",
       "stream": "stdout",
       "text": [
        "\n",
        "Reading NACO.2012-08-25T05:02:19.338.fits"
       ]
      },
      {
       "output_type": "stream",
       "stream": "stderr",
       "text": [
        "/home/mbonse/Git/PynPoint/PynPoint2/io_modules/FitsReading.py:174: UserWarning: Static keyword ESO OBS ID has changed. Probably the current file NACO.2012-08-25T05:01:36.036.fits does not belong to the data set \"00_raw_data\" of the PynPoint database. Updating Keyword...\n",
        "  % (key, fits_file, self.m_image_tag))\n",
        "/home/mbonse/Git/PynPoint/PynPoint2/io_modules/FitsReading.py:189: UserWarning: Unknown Header \"ESO AOS VIS DET WFS MODE\" key found\n",
        "  warnings.warn('Unknown Header \"%s\" key found' %str(key))\n"
       ]
      },
      {
       "output_type": "stream",
       "stream": "stderr",
       "text": [
        "/home/mbonse/Git/PynPoint/PynPoint2/io_modules/FitsReading.py:189: UserWarning: Unknown Header \"ESO AOS VIS INS ADC1 POSNAM\" key found\n",
        "  warnings.warn('Unknown Header \"%s\" key found' %str(key))\n",
        "/home/mbonse/Git/PynPoint/PynPoint2/io_modules/FitsReading.py:189: UserWarning: Unknown Header \"ESO AOS VIS INS ADC2 POSNAM\" key found\n",
        "  warnings.warn('Unknown Header \"%s\" key found' %str(key))\n",
        "/home/mbonse/Git/PynPoint/PynPoint2/io_modules/FitsReading.py:189: UserWarning: Unknown Header \"ESO AOS VIS INS DIAP POSNAM\" key found\n",
        "  warnings.warn('Unknown Header \"%s\" key found' %str(key))\n",
        "/home/mbonse/Git/PynPoint/PynPoint2/io_modules/FitsReading.py:189: UserWarning: Unknown Header \"ESO AOS VIS INS LENS POSNAM\" key found\n",
        "  warnings.warn('Unknown Header \"%s\" key found' %str(key))\n",
        "/home/mbonse/Git/PynPoint/PynPoint2/io_modules/FitsReading.py:174: UserWarning: Static keyword ESO INS PRES-MON PRES1 has changed. Probably the current file NACO.2012-08-25T05:02:19.338.fits does not belong to the data set \"00_raw_data\" of the PynPoint database. Updating Keyword...\n",
        "  % (key, fits_file, self.m_image_tag))\n"
       ]
      },
      {
       "output_type": "stream",
       "stream": "stdout",
       "text": [
        "\n",
        "Reading NACO.2012-08-25T05:03:11.789.fits"
       ]
      },
      {
       "output_type": "stream",
       "stream": "stderr",
       "text": [
        "/home/mbonse/Git/PynPoint/PynPoint2/io_modules/FitsReading.py:174: UserWarning: Static keyword ESO OBS ID has changed. Probably the current file NACO.2012-08-25T05:02:19.338.fits does not belong to the data set \"00_raw_data\" of the PynPoint database. Updating Keyword...\n",
        "  % (key, fits_file, self.m_image_tag))\n",
        "/home/mbonse/Git/PynPoint/PynPoint2/io_modules/FitsReading.py:189: UserWarning: Unknown Header \"ESO AOS VIS DET WFS MODE\" key found\n",
        "  warnings.warn('Unknown Header \"%s\" key found' %str(key))\n"
       ]
      },
      {
       "output_type": "stream",
       "stream": "stderr",
       "text": [
        "/home/mbonse/Git/PynPoint/PynPoint2/io_modules/FitsReading.py:189: UserWarning: Unknown Header \"ESO AOS VIS INS ADC1 POSNAM\" key found\n",
        "  warnings.warn('Unknown Header \"%s\" key found' %str(key))\n",
        "/home/mbonse/Git/PynPoint/PynPoint2/io_modules/FitsReading.py:189: UserWarning: Unknown Header \"ESO AOS VIS INS ADC2 POSNAM\" key found\n",
        "  warnings.warn('Unknown Header \"%s\" key found' %str(key))\n",
        "/home/mbonse/Git/PynPoint/PynPoint2/io_modules/FitsReading.py:189: UserWarning: Unknown Header \"ESO AOS VIS INS DIAP POSNAM\" key found\n",
        "  warnings.warn('Unknown Header \"%s\" key found' %str(key))\n",
        "/home/mbonse/Git/PynPoint/PynPoint2/io_modules/FitsReading.py:189: UserWarning: Unknown Header \"ESO AOS VIS INS LENS POSNAM\" key found\n",
        "  warnings.warn('Unknown Header \"%s\" key found' %str(key))\n",
        "/home/mbonse/Git/PynPoint/PynPoint2/io_modules/FitsReading.py:174: UserWarning: Static keyword ESO INS PRES-MON PRES1 has changed. Probably the current file NACO.2012-08-25T05:03:11.789.fits does not belong to the data set \"00_raw_data\" of the PynPoint database. Updating Keyword...\n",
        "  % (key, fits_file, self.m_image_tag))\n"
       ]
      },
      {
       "output_type": "stream",
       "stream": "stdout",
       "text": [
        "\n",
        "Reading NACO.2012-08-25T05:12:22.425.fits"
       ]
      },
      {
       "output_type": "stream",
       "stream": "stderr",
       "text": [
        "/home/mbonse/Git/PynPoint/PynPoint2/io_modules/FitsReading.py:174: UserWarning: Static keyword ESO OBS ID has changed. Probably the current file NACO.2012-08-25T05:03:11.789.fits does not belong to the data set \"00_raw_data\" of the PynPoint database. Updating Keyword...\n",
        "  % (key, fits_file, self.m_image_tag))\n",
        "/home/mbonse/Git/PynPoint/PynPoint2/io_modules/FitsReading.py:189: UserWarning: Unknown Header \"ESO AOS VIS DET WFS MODE\" key found\n",
        "  warnings.warn('Unknown Header \"%s\" key found' %str(key))\n"
       ]
      },
      {
       "output_type": "stream",
       "stream": "stderr",
       "text": [
        "/home/mbonse/Git/PynPoint/PynPoint2/io_modules/FitsReading.py:189: UserWarning: Unknown Header \"ESO AOS VIS INS ADC1 POSNAM\" key found\n",
        "  warnings.warn('Unknown Header \"%s\" key found' %str(key))\n",
        "/home/mbonse/Git/PynPoint/PynPoint2/io_modules/FitsReading.py:189: UserWarning: Unknown Header \"ESO AOS VIS INS ADC2 POSNAM\" key found\n",
        "  warnings.warn('Unknown Header \"%s\" key found' %str(key))\n",
        "/home/mbonse/Git/PynPoint/PynPoint2/io_modules/FitsReading.py:189: UserWarning: Unknown Header \"ESO AOS VIS INS DIAP POSNAM\" key found\n",
        "  warnings.warn('Unknown Header \"%s\" key found' %str(key))\n",
        "/home/mbonse/Git/PynPoint/PynPoint2/io_modules/FitsReading.py:189: UserWarning: Unknown Header \"ESO AOS VIS INS LENS POSNAM\" key found\n",
        "  warnings.warn('Unknown Header \"%s\" key found' %str(key))\n",
        "/home/mbonse/Git/PynPoint/PynPoint2/io_modules/FitsReading.py:174: UserWarning: Static keyword ESO INS PRES-MON PRES1 has changed. Probably the current file NACO.2012-08-25T05:12:22.425.fits does not belong to the data set \"00_raw_data\" of the PynPoint database. Updating Keyword...\n",
        "  % (key, fits_file, self.m_image_tag))\n"
       ]
      },
      {
       "output_type": "stream",
       "stream": "stdout",
       "text": [
        "\n",
        "Reading NACO.2012-08-25T05:13:05.848.fits"
       ]
      },
      {
       "output_type": "stream",
       "stream": "stderr",
       "text": [
        "/home/mbonse/Git/PynPoint/PynPoint2/io_modules/FitsReading.py:174: UserWarning: Static keyword ESO OBS ID has changed. Probably the current file NACO.2012-08-25T05:12:22.425.fits does not belong to the data set \"00_raw_data\" of the PynPoint database. Updating Keyword...\n",
        "  % (key, fits_file, self.m_image_tag))\n",
        "/home/mbonse/Git/PynPoint/PynPoint2/io_modules/FitsReading.py:174: UserWarning: Static keyword ESO TEL TARG PMA has changed. Probably the current file NACO.2012-08-25T05:12:22.425.fits does not belong to the data set \"00_raw_data\" of the PynPoint database. Updating Keyword...\n",
        "  % (key, fits_file, self.m_image_tag))\n",
        "/home/mbonse/Git/PynPoint/PynPoint2/io_modules/FitsReading.py:174: UserWarning: Static keyword ESO TEL TARG PMD has changed. Probably the current file NACO.2012-08-25T05:12:22.425.fits does not belong to the data set \"00_raw_data\" of the PynPoint database. Updating Keyword...\n",
        "  % (key, fits_file, self.m_image_tag))\n",
        "/home/mbonse/Git/PynPoint/PynPoint2/io_modules/FitsReading.py:189: UserWarning: Unknown Header \"ESO AOS VIS DET WFS MODE\" key found\n",
        "  warnings.warn('Unknown Header \"%s\" key found' %str(key))\n"
       ]
      },
      {
       "output_type": "stream",
       "stream": "stderr",
       "text": [
        "/home/mbonse/Git/PynPoint/PynPoint2/io_modules/FitsReading.py:189: UserWarning: Unknown Header \"ESO AOS VIS INS ADC1 POSNAM\" key found\n",
        "  warnings.warn('Unknown Header \"%s\" key found' %str(key))\n",
        "/home/mbonse/Git/PynPoint/PynPoint2/io_modules/FitsReading.py:189: UserWarning: Unknown Header \"ESO AOS VIS INS ADC2 POSNAM\" key found\n",
        "  warnings.warn('Unknown Header \"%s\" key found' %str(key))\n",
        "/home/mbonse/Git/PynPoint/PynPoint2/io_modules/FitsReading.py:189: UserWarning: Unknown Header \"ESO AOS VIS INS DIAP POSNAM\" key found\n",
        "  warnings.warn('Unknown Header \"%s\" key found' %str(key))\n",
        "/home/mbonse/Git/PynPoint/PynPoint2/io_modules/FitsReading.py:189: UserWarning: Unknown Header \"ESO AOS VIS INS LENS POSNAM\" key found\n",
        "  warnings.warn('Unknown Header \"%s\" key found' %str(key))\n",
        "/home/mbonse/Git/PynPoint/PynPoint2/io_modules/FitsReading.py:174: UserWarning: Static keyword ESO INS PRES-MON PRES1 has changed. Probably the current file NACO.2012-08-25T05:13:05.848.fits does not belong to the data set \"00_raw_data\" of the PynPoint database. Updating Keyword...\n",
        "  % (key, fits_file, self.m_image_tag))\n"
       ]
      },
      {
       "output_type": "stream",
       "stream": "stdout",
       "text": [
        "\n",
        "Reading NACO.2012-08-25T05:14:00.701.fits"
       ]
      },
      {
       "output_type": "stream",
       "stream": "stderr",
       "text": [
        "/home/mbonse/Git/PynPoint/PynPoint2/io_modules/FitsReading.py:174: UserWarning: Static keyword ESO OBS ID has changed. Probably the current file NACO.2012-08-25T05:13:05.848.fits does not belong to the data set \"00_raw_data\" of the PynPoint database. Updating Keyword...\n",
        "  % (key, fits_file, self.m_image_tag))\n",
        "/home/mbonse/Git/PynPoint/PynPoint2/io_modules/FitsReading.py:174: UserWarning: Static keyword ESO TEL TARG PMA has changed. Probably the current file NACO.2012-08-25T05:13:05.848.fits does not belong to the data set \"00_raw_data\" of the PynPoint database. Updating Keyword...\n",
        "  % (key, fits_file, self.m_image_tag))\n",
        "/home/mbonse/Git/PynPoint/PynPoint2/io_modules/FitsReading.py:174: UserWarning: Static keyword ESO TEL TARG PMD has changed. Probably the current file NACO.2012-08-25T05:13:05.848.fits does not belong to the data set \"00_raw_data\" of the PynPoint database. Updating Keyword...\n",
        "  % (key, fits_file, self.m_image_tag))\n",
        "/home/mbonse/Git/PynPoint/PynPoint2/io_modules/FitsReading.py:189: UserWarning: Unknown Header \"ESO AOS VIS DET WFS MODE\" key found\n",
        "  warnings.warn('Unknown Header \"%s\" key found' %str(key))\n"
       ]
      },
      {
       "output_type": "stream",
       "stream": "stderr",
       "text": [
        "/home/mbonse/Git/PynPoint/PynPoint2/io_modules/FitsReading.py:189: UserWarning: Unknown Header \"ESO AOS VIS INS ADC1 POSNAM\" key found\n",
        "  warnings.warn('Unknown Header \"%s\" key found' %str(key))\n",
        "/home/mbonse/Git/PynPoint/PynPoint2/io_modules/FitsReading.py:189: UserWarning: Unknown Header \"ESO AOS VIS INS ADC2 POSNAM\" key found\n",
        "  warnings.warn('Unknown Header \"%s\" key found' %str(key))\n",
        "/home/mbonse/Git/PynPoint/PynPoint2/io_modules/FitsReading.py:189: UserWarning: Unknown Header \"ESO AOS VIS INS DIAP POSNAM\" key found\n",
        "  warnings.warn('Unknown Header \"%s\" key found' %str(key))\n",
        "/home/mbonse/Git/PynPoint/PynPoint2/io_modules/FitsReading.py:189: UserWarning: Unknown Header \"ESO AOS VIS INS LENS POSNAM\" key found\n",
        "  warnings.warn('Unknown Header \"%s\" key found' %str(key))\n",
        "/home/mbonse/Git/PynPoint/PynPoint2/io_modules/FitsReading.py:174: UserWarning: Static keyword ESO INS PRES-MON PRES1 has changed. Probably the current file NACO.2012-08-25T05:14:00.701.fits does not belong to the data set \"00_raw_data\" of the PynPoint database. Updating Keyword...\n",
        "  % (key, fits_file, self.m_image_tag))\n"
       ]
      },
      {
       "output_type": "stream",
       "stream": "stdout",
       "text": [
        "\n",
        "Reading NACO.2012-08-25T05:14:44.156.fits"
       ]
      },
      {
       "output_type": "stream",
       "stream": "stderr",
       "text": [
        "/home/mbonse/Git/PynPoint/PynPoint2/io_modules/FitsReading.py:174: UserWarning: Static keyword ESO OBS ID has changed. Probably the current file NACO.2012-08-25T05:14:00.701.fits does not belong to the data set \"00_raw_data\" of the PynPoint database. Updating Keyword...\n",
        "  % (key, fits_file, self.m_image_tag))\n",
        "/home/mbonse/Git/PynPoint/PynPoint2/io_modules/FitsReading.py:174: UserWarning: Static keyword ESO TEL TARG PMA has changed. Probably the current file NACO.2012-08-25T05:14:00.701.fits does not belong to the data set \"00_raw_data\" of the PynPoint database. Updating Keyword...\n",
        "  % (key, fits_file, self.m_image_tag))\n",
        "/home/mbonse/Git/PynPoint/PynPoint2/io_modules/FitsReading.py:174: UserWarning: Static keyword ESO TEL TARG PMD has changed. Probably the current file NACO.2012-08-25T05:14:00.701.fits does not belong to the data set \"00_raw_data\" of the PynPoint database. Updating Keyword...\n",
        "  % (key, fits_file, self.m_image_tag))\n",
        "/home/mbonse/Git/PynPoint/PynPoint2/io_modules/FitsReading.py:189: UserWarning: Unknown Header \"ESO AOS VIS DET WFS MODE\" key found\n",
        "  warnings.warn('Unknown Header \"%s\" key found' %str(key))\n"
       ]
      },
      {
       "output_type": "stream",
       "stream": "stderr",
       "text": [
        "/home/mbonse/Git/PynPoint/PynPoint2/io_modules/FitsReading.py:189: UserWarning: Unknown Header \"ESO AOS VIS INS ADC1 POSNAM\" key found\n",
        "  warnings.warn('Unknown Header \"%s\" key found' %str(key))\n",
        "/home/mbonse/Git/PynPoint/PynPoint2/io_modules/FitsReading.py:189: UserWarning: Unknown Header \"ESO AOS VIS INS ADC2 POSNAM\" key found\n",
        "  warnings.warn('Unknown Header \"%s\" key found' %str(key))\n",
        "/home/mbonse/Git/PynPoint/PynPoint2/io_modules/FitsReading.py:189: UserWarning: Unknown Header \"ESO AOS VIS INS DIAP POSNAM\" key found\n",
        "  warnings.warn('Unknown Header \"%s\" key found' %str(key))\n",
        "/home/mbonse/Git/PynPoint/PynPoint2/io_modules/FitsReading.py:189: UserWarning: Unknown Header \"ESO AOS VIS INS LENS POSNAM\" key found\n",
        "  warnings.warn('Unknown Header \"%s\" key found' %str(key))\n",
        "/home/mbonse/Git/PynPoint/PynPoint2/io_modules/FitsReading.py:174: UserWarning: Static keyword ESO INS PRES-MON PRES1 has changed. Probably the current file NACO.2012-08-25T05:14:44.156.fits does not belong to the data set \"00_raw_data\" of the PynPoint database. Updating Keyword...\n",
        "  % (key, fits_file, self.m_image_tag))\n"
       ]
      },
      {
       "output_type": "stream",
       "stream": "stdout",
       "text": [
        "\n",
        "Reading NACO.2012-08-25T05:15:35.681.fits"
       ]
      },
      {
       "output_type": "stream",
       "stream": "stderr",
       "text": [
        "/home/mbonse/Git/PynPoint/PynPoint2/io_modules/FitsReading.py:174: UserWarning: Static keyword ESO OBS ID has changed. Probably the current file NACO.2012-08-25T05:14:44.156.fits does not belong to the data set \"00_raw_data\" of the PynPoint database. Updating Keyword...\n",
        "  % (key, fits_file, self.m_image_tag))\n",
        "/home/mbonse/Git/PynPoint/PynPoint2/io_modules/FitsReading.py:174: UserWarning: Static keyword ESO TEL TARG PMA has changed. Probably the current file NACO.2012-08-25T05:14:44.156.fits does not belong to the data set \"00_raw_data\" of the PynPoint database. Updating Keyword...\n",
        "  % (key, fits_file, self.m_image_tag))\n",
        "/home/mbonse/Git/PynPoint/PynPoint2/io_modules/FitsReading.py:174: UserWarning: Static keyword ESO TEL TARG PMD has changed. Probably the current file NACO.2012-08-25T05:14:44.156.fits does not belong to the data set \"00_raw_data\" of the PynPoint database. Updating Keyword...\n",
        "  % (key, fits_file, self.m_image_tag))\n",
        "/home/mbonse/Git/PynPoint/PynPoint2/io_modules/FitsReading.py:189: UserWarning: Unknown Header \"ESO AOS VIS DET WFS MODE\" key found\n",
        "  warnings.warn('Unknown Header \"%s\" key found' %str(key))\n"
       ]
      },
      {
       "output_type": "stream",
       "stream": "stderr",
       "text": [
        "/home/mbonse/Git/PynPoint/PynPoint2/io_modules/FitsReading.py:189: UserWarning: Unknown Header \"ESO AOS VIS INS ADC1 POSNAM\" key found\n",
        "  warnings.warn('Unknown Header \"%s\" key found' %str(key))\n",
        "/home/mbonse/Git/PynPoint/PynPoint2/io_modules/FitsReading.py:189: UserWarning: Unknown Header \"ESO AOS VIS INS ADC2 POSNAM\" key found\n",
        "  warnings.warn('Unknown Header \"%s\" key found' %str(key))\n",
        "/home/mbonse/Git/PynPoint/PynPoint2/io_modules/FitsReading.py:189: UserWarning: Unknown Header \"ESO AOS VIS INS DIAP POSNAM\" key found\n",
        "  warnings.warn('Unknown Header \"%s\" key found' %str(key))\n",
        "/home/mbonse/Git/PynPoint/PynPoint2/io_modules/FitsReading.py:189: UserWarning: Unknown Header \"ESO AOS VIS INS LENS POSNAM\" key found\n",
        "  warnings.warn('Unknown Header \"%s\" key found' %str(key))\n",
        "/home/mbonse/Git/PynPoint/PynPoint2/io_modules/FitsReading.py:174: UserWarning: Static keyword ESO INS PRES-MON PRES1 has changed. Probably the current file NACO.2012-08-25T05:15:35.681.fits does not belong to the data set \"00_raw_data\" of the PynPoint database. Updating Keyword...\n",
        "  % (key, fits_file, self.m_image_tag))\n"
       ]
      },
      {
       "output_type": "stream",
       "stream": "stdout",
       "text": [
        "\n",
        "Reading NACO.2012-08-25T05:16:19.339.fits"
       ]
      },
      {
       "output_type": "stream",
       "stream": "stderr",
       "text": [
        "/home/mbonse/Git/PynPoint/PynPoint2/io_modules/FitsReading.py:174: UserWarning: Static keyword ESO OBS ID has changed. Probably the current file NACO.2012-08-25T05:15:35.681.fits does not belong to the data set \"00_raw_data\" of the PynPoint database. Updating Keyword...\n",
        "  % (key, fits_file, self.m_image_tag))\n",
        "/home/mbonse/Git/PynPoint/PynPoint2/io_modules/FitsReading.py:174: UserWarning: Static keyword ESO TEL TARG PMA has changed. Probably the current file NACO.2012-08-25T05:15:35.681.fits does not belong to the data set \"00_raw_data\" of the PynPoint database. Updating Keyword...\n",
        "  % (key, fits_file, self.m_image_tag))\n",
        "/home/mbonse/Git/PynPoint/PynPoint2/io_modules/FitsReading.py:174: UserWarning: Static keyword ESO TEL TARG PMD has changed. Probably the current file NACO.2012-08-25T05:15:35.681.fits does not belong to the data set \"00_raw_data\" of the PynPoint database. Updating Keyword...\n",
        "  % (key, fits_file, self.m_image_tag))\n",
        "/home/mbonse/Git/PynPoint/PynPoint2/io_modules/FitsReading.py:189: UserWarning: Unknown Header \"ESO AOS VIS DET WFS MODE\" key found\n",
        "  warnings.warn('Unknown Header \"%s\" key found' %str(key))\n"
       ]
      },
      {
       "output_type": "stream",
       "stream": "stderr",
       "text": [
        "/home/mbonse/Git/PynPoint/PynPoint2/io_modules/FitsReading.py:189: UserWarning: Unknown Header \"ESO AOS VIS INS ADC1 POSNAM\" key found\n",
        "  warnings.warn('Unknown Header \"%s\" key found' %str(key))\n",
        "/home/mbonse/Git/PynPoint/PynPoint2/io_modules/FitsReading.py:189: UserWarning: Unknown Header \"ESO AOS VIS INS ADC2 POSNAM\" key found\n",
        "  warnings.warn('Unknown Header \"%s\" key found' %str(key))\n",
        "/home/mbonse/Git/PynPoint/PynPoint2/io_modules/FitsReading.py:189: UserWarning: Unknown Header \"ESO AOS VIS INS DIAP POSNAM\" key found\n",
        "  warnings.warn('Unknown Header \"%s\" key found' %str(key))\n",
        "/home/mbonse/Git/PynPoint/PynPoint2/io_modules/FitsReading.py:189: UserWarning: Unknown Header \"ESO AOS VIS INS LENS POSNAM\" key found\n",
        "  warnings.warn('Unknown Header \"%s\" key found' %str(key))\n",
        "/home/mbonse/Git/PynPoint/PynPoint2/io_modules/FitsReading.py:174: UserWarning: Static keyword ESO INS PRES-MON PRES1 has changed. Probably the current file NACO.2012-08-25T05:16:19.339.fits does not belong to the data set \"00_raw_data\" of the PynPoint database. Updating Keyword...\n",
        "  % (key, fits_file, self.m_image_tag))\n"
       ]
      },
      {
       "output_type": "stream",
       "stream": "stdout",
       "text": [
        "\n",
        "Reading NACO.2012-08-25T05:17:10.190.fits"
       ]
      },
      {
       "output_type": "stream",
       "stream": "stderr",
       "text": [
        "/home/mbonse/Git/PynPoint/PynPoint2/io_modules/FitsReading.py:174: UserWarning: Static keyword ESO OBS ID has changed. Probably the current file NACO.2012-08-25T05:16:19.339.fits does not belong to the data set \"00_raw_data\" of the PynPoint database. Updating Keyword...\n",
        "  % (key, fits_file, self.m_image_tag))\n",
        "/home/mbonse/Git/PynPoint/PynPoint2/io_modules/FitsReading.py:174: UserWarning: Static keyword ESO TEL TARG PMA has changed. Probably the current file NACO.2012-08-25T05:16:19.339.fits does not belong to the data set \"00_raw_data\" of the PynPoint database. Updating Keyword...\n",
        "  % (key, fits_file, self.m_image_tag))\n",
        "/home/mbonse/Git/PynPoint/PynPoint2/io_modules/FitsReading.py:174: UserWarning: Static keyword ESO TEL TARG PMD has changed. Probably the current file NACO.2012-08-25T05:16:19.339.fits does not belong to the data set \"00_raw_data\" of the PynPoint database. Updating Keyword...\n",
        "  % (key, fits_file, self.m_image_tag))\n",
        "/home/mbonse/Git/PynPoint/PynPoint2/io_modules/FitsReading.py:189: UserWarning: Unknown Header \"ESO AOS VIS DET WFS MODE\" key found\n",
        "  warnings.warn('Unknown Header \"%s\" key found' %str(key))\n"
       ]
      },
      {
       "output_type": "stream",
       "stream": "stderr",
       "text": [
        "/home/mbonse/Git/PynPoint/PynPoint2/io_modules/FitsReading.py:189: UserWarning: Unknown Header \"ESO AOS VIS INS ADC1 POSNAM\" key found\n",
        "  warnings.warn('Unknown Header \"%s\" key found' %str(key))\n",
        "/home/mbonse/Git/PynPoint/PynPoint2/io_modules/FitsReading.py:189: UserWarning: Unknown Header \"ESO AOS VIS INS ADC2 POSNAM\" key found\n",
        "  warnings.warn('Unknown Header \"%s\" key found' %str(key))\n",
        "/home/mbonse/Git/PynPoint/PynPoint2/io_modules/FitsReading.py:189: UserWarning: Unknown Header \"ESO AOS VIS INS DIAP POSNAM\" key found\n",
        "  warnings.warn('Unknown Header \"%s\" key found' %str(key))\n",
        "/home/mbonse/Git/PynPoint/PynPoint2/io_modules/FitsReading.py:189: UserWarning: Unknown Header \"ESO AOS VIS INS LENS POSNAM\" key found\n",
        "  warnings.warn('Unknown Header \"%s\" key found' %str(key))\n",
        "/home/mbonse/Git/PynPoint/PynPoint2/io_modules/FitsReading.py:174: UserWarning: Static keyword ESO INS PRES-MON PRES1 has changed. Probably the current file NACO.2012-08-25T05:17:10.190.fits does not belong to the data set \"00_raw_data\" of the PynPoint database. Updating Keyword...\n",
        "  % (key, fits_file, self.m_image_tag))\n"
       ]
      },
      {
       "output_type": "stream",
       "stream": "stdout",
       "text": [
        "\n",
        "Reading NACO.2012-08-25T05:17:53.644.fits"
       ]
      },
      {
       "output_type": "stream",
       "stream": "stderr",
       "text": [
        "/home/mbonse/Git/PynPoint/PynPoint2/io_modules/FitsReading.py:174: UserWarning: Static keyword ESO OBS ID has changed. Probably the current file NACO.2012-08-25T05:17:10.190.fits does not belong to the data set \"00_raw_data\" of the PynPoint database. Updating Keyword...\n",
        "  % (key, fits_file, self.m_image_tag))\n",
        "/home/mbonse/Git/PynPoint/PynPoint2/io_modules/FitsReading.py:174: UserWarning: Static keyword ESO TEL TARG PMA has changed. Probably the current file NACO.2012-08-25T05:17:10.190.fits does not belong to the data set \"00_raw_data\" of the PynPoint database. Updating Keyword...\n",
        "  % (key, fits_file, self.m_image_tag))\n",
        "/home/mbonse/Git/PynPoint/PynPoint2/io_modules/FitsReading.py:174: UserWarning: Static keyword ESO TEL TARG PMD has changed. Probably the current file NACO.2012-08-25T05:17:10.190.fits does not belong to the data set \"00_raw_data\" of the PynPoint database. Updating Keyword...\n",
        "  % (key, fits_file, self.m_image_tag))\n",
        "/home/mbonse/Git/PynPoint/PynPoint2/io_modules/FitsReading.py:189: UserWarning: Unknown Header \"ESO AOS VIS DET WFS MODE\" key found\n",
        "  warnings.warn('Unknown Header \"%s\" key found' %str(key))\n"
       ]
      },
      {
       "output_type": "stream",
       "stream": "stderr",
       "text": [
        "/home/mbonse/Git/PynPoint/PynPoint2/io_modules/FitsReading.py:189: UserWarning: Unknown Header \"ESO AOS VIS INS ADC1 POSNAM\" key found\n",
        "  warnings.warn('Unknown Header \"%s\" key found' %str(key))\n",
        "/home/mbonse/Git/PynPoint/PynPoint2/io_modules/FitsReading.py:189: UserWarning: Unknown Header \"ESO AOS VIS INS ADC2 POSNAM\" key found\n",
        "  warnings.warn('Unknown Header \"%s\" key found' %str(key))\n",
        "/home/mbonse/Git/PynPoint/PynPoint2/io_modules/FitsReading.py:189: UserWarning: Unknown Header \"ESO AOS VIS INS DIAP POSNAM\" key found\n",
        "  warnings.warn('Unknown Header \"%s\" key found' %str(key))\n",
        "/home/mbonse/Git/PynPoint/PynPoint2/io_modules/FitsReading.py:189: UserWarning: Unknown Header \"ESO AOS VIS INS LENS POSNAM\" key found\n",
        "  warnings.warn('Unknown Header \"%s\" key found' %str(key))\n",
        "/home/mbonse/Git/PynPoint/PynPoint2/io_modules/FitsReading.py:174: UserWarning: Static keyword ESO INS PRES-MON PRES1 has changed. Probably the current file NACO.2012-08-25T05:17:53.644.fits does not belong to the data set \"00_raw_data\" of the PynPoint database. Updating Keyword...\n",
        "  % (key, fits_file, self.m_image_tag))\n"
       ]
      },
      {
       "output_type": "stream",
       "stream": "stdout",
       "text": [
        "\n",
        "Reading NACO.2012-08-25T05:18:59.627.fits"
       ]
      },
      {
       "output_type": "stream",
       "stream": "stderr",
       "text": [
        "/home/mbonse/Git/PynPoint/PynPoint2/io_modules/FitsReading.py:174: UserWarning: Static keyword ESO OBS ID has changed. Probably the current file NACO.2012-08-25T05:17:53.644.fits does not belong to the data set \"00_raw_data\" of the PynPoint database. Updating Keyword...\n",
        "  % (key, fits_file, self.m_image_tag))\n",
        "/home/mbonse/Git/PynPoint/PynPoint2/io_modules/FitsReading.py:174: UserWarning: Static keyword ESO TEL TARG PMA has changed. Probably the current file NACO.2012-08-25T05:17:53.644.fits does not belong to the data set \"00_raw_data\" of the PynPoint database. Updating Keyword...\n",
        "  % (key, fits_file, self.m_image_tag))\n",
        "/home/mbonse/Git/PynPoint/PynPoint2/io_modules/FitsReading.py:174: UserWarning: Static keyword ESO TEL TARG PMD has changed. Probably the current file NACO.2012-08-25T05:17:53.644.fits does not belong to the data set \"00_raw_data\" of the PynPoint database. Updating Keyword...\n",
        "  % (key, fits_file, self.m_image_tag))\n",
        "/home/mbonse/Git/PynPoint/PynPoint2/io_modules/FitsReading.py:189: UserWarning: Unknown Header \"ESO AOS VIS DET WFS MODE\" key found\n",
        "  warnings.warn('Unknown Header \"%s\" key found' %str(key))\n"
       ]
      },
      {
       "output_type": "stream",
       "stream": "stderr",
       "text": [
        "/home/mbonse/Git/PynPoint/PynPoint2/io_modules/FitsReading.py:189: UserWarning: Unknown Header \"ESO AOS VIS INS ADC1 POSNAM\" key found\n",
        "  warnings.warn('Unknown Header \"%s\" key found' %str(key))\n",
        "/home/mbonse/Git/PynPoint/PynPoint2/io_modules/FitsReading.py:189: UserWarning: Unknown Header \"ESO AOS VIS INS ADC2 POSNAM\" key found\n",
        "  warnings.warn('Unknown Header \"%s\" key found' %str(key))\n",
        "/home/mbonse/Git/PynPoint/PynPoint2/io_modules/FitsReading.py:189: UserWarning: Unknown Header \"ESO AOS VIS INS DIAP POSNAM\" key found\n",
        "  warnings.warn('Unknown Header \"%s\" key found' %str(key))\n",
        "/home/mbonse/Git/PynPoint/PynPoint2/io_modules/FitsReading.py:189: UserWarning: Unknown Header \"ESO AOS VIS INS LENS POSNAM\" key found\n",
        "  warnings.warn('Unknown Header \"%s\" key found' %str(key))\n",
        "/home/mbonse/Git/PynPoint/PynPoint2/io_modules/FitsReading.py:174: UserWarning: Static keyword ESO INS PRES-MON PRES1 has changed. Probably the current file NACO.2012-08-25T05:18:59.627.fits does not belong to the data set \"00_raw_data\" of the PynPoint database. Updating Keyword...\n",
        "  % (key, fits_file, self.m_image_tag))\n"
       ]
      },
      {
       "output_type": "stream",
       "stream": "stdout",
       "text": [
        "\n",
        "Reading NACO.2012-08-25T05:19:43.084.fits"
       ]
      },
      {
       "output_type": "stream",
       "stream": "stderr",
       "text": [
        "/home/mbonse/Git/PynPoint/PynPoint2/io_modules/FitsReading.py:174: UserWarning: Static keyword ESO OBS ID has changed. Probably the current file NACO.2012-08-25T05:18:59.627.fits does not belong to the data set \"00_raw_data\" of the PynPoint database. Updating Keyword...\n",
        "  % (key, fits_file, self.m_image_tag))\n",
        "/home/mbonse/Git/PynPoint/PynPoint2/io_modules/FitsReading.py:174: UserWarning: Static keyword ESO TEL TARG PMA has changed. Probably the current file NACO.2012-08-25T05:18:59.627.fits does not belong to the data set \"00_raw_data\" of the PynPoint database. Updating Keyword...\n",
        "  % (key, fits_file, self.m_image_tag))\n",
        "/home/mbonse/Git/PynPoint/PynPoint2/io_modules/FitsReading.py:174: UserWarning: Static keyword ESO TEL TARG PMD has changed. Probably the current file NACO.2012-08-25T05:18:59.627.fits does not belong to the data set \"00_raw_data\" of the PynPoint database. Updating Keyword...\n",
        "  % (key, fits_file, self.m_image_tag))\n",
        "/home/mbonse/Git/PynPoint/PynPoint2/io_modules/FitsReading.py:189: UserWarning: Unknown Header \"ESO AOS VIS DET WFS MODE\" key found\n",
        "  warnings.warn('Unknown Header \"%s\" key found' %str(key))\n"
       ]
      },
      {
       "output_type": "stream",
       "stream": "stderr",
       "text": [
        "/home/mbonse/Git/PynPoint/PynPoint2/io_modules/FitsReading.py:189: UserWarning: Unknown Header \"ESO AOS VIS INS ADC1 POSNAM\" key found\n",
        "  warnings.warn('Unknown Header \"%s\" key found' %str(key))\n",
        "/home/mbonse/Git/PynPoint/PynPoint2/io_modules/FitsReading.py:189: UserWarning: Unknown Header \"ESO AOS VIS INS ADC2 POSNAM\" key found\n",
        "  warnings.warn('Unknown Header \"%s\" key found' %str(key))\n",
        "/home/mbonse/Git/PynPoint/PynPoint2/io_modules/FitsReading.py:189: UserWarning: Unknown Header \"ESO AOS VIS INS DIAP POSNAM\" key found\n",
        "  warnings.warn('Unknown Header \"%s\" key found' %str(key))\n",
        "/home/mbonse/Git/PynPoint/PynPoint2/io_modules/FitsReading.py:189: UserWarning: Unknown Header \"ESO AOS VIS INS LENS POSNAM\" key found\n",
        "  warnings.warn('Unknown Header \"%s\" key found' %str(key))\n",
        "/home/mbonse/Git/PynPoint/PynPoint2/io_modules/FitsReading.py:174: UserWarning: Static keyword ESO INS PRES-MON PRES1 has changed. Probably the current file NACO.2012-08-25T05:19:43.084.fits does not belong to the data set \"00_raw_data\" of the PynPoint database. Updating Keyword...\n",
        "  % (key, fits_file, self.m_image_tag))\n"
       ]
      },
      {
       "output_type": "stream",
       "stream": "stdout",
       "text": [
        "\n",
        "Reading NACO.2012-08-25T05:20:34.382.fits"
       ]
      },
      {
       "output_type": "stream",
       "stream": "stderr",
       "text": [
        "/home/mbonse/Git/PynPoint/PynPoint2/io_modules/FitsReading.py:174: UserWarning: Static keyword ESO OBS ID has changed. Probably the current file NACO.2012-08-25T05:19:43.084.fits does not belong to the data set \"00_raw_data\" of the PynPoint database. Updating Keyword...\n",
        "  % (key, fits_file, self.m_image_tag))\n",
        "/home/mbonse/Git/PynPoint/PynPoint2/io_modules/FitsReading.py:174: UserWarning: Static keyword ESO TEL TARG PMA has changed. Probably the current file NACO.2012-08-25T05:19:43.084.fits does not belong to the data set \"00_raw_data\" of the PynPoint database. Updating Keyword...\n",
        "  % (key, fits_file, self.m_image_tag))\n",
        "/home/mbonse/Git/PynPoint/PynPoint2/io_modules/FitsReading.py:174: UserWarning: Static keyword ESO TEL TARG PMD has changed. Probably the current file NACO.2012-08-25T05:19:43.084.fits does not belong to the data set \"00_raw_data\" of the PynPoint database. Updating Keyword...\n",
        "  % (key, fits_file, self.m_image_tag))\n",
        "/home/mbonse/Git/PynPoint/PynPoint2/io_modules/FitsReading.py:189: UserWarning: Unknown Header \"ESO AOS VIS DET WFS MODE\" key found\n",
        "  warnings.warn('Unknown Header \"%s\" key found' %str(key))\n"
       ]
      },
      {
       "output_type": "stream",
       "stream": "stderr",
       "text": [
        "/home/mbonse/Git/PynPoint/PynPoint2/io_modules/FitsReading.py:189: UserWarning: Unknown Header \"ESO AOS VIS INS ADC1 POSNAM\" key found\n",
        "  warnings.warn('Unknown Header \"%s\" key found' %str(key))\n",
        "/home/mbonse/Git/PynPoint/PynPoint2/io_modules/FitsReading.py:189: UserWarning: Unknown Header \"ESO AOS VIS INS ADC2 POSNAM\" key found\n",
        "  warnings.warn('Unknown Header \"%s\" key found' %str(key))\n",
        "/home/mbonse/Git/PynPoint/PynPoint2/io_modules/FitsReading.py:189: UserWarning: Unknown Header \"ESO AOS VIS INS DIAP POSNAM\" key found\n",
        "  warnings.warn('Unknown Header \"%s\" key found' %str(key))\n",
        "/home/mbonse/Git/PynPoint/PynPoint2/io_modules/FitsReading.py:189: UserWarning: Unknown Header \"ESO AOS VIS INS LENS POSNAM\" key found\n",
        "  warnings.warn('Unknown Header \"%s\" key found' %str(key))\n",
        "/home/mbonse/Git/PynPoint/PynPoint2/io_modules/FitsReading.py:174: UserWarning: Static keyword ESO INS PRES-MON PRES1 has changed. Probably the current file NACO.2012-08-25T05:20:34.382.fits does not belong to the data set \"00_raw_data\" of the PynPoint database. Updating Keyword...\n",
        "  % (key, fits_file, self.m_image_tag))\n"
       ]
      },
      {
       "output_type": "stream",
       "stream": "stdout",
       "text": [
        "\n",
        "Reading NACO.2012-08-25T05:21:17.836.fits"
       ]
      },
      {
       "output_type": "stream",
       "stream": "stderr",
       "text": [
        "/home/mbonse/Git/PynPoint/PynPoint2/io_modules/FitsReading.py:174: UserWarning: Static keyword ESO OBS ID has changed. Probably the current file NACO.2012-08-25T05:20:34.382.fits does not belong to the data set \"00_raw_data\" of the PynPoint database. Updating Keyword...\n",
        "  % (key, fits_file, self.m_image_tag))\n",
        "/home/mbonse/Git/PynPoint/PynPoint2/io_modules/FitsReading.py:174: UserWarning: Static keyword ESO TEL TARG PMA has changed. Probably the current file NACO.2012-08-25T05:20:34.382.fits does not belong to the data set \"00_raw_data\" of the PynPoint database. Updating Keyword...\n",
        "  % (key, fits_file, self.m_image_tag))\n",
        "/home/mbonse/Git/PynPoint/PynPoint2/io_modules/FitsReading.py:174: UserWarning: Static keyword ESO TEL TARG PMD has changed. Probably the current file NACO.2012-08-25T05:20:34.382.fits does not belong to the data set \"00_raw_data\" of the PynPoint database. Updating Keyword...\n",
        "  % (key, fits_file, self.m_image_tag))\n",
        "/home/mbonse/Git/PynPoint/PynPoint2/io_modules/FitsReading.py:189: UserWarning: Unknown Header \"ESO AOS VIS DET WFS MODE\" key found\n",
        "  warnings.warn('Unknown Header \"%s\" key found' %str(key))\n"
       ]
      },
      {
       "output_type": "stream",
       "stream": "stderr",
       "text": [
        "/home/mbonse/Git/PynPoint/PynPoint2/io_modules/FitsReading.py:189: UserWarning: Unknown Header \"ESO AOS VIS INS ADC1 POSNAM\" key found\n",
        "  warnings.warn('Unknown Header \"%s\" key found' %str(key))\n",
        "/home/mbonse/Git/PynPoint/PynPoint2/io_modules/FitsReading.py:189: UserWarning: Unknown Header \"ESO AOS VIS INS ADC2 POSNAM\" key found\n",
        "  warnings.warn('Unknown Header \"%s\" key found' %str(key))\n",
        "/home/mbonse/Git/PynPoint/PynPoint2/io_modules/FitsReading.py:189: UserWarning: Unknown Header \"ESO AOS VIS INS DIAP POSNAM\" key found\n",
        "  warnings.warn('Unknown Header \"%s\" key found' %str(key))\n",
        "/home/mbonse/Git/PynPoint/PynPoint2/io_modules/FitsReading.py:189: UserWarning: Unknown Header \"ESO AOS VIS INS LENS POSNAM\" key found\n",
        "  warnings.warn('Unknown Header \"%s\" key found' %str(key))\n",
        "/home/mbonse/Git/PynPoint/PynPoint2/io_modules/FitsReading.py:174: UserWarning: Static keyword ESO INS PRES-MON PRES1 has changed. Probably the current file NACO.2012-08-25T05:21:17.836.fits does not belong to the data set \"00_raw_data\" of the PynPoint database. Updating Keyword...\n",
        "  % (key, fits_file, self.m_image_tag))\n"
       ]
      },
      {
       "output_type": "stream",
       "stream": "stdout",
       "text": [
        "\n",
        "Reading NACO.2012-08-25T05:22:11.087.fits"
       ]
      },
      {
       "output_type": "stream",
       "stream": "stderr",
       "text": [
        "/home/mbonse/Git/PynPoint/PynPoint2/io_modules/FitsReading.py:174: UserWarning: Static keyword ESO OBS ID has changed. Probably the current file NACO.2012-08-25T05:21:17.836.fits does not belong to the data set \"00_raw_data\" of the PynPoint database. Updating Keyword...\n",
        "  % (key, fits_file, self.m_image_tag))\n",
        "/home/mbonse/Git/PynPoint/PynPoint2/io_modules/FitsReading.py:174: UserWarning: Static keyword ESO TEL TARG PMA has changed. Probably the current file NACO.2012-08-25T05:21:17.836.fits does not belong to the data set \"00_raw_data\" of the PynPoint database. Updating Keyword...\n",
        "  % (key, fits_file, self.m_image_tag))\n",
        "/home/mbonse/Git/PynPoint/PynPoint2/io_modules/FitsReading.py:174: UserWarning: Static keyword ESO TEL TARG PMD has changed. Probably the current file NACO.2012-08-25T05:21:17.836.fits does not belong to the data set \"00_raw_data\" of the PynPoint database. Updating Keyword...\n",
        "  % (key, fits_file, self.m_image_tag))\n",
        "/home/mbonse/Git/PynPoint/PynPoint2/io_modules/FitsReading.py:189: UserWarning: Unknown Header \"ESO AOS VIS DET WFS MODE\" key found\n",
        "  warnings.warn('Unknown Header \"%s\" key found' %str(key))\n"
       ]
      },
      {
       "output_type": "stream",
       "stream": "stderr",
       "text": [
        "/home/mbonse/Git/PynPoint/PynPoint2/io_modules/FitsReading.py:189: UserWarning: Unknown Header \"ESO AOS VIS INS ADC1 POSNAM\" key found\n",
        "  warnings.warn('Unknown Header \"%s\" key found' %str(key))\n",
        "/home/mbonse/Git/PynPoint/PynPoint2/io_modules/FitsReading.py:189: UserWarning: Unknown Header \"ESO AOS VIS INS ADC2 POSNAM\" key found\n",
        "  warnings.warn('Unknown Header \"%s\" key found' %str(key))\n",
        "/home/mbonse/Git/PynPoint/PynPoint2/io_modules/FitsReading.py:189: UserWarning: Unknown Header \"ESO AOS VIS INS DIAP POSNAM\" key found\n",
        "  warnings.warn('Unknown Header \"%s\" key found' %str(key))\n",
        "/home/mbonse/Git/PynPoint/PynPoint2/io_modules/FitsReading.py:189: UserWarning: Unknown Header \"ESO AOS VIS INS LENS POSNAM\" key found\n",
        "  warnings.warn('Unknown Header \"%s\" key found' %str(key))\n",
        "/home/mbonse/Git/PynPoint/PynPoint2/io_modules/FitsReading.py:174: UserWarning: Static keyword ESO INS PRES-MON PRES1 has changed. Probably the current file NACO.2012-08-25T05:22:11.087.fits does not belong to the data set \"00_raw_data\" of the PynPoint database. Updating Keyword...\n",
        "  % (key, fits_file, self.m_image_tag))\n"
       ]
      },
      {
       "output_type": "stream",
       "stream": "stdout",
       "text": [
        "\n",
        "Reading NACO.2012-08-25T05:22:54.581.fits"
       ]
      },
      {
       "output_type": "stream",
       "stream": "stderr",
       "text": [
        "/home/mbonse/Git/PynPoint/PynPoint2/io_modules/FitsReading.py:174: UserWarning: Static keyword ESO OBS ID has changed. Probably the current file NACO.2012-08-25T05:22:11.087.fits does not belong to the data set \"00_raw_data\" of the PynPoint database. Updating Keyword...\n",
        "  % (key, fits_file, self.m_image_tag))\n",
        "/home/mbonse/Git/PynPoint/PynPoint2/io_modules/FitsReading.py:174: UserWarning: Static keyword ESO TEL TARG PMA has changed. Probably the current file NACO.2012-08-25T05:22:11.087.fits does not belong to the data set \"00_raw_data\" of the PynPoint database. Updating Keyword...\n",
        "  % (key, fits_file, self.m_image_tag))\n",
        "/home/mbonse/Git/PynPoint/PynPoint2/io_modules/FitsReading.py:174: UserWarning: Static keyword ESO TEL TARG PMD has changed. Probably the current file NACO.2012-08-25T05:22:11.087.fits does not belong to the data set \"00_raw_data\" of the PynPoint database. Updating Keyword...\n",
        "  % (key, fits_file, self.m_image_tag))\n",
        "/home/mbonse/Git/PynPoint/PynPoint2/io_modules/FitsReading.py:189: UserWarning: Unknown Header \"ESO AOS VIS DET WFS MODE\" key found\n",
        "  warnings.warn('Unknown Header \"%s\" key found' %str(key))\n"
       ]
      },
      {
       "output_type": "stream",
       "stream": "stderr",
       "text": [
        "/home/mbonse/Git/PynPoint/PynPoint2/io_modules/FitsReading.py:189: UserWarning: Unknown Header \"ESO AOS VIS INS ADC1 POSNAM\" key found\n",
        "  warnings.warn('Unknown Header \"%s\" key found' %str(key))\n",
        "/home/mbonse/Git/PynPoint/PynPoint2/io_modules/FitsReading.py:189: UserWarning: Unknown Header \"ESO AOS VIS INS ADC2 POSNAM\" key found\n",
        "  warnings.warn('Unknown Header \"%s\" key found' %str(key))\n",
        "/home/mbonse/Git/PynPoint/PynPoint2/io_modules/FitsReading.py:189: UserWarning: Unknown Header \"ESO AOS VIS INS DIAP POSNAM\" key found\n",
        "  warnings.warn('Unknown Header \"%s\" key found' %str(key))\n",
        "/home/mbonse/Git/PynPoint/PynPoint2/io_modules/FitsReading.py:189: UserWarning: Unknown Header \"ESO AOS VIS INS LENS POSNAM\" key found\n",
        "  warnings.warn('Unknown Header \"%s\" key found' %str(key))\n",
        "/home/mbonse/Git/PynPoint/PynPoint2/io_modules/FitsReading.py:174: UserWarning: Static keyword ESO INS PRES-MON PRES1 has changed. Probably the current file NACO.2012-08-25T05:22:54.581.fits does not belong to the data set \"00_raw_data\" of the PynPoint database. Updating Keyword...\n",
        "  % (key, fits_file, self.m_image_tag))\n"
       ]
      },
      {
       "output_type": "stream",
       "stream": "stdout",
       "text": [
        "\n",
        "Reading NACO.2012-08-25T05:23:45.670.fits"
       ]
      },
      {
       "output_type": "stream",
       "stream": "stderr",
       "text": [
        "/home/mbonse/Git/PynPoint/PynPoint2/io_modules/FitsReading.py:174: UserWarning: Static keyword ESO OBS ID has changed. Probably the current file NACO.2012-08-25T05:22:54.581.fits does not belong to the data set \"00_raw_data\" of the PynPoint database. Updating Keyword...\n",
        "  % (key, fits_file, self.m_image_tag))\n",
        "/home/mbonse/Git/PynPoint/PynPoint2/io_modules/FitsReading.py:174: UserWarning: Static keyword ESO TEL TARG PMA has changed. Probably the current file NACO.2012-08-25T05:22:54.581.fits does not belong to the data set \"00_raw_data\" of the PynPoint database. Updating Keyword...\n",
        "  % (key, fits_file, self.m_image_tag))\n",
        "/home/mbonse/Git/PynPoint/PynPoint2/io_modules/FitsReading.py:174: UserWarning: Static keyword ESO TEL TARG PMD has changed. Probably the current file NACO.2012-08-25T05:22:54.581.fits does not belong to the data set \"00_raw_data\" of the PynPoint database. Updating Keyword...\n",
        "  % (key, fits_file, self.m_image_tag))\n",
        "/home/mbonse/Git/PynPoint/PynPoint2/io_modules/FitsReading.py:189: UserWarning: Unknown Header \"ESO AOS VIS DET WFS MODE\" key found\n",
        "  warnings.warn('Unknown Header \"%s\" key found' %str(key))\n"
       ]
      },
      {
       "output_type": "stream",
       "stream": "stderr",
       "text": [
        "/home/mbonse/Git/PynPoint/PynPoint2/io_modules/FitsReading.py:189: UserWarning: Unknown Header \"ESO AOS VIS INS ADC1 POSNAM\" key found\n",
        "  warnings.warn('Unknown Header \"%s\" key found' %str(key))\n",
        "/home/mbonse/Git/PynPoint/PynPoint2/io_modules/FitsReading.py:189: UserWarning: Unknown Header \"ESO AOS VIS INS ADC2 POSNAM\" key found\n",
        "  warnings.warn('Unknown Header \"%s\" key found' %str(key))\n",
        "/home/mbonse/Git/PynPoint/PynPoint2/io_modules/FitsReading.py:189: UserWarning: Unknown Header \"ESO AOS VIS INS DIAP POSNAM\" key found\n",
        "  warnings.warn('Unknown Header \"%s\" key found' %str(key))\n",
        "/home/mbonse/Git/PynPoint/PynPoint2/io_modules/FitsReading.py:189: UserWarning: Unknown Header \"ESO AOS VIS INS LENS POSNAM\" key found\n",
        "  warnings.warn('Unknown Header \"%s\" key found' %str(key))\n",
        "/home/mbonse/Git/PynPoint/PynPoint2/io_modules/FitsReading.py:174: UserWarning: Static keyword ESO INS PRES-MON PRES1 has changed. Probably the current file NACO.2012-08-25T05:23:45.670.fits does not belong to the data set \"00_raw_data\" of the PynPoint database. Updating Keyword...\n",
        "  % (key, fits_file, self.m_image_tag))\n"
       ]
      },
      {
       "output_type": "stream",
       "stream": "stdout",
       "text": [
        "\n",
        "Reading NACO.2012-08-25T05:24:29.125.fits"
       ]
      },
      {
       "output_type": "stream",
       "stream": "stderr",
       "text": [
        "/home/mbonse/Git/PynPoint/PynPoint2/io_modules/FitsReading.py:174: UserWarning: Static keyword ESO OBS ID has changed. Probably the current file NACO.2012-08-25T05:23:45.670.fits does not belong to the data set \"00_raw_data\" of the PynPoint database. Updating Keyword...\n",
        "  % (key, fits_file, self.m_image_tag))\n",
        "/home/mbonse/Git/PynPoint/PynPoint2/io_modules/FitsReading.py:174: UserWarning: Static keyword ESO TEL TARG PMA has changed. Probably the current file NACO.2012-08-25T05:23:45.670.fits does not belong to the data set \"00_raw_data\" of the PynPoint database. Updating Keyword...\n",
        "  % (key, fits_file, self.m_image_tag))\n",
        "/home/mbonse/Git/PynPoint/PynPoint2/io_modules/FitsReading.py:174: UserWarning: Static keyword ESO TEL TARG PMD has changed. Probably the current file NACO.2012-08-25T05:23:45.670.fits does not belong to the data set \"00_raw_data\" of the PynPoint database. Updating Keyword...\n",
        "  % (key, fits_file, self.m_image_tag))\n",
        "/home/mbonse/Git/PynPoint/PynPoint2/io_modules/FitsReading.py:189: UserWarning: Unknown Header \"ESO AOS VIS DET WFS MODE\" key found\n",
        "  warnings.warn('Unknown Header \"%s\" key found' %str(key))\n"
       ]
      },
      {
       "output_type": "stream",
       "stream": "stderr",
       "text": [
        "/home/mbonse/Git/PynPoint/PynPoint2/io_modules/FitsReading.py:189: UserWarning: Unknown Header \"ESO AOS VIS INS ADC1 POSNAM\" key found\n",
        "  warnings.warn('Unknown Header \"%s\" key found' %str(key))\n",
        "/home/mbonse/Git/PynPoint/PynPoint2/io_modules/FitsReading.py:189: UserWarning: Unknown Header \"ESO AOS VIS INS ADC2 POSNAM\" key found\n",
        "  warnings.warn('Unknown Header \"%s\" key found' %str(key))\n",
        "/home/mbonse/Git/PynPoint/PynPoint2/io_modules/FitsReading.py:189: UserWarning: Unknown Header \"ESO AOS VIS INS DIAP POSNAM\" key found\n",
        "  warnings.warn('Unknown Header \"%s\" key found' %str(key))\n",
        "/home/mbonse/Git/PynPoint/PynPoint2/io_modules/FitsReading.py:189: UserWarning: Unknown Header \"ESO AOS VIS INS LENS POSNAM\" key found\n",
        "  warnings.warn('Unknown Header \"%s\" key found' %str(key))\n",
        "/home/mbonse/Git/PynPoint/PynPoint2/io_modules/FitsReading.py:174: UserWarning: Static keyword ESO INS PRES-MON PRES1 has changed. Probably the current file NACO.2012-08-25T05:24:29.125.fits does not belong to the data set \"00_raw_data\" of the PynPoint database. Updating Keyword...\n",
        "  % (key, fits_file, self.m_image_tag))\n"
       ]
      },
      {
       "output_type": "stream",
       "stream": "stdout",
       "text": [
        "\n",
        "Reading NACO.2012-08-25T05:25:36.717.fits"
       ]
      },
      {
       "output_type": "stream",
       "stream": "stderr",
       "text": [
        "/home/mbonse/Git/PynPoint/PynPoint2/io_modules/FitsReading.py:174: UserWarning: Static keyword ESO OBS ID has changed. Probably the current file NACO.2012-08-25T05:24:29.125.fits does not belong to the data set \"00_raw_data\" of the PynPoint database. Updating Keyword...\n",
        "  % (key, fits_file, self.m_image_tag))\n",
        "/home/mbonse/Git/PynPoint/PynPoint2/io_modules/FitsReading.py:174: UserWarning: Static keyword ESO TEL TARG PMA has changed. Probably the current file NACO.2012-08-25T05:24:29.125.fits does not belong to the data set \"00_raw_data\" of the PynPoint database. Updating Keyword...\n",
        "  % (key, fits_file, self.m_image_tag))\n",
        "/home/mbonse/Git/PynPoint/PynPoint2/io_modules/FitsReading.py:174: UserWarning: Static keyword ESO TEL TARG PMD has changed. Probably the current file NACO.2012-08-25T05:24:29.125.fits does not belong to the data set \"00_raw_data\" of the PynPoint database. Updating Keyword...\n",
        "  % (key, fits_file, self.m_image_tag))\n",
        "/home/mbonse/Git/PynPoint/PynPoint2/io_modules/FitsReading.py:189: UserWarning: Unknown Header \"ESO AOS VIS DET WFS MODE\" key found\n",
        "  warnings.warn('Unknown Header \"%s\" key found' %str(key))\n"
       ]
      },
      {
       "output_type": "stream",
       "stream": "stderr",
       "text": [
        "/home/mbonse/Git/PynPoint/PynPoint2/io_modules/FitsReading.py:189: UserWarning: Unknown Header \"ESO AOS VIS INS ADC1 POSNAM\" key found\n",
        "  warnings.warn('Unknown Header \"%s\" key found' %str(key))\n",
        "/home/mbonse/Git/PynPoint/PynPoint2/io_modules/FitsReading.py:189: UserWarning: Unknown Header \"ESO AOS VIS INS ADC2 POSNAM\" key found\n",
        "  warnings.warn('Unknown Header \"%s\" key found' %str(key))\n",
        "/home/mbonse/Git/PynPoint/PynPoint2/io_modules/FitsReading.py:189: UserWarning: Unknown Header \"ESO AOS VIS INS DIAP POSNAM\" key found\n",
        "  warnings.warn('Unknown Header \"%s\" key found' %str(key))\n",
        "/home/mbonse/Git/PynPoint/PynPoint2/io_modules/FitsReading.py:189: UserWarning: Unknown Header \"ESO AOS VIS INS LENS POSNAM\" key found\n",
        "  warnings.warn('Unknown Header \"%s\" key found' %str(key))\n",
        "/home/mbonse/Git/PynPoint/PynPoint2/io_modules/FitsReading.py:174: UserWarning: Static keyword ESO INS PRES-MON PRES1 has changed. Probably the current file NACO.2012-08-25T05:25:36.717.fits does not belong to the data set \"00_raw_data\" of the PynPoint database. Updating Keyword...\n",
        "  % (key, fits_file, self.m_image_tag))\n"
       ]
      },
      {
       "output_type": "stream",
       "stream": "stdout",
       "text": [
        "\n",
        "Reading NACO.2012-08-25T05:26:20.172.fits"
       ]
      },
      {
       "output_type": "stream",
       "stream": "stderr",
       "text": [
        "/home/mbonse/Git/PynPoint/PynPoint2/io_modules/FitsReading.py:174: UserWarning: Static keyword ESO OBS ID has changed. Probably the current file NACO.2012-08-25T05:25:36.717.fits does not belong to the data set \"00_raw_data\" of the PynPoint database. Updating Keyword...\n",
        "  % (key, fits_file, self.m_image_tag))\n",
        "/home/mbonse/Git/PynPoint/PynPoint2/io_modules/FitsReading.py:174: UserWarning: Static keyword ESO TEL TARG PMA has changed. Probably the current file NACO.2012-08-25T05:25:36.717.fits does not belong to the data set \"00_raw_data\" of the PynPoint database. Updating Keyword...\n",
        "  % (key, fits_file, self.m_image_tag))\n",
        "/home/mbonse/Git/PynPoint/PynPoint2/io_modules/FitsReading.py:174: UserWarning: Static keyword ESO TEL TARG PMD has changed. Probably the current file NACO.2012-08-25T05:25:36.717.fits does not belong to the data set \"00_raw_data\" of the PynPoint database. Updating Keyword...\n",
        "  % (key, fits_file, self.m_image_tag))\n",
        "/home/mbonse/Git/PynPoint/PynPoint2/io_modules/FitsReading.py:189: UserWarning: Unknown Header \"ESO AOS VIS DET WFS MODE\" key found\n",
        "  warnings.warn('Unknown Header \"%s\" key found' %str(key))\n"
       ]
      },
      {
       "output_type": "stream",
       "stream": "stderr",
       "text": [
        "/home/mbonse/Git/PynPoint/PynPoint2/io_modules/FitsReading.py:189: UserWarning: Unknown Header \"ESO AOS VIS INS ADC1 POSNAM\" key found\n",
        "  warnings.warn('Unknown Header \"%s\" key found' %str(key))\n",
        "/home/mbonse/Git/PynPoint/PynPoint2/io_modules/FitsReading.py:189: UserWarning: Unknown Header \"ESO AOS VIS INS ADC2 POSNAM\" key found\n",
        "  warnings.warn('Unknown Header \"%s\" key found' %str(key))\n",
        "/home/mbonse/Git/PynPoint/PynPoint2/io_modules/FitsReading.py:189: UserWarning: Unknown Header \"ESO AOS VIS INS DIAP POSNAM\" key found\n",
        "  warnings.warn('Unknown Header \"%s\" key found' %str(key))\n",
        "/home/mbonse/Git/PynPoint/PynPoint2/io_modules/FitsReading.py:189: UserWarning: Unknown Header \"ESO AOS VIS INS LENS POSNAM\" key found\n",
        "  warnings.warn('Unknown Header \"%s\" key found' %str(key))\n",
        "/home/mbonse/Git/PynPoint/PynPoint2/io_modules/FitsReading.py:174: UserWarning: Static keyword ESO INS PRES-MON PRES1 has changed. Probably the current file NACO.2012-08-25T05:26:20.172.fits does not belong to the data set \"00_raw_data\" of the PynPoint database. Updating Keyword...\n",
        "  % (key, fits_file, self.m_image_tag))\n"
       ]
      },
      {
       "output_type": "stream",
       "stream": "stdout",
       "text": [
        "\n",
        "Reading NACO.2012-08-25T05:27:11.627.fits"
       ]
      },
      {
       "output_type": "stream",
       "stream": "stderr",
       "text": [
        "/home/mbonse/Git/PynPoint/PynPoint2/io_modules/FitsReading.py:174: UserWarning: Static keyword ESO OBS ID has changed. Probably the current file NACO.2012-08-25T05:26:20.172.fits does not belong to the data set \"00_raw_data\" of the PynPoint database. Updating Keyword...\n",
        "  % (key, fits_file, self.m_image_tag))\n",
        "/home/mbonse/Git/PynPoint/PynPoint2/io_modules/FitsReading.py:174: UserWarning: Static keyword ESO TEL TARG PMA has changed. Probably the current file NACO.2012-08-25T05:26:20.172.fits does not belong to the data set \"00_raw_data\" of the PynPoint database. Updating Keyword...\n",
        "  % (key, fits_file, self.m_image_tag))\n",
        "/home/mbonse/Git/PynPoint/PynPoint2/io_modules/FitsReading.py:174: UserWarning: Static keyword ESO TEL TARG PMD has changed. Probably the current file NACO.2012-08-25T05:26:20.172.fits does not belong to the data set \"00_raw_data\" of the PynPoint database. Updating Keyword...\n",
        "  % (key, fits_file, self.m_image_tag))\n",
        "/home/mbonse/Git/PynPoint/PynPoint2/io_modules/FitsReading.py:189: UserWarning: Unknown Header \"ESO AOS VIS DET WFS MODE\" key found\n",
        "  warnings.warn('Unknown Header \"%s\" key found' %str(key))\n"
       ]
      },
      {
       "output_type": "stream",
       "stream": "stderr",
       "text": [
        "/home/mbonse/Git/PynPoint/PynPoint2/io_modules/FitsReading.py:189: UserWarning: Unknown Header \"ESO AOS VIS INS ADC1 POSNAM\" key found\n",
        "  warnings.warn('Unknown Header \"%s\" key found' %str(key))\n",
        "/home/mbonse/Git/PynPoint/PynPoint2/io_modules/FitsReading.py:189: UserWarning: Unknown Header \"ESO AOS VIS INS ADC2 POSNAM\" key found\n",
        "  warnings.warn('Unknown Header \"%s\" key found' %str(key))\n",
        "/home/mbonse/Git/PynPoint/PynPoint2/io_modules/FitsReading.py:189: UserWarning: Unknown Header \"ESO AOS VIS INS DIAP POSNAM\" key found\n",
        "  warnings.warn('Unknown Header \"%s\" key found' %str(key))\n",
        "/home/mbonse/Git/PynPoint/PynPoint2/io_modules/FitsReading.py:189: UserWarning: Unknown Header \"ESO AOS VIS INS LENS POSNAM\" key found\n",
        "  warnings.warn('Unknown Header \"%s\" key found' %str(key))\n",
        "/home/mbonse/Git/PynPoint/PynPoint2/io_modules/FitsReading.py:174: UserWarning: Static keyword ESO INS PRES-MON PRES1 has changed. Probably the current file NACO.2012-08-25T05:27:11.627.fits does not belong to the data set \"00_raw_data\" of the PynPoint database. Updating Keyword...\n",
        "  % (key, fits_file, self.m_image_tag))\n"
       ]
      },
      {
       "output_type": "stream",
       "stream": "stdout",
       "text": [
        "\n",
        "Reading NACO.2012-08-25T05:27:55.281.fits"
       ]
      },
      {
       "output_type": "stream",
       "stream": "stderr",
       "text": [
        "/home/mbonse/Git/PynPoint/PynPoint2/io_modules/FitsReading.py:174: UserWarning: Static keyword ESO OBS ID has changed. Probably the current file NACO.2012-08-25T05:27:11.627.fits does not belong to the data set \"00_raw_data\" of the PynPoint database. Updating Keyword...\n",
        "  % (key, fits_file, self.m_image_tag))\n",
        "/home/mbonse/Git/PynPoint/PynPoint2/io_modules/FitsReading.py:174: UserWarning: Static keyword ESO TEL TARG PMA has changed. Probably the current file NACO.2012-08-25T05:27:11.627.fits does not belong to the data set \"00_raw_data\" of the PynPoint database. Updating Keyword...\n",
        "  % (key, fits_file, self.m_image_tag))\n",
        "/home/mbonse/Git/PynPoint/PynPoint2/io_modules/FitsReading.py:174: UserWarning: Static keyword ESO TEL TARG PMD has changed. Probably the current file NACO.2012-08-25T05:27:11.627.fits does not belong to the data set \"00_raw_data\" of the PynPoint database. Updating Keyword...\n",
        "  % (key, fits_file, self.m_image_tag))\n",
        "/home/mbonse/Git/PynPoint/PynPoint2/io_modules/FitsReading.py:189: UserWarning: Unknown Header \"ESO AOS VIS DET WFS MODE\" key found\n",
        "  warnings.warn('Unknown Header \"%s\" key found' %str(key))\n"
       ]
      },
      {
       "output_type": "stream",
       "stream": "stderr",
       "text": [
        "/home/mbonse/Git/PynPoint/PynPoint2/io_modules/FitsReading.py:189: UserWarning: Unknown Header \"ESO AOS VIS INS ADC1 POSNAM\" key found\n",
        "  warnings.warn('Unknown Header \"%s\" key found' %str(key))\n",
        "/home/mbonse/Git/PynPoint/PynPoint2/io_modules/FitsReading.py:189: UserWarning: Unknown Header \"ESO AOS VIS INS ADC2 POSNAM\" key found\n",
        "  warnings.warn('Unknown Header \"%s\" key found' %str(key))\n",
        "/home/mbonse/Git/PynPoint/PynPoint2/io_modules/FitsReading.py:189: UserWarning: Unknown Header \"ESO AOS VIS INS DIAP POSNAM\" key found\n",
        "  warnings.warn('Unknown Header \"%s\" key found' %str(key))\n",
        "/home/mbonse/Git/PynPoint/PynPoint2/io_modules/FitsReading.py:189: UserWarning: Unknown Header \"ESO AOS VIS INS LENS POSNAM\" key found\n",
        "  warnings.warn('Unknown Header \"%s\" key found' %str(key))\n",
        "/home/mbonse/Git/PynPoint/PynPoint2/io_modules/FitsReading.py:174: UserWarning: Static keyword ESO INS PRES-MON PRES1 has changed. Probably the current file NACO.2012-08-25T05:27:55.281.fits does not belong to the data set \"00_raw_data\" of the PynPoint database. Updating Keyword...\n",
        "  % (key, fits_file, self.m_image_tag))\n"
       ]
      },
      {
       "output_type": "stream",
       "stream": "stdout",
       "text": [
        "\n",
        "Reading NACO.2012-08-25T05:28:46.743.fits"
       ]
      },
      {
       "output_type": "stream",
       "stream": "stderr",
       "text": [
        "/home/mbonse/Git/PynPoint/PynPoint2/io_modules/FitsReading.py:174: UserWarning: Static keyword ESO OBS ID has changed. Probably the current file NACO.2012-08-25T05:27:55.281.fits does not belong to the data set \"00_raw_data\" of the PynPoint database. Updating Keyword...\n",
        "  % (key, fits_file, self.m_image_tag))\n",
        "/home/mbonse/Git/PynPoint/PynPoint2/io_modules/FitsReading.py:174: UserWarning: Static keyword ESO TEL TARG PMA has changed. Probably the current file NACO.2012-08-25T05:27:55.281.fits does not belong to the data set \"00_raw_data\" of the PynPoint database. Updating Keyword...\n",
        "  % (key, fits_file, self.m_image_tag))\n",
        "/home/mbonse/Git/PynPoint/PynPoint2/io_modules/FitsReading.py:174: UserWarning: Static keyword ESO TEL TARG PMD has changed. Probably the current file NACO.2012-08-25T05:27:55.281.fits does not belong to the data set \"00_raw_data\" of the PynPoint database. Updating Keyword...\n",
        "  % (key, fits_file, self.m_image_tag))\n",
        "/home/mbonse/Git/PynPoint/PynPoint2/io_modules/FitsReading.py:189: UserWarning: Unknown Header \"ESO AOS VIS DET WFS MODE\" key found\n",
        "  warnings.warn('Unknown Header \"%s\" key found' %str(key))\n"
       ]
      },
      {
       "output_type": "stream",
       "stream": "stderr",
       "text": [
        "/home/mbonse/Git/PynPoint/PynPoint2/io_modules/FitsReading.py:189: UserWarning: Unknown Header \"ESO AOS VIS INS ADC1 POSNAM\" key found\n",
        "  warnings.warn('Unknown Header \"%s\" key found' %str(key))\n",
        "/home/mbonse/Git/PynPoint/PynPoint2/io_modules/FitsReading.py:189: UserWarning: Unknown Header \"ESO AOS VIS INS ADC2 POSNAM\" key found\n",
        "  warnings.warn('Unknown Header \"%s\" key found' %str(key))\n",
        "/home/mbonse/Git/PynPoint/PynPoint2/io_modules/FitsReading.py:189: UserWarning: Unknown Header \"ESO AOS VIS INS DIAP POSNAM\" key found\n",
        "  warnings.warn('Unknown Header \"%s\" key found' %str(key))\n",
        "/home/mbonse/Git/PynPoint/PynPoint2/io_modules/FitsReading.py:189: UserWarning: Unknown Header \"ESO AOS VIS INS LENS POSNAM\" key found\n",
        "  warnings.warn('Unknown Header \"%s\" key found' %str(key))\n",
        "/home/mbonse/Git/PynPoint/PynPoint2/io_modules/FitsReading.py:174: UserWarning: Static keyword ESO INS PRES-MON PRES1 has changed. Probably the current file NACO.2012-08-25T05:28:46.743.fits does not belong to the data set \"00_raw_data\" of the PynPoint database. Updating Keyword...\n",
        "  % (key, fits_file, self.m_image_tag))\n"
       ]
      },
      {
       "output_type": "stream",
       "stream": "stdout",
       "text": [
        "\n",
        "Reading NACO.2012-08-25T05:29:30.283.fits"
       ]
      },
      {
       "output_type": "stream",
       "stream": "stderr",
       "text": [
        "/home/mbonse/Git/PynPoint/PynPoint2/io_modules/FitsReading.py:174: UserWarning: Static keyword ESO OBS ID has changed. Probably the current file NACO.2012-08-25T05:28:46.743.fits does not belong to the data set \"00_raw_data\" of the PynPoint database. Updating Keyword...\n",
        "  % (key, fits_file, self.m_image_tag))\n",
        "/home/mbonse/Git/PynPoint/PynPoint2/io_modules/FitsReading.py:174: UserWarning: Static keyword ESO TEL TARG PMA has changed. Probably the current file NACO.2012-08-25T05:28:46.743.fits does not belong to the data set \"00_raw_data\" of the PynPoint database. Updating Keyword...\n",
        "  % (key, fits_file, self.m_image_tag))\n",
        "/home/mbonse/Git/PynPoint/PynPoint2/io_modules/FitsReading.py:174: UserWarning: Static keyword ESO TEL TARG PMD has changed. Probably the current file NACO.2012-08-25T05:28:46.743.fits does not belong to the data set \"00_raw_data\" of the PynPoint database. Updating Keyword...\n",
        "  % (key, fits_file, self.m_image_tag))\n",
        "/home/mbonse/Git/PynPoint/PynPoint2/io_modules/FitsReading.py:189: UserWarning: Unknown Header \"ESO AOS VIS DET WFS MODE\" key found\n",
        "  warnings.warn('Unknown Header \"%s\" key found' %str(key))\n"
       ]
      },
      {
       "output_type": "stream",
       "stream": "stderr",
       "text": [
        "/home/mbonse/Git/PynPoint/PynPoint2/io_modules/FitsReading.py:189: UserWarning: Unknown Header \"ESO AOS VIS INS ADC1 POSNAM\" key found\n",
        "  warnings.warn('Unknown Header \"%s\" key found' %str(key))\n",
        "/home/mbonse/Git/PynPoint/PynPoint2/io_modules/FitsReading.py:189: UserWarning: Unknown Header \"ESO AOS VIS INS ADC2 POSNAM\" key found\n",
        "  warnings.warn('Unknown Header \"%s\" key found' %str(key))\n",
        "/home/mbonse/Git/PynPoint/PynPoint2/io_modules/FitsReading.py:189: UserWarning: Unknown Header \"ESO AOS VIS INS DIAP POSNAM\" key found\n",
        "  warnings.warn('Unknown Header \"%s\" key found' %str(key))\n",
        "/home/mbonse/Git/PynPoint/PynPoint2/io_modules/FitsReading.py:189: UserWarning: Unknown Header \"ESO AOS VIS INS LENS POSNAM\" key found\n",
        "  warnings.warn('Unknown Header \"%s\" key found' %str(key))\n",
        "/home/mbonse/Git/PynPoint/PynPoint2/io_modules/FitsReading.py:174: UserWarning: Static keyword ESO INS PRES-MON PRES1 has changed. Probably the current file NACO.2012-08-25T05:29:30.283.fits does not belong to the data set \"00_raw_data\" of the PynPoint database. Updating Keyword...\n",
        "  % (key, fits_file, self.m_image_tag))\n"
       ]
      },
      {
       "output_type": "stream",
       "stream": "stdout",
       "text": [
        "\n",
        "Reading NACO.2012-08-25T05:30:21.352.fits"
       ]
      },
      {
       "output_type": "stream",
       "stream": "stderr",
       "text": [
        "/home/mbonse/Git/PynPoint/PynPoint2/io_modules/FitsReading.py:174: UserWarning: Static keyword ESO OBS ID has changed. Probably the current file NACO.2012-08-25T05:29:30.283.fits does not belong to the data set \"00_raw_data\" of the PynPoint database. Updating Keyword...\n",
        "  % (key, fits_file, self.m_image_tag))\n",
        "/home/mbonse/Git/PynPoint/PynPoint2/io_modules/FitsReading.py:174: UserWarning: Static keyword ESO TEL TARG PMA has changed. Probably the current file NACO.2012-08-25T05:29:30.283.fits does not belong to the data set \"00_raw_data\" of the PynPoint database. Updating Keyword...\n",
        "  % (key, fits_file, self.m_image_tag))\n",
        "/home/mbonse/Git/PynPoint/PynPoint2/io_modules/FitsReading.py:174: UserWarning: Static keyword ESO TEL TARG PMD has changed. Probably the current file NACO.2012-08-25T05:29:30.283.fits does not belong to the data set \"00_raw_data\" of the PynPoint database. Updating Keyword...\n",
        "  % (key, fits_file, self.m_image_tag))\n",
        "/home/mbonse/Git/PynPoint/PynPoint2/io_modules/FitsReading.py:189: UserWarning: Unknown Header \"ESO AOS VIS DET WFS MODE\" key found\n",
        "  warnings.warn('Unknown Header \"%s\" key found' %str(key))\n"
       ]
      },
      {
       "output_type": "stream",
       "stream": "stderr",
       "text": [
        "/home/mbonse/Git/PynPoint/PynPoint2/io_modules/FitsReading.py:189: UserWarning: Unknown Header \"ESO AOS VIS INS ADC1 POSNAM\" key found\n",
        "  warnings.warn('Unknown Header \"%s\" key found' %str(key))\n",
        "/home/mbonse/Git/PynPoint/PynPoint2/io_modules/FitsReading.py:189: UserWarning: Unknown Header \"ESO AOS VIS INS ADC2 POSNAM\" key found\n",
        "  warnings.warn('Unknown Header \"%s\" key found' %str(key))\n",
        "/home/mbonse/Git/PynPoint/PynPoint2/io_modules/FitsReading.py:189: UserWarning: Unknown Header \"ESO AOS VIS INS DIAP POSNAM\" key found\n",
        "  warnings.warn('Unknown Header \"%s\" key found' %str(key))\n",
        "/home/mbonse/Git/PynPoint/PynPoint2/io_modules/FitsReading.py:189: UserWarning: Unknown Header \"ESO AOS VIS INS LENS POSNAM\" key found\n",
        "  warnings.warn('Unknown Header \"%s\" key found' %str(key))\n",
        "/home/mbonse/Git/PynPoint/PynPoint2/io_modules/FitsReading.py:174: UserWarning: Static keyword ESO INS PRES-MON PRES1 has changed. Probably the current file NACO.2012-08-25T05:30:21.352.fits does not belong to the data set \"00_raw_data\" of the PynPoint database. Updating Keyword...\n",
        "  % (key, fits_file, self.m_image_tag))\n"
       ]
      },
      {
       "output_type": "stream",
       "stream": "stdout",
       "text": [
        "\n",
        "Reading NACO.2012-08-25T05:31:04.810.fits"
       ]
      },
      {
       "output_type": "stream",
       "stream": "stderr",
       "text": [
        "/home/mbonse/Git/PynPoint/PynPoint2/io_modules/FitsReading.py:174: UserWarning: Static keyword ESO OBS ID has changed. Probably the current file NACO.2012-08-25T05:30:21.352.fits does not belong to the data set \"00_raw_data\" of the PynPoint database. Updating Keyword...\n",
        "  % (key, fits_file, self.m_image_tag))\n",
        "/home/mbonse/Git/PynPoint/PynPoint2/io_modules/FitsReading.py:174: UserWarning: Static keyword ESO TEL TARG PMA has changed. Probably the current file NACO.2012-08-25T05:30:21.352.fits does not belong to the data set \"00_raw_data\" of the PynPoint database. Updating Keyword...\n",
        "  % (key, fits_file, self.m_image_tag))\n",
        "/home/mbonse/Git/PynPoint/PynPoint2/io_modules/FitsReading.py:174: UserWarning: Static keyword ESO TEL TARG PMD has changed. Probably the current file NACO.2012-08-25T05:30:21.352.fits does not belong to the data set \"00_raw_data\" of the PynPoint database. Updating Keyword...\n",
        "  % (key, fits_file, self.m_image_tag))\n",
        "/home/mbonse/Git/PynPoint/PynPoint2/io_modules/FitsReading.py:189: UserWarning: Unknown Header \"ESO AOS VIS DET WFS MODE\" key found\n",
        "  warnings.warn('Unknown Header \"%s\" key found' %str(key))\n"
       ]
      },
      {
       "output_type": "stream",
       "stream": "stderr",
       "text": [
        "/home/mbonse/Git/PynPoint/PynPoint2/io_modules/FitsReading.py:189: UserWarning: Unknown Header \"ESO AOS VIS INS ADC1 POSNAM\" key found\n",
        "  warnings.warn('Unknown Header \"%s\" key found' %str(key))\n",
        "/home/mbonse/Git/PynPoint/PynPoint2/io_modules/FitsReading.py:189: UserWarning: Unknown Header \"ESO AOS VIS INS ADC2 POSNAM\" key found\n",
        "  warnings.warn('Unknown Header \"%s\" key found' %str(key))\n",
        "/home/mbonse/Git/PynPoint/PynPoint2/io_modules/FitsReading.py:189: UserWarning: Unknown Header \"ESO AOS VIS INS DIAP POSNAM\" key found\n",
        "  warnings.warn('Unknown Header \"%s\" key found' %str(key))\n",
        "/home/mbonse/Git/PynPoint/PynPoint2/io_modules/FitsReading.py:189: UserWarning: Unknown Header \"ESO AOS VIS INS LENS POSNAM\" key found\n",
        "  warnings.warn('Unknown Header \"%s\" key found' %str(key))\n",
        "/home/mbonse/Git/PynPoint/PynPoint2/io_modules/FitsReading.py:174: UserWarning: Static keyword ESO INS PRES-MON PRES1 has changed. Probably the current file NACO.2012-08-25T05:31:04.810.fits does not belong to the data set \"00_raw_data\" of the PynPoint database. Updating Keyword...\n",
        "  % (key, fits_file, self.m_image_tag))\n"
       ]
      },
      {
       "output_type": "stream",
       "stream": "stdout",
       "text": [
        "\n",
        "Reading NACO.2012-08-25T05:32:09.833.fits"
       ]
      },
      {
       "output_type": "stream",
       "stream": "stderr",
       "text": [
        "/home/mbonse/Git/PynPoint/PynPoint2/io_modules/FitsReading.py:174: UserWarning: Static keyword ESO OBS ID has changed. Probably the current file NACO.2012-08-25T05:31:04.810.fits does not belong to the data set \"00_raw_data\" of the PynPoint database. Updating Keyword...\n",
        "  % (key, fits_file, self.m_image_tag))\n",
        "/home/mbonse/Git/PynPoint/PynPoint2/io_modules/FitsReading.py:174: UserWarning: Static keyword ESO TEL TARG PMA has changed. Probably the current file NACO.2012-08-25T05:31:04.810.fits does not belong to the data set \"00_raw_data\" of the PynPoint database. Updating Keyword...\n",
        "  % (key, fits_file, self.m_image_tag))\n",
        "/home/mbonse/Git/PynPoint/PynPoint2/io_modules/FitsReading.py:174: UserWarning: Static keyword ESO TEL TARG PMD has changed. Probably the current file NACO.2012-08-25T05:31:04.810.fits does not belong to the data set \"00_raw_data\" of the PynPoint database. Updating Keyword...\n",
        "  % (key, fits_file, self.m_image_tag))\n",
        "/home/mbonse/Git/PynPoint/PynPoint2/io_modules/FitsReading.py:189: UserWarning: Unknown Header \"ESO AOS VIS DET WFS MODE\" key found\n",
        "  warnings.warn('Unknown Header \"%s\" key found' %str(key))\n"
       ]
      },
      {
       "output_type": "stream",
       "stream": "stderr",
       "text": [
        "/home/mbonse/Git/PynPoint/PynPoint2/io_modules/FitsReading.py:189: UserWarning: Unknown Header \"ESO AOS VIS INS ADC1 POSNAM\" key found\n",
        "  warnings.warn('Unknown Header \"%s\" key found' %str(key))\n",
        "/home/mbonse/Git/PynPoint/PynPoint2/io_modules/FitsReading.py:189: UserWarning: Unknown Header \"ESO AOS VIS INS ADC2 POSNAM\" key found\n",
        "  warnings.warn('Unknown Header \"%s\" key found' %str(key))\n",
        "/home/mbonse/Git/PynPoint/PynPoint2/io_modules/FitsReading.py:189: UserWarning: Unknown Header \"ESO AOS VIS INS DIAP POSNAM\" key found\n",
        "  warnings.warn('Unknown Header \"%s\" key found' %str(key))\n",
        "/home/mbonse/Git/PynPoint/PynPoint2/io_modules/FitsReading.py:189: UserWarning: Unknown Header \"ESO AOS VIS INS LENS POSNAM\" key found\n",
        "  warnings.warn('Unknown Header \"%s\" key found' %str(key))\n",
        "/home/mbonse/Git/PynPoint/PynPoint2/io_modules/FitsReading.py:174: UserWarning: Static keyword ESO INS PRES-MON PRES1 has changed. Probably the current file NACO.2012-08-25T05:32:09.833.fits does not belong to the data set \"00_raw_data\" of the PynPoint database. Updating Keyword...\n",
        "  % (key, fits_file, self.m_image_tag))\n"
       ]
      },
      {
       "output_type": "stream",
       "stream": "stdout",
       "text": [
        "\n",
        "Reading NACO.2012-08-25T05:32:53.333.fits"
       ]
      },
      {
       "output_type": "stream",
       "stream": "stderr",
       "text": [
        "/home/mbonse/Git/PynPoint/PynPoint2/io_modules/FitsReading.py:174: UserWarning: Static keyword ESO OBS ID has changed. Probably the current file NACO.2012-08-25T05:32:09.833.fits does not belong to the data set \"00_raw_data\" of the PynPoint database. Updating Keyword...\n",
        "  % (key, fits_file, self.m_image_tag))\n",
        "/home/mbonse/Git/PynPoint/PynPoint2/io_modules/FitsReading.py:174: UserWarning: Static keyword ESO TEL TARG PMA has changed. Probably the current file NACO.2012-08-25T05:32:09.833.fits does not belong to the data set \"00_raw_data\" of the PynPoint database. Updating Keyword...\n",
        "  % (key, fits_file, self.m_image_tag))\n",
        "/home/mbonse/Git/PynPoint/PynPoint2/io_modules/FitsReading.py:174: UserWarning: Static keyword ESO TEL TARG PMD has changed. Probably the current file NACO.2012-08-25T05:32:09.833.fits does not belong to the data set \"00_raw_data\" of the PynPoint database. Updating Keyword...\n",
        "  % (key, fits_file, self.m_image_tag))\n",
        "/home/mbonse/Git/PynPoint/PynPoint2/io_modules/FitsReading.py:189: UserWarning: Unknown Header \"ESO AOS VIS DET WFS MODE\" key found\n",
        "  warnings.warn('Unknown Header \"%s\" key found' %str(key))\n"
       ]
      },
      {
       "output_type": "stream",
       "stream": "stderr",
       "text": [
        "/home/mbonse/Git/PynPoint/PynPoint2/io_modules/FitsReading.py:189: UserWarning: Unknown Header \"ESO AOS VIS INS ADC1 POSNAM\" key found\n",
        "  warnings.warn('Unknown Header \"%s\" key found' %str(key))\n",
        "/home/mbonse/Git/PynPoint/PynPoint2/io_modules/FitsReading.py:189: UserWarning: Unknown Header \"ESO AOS VIS INS ADC2 POSNAM\" key found\n",
        "  warnings.warn('Unknown Header \"%s\" key found' %str(key))\n",
        "/home/mbonse/Git/PynPoint/PynPoint2/io_modules/FitsReading.py:189: UserWarning: Unknown Header \"ESO AOS VIS INS DIAP POSNAM\" key found\n",
        "  warnings.warn('Unknown Header \"%s\" key found' %str(key))\n",
        "/home/mbonse/Git/PynPoint/PynPoint2/io_modules/FitsReading.py:189: UserWarning: Unknown Header \"ESO AOS VIS INS LENS POSNAM\" key found\n",
        "  warnings.warn('Unknown Header \"%s\" key found' %str(key))\n",
        "/home/mbonse/Git/PynPoint/PynPoint2/io_modules/FitsReading.py:174: UserWarning: Static keyword ESO INS PRES-MON PRES1 has changed. Probably the current file NACO.2012-08-25T05:32:53.333.fits does not belong to the data set \"00_raw_data\" of the PynPoint database. Updating Keyword...\n",
        "  % (key, fits_file, self.m_image_tag))\n"
       ]
      },
      {
       "output_type": "stream",
       "stream": "stdout",
       "text": [
        "\n",
        "Reading NACO.2012-08-25T05:33:44.699.fits"
       ]
      },
      {
       "output_type": "stream",
       "stream": "stderr",
       "text": [
        "/home/mbonse/Git/PynPoint/PynPoint2/io_modules/FitsReading.py:174: UserWarning: Static keyword ESO OBS ID has changed. Probably the current file NACO.2012-08-25T05:32:53.333.fits does not belong to the data set \"00_raw_data\" of the PynPoint database. Updating Keyword...\n",
        "  % (key, fits_file, self.m_image_tag))\n",
        "/home/mbonse/Git/PynPoint/PynPoint2/io_modules/FitsReading.py:174: UserWarning: Static keyword ESO TEL TARG PMA has changed. Probably the current file NACO.2012-08-25T05:32:53.333.fits does not belong to the data set \"00_raw_data\" of the PynPoint database. Updating Keyword...\n",
        "  % (key, fits_file, self.m_image_tag))\n",
        "/home/mbonse/Git/PynPoint/PynPoint2/io_modules/FitsReading.py:174: UserWarning: Static keyword ESO TEL TARG PMD has changed. Probably the current file NACO.2012-08-25T05:32:53.333.fits does not belong to the data set \"00_raw_data\" of the PynPoint database. Updating Keyword...\n",
        "  % (key, fits_file, self.m_image_tag))\n",
        "/home/mbonse/Git/PynPoint/PynPoint2/io_modules/FitsReading.py:189: UserWarning: Unknown Header \"ESO AOS VIS DET WFS MODE\" key found\n",
        "  warnings.warn('Unknown Header \"%s\" key found' %str(key))\n"
       ]
      },
      {
       "output_type": "stream",
       "stream": "stderr",
       "text": [
        "/home/mbonse/Git/PynPoint/PynPoint2/io_modules/FitsReading.py:189: UserWarning: Unknown Header \"ESO AOS VIS INS ADC1 POSNAM\" key found\n",
        "  warnings.warn('Unknown Header \"%s\" key found' %str(key))\n",
        "/home/mbonse/Git/PynPoint/PynPoint2/io_modules/FitsReading.py:189: UserWarning: Unknown Header \"ESO AOS VIS INS ADC2 POSNAM\" key found\n",
        "  warnings.warn('Unknown Header \"%s\" key found' %str(key))\n",
        "/home/mbonse/Git/PynPoint/PynPoint2/io_modules/FitsReading.py:189: UserWarning: Unknown Header \"ESO AOS VIS INS DIAP POSNAM\" key found\n",
        "  warnings.warn('Unknown Header \"%s\" key found' %str(key))\n",
        "/home/mbonse/Git/PynPoint/PynPoint2/io_modules/FitsReading.py:189: UserWarning: Unknown Header \"ESO AOS VIS INS LENS POSNAM\" key found\n",
        "  warnings.warn('Unknown Header \"%s\" key found' %str(key))\n",
        "/home/mbonse/Git/PynPoint/PynPoint2/io_modules/FitsReading.py:174: UserWarning: Static keyword ESO INS PRES-MON PRES1 has changed. Probably the current file NACO.2012-08-25T05:33:44.699.fits does not belong to the data set \"00_raw_data\" of the PynPoint database. Updating Keyword...\n",
        "  % (key, fits_file, self.m_image_tag))\n"
       ]
      },
      {
       "output_type": "stream",
       "stream": "stdout",
       "text": [
        "\n",
        "Reading NACO.2012-08-25T05:34:28.356.fits"
       ]
      },
      {
       "output_type": "stream",
       "stream": "stderr",
       "text": [
        "/home/mbonse/Git/PynPoint/PynPoint2/io_modules/FitsReading.py:174: UserWarning: Static keyword ESO OBS ID has changed. Probably the current file NACO.2012-08-25T05:33:44.699.fits does not belong to the data set \"00_raw_data\" of the PynPoint database. Updating Keyword...\n",
        "  % (key, fits_file, self.m_image_tag))\n",
        "/home/mbonse/Git/PynPoint/PynPoint2/io_modules/FitsReading.py:174: UserWarning: Static keyword ESO TEL TARG PMA has changed. Probably the current file NACO.2012-08-25T05:33:44.699.fits does not belong to the data set \"00_raw_data\" of the PynPoint database. Updating Keyword...\n",
        "  % (key, fits_file, self.m_image_tag))\n",
        "/home/mbonse/Git/PynPoint/PynPoint2/io_modules/FitsReading.py:174: UserWarning: Static keyword ESO TEL TARG PMD has changed. Probably the current file NACO.2012-08-25T05:33:44.699.fits does not belong to the data set \"00_raw_data\" of the PynPoint database. Updating Keyword...\n",
        "  % (key, fits_file, self.m_image_tag))\n",
        "/home/mbonse/Git/PynPoint/PynPoint2/io_modules/FitsReading.py:189: UserWarning: Unknown Header \"ESO AOS VIS DET WFS MODE\" key found\n",
        "  warnings.warn('Unknown Header \"%s\" key found' %str(key))\n"
       ]
      },
      {
       "output_type": "stream",
       "stream": "stderr",
       "text": [
        "/home/mbonse/Git/PynPoint/PynPoint2/io_modules/FitsReading.py:189: UserWarning: Unknown Header \"ESO AOS VIS INS ADC1 POSNAM\" key found\n",
        "  warnings.warn('Unknown Header \"%s\" key found' %str(key))\n",
        "/home/mbonse/Git/PynPoint/PynPoint2/io_modules/FitsReading.py:189: UserWarning: Unknown Header \"ESO AOS VIS INS ADC2 POSNAM\" key found\n",
        "  warnings.warn('Unknown Header \"%s\" key found' %str(key))\n",
        "/home/mbonse/Git/PynPoint/PynPoint2/io_modules/FitsReading.py:189: UserWarning: Unknown Header \"ESO AOS VIS INS DIAP POSNAM\" key found\n",
        "  warnings.warn('Unknown Header \"%s\" key found' %str(key))\n",
        "/home/mbonse/Git/PynPoint/PynPoint2/io_modules/FitsReading.py:189: UserWarning: Unknown Header \"ESO AOS VIS INS LENS POSNAM\" key found\n",
        "  warnings.warn('Unknown Header \"%s\" key found' %str(key))\n",
        "/home/mbonse/Git/PynPoint/PynPoint2/io_modules/FitsReading.py:174: UserWarning: Static keyword ESO INS PRES-MON PRES1 has changed. Probably the current file NACO.2012-08-25T05:34:28.356.fits does not belong to the data set \"00_raw_data\" of the PynPoint database. Updating Keyword...\n",
        "  % (key, fits_file, self.m_image_tag))\n"
       ]
      },
      {
       "output_type": "stream",
       "stream": "stdout",
       "text": [
        "\n",
        "Reading NACO.2012-08-25T05:35:21.250.fits"
       ]
      },
      {
       "output_type": "stream",
       "stream": "stderr",
       "text": [
        "/home/mbonse/Git/PynPoint/PynPoint2/io_modules/FitsReading.py:174: UserWarning: Static keyword ESO OBS ID has changed. Probably the current file NACO.2012-08-25T05:34:28.356.fits does not belong to the data set \"00_raw_data\" of the PynPoint database. Updating Keyword...\n",
        "  % (key, fits_file, self.m_image_tag))\n",
        "/home/mbonse/Git/PynPoint/PynPoint2/io_modules/FitsReading.py:174: UserWarning: Static keyword ESO TEL TARG PMA has changed. Probably the current file NACO.2012-08-25T05:34:28.356.fits does not belong to the data set \"00_raw_data\" of the PynPoint database. Updating Keyword...\n",
        "  % (key, fits_file, self.m_image_tag))\n",
        "/home/mbonse/Git/PynPoint/PynPoint2/io_modules/FitsReading.py:174: UserWarning: Static keyword ESO TEL TARG PMD has changed. Probably the current file NACO.2012-08-25T05:34:28.356.fits does not belong to the data set \"00_raw_data\" of the PynPoint database. Updating Keyword...\n",
        "  % (key, fits_file, self.m_image_tag))\n",
        "/home/mbonse/Git/PynPoint/PynPoint2/io_modules/FitsReading.py:189: UserWarning: Unknown Header \"ESO AOS VIS DET WFS MODE\" key found\n",
        "  warnings.warn('Unknown Header \"%s\" key found' %str(key))\n"
       ]
      },
      {
       "output_type": "stream",
       "stream": "stderr",
       "text": [
        "/home/mbonse/Git/PynPoint/PynPoint2/io_modules/FitsReading.py:189: UserWarning: Unknown Header \"ESO AOS VIS INS ADC1 POSNAM\" key found\n",
        "  warnings.warn('Unknown Header \"%s\" key found' %str(key))\n",
        "/home/mbonse/Git/PynPoint/PynPoint2/io_modules/FitsReading.py:189: UserWarning: Unknown Header \"ESO AOS VIS INS ADC2 POSNAM\" key found\n",
        "  warnings.warn('Unknown Header \"%s\" key found' %str(key))\n",
        "/home/mbonse/Git/PynPoint/PynPoint2/io_modules/FitsReading.py:189: UserWarning: Unknown Header \"ESO AOS VIS INS DIAP POSNAM\" key found\n",
        "  warnings.warn('Unknown Header \"%s\" key found' %str(key))\n",
        "/home/mbonse/Git/PynPoint/PynPoint2/io_modules/FitsReading.py:189: UserWarning: Unknown Header \"ESO AOS VIS INS LENS POSNAM\" key found\n",
        "  warnings.warn('Unknown Header \"%s\" key found' %str(key))\n",
        "/home/mbonse/Git/PynPoint/PynPoint2/io_modules/FitsReading.py:174: UserWarning: Static keyword ESO INS PRES-MON PRES1 has changed. Probably the current file NACO.2012-08-25T05:35:21.250.fits does not belong to the data set \"00_raw_data\" of the PynPoint database. Updating Keyword...\n",
        "  % (key, fits_file, self.m_image_tag))\n"
       ]
      },
      {
       "output_type": "stream",
       "stream": "stdout",
       "text": [
        "\n",
        "Reading NACO.2012-08-25T05:36:04.709.fits"
       ]
      },
      {
       "output_type": "stream",
       "stream": "stderr",
       "text": [
        "/home/mbonse/Git/PynPoint/PynPoint2/io_modules/FitsReading.py:174: UserWarning: Static keyword ESO OBS ID has changed. Probably the current file NACO.2012-08-25T05:35:21.250.fits does not belong to the data set \"00_raw_data\" of the PynPoint database. Updating Keyword...\n",
        "  % (key, fits_file, self.m_image_tag))\n",
        "/home/mbonse/Git/PynPoint/PynPoint2/io_modules/FitsReading.py:174: UserWarning: Static keyword ESO TEL TARG PMA has changed. Probably the current file NACO.2012-08-25T05:35:21.250.fits does not belong to the data set \"00_raw_data\" of the PynPoint database. Updating Keyword...\n",
        "  % (key, fits_file, self.m_image_tag))\n",
        "/home/mbonse/Git/PynPoint/PynPoint2/io_modules/FitsReading.py:174: UserWarning: Static keyword ESO TEL TARG PMD has changed. Probably the current file NACO.2012-08-25T05:35:21.250.fits does not belong to the data set \"00_raw_data\" of the PynPoint database. Updating Keyword...\n",
        "  % (key, fits_file, self.m_image_tag))\n",
        "/home/mbonse/Git/PynPoint/PynPoint2/io_modules/FitsReading.py:189: UserWarning: Unknown Header \"ESO AOS VIS DET WFS MODE\" key found\n",
        "  warnings.warn('Unknown Header \"%s\" key found' %str(key))\n"
       ]
      },
      {
       "output_type": "stream",
       "stream": "stderr",
       "text": [
        "/home/mbonse/Git/PynPoint/PynPoint2/io_modules/FitsReading.py:189: UserWarning: Unknown Header \"ESO AOS VIS INS ADC1 POSNAM\" key found\n",
        "  warnings.warn('Unknown Header \"%s\" key found' %str(key))\n",
        "/home/mbonse/Git/PynPoint/PynPoint2/io_modules/FitsReading.py:189: UserWarning: Unknown Header \"ESO AOS VIS INS ADC2 POSNAM\" key found\n",
        "  warnings.warn('Unknown Header \"%s\" key found' %str(key))\n",
        "/home/mbonse/Git/PynPoint/PynPoint2/io_modules/FitsReading.py:189: UserWarning: Unknown Header \"ESO AOS VIS INS DIAP POSNAM\" key found\n",
        "  warnings.warn('Unknown Header \"%s\" key found' %str(key))\n",
        "/home/mbonse/Git/PynPoint/PynPoint2/io_modules/FitsReading.py:189: UserWarning: Unknown Header \"ESO AOS VIS INS LENS POSNAM\" key found\n",
        "  warnings.warn('Unknown Header \"%s\" key found' %str(key))\n",
        "/home/mbonse/Git/PynPoint/PynPoint2/io_modules/FitsReading.py:174: UserWarning: Static keyword ESO INS PRES-MON PRES1 has changed. Probably the current file NACO.2012-08-25T05:36:04.709.fits does not belong to the data set \"00_raw_data\" of the PynPoint database. Updating Keyword...\n",
        "  % (key, fits_file, self.m_image_tag))\n"
       ]
      },
      {
       "output_type": "stream",
       "stream": "stdout",
       "text": [
        "\n",
        "Reading NACO.2012-08-25T05:36:57.357.fits"
       ]
      },
      {
       "output_type": "stream",
       "stream": "stderr",
       "text": [
        "/home/mbonse/Git/PynPoint/PynPoint2/io_modules/FitsReading.py:174: UserWarning: Static keyword ESO OBS ID has changed. Probably the current file NACO.2012-08-25T05:36:04.709.fits does not belong to the data set \"00_raw_data\" of the PynPoint database. Updating Keyword...\n",
        "  % (key, fits_file, self.m_image_tag))\n",
        "/home/mbonse/Git/PynPoint/PynPoint2/io_modules/FitsReading.py:174: UserWarning: Static keyword ESO TEL TARG PMA has changed. Probably the current file NACO.2012-08-25T05:36:04.709.fits does not belong to the data set \"00_raw_data\" of the PynPoint database. Updating Keyword...\n",
        "  % (key, fits_file, self.m_image_tag))\n",
        "/home/mbonse/Git/PynPoint/PynPoint2/io_modules/FitsReading.py:174: UserWarning: Static keyword ESO TEL TARG PMD has changed. Probably the current file NACO.2012-08-25T05:36:04.709.fits does not belong to the data set \"00_raw_data\" of the PynPoint database. Updating Keyword...\n",
        "  % (key, fits_file, self.m_image_tag))\n",
        "/home/mbonse/Git/PynPoint/PynPoint2/io_modules/FitsReading.py:189: UserWarning: Unknown Header \"ESO AOS VIS DET WFS MODE\" key found\n",
        "  warnings.warn('Unknown Header \"%s\" key found' %str(key))\n"
       ]
      },
      {
       "output_type": "stream",
       "stream": "stderr",
       "text": [
        "/home/mbonse/Git/PynPoint/PynPoint2/io_modules/FitsReading.py:189: UserWarning: Unknown Header \"ESO AOS VIS INS ADC1 POSNAM\" key found\n",
        "  warnings.warn('Unknown Header \"%s\" key found' %str(key))\n",
        "/home/mbonse/Git/PynPoint/PynPoint2/io_modules/FitsReading.py:189: UserWarning: Unknown Header \"ESO AOS VIS INS ADC2 POSNAM\" key found\n",
        "  warnings.warn('Unknown Header \"%s\" key found' %str(key))\n",
        "/home/mbonse/Git/PynPoint/PynPoint2/io_modules/FitsReading.py:189: UserWarning: Unknown Header \"ESO AOS VIS INS DIAP POSNAM\" key found\n",
        "  warnings.warn('Unknown Header \"%s\" key found' %str(key))\n",
        "/home/mbonse/Git/PynPoint/PynPoint2/io_modules/FitsReading.py:189: UserWarning: Unknown Header \"ESO AOS VIS INS LENS POSNAM\" key found\n",
        "  warnings.warn('Unknown Header \"%s\" key found' %str(key))\n",
        "/home/mbonse/Git/PynPoint/PynPoint2/io_modules/FitsReading.py:174: UserWarning: Static keyword ESO INS PRES-MON PRES1 has changed. Probably the current file NACO.2012-08-25T05:36:57.357.fits does not belong to the data set \"00_raw_data\" of the PynPoint database. Updating Keyword...\n",
        "  % (key, fits_file, self.m_image_tag))\n"
       ]
      },
      {
       "output_type": "stream",
       "stream": "stdout",
       "text": [
        "\n",
        "Reading NACO.2012-08-25T05:37:41.010.fits"
       ]
      },
      {
       "output_type": "stream",
       "stream": "stderr",
       "text": [
        "/home/mbonse/Git/PynPoint/PynPoint2/io_modules/FitsReading.py:174: UserWarning: Static keyword ESO OBS ID has changed. Probably the current file NACO.2012-08-25T05:36:57.357.fits does not belong to the data set \"00_raw_data\" of the PynPoint database. Updating Keyword...\n",
        "  % (key, fits_file, self.m_image_tag))\n",
        "/home/mbonse/Git/PynPoint/PynPoint2/io_modules/FitsReading.py:174: UserWarning: Static keyword ESO TEL TARG PMA has changed. Probably the current file NACO.2012-08-25T05:36:57.357.fits does not belong to the data set \"00_raw_data\" of the PynPoint database. Updating Keyword...\n",
        "  % (key, fits_file, self.m_image_tag))\n",
        "/home/mbonse/Git/PynPoint/PynPoint2/io_modules/FitsReading.py:174: UserWarning: Static keyword ESO TEL TARG PMD has changed. Probably the current file NACO.2012-08-25T05:36:57.357.fits does not belong to the data set \"00_raw_data\" of the PynPoint database. Updating Keyword...\n",
        "  % (key, fits_file, self.m_image_tag))\n",
        "/home/mbonse/Git/PynPoint/PynPoint2/io_modules/FitsReading.py:189: UserWarning: Unknown Header \"ESO AOS VIS DET WFS MODE\" key found\n",
        "  warnings.warn('Unknown Header \"%s\" key found' %str(key))\n"
       ]
      },
      {
       "output_type": "stream",
       "stream": "stderr",
       "text": [
        "/home/mbonse/Git/PynPoint/PynPoint2/io_modules/FitsReading.py:189: UserWarning: Unknown Header \"ESO AOS VIS INS ADC1 POSNAM\" key found\n",
        "  warnings.warn('Unknown Header \"%s\" key found' %str(key))\n",
        "/home/mbonse/Git/PynPoint/PynPoint2/io_modules/FitsReading.py:189: UserWarning: Unknown Header \"ESO AOS VIS INS ADC2 POSNAM\" key found\n",
        "  warnings.warn('Unknown Header \"%s\" key found' %str(key))\n",
        "/home/mbonse/Git/PynPoint/PynPoint2/io_modules/FitsReading.py:189: UserWarning: Unknown Header \"ESO AOS VIS INS DIAP POSNAM\" key found\n",
        "  warnings.warn('Unknown Header \"%s\" key found' %str(key))\n",
        "/home/mbonse/Git/PynPoint/PynPoint2/io_modules/FitsReading.py:189: UserWarning: Unknown Header \"ESO AOS VIS INS LENS POSNAM\" key found\n",
        "  warnings.warn('Unknown Header \"%s\" key found' %str(key))\n",
        "/home/mbonse/Git/PynPoint/PynPoint2/io_modules/FitsReading.py:174: UserWarning: Static keyword ESO INS PRES-MON PRES1 has changed. Probably the current file NACO.2012-08-25T05:37:41.010.fits does not belong to the data set \"00_raw_data\" of the PynPoint database. Updating Keyword...\n",
        "  % (key, fits_file, self.m_image_tag))\n"
       ]
      },
      {
       "output_type": "stream",
       "stream": "stdout",
       "text": [
        "\n",
        "Reading NACO.2012-08-25T05:38:48.158.fits"
       ]
      },
      {
       "output_type": "stream",
       "stream": "stderr",
       "text": [
        "/home/mbonse/Git/PynPoint/PynPoint2/io_modules/FitsReading.py:174: UserWarning: Static keyword ESO OBS ID has changed. Probably the current file NACO.2012-08-25T05:37:41.010.fits does not belong to the data set \"00_raw_data\" of the PynPoint database. Updating Keyword...\n",
        "  % (key, fits_file, self.m_image_tag))\n",
        "/home/mbonse/Git/PynPoint/PynPoint2/io_modules/FitsReading.py:174: UserWarning: Static keyword ESO TEL TARG PMA has changed. Probably the current file NACO.2012-08-25T05:37:41.010.fits does not belong to the data set \"00_raw_data\" of the PynPoint database. Updating Keyword...\n",
        "  % (key, fits_file, self.m_image_tag))\n",
        "/home/mbonse/Git/PynPoint/PynPoint2/io_modules/FitsReading.py:174: UserWarning: Static keyword ESO TEL TARG PMD has changed. Probably the current file NACO.2012-08-25T05:37:41.010.fits does not belong to the data set \"00_raw_data\" of the PynPoint database. Updating Keyword...\n",
        "  % (key, fits_file, self.m_image_tag))\n",
        "/home/mbonse/Git/PynPoint/PynPoint2/io_modules/FitsReading.py:189: UserWarning: Unknown Header \"ESO AOS VIS DET WFS MODE\" key found\n",
        "  warnings.warn('Unknown Header \"%s\" key found' %str(key))\n"
       ]
      },
      {
       "output_type": "stream",
       "stream": "stderr",
       "text": [
        "/home/mbonse/Git/PynPoint/PynPoint2/io_modules/FitsReading.py:189: UserWarning: Unknown Header \"ESO AOS VIS INS ADC1 POSNAM\" key found\n",
        "  warnings.warn('Unknown Header \"%s\" key found' %str(key))\n",
        "/home/mbonse/Git/PynPoint/PynPoint2/io_modules/FitsReading.py:189: UserWarning: Unknown Header \"ESO AOS VIS INS ADC2 POSNAM\" key found\n",
        "  warnings.warn('Unknown Header \"%s\" key found' %str(key))\n",
        "/home/mbonse/Git/PynPoint/PynPoint2/io_modules/FitsReading.py:189: UserWarning: Unknown Header \"ESO AOS VIS INS DIAP POSNAM\" key found\n",
        "  warnings.warn('Unknown Header \"%s\" key found' %str(key))\n",
        "/home/mbonse/Git/PynPoint/PynPoint2/io_modules/FitsReading.py:189: UserWarning: Unknown Header \"ESO AOS VIS INS LENS POSNAM\" key found\n",
        "  warnings.warn('Unknown Header \"%s\" key found' %str(key))\n",
        "/home/mbonse/Git/PynPoint/PynPoint2/io_modules/FitsReading.py:174: UserWarning: Static keyword ESO INS PRES-MON PRES1 has changed. Probably the current file NACO.2012-08-25T05:38:48.158.fits does not belong to the data set \"00_raw_data\" of the PynPoint database. Updating Keyword...\n",
        "  % (key, fits_file, self.m_image_tag))\n"
       ]
      },
      {
       "output_type": "stream",
       "stream": "stdout",
       "text": [
        "\n",
        "Reading NACO.2012-08-25T05:39:31.607.fits"
       ]
      },
      {
       "output_type": "stream",
       "stream": "stderr",
       "text": [
        "/home/mbonse/Git/PynPoint/PynPoint2/io_modules/FitsReading.py:174: UserWarning: Static keyword ESO OBS ID has changed. Probably the current file NACO.2012-08-25T05:38:48.158.fits does not belong to the data set \"00_raw_data\" of the PynPoint database. Updating Keyword...\n",
        "  % (key, fits_file, self.m_image_tag))\n",
        "/home/mbonse/Git/PynPoint/PynPoint2/io_modules/FitsReading.py:174: UserWarning: Static keyword ESO TEL TARG PMA has changed. Probably the current file NACO.2012-08-25T05:38:48.158.fits does not belong to the data set \"00_raw_data\" of the PynPoint database. Updating Keyword...\n",
        "  % (key, fits_file, self.m_image_tag))\n",
        "/home/mbonse/Git/PynPoint/PynPoint2/io_modules/FitsReading.py:174: UserWarning: Static keyword ESO TEL TARG PMD has changed. Probably the current file NACO.2012-08-25T05:38:48.158.fits does not belong to the data set \"00_raw_data\" of the PynPoint database. Updating Keyword...\n",
        "  % (key, fits_file, self.m_image_tag))\n",
        "/home/mbonse/Git/PynPoint/PynPoint2/io_modules/FitsReading.py:189: UserWarning: Unknown Header \"ESO AOS VIS DET WFS MODE\" key found\n",
        "  warnings.warn('Unknown Header \"%s\" key found' %str(key))\n"
       ]
      },
      {
       "output_type": "stream",
       "stream": "stderr",
       "text": [
        "/home/mbonse/Git/PynPoint/PynPoint2/io_modules/FitsReading.py:189: UserWarning: Unknown Header \"ESO AOS VIS INS ADC1 POSNAM\" key found\n",
        "  warnings.warn('Unknown Header \"%s\" key found' %str(key))\n",
        "/home/mbonse/Git/PynPoint/PynPoint2/io_modules/FitsReading.py:189: UserWarning: Unknown Header \"ESO AOS VIS INS ADC2 POSNAM\" key found\n",
        "  warnings.warn('Unknown Header \"%s\" key found' %str(key))\n",
        "/home/mbonse/Git/PynPoint/PynPoint2/io_modules/FitsReading.py:189: UserWarning: Unknown Header \"ESO AOS VIS INS DIAP POSNAM\" key found\n",
        "  warnings.warn('Unknown Header \"%s\" key found' %str(key))\n",
        "/home/mbonse/Git/PynPoint/PynPoint2/io_modules/FitsReading.py:189: UserWarning: Unknown Header \"ESO AOS VIS INS LENS POSNAM\" key found\n",
        "  warnings.warn('Unknown Header \"%s\" key found' %str(key))\n",
        "/home/mbonse/Git/PynPoint/PynPoint2/io_modules/FitsReading.py:174: UserWarning: Static keyword ESO INS PRES-MON PRES1 has changed. Probably the current file NACO.2012-08-25T05:39:31.607.fits does not belong to the data set \"00_raw_data\" of the PynPoint database. Updating Keyword...\n",
        "  % (key, fits_file, self.m_image_tag))\n"
       ]
      },
      {
       "output_type": "stream",
       "stream": "stdout",
       "text": [
        "\n",
        "Reading NACO.2012-08-25T05:40:24.263.fits"
       ]
      },
      {
       "output_type": "stream",
       "stream": "stderr",
       "text": [
        "/home/mbonse/Git/PynPoint/PynPoint2/io_modules/FitsReading.py:174: UserWarning: Static keyword ESO OBS ID has changed. Probably the current file NACO.2012-08-25T05:39:31.607.fits does not belong to the data set \"00_raw_data\" of the PynPoint database. Updating Keyword...\n",
        "  % (key, fits_file, self.m_image_tag))\n",
        "/home/mbonse/Git/PynPoint/PynPoint2/io_modules/FitsReading.py:174: UserWarning: Static keyword ESO TEL TARG PMA has changed. Probably the current file NACO.2012-08-25T05:39:31.607.fits does not belong to the data set \"00_raw_data\" of the PynPoint database. Updating Keyword...\n",
        "  % (key, fits_file, self.m_image_tag))\n",
        "/home/mbonse/Git/PynPoint/PynPoint2/io_modules/FitsReading.py:174: UserWarning: Static keyword ESO TEL TARG PMD has changed. Probably the current file NACO.2012-08-25T05:39:31.607.fits does not belong to the data set \"00_raw_data\" of the PynPoint database. Updating Keyword...\n",
        "  % (key, fits_file, self.m_image_tag))\n",
        "/home/mbonse/Git/PynPoint/PynPoint2/io_modules/FitsReading.py:189: UserWarning: Unknown Header \"ESO AOS VIS DET WFS MODE\" key found\n",
        "  warnings.warn('Unknown Header \"%s\" key found' %str(key))\n"
       ]
      },
      {
       "output_type": "stream",
       "stream": "stderr",
       "text": [
        "/home/mbonse/Git/PynPoint/PynPoint2/io_modules/FitsReading.py:189: UserWarning: Unknown Header \"ESO AOS VIS INS ADC1 POSNAM\" key found\n",
        "  warnings.warn('Unknown Header \"%s\" key found' %str(key))\n",
        "/home/mbonse/Git/PynPoint/PynPoint2/io_modules/FitsReading.py:189: UserWarning: Unknown Header \"ESO AOS VIS INS ADC2 POSNAM\" key found\n",
        "  warnings.warn('Unknown Header \"%s\" key found' %str(key))\n",
        "/home/mbonse/Git/PynPoint/PynPoint2/io_modules/FitsReading.py:189: UserWarning: Unknown Header \"ESO AOS VIS INS DIAP POSNAM\" key found\n",
        "  warnings.warn('Unknown Header \"%s\" key found' %str(key))\n",
        "/home/mbonse/Git/PynPoint/PynPoint2/io_modules/FitsReading.py:189: UserWarning: Unknown Header \"ESO AOS VIS INS LENS POSNAM\" key found\n",
        "  warnings.warn('Unknown Header \"%s\" key found' %str(key))\n",
        "/home/mbonse/Git/PynPoint/PynPoint2/io_modules/FitsReading.py:174: UserWarning: Static keyword ESO INS PRES-MON PRES1 has changed. Probably the current file NACO.2012-08-25T05:40:24.263.fits does not belong to the data set \"00_raw_data\" of the PynPoint database. Updating Keyword...\n",
        "  % (key, fits_file, self.m_image_tag))\n"
       ]
      },
      {
       "output_type": "stream",
       "stream": "stdout",
       "text": [
        "\n",
        "Reading NACO.2012-08-25T05:41:07.718.fits"
       ]
      },
      {
       "output_type": "stream",
       "stream": "stderr",
       "text": [
        "/home/mbonse/Git/PynPoint/PynPoint2/io_modules/FitsReading.py:174: UserWarning: Static keyword ESO OBS ID has changed. Probably the current file NACO.2012-08-25T05:40:24.263.fits does not belong to the data set \"00_raw_data\" of the PynPoint database. Updating Keyword...\n",
        "  % (key, fits_file, self.m_image_tag))\n",
        "/home/mbonse/Git/PynPoint/PynPoint2/io_modules/FitsReading.py:174: UserWarning: Static keyword ESO TEL TARG PMA has changed. Probably the current file NACO.2012-08-25T05:40:24.263.fits does not belong to the data set \"00_raw_data\" of the PynPoint database. Updating Keyword...\n",
        "  % (key, fits_file, self.m_image_tag))\n",
        "/home/mbonse/Git/PynPoint/PynPoint2/io_modules/FitsReading.py:174: UserWarning: Static keyword ESO TEL TARG PMD has changed. Probably the current file NACO.2012-08-25T05:40:24.263.fits does not belong to the data set \"00_raw_data\" of the PynPoint database. Updating Keyword...\n",
        "  % (key, fits_file, self.m_image_tag))\n",
        "/home/mbonse/Git/PynPoint/PynPoint2/io_modules/FitsReading.py:189: UserWarning: Unknown Header \"ESO AOS VIS DET WFS MODE\" key found\n",
        "  warnings.warn('Unknown Header \"%s\" key found' %str(key))\n"
       ]
      },
      {
       "output_type": "stream",
       "stream": "stderr",
       "text": [
        "/home/mbonse/Git/PynPoint/PynPoint2/io_modules/FitsReading.py:189: UserWarning: Unknown Header \"ESO AOS VIS INS ADC1 POSNAM\" key found\n",
        "  warnings.warn('Unknown Header \"%s\" key found' %str(key))\n",
        "/home/mbonse/Git/PynPoint/PynPoint2/io_modules/FitsReading.py:189: UserWarning: Unknown Header \"ESO AOS VIS INS ADC2 POSNAM\" key found\n",
        "  warnings.warn('Unknown Header \"%s\" key found' %str(key))\n",
        "/home/mbonse/Git/PynPoint/PynPoint2/io_modules/FitsReading.py:189: UserWarning: Unknown Header \"ESO AOS VIS INS DIAP POSNAM\" key found\n",
        "  warnings.warn('Unknown Header \"%s\" key found' %str(key))\n",
        "/home/mbonse/Git/PynPoint/PynPoint2/io_modules/FitsReading.py:189: UserWarning: Unknown Header \"ESO AOS VIS INS LENS POSNAM\" key found\n",
        "  warnings.warn('Unknown Header \"%s\" key found' %str(key))\n",
        "/home/mbonse/Git/PynPoint/PynPoint2/io_modules/FitsReading.py:174: UserWarning: Static keyword ESO INS PRES-MON PRES1 has changed. Probably the current file NACO.2012-08-25T05:41:07.718.fits does not belong to the data set \"00_raw_data\" of the PynPoint database. Updating Keyword...\n",
        "  % (key, fits_file, self.m_image_tag))\n"
       ]
      },
      {
       "output_type": "stream",
       "stream": "stdout",
       "text": [
        "\n",
        "Reading NACO.2012-08-25T05:41:59.774.fits"
       ]
      },
      {
       "output_type": "stream",
       "stream": "stderr",
       "text": [
        "/home/mbonse/Git/PynPoint/PynPoint2/io_modules/FitsReading.py:174: UserWarning: Static keyword ESO OBS ID has changed. Probably the current file NACO.2012-08-25T05:41:07.718.fits does not belong to the data set \"00_raw_data\" of the PynPoint database. Updating Keyword...\n",
        "  % (key, fits_file, self.m_image_tag))\n",
        "/home/mbonse/Git/PynPoint/PynPoint2/io_modules/FitsReading.py:174: UserWarning: Static keyword ESO TEL TARG PMA has changed. Probably the current file NACO.2012-08-25T05:41:07.718.fits does not belong to the data set \"00_raw_data\" of the PynPoint database. Updating Keyword...\n",
        "  % (key, fits_file, self.m_image_tag))\n",
        "/home/mbonse/Git/PynPoint/PynPoint2/io_modules/FitsReading.py:174: UserWarning: Static keyword ESO TEL TARG PMD has changed. Probably the current file NACO.2012-08-25T05:41:07.718.fits does not belong to the data set \"00_raw_data\" of the PynPoint database. Updating Keyword...\n",
        "  % (key, fits_file, self.m_image_tag))\n",
        "/home/mbonse/Git/PynPoint/PynPoint2/io_modules/FitsReading.py:189: UserWarning: Unknown Header \"ESO AOS VIS DET WFS MODE\" key found\n",
        "  warnings.warn('Unknown Header \"%s\" key found' %str(key))\n"
       ]
      },
      {
       "output_type": "stream",
       "stream": "stderr",
       "text": [
        "/home/mbonse/Git/PynPoint/PynPoint2/io_modules/FitsReading.py:189: UserWarning: Unknown Header \"ESO AOS VIS INS ADC1 POSNAM\" key found\n",
        "  warnings.warn('Unknown Header \"%s\" key found' %str(key))\n",
        "/home/mbonse/Git/PynPoint/PynPoint2/io_modules/FitsReading.py:189: UserWarning: Unknown Header \"ESO AOS VIS INS ADC2 POSNAM\" key found\n",
        "  warnings.warn('Unknown Header \"%s\" key found' %str(key))\n",
        "/home/mbonse/Git/PynPoint/PynPoint2/io_modules/FitsReading.py:189: UserWarning: Unknown Header \"ESO AOS VIS INS DIAP POSNAM\" key found\n",
        "  warnings.warn('Unknown Header \"%s\" key found' %str(key))\n",
        "/home/mbonse/Git/PynPoint/PynPoint2/io_modules/FitsReading.py:189: UserWarning: Unknown Header \"ESO AOS VIS INS LENS POSNAM\" key found\n",
        "  warnings.warn('Unknown Header \"%s\" key found' %str(key))\n",
        "/home/mbonse/Git/PynPoint/PynPoint2/io_modules/FitsReading.py:174: UserWarning: Static keyword ESO INS PRES-MON PRES1 has changed. Probably the current file NACO.2012-08-25T05:41:59.774.fits does not belong to the data set \"00_raw_data\" of the PynPoint database. Updating Keyword...\n",
        "  % (key, fits_file, self.m_image_tag))\n"
       ]
      },
      {
       "output_type": "stream",
       "stream": "stdout",
       "text": [
        "\n",
        "Reading NACO.2012-08-25T05:42:43.031.fits"
       ]
      },
      {
       "output_type": "stream",
       "stream": "stderr",
       "text": [
        "/home/mbonse/Git/PynPoint/PynPoint2/io_modules/FitsReading.py:174: UserWarning: Static keyword ESO OBS ID has changed. Probably the current file NACO.2012-08-25T05:41:59.774.fits does not belong to the data set \"00_raw_data\" of the PynPoint database. Updating Keyword...\n",
        "  % (key, fits_file, self.m_image_tag))\n",
        "/home/mbonse/Git/PynPoint/PynPoint2/io_modules/FitsReading.py:174: UserWarning: Static keyword ESO TEL TARG PMA has changed. Probably the current file NACO.2012-08-25T05:41:59.774.fits does not belong to the data set \"00_raw_data\" of the PynPoint database. Updating Keyword...\n",
        "  % (key, fits_file, self.m_image_tag))\n",
        "/home/mbonse/Git/PynPoint/PynPoint2/io_modules/FitsReading.py:174: UserWarning: Static keyword ESO TEL TARG PMD has changed. Probably the current file NACO.2012-08-25T05:41:59.774.fits does not belong to the data set \"00_raw_data\" of the PynPoint database. Updating Keyword...\n",
        "  % (key, fits_file, self.m_image_tag))\n",
        "/home/mbonse/Git/PynPoint/PynPoint2/io_modules/FitsReading.py:189: UserWarning: Unknown Header \"ESO AOS VIS DET WFS MODE\" key found\n",
        "  warnings.warn('Unknown Header \"%s\" key found' %str(key))\n"
       ]
      },
      {
       "output_type": "stream",
       "stream": "stderr",
       "text": [
        "/home/mbonse/Git/PynPoint/PynPoint2/io_modules/FitsReading.py:189: UserWarning: Unknown Header \"ESO AOS VIS INS ADC1 POSNAM\" key found\n",
        "  warnings.warn('Unknown Header \"%s\" key found' %str(key))\n",
        "/home/mbonse/Git/PynPoint/PynPoint2/io_modules/FitsReading.py:189: UserWarning: Unknown Header \"ESO AOS VIS INS ADC2 POSNAM\" key found\n",
        "  warnings.warn('Unknown Header \"%s\" key found' %str(key))\n",
        "/home/mbonse/Git/PynPoint/PynPoint2/io_modules/FitsReading.py:189: UserWarning: Unknown Header \"ESO AOS VIS INS DIAP POSNAM\" key found\n",
        "  warnings.warn('Unknown Header \"%s\" key found' %str(key))\n",
        "/home/mbonse/Git/PynPoint/PynPoint2/io_modules/FitsReading.py:189: UserWarning: Unknown Header \"ESO AOS VIS INS LENS POSNAM\" key found\n",
        "  warnings.warn('Unknown Header \"%s\" key found' %str(key))\n",
        "/home/mbonse/Git/PynPoint/PynPoint2/io_modules/FitsReading.py:174: UserWarning: Static keyword ESO INS PRES-MON PRES1 has changed. Probably the current file NACO.2012-08-25T05:42:43.031.fits does not belong to the data set \"00_raw_data\" of the PynPoint database. Updating Keyword...\n",
        "  % (key, fits_file, self.m_image_tag))\n"
       ]
      },
      {
       "output_type": "stream",
       "stream": "stdout",
       "text": [
        "\n",
        "Reading NACO.2012-08-25T05:43:35.685.fits"
       ]
      },
      {
       "output_type": "stream",
       "stream": "stderr",
       "text": [
        "/home/mbonse/Git/PynPoint/PynPoint2/io_modules/FitsReading.py:174: UserWarning: Static keyword ESO OBS ID has changed. Probably the current file NACO.2012-08-25T05:42:43.031.fits does not belong to the data set \"00_raw_data\" of the PynPoint database. Updating Keyword...\n",
        "  % (key, fits_file, self.m_image_tag))\n",
        "/home/mbonse/Git/PynPoint/PynPoint2/io_modules/FitsReading.py:174: UserWarning: Static keyword ESO TEL TARG PMA has changed. Probably the current file NACO.2012-08-25T05:42:43.031.fits does not belong to the data set \"00_raw_data\" of the PynPoint database. Updating Keyword...\n",
        "  % (key, fits_file, self.m_image_tag))\n",
        "/home/mbonse/Git/PynPoint/PynPoint2/io_modules/FitsReading.py:174: UserWarning: Static keyword ESO TEL TARG PMD has changed. Probably the current file NACO.2012-08-25T05:42:43.031.fits does not belong to the data set \"00_raw_data\" of the PynPoint database. Updating Keyword...\n",
        "  % (key, fits_file, self.m_image_tag))\n",
        "/home/mbonse/Git/PynPoint/PynPoint2/io_modules/FitsReading.py:189: UserWarning: Unknown Header \"ESO AOS VIS DET WFS MODE\" key found\n",
        "  warnings.warn('Unknown Header \"%s\" key found' %str(key))\n"
       ]
      },
      {
       "output_type": "stream",
       "stream": "stderr",
       "text": [
        "/home/mbonse/Git/PynPoint/PynPoint2/io_modules/FitsReading.py:189: UserWarning: Unknown Header \"ESO AOS VIS INS ADC1 POSNAM\" key found\n",
        "  warnings.warn('Unknown Header \"%s\" key found' %str(key))\n",
        "/home/mbonse/Git/PynPoint/PynPoint2/io_modules/FitsReading.py:189: UserWarning: Unknown Header \"ESO AOS VIS INS ADC2 POSNAM\" key found\n",
        "  warnings.warn('Unknown Header \"%s\" key found' %str(key))\n",
        "/home/mbonse/Git/PynPoint/PynPoint2/io_modules/FitsReading.py:189: UserWarning: Unknown Header \"ESO AOS VIS INS DIAP POSNAM\" key found\n",
        "  warnings.warn('Unknown Header \"%s\" key found' %str(key))\n",
        "/home/mbonse/Git/PynPoint/PynPoint2/io_modules/FitsReading.py:189: UserWarning: Unknown Header \"ESO AOS VIS INS LENS POSNAM\" key found\n",
        "  warnings.warn('Unknown Header \"%s\" key found' %str(key))\n",
        "/home/mbonse/Git/PynPoint/PynPoint2/io_modules/FitsReading.py:174: UserWarning: Static keyword ESO INS PRES-MON PRES1 has changed. Probably the current file NACO.2012-08-25T05:43:35.685.fits does not belong to the data set \"00_raw_data\" of the PynPoint database. Updating Keyword...\n",
        "  % (key, fits_file, self.m_image_tag))\n"
       ]
      },
      {
       "output_type": "stream",
       "stream": "stdout",
       "text": [
        "\n",
        "Reading NACO.2012-08-25T05:44:19.214.fits"
       ]
      },
      {
       "output_type": "stream",
       "stream": "stderr",
       "text": [
        "/home/mbonse/Git/PynPoint/PynPoint2/io_modules/FitsReading.py:174: UserWarning: Static keyword ESO OBS ID has changed. Probably the current file NACO.2012-08-25T05:43:35.685.fits does not belong to the data set \"00_raw_data\" of the PynPoint database. Updating Keyword...\n",
        "  % (key, fits_file, self.m_image_tag))\n",
        "/home/mbonse/Git/PynPoint/PynPoint2/io_modules/FitsReading.py:174: UserWarning: Static keyword ESO TEL TARG PMA has changed. Probably the current file NACO.2012-08-25T05:43:35.685.fits does not belong to the data set \"00_raw_data\" of the PynPoint database. Updating Keyword...\n",
        "  % (key, fits_file, self.m_image_tag))\n",
        "/home/mbonse/Git/PynPoint/PynPoint2/io_modules/FitsReading.py:174: UserWarning: Static keyword ESO TEL TARG PMD has changed. Probably the current file NACO.2012-08-25T05:43:35.685.fits does not belong to the data set \"00_raw_data\" of the PynPoint database. Updating Keyword...\n",
        "  % (key, fits_file, self.m_image_tag))\n",
        "/home/mbonse/Git/PynPoint/PynPoint2/io_modules/FitsReading.py:189: UserWarning: Unknown Header \"ESO AOS VIS DET WFS MODE\" key found\n",
        "  warnings.warn('Unknown Header \"%s\" key found' %str(key))\n"
       ]
      },
      {
       "output_type": "stream",
       "stream": "stderr",
       "text": [
        "/home/mbonse/Git/PynPoint/PynPoint2/io_modules/FitsReading.py:189: UserWarning: Unknown Header \"ESO AOS VIS INS ADC1 POSNAM\" key found\n",
        "  warnings.warn('Unknown Header \"%s\" key found' %str(key))\n",
        "/home/mbonse/Git/PynPoint/PynPoint2/io_modules/FitsReading.py:189: UserWarning: Unknown Header \"ESO AOS VIS INS ADC2 POSNAM\" key found\n",
        "  warnings.warn('Unknown Header \"%s\" key found' %str(key))\n",
        "/home/mbonse/Git/PynPoint/PynPoint2/io_modules/FitsReading.py:189: UserWarning: Unknown Header \"ESO AOS VIS INS DIAP POSNAM\" key found\n",
        "  warnings.warn('Unknown Header \"%s\" key found' %str(key))\n",
        "/home/mbonse/Git/PynPoint/PynPoint2/io_modules/FitsReading.py:189: UserWarning: Unknown Header \"ESO AOS VIS INS LENS POSNAM\" key found\n",
        "  warnings.warn('Unknown Header \"%s\" key found' %str(key))\n",
        "/home/mbonse/Git/PynPoint/PynPoint2/io_modules/FitsReading.py:174: UserWarning: Static keyword ESO INS PRES-MON PRES1 has changed. Probably the current file NACO.2012-08-25T05:44:19.214.fits does not belong to the data set \"00_raw_data\" of the PynPoint database. Updating Keyword...\n",
        "  % (key, fits_file, self.m_image_tag))\n"
       ]
      },
      {
       "output_type": "stream",
       "stream": "stdout",
       "text": [
        "\n",
        "Reading NACO.2012-08-25T05:45:25.868.fits"
       ]
      },
      {
       "output_type": "stream",
       "stream": "stderr",
       "text": [
        "/home/mbonse/Git/PynPoint/PynPoint2/io_modules/FitsReading.py:174: UserWarning: Static keyword ESO OBS ID has changed. Probably the current file NACO.2012-08-25T05:44:19.214.fits does not belong to the data set \"00_raw_data\" of the PynPoint database. Updating Keyword...\n",
        "  % (key, fits_file, self.m_image_tag))\n",
        "/home/mbonse/Git/PynPoint/PynPoint2/io_modules/FitsReading.py:174: UserWarning: Static keyword ESO TEL DOME STATUS has changed. Probably the current file NACO.2012-08-25T05:44:19.214.fits does not belong to the data set \"00_raw_data\" of the PynPoint database. Updating Keyword...\n",
        "  % (key, fits_file, self.m_image_tag))\n",
        "/home/mbonse/Git/PynPoint/PynPoint2/io_modules/FitsReading.py:174: UserWarning: Static keyword ESO TEL TARG PMA has changed. Probably the current file NACO.2012-08-25T05:44:19.214.fits does not belong to the data set \"00_raw_data\" of the PynPoint database. Updating Keyword...\n",
        "  % (key, fits_file, self.m_image_tag))\n",
        "/home/mbonse/Git/PynPoint/PynPoint2/io_modules/FitsReading.py:174: UserWarning: Static keyword ESO TEL TARG PMD has changed. Probably the current file NACO.2012-08-25T05:44:19.214.fits does not belong to the data set \"00_raw_data\" of the PynPoint database. Updating Keyword...\n",
        "  % (key, fits_file, self.m_image_tag))\n",
        "/home/mbonse/Git/PynPoint/PynPoint2/io_modules/FitsReading.py:189: UserWarning: Unknown Header \"ESO AOS VIS DET WFS MODE\" key found\n",
        "  warnings.warn('Unknown Header \"%s\" key found' %str(key))\n"
       ]
      },
      {
       "output_type": "stream",
       "stream": "stderr",
       "text": [
        "/home/mbonse/Git/PynPoint/PynPoint2/io_modules/FitsReading.py:189: UserWarning: Unknown Header \"ESO AOS VIS INS ADC1 POSNAM\" key found\n",
        "  warnings.warn('Unknown Header \"%s\" key found' %str(key))\n",
        "/home/mbonse/Git/PynPoint/PynPoint2/io_modules/FitsReading.py:189: UserWarning: Unknown Header \"ESO AOS VIS INS ADC2 POSNAM\" key found\n",
        "  warnings.warn('Unknown Header \"%s\" key found' %str(key))\n",
        "/home/mbonse/Git/PynPoint/PynPoint2/io_modules/FitsReading.py:189: UserWarning: Unknown Header \"ESO AOS VIS INS DIAP POSNAM\" key found\n",
        "  warnings.warn('Unknown Header \"%s\" key found' %str(key))\n",
        "/home/mbonse/Git/PynPoint/PynPoint2/io_modules/FitsReading.py:189: UserWarning: Unknown Header \"ESO AOS VIS INS LENS POSNAM\" key found\n",
        "  warnings.warn('Unknown Header \"%s\" key found' %str(key))\n",
        "/home/mbonse/Git/PynPoint/PynPoint2/io_modules/FitsReading.py:174: UserWarning: Static keyword ESO INS PRES-MON PRES1 has changed. Probably the current file NACO.2012-08-25T05:45:25.868.fits does not belong to the data set \"00_raw_data\" of the PynPoint database. Updating Keyword...\n",
        "  % (key, fits_file, self.m_image_tag))\n"
       ]
      },
      {
       "output_type": "stream",
       "stream": "stdout",
       "text": [
        "\n",
        "Reading NACO.2012-08-25T05:46:09.566.fits"
       ]
      },
      {
       "output_type": "stream",
       "stream": "stderr",
       "text": [
        "/home/mbonse/Git/PynPoint/PynPoint2/io_modules/FitsReading.py:174: UserWarning: Static keyword ESO OBS ID has changed. Probably the current file NACO.2012-08-25T05:45:25.868.fits does not belong to the data set \"00_raw_data\" of the PynPoint database. Updating Keyword...\n",
        "  % (key, fits_file, self.m_image_tag))\n",
        "/home/mbonse/Git/PynPoint/PynPoint2/io_modules/FitsReading.py:174: UserWarning: Static keyword ESO TEL TARG PMA has changed. Probably the current file NACO.2012-08-25T05:45:25.868.fits does not belong to the data set \"00_raw_data\" of the PynPoint database. Updating Keyword...\n",
        "  % (key, fits_file, self.m_image_tag))\n",
        "/home/mbonse/Git/PynPoint/PynPoint2/io_modules/FitsReading.py:174: UserWarning: Static keyword ESO TEL TARG PMD has changed. Probably the current file NACO.2012-08-25T05:45:25.868.fits does not belong to the data set \"00_raw_data\" of the PynPoint database. Updating Keyword...\n",
        "  % (key, fits_file, self.m_image_tag))\n",
        "/home/mbonse/Git/PynPoint/PynPoint2/io_modules/FitsReading.py:189: UserWarning: Unknown Header \"ESO AOS VIS DET WFS MODE\" key found\n",
        "  warnings.warn('Unknown Header \"%s\" key found' %str(key))\n"
       ]
      },
      {
       "output_type": "stream",
       "stream": "stderr",
       "text": [
        "/home/mbonse/Git/PynPoint/PynPoint2/io_modules/FitsReading.py:189: UserWarning: Unknown Header \"ESO AOS VIS INS ADC1 POSNAM\" key found\n",
        "  warnings.warn('Unknown Header \"%s\" key found' %str(key))\n",
        "/home/mbonse/Git/PynPoint/PynPoint2/io_modules/FitsReading.py:189: UserWarning: Unknown Header \"ESO AOS VIS INS ADC2 POSNAM\" key found\n",
        "  warnings.warn('Unknown Header \"%s\" key found' %str(key))\n",
        "/home/mbonse/Git/PynPoint/PynPoint2/io_modules/FitsReading.py:189: UserWarning: Unknown Header \"ESO AOS VIS INS DIAP POSNAM\" key found\n",
        "  warnings.warn('Unknown Header \"%s\" key found' %str(key))\n",
        "/home/mbonse/Git/PynPoint/PynPoint2/io_modules/FitsReading.py:189: UserWarning: Unknown Header \"ESO AOS VIS INS LENS POSNAM\" key found\n",
        "  warnings.warn('Unknown Header \"%s\" key found' %str(key))\n",
        "/home/mbonse/Git/PynPoint/PynPoint2/io_modules/FitsReading.py:174: UserWarning: Static keyword ESO INS PRES-MON PRES1 has changed. Probably the current file NACO.2012-08-25T05:46:09.566.fits does not belong to the data set \"00_raw_data\" of the PynPoint database. Updating Keyword...\n",
        "  % (key, fits_file, self.m_image_tag))\n"
       ]
      },
      {
       "output_type": "stream",
       "stream": "stdout",
       "text": [
        "\n",
        "Reading NACO.2012-08-25T05:47:02.858.fits"
       ]
      },
      {
       "output_type": "stream",
       "stream": "stderr",
       "text": [
        "/home/mbonse/Git/PynPoint/PynPoint2/io_modules/FitsReading.py:174: UserWarning: Static keyword ESO OBS ID has changed. Probably the current file NACO.2012-08-25T05:46:09.566.fits does not belong to the data set \"00_raw_data\" of the PynPoint database. Updating Keyword...\n",
        "  % (key, fits_file, self.m_image_tag))\n",
        "/home/mbonse/Git/PynPoint/PynPoint2/io_modules/FitsReading.py:174: UserWarning: Static keyword ESO TEL TARG PMA has changed. Probably the current file NACO.2012-08-25T05:46:09.566.fits does not belong to the data set \"00_raw_data\" of the PynPoint database. Updating Keyword...\n",
        "  % (key, fits_file, self.m_image_tag))\n",
        "/home/mbonse/Git/PynPoint/PynPoint2/io_modules/FitsReading.py:174: UserWarning: Static keyword ESO TEL TARG PMD has changed. Probably the current file NACO.2012-08-25T05:46:09.566.fits does not belong to the data set \"00_raw_data\" of the PynPoint database. Updating Keyword...\n",
        "  % (key, fits_file, self.m_image_tag))\n",
        "/home/mbonse/Git/PynPoint/PynPoint2/io_modules/FitsReading.py:189: UserWarning: Unknown Header \"ESO AOS VIS DET WFS MODE\" key found\n",
        "  warnings.warn('Unknown Header \"%s\" key found' %str(key))\n"
       ]
      },
      {
       "output_type": "stream",
       "stream": "stderr",
       "text": [
        "/home/mbonse/Git/PynPoint/PynPoint2/io_modules/FitsReading.py:189: UserWarning: Unknown Header \"ESO AOS VIS INS ADC1 POSNAM\" key found\n",
        "  warnings.warn('Unknown Header \"%s\" key found' %str(key))\n",
        "/home/mbonse/Git/PynPoint/PynPoint2/io_modules/FitsReading.py:189: UserWarning: Unknown Header \"ESO AOS VIS INS ADC2 POSNAM\" key found\n",
        "  warnings.warn('Unknown Header \"%s\" key found' %str(key))\n",
        "/home/mbonse/Git/PynPoint/PynPoint2/io_modules/FitsReading.py:189: UserWarning: Unknown Header \"ESO AOS VIS INS DIAP POSNAM\" key found\n",
        "  warnings.warn('Unknown Header \"%s\" key found' %str(key))\n",
        "/home/mbonse/Git/PynPoint/PynPoint2/io_modules/FitsReading.py:189: UserWarning: Unknown Header \"ESO AOS VIS INS LENS POSNAM\" key found\n",
        "  warnings.warn('Unknown Header \"%s\" key found' %str(key))\n",
        "/home/mbonse/Git/PynPoint/PynPoint2/io_modules/FitsReading.py:174: UserWarning: Static keyword ESO INS PRES-MON PRES1 has changed. Probably the current file NACO.2012-08-25T05:47:02.858.fits does not belong to the data set \"00_raw_data\" of the PynPoint database. Updating Keyword...\n",
        "  % (key, fits_file, self.m_image_tag))\n"
       ]
      },
      {
       "output_type": "stream",
       "stream": "stdout",
       "text": [
        "\n",
        "Reading NACO.2012-08-25T05:47:46.715.fits"
       ]
      },
      {
       "output_type": "stream",
       "stream": "stderr",
       "text": [
        "/home/mbonse/Git/PynPoint/PynPoint2/io_modules/FitsReading.py:174: UserWarning: Static keyword ESO OBS ID has changed. Probably the current file NACO.2012-08-25T05:47:02.858.fits does not belong to the data set \"00_raw_data\" of the PynPoint database. Updating Keyword...\n",
        "  % (key, fits_file, self.m_image_tag))\n",
        "/home/mbonse/Git/PynPoint/PynPoint2/io_modules/FitsReading.py:174: UserWarning: Static keyword ESO TEL TARG PMA has changed. Probably the current file NACO.2012-08-25T05:47:02.858.fits does not belong to the data set \"00_raw_data\" of the PynPoint database. Updating Keyword...\n",
        "  % (key, fits_file, self.m_image_tag))\n",
        "/home/mbonse/Git/PynPoint/PynPoint2/io_modules/FitsReading.py:174: UserWarning: Static keyword ESO TEL TARG PMD has changed. Probably the current file NACO.2012-08-25T05:47:02.858.fits does not belong to the data set \"00_raw_data\" of the PynPoint database. Updating Keyword...\n",
        "  % (key, fits_file, self.m_image_tag))\n",
        "/home/mbonse/Git/PynPoint/PynPoint2/io_modules/FitsReading.py:189: UserWarning: Unknown Header \"ESO AOS VIS DET WFS MODE\" key found\n",
        "  warnings.warn('Unknown Header \"%s\" key found' %str(key))\n"
       ]
      },
      {
       "output_type": "stream",
       "stream": "stderr",
       "text": [
        "/home/mbonse/Git/PynPoint/PynPoint2/io_modules/FitsReading.py:189: UserWarning: Unknown Header \"ESO AOS VIS INS ADC1 POSNAM\" key found\n",
        "  warnings.warn('Unknown Header \"%s\" key found' %str(key))\n",
        "/home/mbonse/Git/PynPoint/PynPoint2/io_modules/FitsReading.py:189: UserWarning: Unknown Header \"ESO AOS VIS INS ADC2 POSNAM\" key found\n",
        "  warnings.warn('Unknown Header \"%s\" key found' %str(key))\n",
        "/home/mbonse/Git/PynPoint/PynPoint2/io_modules/FitsReading.py:189: UserWarning: Unknown Header \"ESO AOS VIS INS DIAP POSNAM\" key found\n",
        "  warnings.warn('Unknown Header \"%s\" key found' %str(key))\n",
        "/home/mbonse/Git/PynPoint/PynPoint2/io_modules/FitsReading.py:189: UserWarning: Unknown Header \"ESO AOS VIS INS LENS POSNAM\" key found\n",
        "  warnings.warn('Unknown Header \"%s\" key found' %str(key))\n",
        "/home/mbonse/Git/PynPoint/PynPoint2/io_modules/FitsReading.py:174: UserWarning: Static keyword ESO INS PRES-MON PRES1 has changed. Probably the current file NACO.2012-08-25T05:47:46.715.fits does not belong to the data set \"00_raw_data\" of the PynPoint database. Updating Keyword...\n",
        "  % (key, fits_file, self.m_image_tag))\n"
       ]
      },
      {
       "output_type": "stream",
       "stream": "stdout",
       "text": [
        "\n",
        "Reading NACO.2012-08-25T05:48:40.768.fits"
       ]
      },
      {
       "output_type": "stream",
       "stream": "stderr",
       "text": [
        "/home/mbonse/Git/PynPoint/PynPoint2/io_modules/FitsReading.py:174: UserWarning: Static keyword ESO OBS ID has changed. Probably the current file NACO.2012-08-25T05:47:46.715.fits does not belong to the data set \"00_raw_data\" of the PynPoint database. Updating Keyword...\n",
        "  % (key, fits_file, self.m_image_tag))\n",
        "/home/mbonse/Git/PynPoint/PynPoint2/io_modules/FitsReading.py:174: UserWarning: Static keyword ESO TEL TARG PMA has changed. Probably the current file NACO.2012-08-25T05:47:46.715.fits does not belong to the data set \"00_raw_data\" of the PynPoint database. Updating Keyword...\n",
        "  % (key, fits_file, self.m_image_tag))\n",
        "/home/mbonse/Git/PynPoint/PynPoint2/io_modules/FitsReading.py:174: UserWarning: Static keyword ESO TEL TARG PMD has changed. Probably the current file NACO.2012-08-25T05:47:46.715.fits does not belong to the data set \"00_raw_data\" of the PynPoint database. Updating Keyword...\n",
        "  % (key, fits_file, self.m_image_tag))\n",
        "/home/mbonse/Git/PynPoint/PynPoint2/io_modules/FitsReading.py:189: UserWarning: Unknown Header \"ESO AOS VIS DET WFS MODE\" key found\n",
        "  warnings.warn('Unknown Header \"%s\" key found' %str(key))\n"
       ]
      },
      {
       "output_type": "stream",
       "stream": "stderr",
       "text": [
        "/home/mbonse/Git/PynPoint/PynPoint2/io_modules/FitsReading.py:189: UserWarning: Unknown Header \"ESO AOS VIS INS ADC1 POSNAM\" key found\n",
        "  warnings.warn('Unknown Header \"%s\" key found' %str(key))\n",
        "/home/mbonse/Git/PynPoint/PynPoint2/io_modules/FitsReading.py:189: UserWarning: Unknown Header \"ESO AOS VIS INS ADC2 POSNAM\" key found\n",
        "  warnings.warn('Unknown Header \"%s\" key found' %str(key))\n",
        "/home/mbonse/Git/PynPoint/PynPoint2/io_modules/FitsReading.py:189: UserWarning: Unknown Header \"ESO AOS VIS INS DIAP POSNAM\" key found\n",
        "  warnings.warn('Unknown Header \"%s\" key found' %str(key))\n",
        "/home/mbonse/Git/PynPoint/PynPoint2/io_modules/FitsReading.py:189: UserWarning: Unknown Header \"ESO AOS VIS INS LENS POSNAM\" key found\n",
        "  warnings.warn('Unknown Header \"%s\" key found' %str(key))\n",
        "/home/mbonse/Git/PynPoint/PynPoint2/io_modules/FitsReading.py:174: UserWarning: Static keyword ESO INS PRES-MON PRES1 has changed. Probably the current file NACO.2012-08-25T05:48:40.768.fits does not belong to the data set \"00_raw_data\" of the PynPoint database. Updating Keyword...\n",
        "  % (key, fits_file, self.m_image_tag))\n"
       ]
      },
      {
       "output_type": "stream",
       "stream": "stdout",
       "text": [
        "\n",
        "Reading NACO.2012-08-25T05:49:24.225.fits"
       ]
      },
      {
       "output_type": "stream",
       "stream": "stderr",
       "text": [
        "/home/mbonse/Git/PynPoint/PynPoint2/io_modules/FitsReading.py:174: UserWarning: Static keyword ESO OBS ID has changed. Probably the current file NACO.2012-08-25T05:48:40.768.fits does not belong to the data set \"00_raw_data\" of the PynPoint database. Updating Keyword...\n",
        "  % (key, fits_file, self.m_image_tag))\n",
        "/home/mbonse/Git/PynPoint/PynPoint2/io_modules/FitsReading.py:174: UserWarning: Static keyword ESO TEL TARG PMA has changed. Probably the current file NACO.2012-08-25T05:48:40.768.fits does not belong to the data set \"00_raw_data\" of the PynPoint database. Updating Keyword...\n",
        "  % (key, fits_file, self.m_image_tag))\n",
        "/home/mbonse/Git/PynPoint/PynPoint2/io_modules/FitsReading.py:174: UserWarning: Static keyword ESO TEL TARG PMD has changed. Probably the current file NACO.2012-08-25T05:48:40.768.fits does not belong to the data set \"00_raw_data\" of the PynPoint database. Updating Keyword...\n",
        "  % (key, fits_file, self.m_image_tag))\n",
        "/home/mbonse/Git/PynPoint/PynPoint2/io_modules/FitsReading.py:189: UserWarning: Unknown Header \"ESO AOS VIS DET WFS MODE\" key found\n",
        "  warnings.warn('Unknown Header \"%s\" key found' %str(key))\n"
       ]
      },
      {
       "output_type": "stream",
       "stream": "stderr",
       "text": [
        "/home/mbonse/Git/PynPoint/PynPoint2/io_modules/FitsReading.py:189: UserWarning: Unknown Header \"ESO AOS VIS INS ADC1 POSNAM\" key found\n",
        "  warnings.warn('Unknown Header \"%s\" key found' %str(key))\n",
        "/home/mbonse/Git/PynPoint/PynPoint2/io_modules/FitsReading.py:189: UserWarning: Unknown Header \"ESO AOS VIS INS ADC2 POSNAM\" key found\n",
        "  warnings.warn('Unknown Header \"%s\" key found' %str(key))\n",
        "/home/mbonse/Git/PynPoint/PynPoint2/io_modules/FitsReading.py:189: UserWarning: Unknown Header \"ESO AOS VIS INS DIAP POSNAM\" key found\n",
        "  warnings.warn('Unknown Header \"%s\" key found' %str(key))\n",
        "/home/mbonse/Git/PynPoint/PynPoint2/io_modules/FitsReading.py:189: UserWarning: Unknown Header \"ESO AOS VIS INS LENS POSNAM\" key found\n",
        "  warnings.warn('Unknown Header \"%s\" key found' %str(key))\n",
        "/home/mbonse/Git/PynPoint/PynPoint2/io_modules/FitsReading.py:174: UserWarning: Static keyword ESO INS PRES-MON PRES1 has changed. Probably the current file NACO.2012-08-25T05:49:24.225.fits does not belong to the data set \"00_raw_data\" of the PynPoint database. Updating Keyword...\n",
        "  % (key, fits_file, self.m_image_tag))\n"
       ]
      },
      {
       "output_type": "stream",
       "stream": "stdout",
       "text": [
        "\n",
        "Reading NACO.2012-08-25T05:50:15.318.fits"
       ]
      },
      {
       "output_type": "stream",
       "stream": "stderr",
       "text": [
        "/home/mbonse/Git/PynPoint/PynPoint2/io_modules/FitsReading.py:174: UserWarning: Static keyword ESO OBS ID has changed. Probably the current file NACO.2012-08-25T05:49:24.225.fits does not belong to the data set \"00_raw_data\" of the PynPoint database. Updating Keyword...\n",
        "  % (key, fits_file, self.m_image_tag))\n",
        "/home/mbonse/Git/PynPoint/PynPoint2/io_modules/FitsReading.py:174: UserWarning: Static keyword ESO TEL TARG PMA has changed. Probably the current file NACO.2012-08-25T05:49:24.225.fits does not belong to the data set \"00_raw_data\" of the PynPoint database. Updating Keyword...\n",
        "  % (key, fits_file, self.m_image_tag))\n",
        "/home/mbonse/Git/PynPoint/PynPoint2/io_modules/FitsReading.py:174: UserWarning: Static keyword ESO TEL TARG PMD has changed. Probably the current file NACO.2012-08-25T05:49:24.225.fits does not belong to the data set \"00_raw_data\" of the PynPoint database. Updating Keyword...\n",
        "  % (key, fits_file, self.m_image_tag))\n",
        "/home/mbonse/Git/PynPoint/PynPoint2/io_modules/FitsReading.py:189: UserWarning: Unknown Header \"ESO AOS VIS DET WFS MODE\" key found\n",
        "  warnings.warn('Unknown Header \"%s\" key found' %str(key))\n"
       ]
      },
      {
       "output_type": "stream",
       "stream": "stderr",
       "text": [
        "/home/mbonse/Git/PynPoint/PynPoint2/io_modules/FitsReading.py:189: UserWarning: Unknown Header \"ESO AOS VIS INS ADC1 POSNAM\" key found\n",
        "  warnings.warn('Unknown Header \"%s\" key found' %str(key))\n",
        "/home/mbonse/Git/PynPoint/PynPoint2/io_modules/FitsReading.py:189: UserWarning: Unknown Header \"ESO AOS VIS INS ADC2 POSNAM\" key found\n",
        "  warnings.warn('Unknown Header \"%s\" key found' %str(key))\n",
        "/home/mbonse/Git/PynPoint/PynPoint2/io_modules/FitsReading.py:189: UserWarning: Unknown Header \"ESO AOS VIS INS DIAP POSNAM\" key found\n",
        "  warnings.warn('Unknown Header \"%s\" key found' %str(key))\n",
        "/home/mbonse/Git/PynPoint/PynPoint2/io_modules/FitsReading.py:189: UserWarning: Unknown Header \"ESO AOS VIS INS LENS POSNAM\" key found\n",
        "  warnings.warn('Unknown Header \"%s\" key found' %str(key))\n",
        "/home/mbonse/Git/PynPoint/PynPoint2/io_modules/FitsReading.py:174: UserWarning: Static keyword ESO INS PRES-MON PRES1 has changed. Probably the current file NACO.2012-08-25T05:50:15.318.fits does not belong to the data set \"00_raw_data\" of the PynPoint database. Updating Keyword...\n",
        "  % (key, fits_file, self.m_image_tag))\n"
       ]
      },
      {
       "output_type": "stream",
       "stream": "stdout",
       "text": [
        "\n",
        "Reading NACO.2012-08-25T05:50:59.178.fits"
       ]
      },
      {
       "output_type": "stream",
       "stream": "stderr",
       "text": [
        "/home/mbonse/Git/PynPoint/PynPoint2/io_modules/FitsReading.py:174: UserWarning: Static keyword ESO OBS ID has changed. Probably the current file NACO.2012-08-25T05:50:15.318.fits does not belong to the data set \"00_raw_data\" of the PynPoint database. Updating Keyword...\n",
        "  % (key, fits_file, self.m_image_tag))\n",
        "/home/mbonse/Git/PynPoint/PynPoint2/io_modules/FitsReading.py:174: UserWarning: Static keyword ESO TEL TARG PMA has changed. Probably the current file NACO.2012-08-25T05:50:15.318.fits does not belong to the data set \"00_raw_data\" of the PynPoint database. Updating Keyword...\n",
        "  % (key, fits_file, self.m_image_tag))\n",
        "/home/mbonse/Git/PynPoint/PynPoint2/io_modules/FitsReading.py:174: UserWarning: Static keyword ESO TEL TARG PMD has changed. Probably the current file NACO.2012-08-25T05:50:15.318.fits does not belong to the data set \"00_raw_data\" of the PynPoint database. Updating Keyword...\n",
        "  % (key, fits_file, self.m_image_tag))\n",
        "/home/mbonse/Git/PynPoint/PynPoint2/io_modules/FitsReading.py:189: UserWarning: Unknown Header \"ESO AOS VIS DET WFS MODE\" key found\n",
        "  warnings.warn('Unknown Header \"%s\" key found' %str(key))\n"
       ]
      },
      {
       "output_type": "stream",
       "stream": "stderr",
       "text": [
        "/home/mbonse/Git/PynPoint/PynPoint2/io_modules/FitsReading.py:189: UserWarning: Unknown Header \"ESO AOS VIS INS ADC1 POSNAM\" key found\n",
        "  warnings.warn('Unknown Header \"%s\" key found' %str(key))\n",
        "/home/mbonse/Git/PynPoint/PynPoint2/io_modules/FitsReading.py:189: UserWarning: Unknown Header \"ESO AOS VIS INS ADC2 POSNAM\" key found\n",
        "  warnings.warn('Unknown Header \"%s\" key found' %str(key))\n",
        "/home/mbonse/Git/PynPoint/PynPoint2/io_modules/FitsReading.py:189: UserWarning: Unknown Header \"ESO AOS VIS INS DIAP POSNAM\" key found\n",
        "  warnings.warn('Unknown Header \"%s\" key found' %str(key))\n",
        "/home/mbonse/Git/PynPoint/PynPoint2/io_modules/FitsReading.py:189: UserWarning: Unknown Header \"ESO AOS VIS INS LENS POSNAM\" key found\n",
        "  warnings.warn('Unknown Header \"%s\" key found' %str(key))\n",
        "/home/mbonse/Git/PynPoint/PynPoint2/io_modules/FitsReading.py:174: UserWarning: Static keyword ESO INS PRES-MON PRES1 has changed. Probably the current file NACO.2012-08-25T05:50:59.178.fits does not belong to the data set \"00_raw_data\" of the PynPoint database. Updating Keyword...\n",
        "  % (key, fits_file, self.m_image_tag))\n"
       ]
      },
      {
       "output_type": "stream",
       "stream": "stdout",
       "text": [
        "\n",
        "Reading NACO.2012-08-25T06:08:39.963.fits"
       ]
      },
      {
       "output_type": "stream",
       "stream": "stderr",
       "text": [
        "/home/mbonse/Git/PynPoint/PynPoint2/io_modules/FitsReading.py:174: UserWarning: Static keyword ESO OBS ID has changed. Probably the current file NACO.2012-08-25T05:50:59.178.fits does not belong to the data set \"00_raw_data\" of the PynPoint database. Updating Keyword...\n",
        "  % (key, fits_file, self.m_image_tag))\n",
        "/home/mbonse/Git/PynPoint/PynPoint2/io_modules/FitsReading.py:174: UserWarning: Static keyword ESO TEL TARG PMA has changed. Probably the current file NACO.2012-08-25T05:50:59.178.fits does not belong to the data set \"00_raw_data\" of the PynPoint database. Updating Keyword...\n",
        "  % (key, fits_file, self.m_image_tag))\n",
        "/home/mbonse/Git/PynPoint/PynPoint2/io_modules/FitsReading.py:174: UserWarning: Static keyword ESO TEL TARG PMD has changed. Probably the current file NACO.2012-08-25T05:50:59.178.fits does not belong to the data set \"00_raw_data\" of the PynPoint database. Updating Keyword...\n",
        "  % (key, fits_file, self.m_image_tag))\n",
        "/home/mbonse/Git/PynPoint/PynPoint2/io_modules/FitsReading.py:189: UserWarning: Unknown Header \"ESO AOS VIS DET WFS MODE\" key found\n",
        "  warnings.warn('Unknown Header \"%s\" key found' %str(key))\n"
       ]
      },
      {
       "output_type": "stream",
       "stream": "stderr",
       "text": [
        "/home/mbonse/Git/PynPoint/PynPoint2/io_modules/FitsReading.py:189: UserWarning: Unknown Header \"ESO AOS VIS INS ADC1 POSNAM\" key found\n",
        "  warnings.warn('Unknown Header \"%s\" key found' %str(key))\n",
        "/home/mbonse/Git/PynPoint/PynPoint2/io_modules/FitsReading.py:189: UserWarning: Unknown Header \"ESO AOS VIS INS ADC2 POSNAM\" key found\n",
        "  warnings.warn('Unknown Header \"%s\" key found' %str(key))\n",
        "/home/mbonse/Git/PynPoint/PynPoint2/io_modules/FitsReading.py:189: UserWarning: Unknown Header \"ESO AOS VIS INS DIAP POSNAM\" key found\n",
        "  warnings.warn('Unknown Header \"%s\" key found' %str(key))\n",
        "/home/mbonse/Git/PynPoint/PynPoint2/io_modules/FitsReading.py:189: UserWarning: Unknown Header \"ESO AOS VIS INS LENS POSNAM\" key found\n",
        "  warnings.warn('Unknown Header \"%s\" key found' %str(key))\n",
        "/home/mbonse/Git/PynPoint/PynPoint2/io_modules/FitsReading.py:174: UserWarning: Static keyword ESO INS PRES-MON PRES1 has changed. Probably the current file NACO.2012-08-25T06:08:39.963.fits does not belong to the data set \"00_raw_data\" of the PynPoint database. Updating Keyword...\n",
        "  % (key, fits_file, self.m_image_tag))\n"
       ]
      },
      {
       "output_type": "stream",
       "stream": "stdout",
       "text": [
        "\n",
        "Reading NACO.2012-08-25T06:09:23.419.fits"
       ]
      },
      {
       "output_type": "stream",
       "stream": "stderr",
       "text": [
        "/home/mbonse/Git/PynPoint/PynPoint2/io_modules/FitsReading.py:174: UserWarning: Static keyword ESO OBS ID has changed. Probably the current file NACO.2012-08-25T06:08:39.963.fits does not belong to the data set \"00_raw_data\" of the PynPoint database. Updating Keyword...\n",
        "  % (key, fits_file, self.m_image_tag))\n",
        "/home/mbonse/Git/PynPoint/PynPoint2/io_modules/FitsReading.py:189: UserWarning: Unknown Header \"ESO AOS VIS DET WFS MODE\" key found\n",
        "  warnings.warn('Unknown Header \"%s\" key found' %str(key))\n"
       ]
      },
      {
       "output_type": "stream",
       "stream": "stderr",
       "text": [
        "/home/mbonse/Git/PynPoint/PynPoint2/io_modules/FitsReading.py:189: UserWarning: Unknown Header \"ESO AOS VIS INS ADC1 POSNAM\" key found\n",
        "  warnings.warn('Unknown Header \"%s\" key found' %str(key))\n",
        "/home/mbonse/Git/PynPoint/PynPoint2/io_modules/FitsReading.py:189: UserWarning: Unknown Header \"ESO AOS VIS INS ADC2 POSNAM\" key found\n",
        "  warnings.warn('Unknown Header \"%s\" key found' %str(key))\n",
        "/home/mbonse/Git/PynPoint/PynPoint2/io_modules/FitsReading.py:189: UserWarning: Unknown Header \"ESO AOS VIS INS DIAP POSNAM\" key found\n",
        "  warnings.warn('Unknown Header \"%s\" key found' %str(key))\n",
        "/home/mbonse/Git/PynPoint/PynPoint2/io_modules/FitsReading.py:189: UserWarning: Unknown Header \"ESO AOS VIS INS LENS POSNAM\" key found\n",
        "  warnings.warn('Unknown Header \"%s\" key found' %str(key))\n",
        "/home/mbonse/Git/PynPoint/PynPoint2/io_modules/FitsReading.py:174: UserWarning: Static keyword ESO INS PRES-MON PRES1 has changed. Probably the current file NACO.2012-08-25T06:09:23.419.fits does not belong to the data set \"00_raw_data\" of the PynPoint database. Updating Keyword...\n",
        "  % (key, fits_file, self.m_image_tag))\n"
       ]
      },
      {
       "output_type": "stream",
       "stream": "stdout",
       "text": [
        "\n",
        "Reading NACO.2012-08-25T06:10:14.873.fits"
       ]
      },
      {
       "output_type": "stream",
       "stream": "stderr",
       "text": [
        "/home/mbonse/Git/PynPoint/PynPoint2/io_modules/FitsReading.py:174: UserWarning: Static keyword ESO OBS ID has changed. Probably the current file NACO.2012-08-25T06:09:23.419.fits does not belong to the data set \"00_raw_data\" of the PynPoint database. Updating Keyword...\n",
        "  % (key, fits_file, self.m_image_tag))\n",
        "/home/mbonse/Git/PynPoint/PynPoint2/io_modules/FitsReading.py:189: UserWarning: Unknown Header \"ESO AOS VIS DET WFS MODE\" key found\n",
        "  warnings.warn('Unknown Header \"%s\" key found' %str(key))\n"
       ]
      },
      {
       "output_type": "stream",
       "stream": "stderr",
       "text": [
        "/home/mbonse/Git/PynPoint/PynPoint2/io_modules/FitsReading.py:189: UserWarning: Unknown Header \"ESO AOS VIS INS ADC1 POSNAM\" key found\n",
        "  warnings.warn('Unknown Header \"%s\" key found' %str(key))\n",
        "/home/mbonse/Git/PynPoint/PynPoint2/io_modules/FitsReading.py:189: UserWarning: Unknown Header \"ESO AOS VIS INS ADC2 POSNAM\" key found\n",
        "  warnings.warn('Unknown Header \"%s\" key found' %str(key))\n",
        "/home/mbonse/Git/PynPoint/PynPoint2/io_modules/FitsReading.py:189: UserWarning: Unknown Header \"ESO AOS VIS INS DIAP POSNAM\" key found\n",
        "  warnings.warn('Unknown Header \"%s\" key found' %str(key))\n",
        "/home/mbonse/Git/PynPoint/PynPoint2/io_modules/FitsReading.py:189: UserWarning: Unknown Header \"ESO AOS VIS INS LENS POSNAM\" key found\n",
        "  warnings.warn('Unknown Header \"%s\" key found' %str(key))\n",
        "/home/mbonse/Git/PynPoint/PynPoint2/io_modules/FitsReading.py:174: UserWarning: Static keyword ESO INS PRES-MON PRES1 has changed. Probably the current file NACO.2012-08-25T06:10:14.873.fits does not belong to the data set \"00_raw_data\" of the PynPoint database. Updating Keyword...\n",
        "  % (key, fits_file, self.m_image_tag))\n"
       ]
      },
      {
       "output_type": "stream",
       "stream": "stdout",
       "text": [
        "\n",
        "Reading NACO.2012-08-25T06:10:58.530.fits"
       ]
      },
      {
       "output_type": "stream",
       "stream": "stderr",
       "text": [
        "/home/mbonse/Git/PynPoint/PynPoint2/io_modules/FitsReading.py:174: UserWarning: Static keyword ESO OBS ID has changed. Probably the current file NACO.2012-08-25T06:10:14.873.fits does not belong to the data set \"00_raw_data\" of the PynPoint database. Updating Keyword...\n",
        "  % (key, fits_file, self.m_image_tag))\n",
        "/home/mbonse/Git/PynPoint/PynPoint2/io_modules/FitsReading.py:189: UserWarning: Unknown Header \"ESO AOS VIS DET WFS MODE\" key found\n",
        "  warnings.warn('Unknown Header \"%s\" key found' %str(key))\n"
       ]
      },
      {
       "output_type": "stream",
       "stream": "stderr",
       "text": [
        "/home/mbonse/Git/PynPoint/PynPoint2/io_modules/FitsReading.py:189: UserWarning: Unknown Header \"ESO AOS VIS INS ADC1 POSNAM\" key found\n",
        "  warnings.warn('Unknown Header \"%s\" key found' %str(key))\n",
        "/home/mbonse/Git/PynPoint/PynPoint2/io_modules/FitsReading.py:189: UserWarning: Unknown Header \"ESO AOS VIS INS ADC2 POSNAM\" key found\n",
        "  warnings.warn('Unknown Header \"%s\" key found' %str(key))\n",
        "/home/mbonse/Git/PynPoint/PynPoint2/io_modules/FitsReading.py:189: UserWarning: Unknown Header \"ESO AOS VIS INS DIAP POSNAM\" key found\n",
        "  warnings.warn('Unknown Header \"%s\" key found' %str(key))\n",
        "/home/mbonse/Git/PynPoint/PynPoint2/io_modules/FitsReading.py:189: UserWarning: Unknown Header \"ESO AOS VIS INS LENS POSNAM\" key found\n",
        "  warnings.warn('Unknown Header \"%s\" key found' %str(key))\n",
        "/home/mbonse/Git/PynPoint/PynPoint2/io_modules/FitsReading.py:174: UserWarning: Static keyword ESO INS PRES-MON PRES1 has changed. Probably the current file NACO.2012-08-25T06:10:58.530.fits does not belong to the data set \"00_raw_data\" of the PynPoint database. Updating Keyword...\n",
        "  % (key, fits_file, self.m_image_tag))\n"
       ]
      },
      {
       "output_type": "stream",
       "stream": "stdout",
       "text": [
        "\n",
        "Reading NACO.2012-08-25T06:11:50.025.fits"
       ]
      },
      {
       "output_type": "stream",
       "stream": "stderr",
       "text": [
        "/home/mbonse/Git/PynPoint/PynPoint2/io_modules/FitsReading.py:174: UserWarning: Static keyword ESO OBS ID has changed. Probably the current file NACO.2012-08-25T06:10:58.530.fits does not belong to the data set \"00_raw_data\" of the PynPoint database. Updating Keyword...\n",
        "  % (key, fits_file, self.m_image_tag))\n",
        "/home/mbonse/Git/PynPoint/PynPoint2/io_modules/FitsReading.py:189: UserWarning: Unknown Header \"ESO AOS VIS DET WFS MODE\" key found\n",
        "  warnings.warn('Unknown Header \"%s\" key found' %str(key))\n"
       ]
      },
      {
       "output_type": "stream",
       "stream": "stderr",
       "text": [
        "/home/mbonse/Git/PynPoint/PynPoint2/io_modules/FitsReading.py:189: UserWarning: Unknown Header \"ESO AOS VIS INS ADC1 POSNAM\" key found\n",
        "  warnings.warn('Unknown Header \"%s\" key found' %str(key))\n",
        "/home/mbonse/Git/PynPoint/PynPoint2/io_modules/FitsReading.py:189: UserWarning: Unknown Header \"ESO AOS VIS INS ADC2 POSNAM\" key found\n",
        "  warnings.warn('Unknown Header \"%s\" key found' %str(key))\n",
        "/home/mbonse/Git/PynPoint/PynPoint2/io_modules/FitsReading.py:189: UserWarning: Unknown Header \"ESO AOS VIS INS DIAP POSNAM\" key found\n",
        "  warnings.warn('Unknown Header \"%s\" key found' %str(key))\n",
        "/home/mbonse/Git/PynPoint/PynPoint2/io_modules/FitsReading.py:189: UserWarning: Unknown Header \"ESO AOS VIS INS LENS POSNAM\" key found\n",
        "  warnings.warn('Unknown Header \"%s\" key found' %str(key))\n",
        "/home/mbonse/Git/PynPoint/PynPoint2/io_modules/FitsReading.py:174: UserWarning: Static keyword ESO INS PRES-MON PRES1 has changed. Probably the current file NACO.2012-08-25T06:11:50.025.fits does not belong to the data set \"00_raw_data\" of the PynPoint database. Updating Keyword...\n",
        "  % (key, fits_file, self.m_image_tag))\n"
       ]
      },
      {
       "output_type": "stream",
       "stream": "stdout",
       "text": [
        "\n",
        "Reading NACO.2012-08-25T06:12:33.684.fits"
       ]
      },
      {
       "output_type": "stream",
       "stream": "stderr",
       "text": [
        "/home/mbonse/Git/PynPoint/PynPoint2/io_modules/FitsReading.py:174: UserWarning: Static keyword ESO OBS ID has changed. Probably the current file NACO.2012-08-25T06:11:50.025.fits does not belong to the data set \"00_raw_data\" of the PynPoint database. Updating Keyword...\n",
        "  % (key, fits_file, self.m_image_tag))\n",
        "/home/mbonse/Git/PynPoint/PynPoint2/io_modules/FitsReading.py:189: UserWarning: Unknown Header \"ESO AOS VIS DET WFS MODE\" key found\n",
        "  warnings.warn('Unknown Header \"%s\" key found' %str(key))\n"
       ]
      },
      {
       "output_type": "stream",
       "stream": "stderr",
       "text": [
        "/home/mbonse/Git/PynPoint/PynPoint2/io_modules/FitsReading.py:189: UserWarning: Unknown Header \"ESO AOS VIS INS ADC1 POSNAM\" key found\n",
        "  warnings.warn('Unknown Header \"%s\" key found' %str(key))\n",
        "/home/mbonse/Git/PynPoint/PynPoint2/io_modules/FitsReading.py:189: UserWarning: Unknown Header \"ESO AOS VIS INS ADC2 POSNAM\" key found\n",
        "  warnings.warn('Unknown Header \"%s\" key found' %str(key))\n",
        "/home/mbonse/Git/PynPoint/PynPoint2/io_modules/FitsReading.py:189: UserWarning: Unknown Header \"ESO AOS VIS INS DIAP POSNAM\" key found\n",
        "  warnings.warn('Unknown Header \"%s\" key found' %str(key))\n",
        "/home/mbonse/Git/PynPoint/PynPoint2/io_modules/FitsReading.py:189: UserWarning: Unknown Header \"ESO AOS VIS INS LENS POSNAM\" key found\n",
        "  warnings.warn('Unknown Header \"%s\" key found' %str(key))\n",
        "/home/mbonse/Git/PynPoint/PynPoint2/io_modules/FitsReading.py:174: UserWarning: Static keyword ESO INS PRES-MON PRES1 has changed. Probably the current file NACO.2012-08-25T06:12:33.684.fits does not belong to the data set \"00_raw_data\" of the PynPoint database. Updating Keyword...\n",
        "  % (key, fits_file, self.m_image_tag))\n"
       ]
      },
      {
       "output_type": "stream",
       "stream": "stdout",
       "text": [
        "\n",
        "Reading NACO.2012-08-25T06:13:24.936.fits"
       ]
      },
      {
       "output_type": "stream",
       "stream": "stderr",
       "text": [
        "/home/mbonse/Git/PynPoint/PynPoint2/io_modules/FitsReading.py:174: UserWarning: Static keyword ESO OBS ID has changed. Probably the current file NACO.2012-08-25T06:12:33.684.fits does not belong to the data set \"00_raw_data\" of the PynPoint database. Updating Keyword...\n",
        "  % (key, fits_file, self.m_image_tag))\n",
        "/home/mbonse/Git/PynPoint/PynPoint2/io_modules/FitsReading.py:189: UserWarning: Unknown Header \"ESO AOS VIS DET WFS MODE\" key found\n",
        "  warnings.warn('Unknown Header \"%s\" key found' %str(key))\n"
       ]
      },
      {
       "output_type": "stream",
       "stream": "stderr",
       "text": [
        "/home/mbonse/Git/PynPoint/PynPoint2/io_modules/FitsReading.py:189: UserWarning: Unknown Header \"ESO AOS VIS INS ADC1 POSNAM\" key found\n",
        "  warnings.warn('Unknown Header \"%s\" key found' %str(key))\n",
        "/home/mbonse/Git/PynPoint/PynPoint2/io_modules/FitsReading.py:189: UserWarning: Unknown Header \"ESO AOS VIS INS ADC2 POSNAM\" key found\n",
        "  warnings.warn('Unknown Header \"%s\" key found' %str(key))\n",
        "/home/mbonse/Git/PynPoint/PynPoint2/io_modules/FitsReading.py:189: UserWarning: Unknown Header \"ESO AOS VIS INS DIAP POSNAM\" key found\n",
        "  warnings.warn('Unknown Header \"%s\" key found' %str(key))\n",
        "/home/mbonse/Git/PynPoint/PynPoint2/io_modules/FitsReading.py:189: UserWarning: Unknown Header \"ESO AOS VIS INS LENS POSNAM\" key found\n",
        "  warnings.warn('Unknown Header \"%s\" key found' %str(key))\n",
        "/home/mbonse/Git/PynPoint/PynPoint2/io_modules/FitsReading.py:174: UserWarning: Static keyword ESO INS PRES-MON PRES1 has changed. Probably the current file NACO.2012-08-25T06:13:24.936.fits does not belong to the data set \"00_raw_data\" of the PynPoint database. Updating Keyword...\n",
        "  % (key, fits_file, self.m_image_tag))\n"
       ]
      },
      {
       "output_type": "stream",
       "stream": "stdout",
       "text": [
        "\n",
        "Reading NACO.2012-08-25T06:14:09.190.fits"
       ]
      },
      {
       "output_type": "stream",
       "stream": "stderr",
       "text": [
        "/home/mbonse/Git/PynPoint/PynPoint2/io_modules/FitsReading.py:174: UserWarning: Static keyword ESO OBS ID has changed. Probably the current file NACO.2012-08-25T06:13:24.936.fits does not belong to the data set \"00_raw_data\" of the PynPoint database. Updating Keyword...\n",
        "  % (key, fits_file, self.m_image_tag))\n",
        "/home/mbonse/Git/PynPoint/PynPoint2/io_modules/FitsReading.py:189: UserWarning: Unknown Header \"ESO AOS VIS DET WFS MODE\" key found\n",
        "  warnings.warn('Unknown Header \"%s\" key found' %str(key))\n"
       ]
      },
      {
       "output_type": "stream",
       "stream": "stderr",
       "text": [
        "/home/mbonse/Git/PynPoint/PynPoint2/io_modules/FitsReading.py:189: UserWarning: Unknown Header \"ESO AOS VIS INS ADC1 POSNAM\" key found\n",
        "  warnings.warn('Unknown Header \"%s\" key found' %str(key))\n",
        "/home/mbonse/Git/PynPoint/PynPoint2/io_modules/FitsReading.py:189: UserWarning: Unknown Header \"ESO AOS VIS INS ADC2 POSNAM\" key found\n",
        "  warnings.warn('Unknown Header \"%s\" key found' %str(key))\n",
        "/home/mbonse/Git/PynPoint/PynPoint2/io_modules/FitsReading.py:189: UserWarning: Unknown Header \"ESO AOS VIS INS DIAP POSNAM\" key found\n",
        "  warnings.warn('Unknown Header \"%s\" key found' %str(key))\n",
        "/home/mbonse/Git/PynPoint/PynPoint2/io_modules/FitsReading.py:189: UserWarning: Unknown Header \"ESO AOS VIS INS LENS POSNAM\" key found\n",
        "  warnings.warn('Unknown Header \"%s\" key found' %str(key))\n",
        "/home/mbonse/Git/PynPoint/PynPoint2/io_modules/FitsReading.py:174: UserWarning: Static keyword ESO INS PRES-MON PRES1 has changed. Probably the current file NACO.2012-08-25T06:14:09.190.fits does not belong to the data set \"00_raw_data\" of the PynPoint database. Updating Keyword...\n",
        "  % (key, fits_file, self.m_image_tag))\n"
       ]
      },
      {
       "output_type": "stream",
       "stream": "stdout",
       "text": [
        "\n",
        "Reading NACO.2012-08-25T06:15:16.388.fits"
       ]
      },
      {
       "output_type": "stream",
       "stream": "stderr",
       "text": [
        "/home/mbonse/Git/PynPoint/PynPoint2/io_modules/FitsReading.py:174: UserWarning: Static keyword ESO OBS ID has changed. Probably the current file NACO.2012-08-25T06:14:09.190.fits does not belong to the data set \"00_raw_data\" of the PynPoint database. Updating Keyword...\n",
        "  % (key, fits_file, self.m_image_tag))\n",
        "/home/mbonse/Git/PynPoint/PynPoint2/io_modules/FitsReading.py:189: UserWarning: Unknown Header \"ESO AOS VIS DET WFS MODE\" key found\n",
        "  warnings.warn('Unknown Header \"%s\" key found' %str(key))\n"
       ]
      },
      {
       "output_type": "stream",
       "stream": "stderr",
       "text": [
        "/home/mbonse/Git/PynPoint/PynPoint2/io_modules/FitsReading.py:189: UserWarning: Unknown Header \"ESO AOS VIS INS ADC1 POSNAM\" key found\n",
        "  warnings.warn('Unknown Header \"%s\" key found' %str(key))\n",
        "/home/mbonse/Git/PynPoint/PynPoint2/io_modules/FitsReading.py:189: UserWarning: Unknown Header \"ESO AOS VIS INS ADC2 POSNAM\" key found\n",
        "  warnings.warn('Unknown Header \"%s\" key found' %str(key))\n",
        "/home/mbonse/Git/PynPoint/PynPoint2/io_modules/FitsReading.py:189: UserWarning: Unknown Header \"ESO AOS VIS INS DIAP POSNAM\" key found\n",
        "  warnings.warn('Unknown Header \"%s\" key found' %str(key))\n",
        "/home/mbonse/Git/PynPoint/PynPoint2/io_modules/FitsReading.py:189: UserWarning: Unknown Header \"ESO AOS VIS INS LENS POSNAM\" key found\n",
        "  warnings.warn('Unknown Header \"%s\" key found' %str(key))\n",
        "/home/mbonse/Git/PynPoint/PynPoint2/io_modules/FitsReading.py:174: UserWarning: Static keyword ESO INS PRES-MON PRES1 has changed. Probably the current file NACO.2012-08-25T06:15:16.388.fits does not belong to the data set \"00_raw_data\" of the PynPoint database. Updating Keyword...\n",
        "  % (key, fits_file, self.m_image_tag))\n"
       ]
      },
      {
       "output_type": "stream",
       "stream": "stdout",
       "text": [
        "\n",
        "Reading NACO.2012-08-25T06:15:59.847.fits"
       ]
      },
      {
       "output_type": "stream",
       "stream": "stderr",
       "text": [
        "/home/mbonse/Git/PynPoint/PynPoint2/io_modules/FitsReading.py:174: UserWarning: Static keyword ESO OBS ID has changed. Probably the current file NACO.2012-08-25T06:15:16.388.fits does not belong to the data set \"00_raw_data\" of the PynPoint database. Updating Keyword...\n",
        "  % (key, fits_file, self.m_image_tag))\n",
        "/home/mbonse/Git/PynPoint/PynPoint2/io_modules/FitsReading.py:189: UserWarning: Unknown Header \"ESO AOS VIS DET WFS MODE\" key found\n",
        "  warnings.warn('Unknown Header \"%s\" key found' %str(key))\n"
       ]
      },
      {
       "output_type": "stream",
       "stream": "stderr",
       "text": [
        "/home/mbonse/Git/PynPoint/PynPoint2/io_modules/FitsReading.py:189: UserWarning: Unknown Header \"ESO AOS VIS INS ADC1 POSNAM\" key found\n",
        "  warnings.warn('Unknown Header \"%s\" key found' %str(key))\n",
        "/home/mbonse/Git/PynPoint/PynPoint2/io_modules/FitsReading.py:189: UserWarning: Unknown Header \"ESO AOS VIS INS ADC2 POSNAM\" key found\n",
        "  warnings.warn('Unknown Header \"%s\" key found' %str(key))\n",
        "/home/mbonse/Git/PynPoint/PynPoint2/io_modules/FitsReading.py:189: UserWarning: Unknown Header \"ESO AOS VIS INS DIAP POSNAM\" key found\n",
        "  warnings.warn('Unknown Header \"%s\" key found' %str(key))\n",
        "/home/mbonse/Git/PynPoint/PynPoint2/io_modules/FitsReading.py:189: UserWarning: Unknown Header \"ESO AOS VIS INS LENS POSNAM\" key found\n",
        "  warnings.warn('Unknown Header \"%s\" key found' %str(key))\n",
        "/home/mbonse/Git/PynPoint/PynPoint2/io_modules/FitsReading.py:174: UserWarning: Static keyword ESO INS PRES-MON PRES1 has changed. Probably the current file NACO.2012-08-25T06:15:59.847.fits does not belong to the data set \"00_raw_data\" of the PynPoint database. Updating Keyword...\n",
        "  % (key, fits_file, self.m_image_tag))\n"
       ]
      },
      {
       "output_type": "stream",
       "stream": "stdout",
       "text": [
        "\n",
        "Reading NACO.2012-08-25T06:16:51.510.fits"
       ]
      },
      {
       "output_type": "stream",
       "stream": "stderr",
       "text": [
        "/home/mbonse/Git/PynPoint/PynPoint2/io_modules/FitsReading.py:174: UserWarning: Static keyword ESO OBS ID has changed. Probably the current file NACO.2012-08-25T06:15:59.847.fits does not belong to the data set \"00_raw_data\" of the PynPoint database. Updating Keyword...\n",
        "  % (key, fits_file, self.m_image_tag))\n",
        "/home/mbonse/Git/PynPoint/PynPoint2/io_modules/FitsReading.py:189: UserWarning: Unknown Header \"ESO AOS VIS DET WFS MODE\" key found\n",
        "  warnings.warn('Unknown Header \"%s\" key found' %str(key))\n"
       ]
      },
      {
       "output_type": "stream",
       "stream": "stderr",
       "text": [
        "/home/mbonse/Git/PynPoint/PynPoint2/io_modules/FitsReading.py:189: UserWarning: Unknown Header \"ESO AOS VIS INS ADC1 POSNAM\" key found\n",
        "  warnings.warn('Unknown Header \"%s\" key found' %str(key))\n",
        "/home/mbonse/Git/PynPoint/PynPoint2/io_modules/FitsReading.py:189: UserWarning: Unknown Header \"ESO AOS VIS INS ADC2 POSNAM\" key found\n",
        "  warnings.warn('Unknown Header \"%s\" key found' %str(key))\n",
        "/home/mbonse/Git/PynPoint/PynPoint2/io_modules/FitsReading.py:189: UserWarning: Unknown Header \"ESO AOS VIS INS DIAP POSNAM\" key found\n",
        "  warnings.warn('Unknown Header \"%s\" key found' %str(key))\n",
        "/home/mbonse/Git/PynPoint/PynPoint2/io_modules/FitsReading.py:189: UserWarning: Unknown Header \"ESO AOS VIS INS LENS POSNAM\" key found\n",
        "  warnings.warn('Unknown Header \"%s\" key found' %str(key))\n",
        "/home/mbonse/Git/PynPoint/PynPoint2/io_modules/FitsReading.py:174: UserWarning: Static keyword ESO INS PRES-MON PRES1 has changed. Probably the current file NACO.2012-08-25T06:16:51.510.fits does not belong to the data set \"00_raw_data\" of the PynPoint database. Updating Keyword...\n",
        "  % (key, fits_file, self.m_image_tag))\n"
       ]
      },
      {
       "output_type": "stream",
       "stream": "stdout",
       "text": [
        "\n",
        "Reading NACO.2012-08-25T06:17:34.831.fits"
       ]
      },
      {
       "output_type": "stream",
       "stream": "stderr",
       "text": [
        "/home/mbonse/Git/PynPoint/PynPoint2/io_modules/FitsReading.py:174: UserWarning: Static keyword ESO OBS ID has changed. Probably the current file NACO.2012-08-25T06:16:51.510.fits does not belong to the data set \"00_raw_data\" of the PynPoint database. Updating Keyword...\n",
        "  % (key, fits_file, self.m_image_tag))\n",
        "/home/mbonse/Git/PynPoint/PynPoint2/io_modules/FitsReading.py:189: UserWarning: Unknown Header \"ESO AOS VIS DET WFS MODE\" key found\n",
        "  warnings.warn('Unknown Header \"%s\" key found' %str(key))\n"
       ]
      },
      {
       "output_type": "stream",
       "stream": "stderr",
       "text": [
        "/home/mbonse/Git/PynPoint/PynPoint2/io_modules/FitsReading.py:189: UserWarning: Unknown Header \"ESO AOS VIS INS ADC1 POSNAM\" key found\n",
        "  warnings.warn('Unknown Header \"%s\" key found' %str(key))\n",
        "/home/mbonse/Git/PynPoint/PynPoint2/io_modules/FitsReading.py:189: UserWarning: Unknown Header \"ESO AOS VIS INS ADC2 POSNAM\" key found\n",
        "  warnings.warn('Unknown Header \"%s\" key found' %str(key))\n",
        "/home/mbonse/Git/PynPoint/PynPoint2/io_modules/FitsReading.py:189: UserWarning: Unknown Header \"ESO AOS VIS INS DIAP POSNAM\" key found\n",
        "  warnings.warn('Unknown Header \"%s\" key found' %str(key))\n",
        "/home/mbonse/Git/PynPoint/PynPoint2/io_modules/FitsReading.py:189: UserWarning: Unknown Header \"ESO AOS VIS INS LENS POSNAM\" key found\n",
        "  warnings.warn('Unknown Header \"%s\" key found' %str(key))\n",
        "/home/mbonse/Git/PynPoint/PynPoint2/io_modules/FitsReading.py:174: UserWarning: Static keyword ESO INS PRES-MON PRES1 has changed. Probably the current file NACO.2012-08-25T06:17:34.831.fits does not belong to the data set \"00_raw_data\" of the PynPoint database. Updating Keyword...\n",
        "  % (key, fits_file, self.m_image_tag))\n"
       ]
      },
      {
       "output_type": "stream",
       "stream": "stdout",
       "text": [
        "\n",
        "Reading NACO.2012-08-25T06:18:28.881.fits"
       ]
      },
      {
       "output_type": "stream",
       "stream": "stderr",
       "text": [
        "/home/mbonse/Git/PynPoint/PynPoint2/io_modules/FitsReading.py:174: UserWarning: Static keyword ESO OBS ID has changed. Probably the current file NACO.2012-08-25T06:17:34.831.fits does not belong to the data set \"00_raw_data\" of the PynPoint database. Updating Keyword...\n",
        "  % (key, fits_file, self.m_image_tag))\n",
        "/home/mbonse/Git/PynPoint/PynPoint2/io_modules/FitsReading.py:189: UserWarning: Unknown Header \"ESO AOS VIS DET WFS MODE\" key found\n",
        "  warnings.warn('Unknown Header \"%s\" key found' %str(key))\n"
       ]
      },
      {
       "output_type": "stream",
       "stream": "stderr",
       "text": [
        "/home/mbonse/Git/PynPoint/PynPoint2/io_modules/FitsReading.py:189: UserWarning: Unknown Header \"ESO AOS VIS INS ADC1 POSNAM\" key found\n",
        "  warnings.warn('Unknown Header \"%s\" key found' %str(key))\n",
        "/home/mbonse/Git/PynPoint/PynPoint2/io_modules/FitsReading.py:189: UserWarning: Unknown Header \"ESO AOS VIS INS ADC2 POSNAM\" key found\n",
        "  warnings.warn('Unknown Header \"%s\" key found' %str(key))\n",
        "/home/mbonse/Git/PynPoint/PynPoint2/io_modules/FitsReading.py:189: UserWarning: Unknown Header \"ESO AOS VIS INS DIAP POSNAM\" key found\n",
        "  warnings.warn('Unknown Header \"%s\" key found' %str(key))\n",
        "/home/mbonse/Git/PynPoint/PynPoint2/io_modules/FitsReading.py:189: UserWarning: Unknown Header \"ESO AOS VIS INS LENS POSNAM\" key found\n",
        "  warnings.warn('Unknown Header \"%s\" key found' %str(key))\n",
        "/home/mbonse/Git/PynPoint/PynPoint2/io_modules/FitsReading.py:174: UserWarning: Static keyword ESO INS PRES-MON PRES1 has changed. Probably the current file NACO.2012-08-25T06:18:28.881.fits does not belong to the data set \"00_raw_data\" of the PynPoint database. Updating Keyword...\n",
        "  % (key, fits_file, self.m_image_tag))\n"
       ]
      },
      {
       "output_type": "stream",
       "stream": "stdout",
       "text": [
        "\n",
        "Reading NACO.2012-08-25T06:19:12.362.fits"
       ]
      },
      {
       "output_type": "stream",
       "stream": "stderr",
       "text": [
        "/home/mbonse/Git/PynPoint/PynPoint2/io_modules/FitsReading.py:174: UserWarning: Static keyword ESO OBS ID has changed. Probably the current file NACO.2012-08-25T06:18:28.881.fits does not belong to the data set \"00_raw_data\" of the PynPoint database. Updating Keyword...\n",
        "  % (key, fits_file, self.m_image_tag))\n",
        "/home/mbonse/Git/PynPoint/PynPoint2/io_modules/FitsReading.py:189: UserWarning: Unknown Header \"ESO AOS VIS DET WFS MODE\" key found\n",
        "  warnings.warn('Unknown Header \"%s\" key found' %str(key))\n"
       ]
      },
      {
       "output_type": "stream",
       "stream": "stderr",
       "text": [
        "/home/mbonse/Git/PynPoint/PynPoint2/io_modules/FitsReading.py:189: UserWarning: Unknown Header \"ESO AOS VIS INS ADC1 POSNAM\" key found\n",
        "  warnings.warn('Unknown Header \"%s\" key found' %str(key))\n",
        "/home/mbonse/Git/PynPoint/PynPoint2/io_modules/FitsReading.py:189: UserWarning: Unknown Header \"ESO AOS VIS INS ADC2 POSNAM\" key found\n",
        "  warnings.warn('Unknown Header \"%s\" key found' %str(key))\n",
        "/home/mbonse/Git/PynPoint/PynPoint2/io_modules/FitsReading.py:189: UserWarning: Unknown Header \"ESO AOS VIS INS DIAP POSNAM\" key found\n",
        "  warnings.warn('Unknown Header \"%s\" key found' %str(key))\n",
        "/home/mbonse/Git/PynPoint/PynPoint2/io_modules/FitsReading.py:189: UserWarning: Unknown Header \"ESO AOS VIS INS LENS POSNAM\" key found\n",
        "  warnings.warn('Unknown Header \"%s\" key found' %str(key))\n",
        "/home/mbonse/Git/PynPoint/PynPoint2/io_modules/FitsReading.py:174: UserWarning: Static keyword ESO INS PRES-MON PRES1 has changed. Probably the current file NACO.2012-08-25T06:19:12.362.fits does not belong to the data set \"00_raw_data\" of the PynPoint database. Updating Keyword...\n",
        "  % (key, fits_file, self.m_image_tag))\n"
       ]
      },
      {
       "output_type": "stream",
       "stream": "stdout",
       "text": [
        "\n",
        "Reading NACO.2012-08-25T06:20:04.612.fits"
       ]
      },
      {
       "output_type": "stream",
       "stream": "stderr",
       "text": [
        "/home/mbonse/Git/PynPoint/PynPoint2/io_modules/FitsReading.py:174: UserWarning: Static keyword ESO OBS ID has changed. Probably the current file NACO.2012-08-25T06:19:12.362.fits does not belong to the data set \"00_raw_data\" of the PynPoint database. Updating Keyword...\n",
        "  % (key, fits_file, self.m_image_tag))\n",
        "/home/mbonse/Git/PynPoint/PynPoint2/io_modules/FitsReading.py:189: UserWarning: Unknown Header \"ESO AOS VIS DET WFS MODE\" key found\n",
        "  warnings.warn('Unknown Header \"%s\" key found' %str(key))\n"
       ]
      },
      {
       "output_type": "stream",
       "stream": "stderr",
       "text": [
        "/home/mbonse/Git/PynPoint/PynPoint2/io_modules/FitsReading.py:189: UserWarning: Unknown Header \"ESO AOS VIS INS ADC1 POSNAM\" key found\n",
        "  warnings.warn('Unknown Header \"%s\" key found' %str(key))\n",
        "/home/mbonse/Git/PynPoint/PynPoint2/io_modules/FitsReading.py:189: UserWarning: Unknown Header \"ESO AOS VIS INS ADC2 POSNAM\" key found\n",
        "  warnings.warn('Unknown Header \"%s\" key found' %str(key))\n",
        "/home/mbonse/Git/PynPoint/PynPoint2/io_modules/FitsReading.py:189: UserWarning: Unknown Header \"ESO AOS VIS INS DIAP POSNAM\" key found\n",
        "  warnings.warn('Unknown Header \"%s\" key found' %str(key))\n",
        "/home/mbonse/Git/PynPoint/PynPoint2/io_modules/FitsReading.py:189: UserWarning: Unknown Header \"ESO AOS VIS INS LENS POSNAM\" key found\n",
        "  warnings.warn('Unknown Header \"%s\" key found' %str(key))\n",
        "/home/mbonse/Git/PynPoint/PynPoint2/io_modules/FitsReading.py:174: UserWarning: Static keyword ESO INS PRES-MON PRES1 has changed. Probably the current file NACO.2012-08-25T06:20:04.612.fits does not belong to the data set \"00_raw_data\" of the PynPoint database. Updating Keyword...\n",
        "  % (key, fits_file, self.m_image_tag))\n"
       ]
      },
      {
       "output_type": "stream",
       "stream": "stdout",
       "text": [
        "\n",
        "Reading NACO.2012-08-25T06:20:48.068.fits"
       ]
      },
      {
       "output_type": "stream",
       "stream": "stderr",
       "text": [
        "/home/mbonse/Git/PynPoint/PynPoint2/io_modules/FitsReading.py:174: UserWarning: Static keyword ESO OBS ID has changed. Probably the current file NACO.2012-08-25T06:20:04.612.fits does not belong to the data set \"00_raw_data\" of the PynPoint database. Updating Keyword...\n",
        "  % (key, fits_file, self.m_image_tag))\n",
        "/home/mbonse/Git/PynPoint/PynPoint2/io_modules/FitsReading.py:189: UserWarning: Unknown Header \"ESO AOS VIS DET WFS MODE\" key found\n",
        "  warnings.warn('Unknown Header \"%s\" key found' %str(key))\n"
       ]
      },
      {
       "output_type": "stream",
       "stream": "stderr",
       "text": [
        "/home/mbonse/Git/PynPoint/PynPoint2/io_modules/FitsReading.py:189: UserWarning: Unknown Header \"ESO AOS VIS INS ADC1 POSNAM\" key found\n",
        "  warnings.warn('Unknown Header \"%s\" key found' %str(key))\n",
        "/home/mbonse/Git/PynPoint/PynPoint2/io_modules/FitsReading.py:189: UserWarning: Unknown Header \"ESO AOS VIS INS ADC2 POSNAM\" key found\n",
        "  warnings.warn('Unknown Header \"%s\" key found' %str(key))\n",
        "/home/mbonse/Git/PynPoint/PynPoint2/io_modules/FitsReading.py:189: UserWarning: Unknown Header \"ESO AOS VIS INS DIAP POSNAM\" key found\n",
        "  warnings.warn('Unknown Header \"%s\" key found' %str(key))\n",
        "/home/mbonse/Git/PynPoint/PynPoint2/io_modules/FitsReading.py:189: UserWarning: Unknown Header \"ESO AOS VIS INS LENS POSNAM\" key found\n",
        "  warnings.warn('Unknown Header \"%s\" key found' %str(key))\n",
        "/home/mbonse/Git/PynPoint/PynPoint2/io_modules/FitsReading.py:174: UserWarning: Static keyword ESO INS PRES-MON PRES1 has changed. Probably the current file NACO.2012-08-25T06:20:48.068.fits does not belong to the data set \"00_raw_data\" of the PynPoint database. Updating Keyword...\n",
        "  % (key, fits_file, self.m_image_tag))\n"
       ]
      },
      {
       "output_type": "stream",
       "stream": "stdout",
       "text": [
        "\n",
        "Reading NACO.2012-08-25T06:21:55.938.fits"
       ]
      },
      {
       "output_type": "stream",
       "stream": "stderr",
       "text": [
        "/home/mbonse/Git/PynPoint/PynPoint2/io_modules/FitsReading.py:174: UserWarning: Static keyword ESO OBS ID has changed. Probably the current file NACO.2012-08-25T06:20:48.068.fits does not belong to the data set \"00_raw_data\" of the PynPoint database. Updating Keyword...\n",
        "  % (key, fits_file, self.m_image_tag))\n",
        "/home/mbonse/Git/PynPoint/PynPoint2/io_modules/FitsReading.py:189: UserWarning: Unknown Header \"ESO AOS VIS DET WFS MODE\" key found\n",
        "  warnings.warn('Unknown Header \"%s\" key found' %str(key))\n"
       ]
      },
      {
       "output_type": "stream",
       "stream": "stderr",
       "text": [
        "/home/mbonse/Git/PynPoint/PynPoint2/io_modules/FitsReading.py:189: UserWarning: Unknown Header \"ESO AOS VIS INS ADC1 POSNAM\" key found\n",
        "  warnings.warn('Unknown Header \"%s\" key found' %str(key))\n",
        "/home/mbonse/Git/PynPoint/PynPoint2/io_modules/FitsReading.py:189: UserWarning: Unknown Header \"ESO AOS VIS INS ADC2 POSNAM\" key found\n",
        "  warnings.warn('Unknown Header \"%s\" key found' %str(key))\n",
        "/home/mbonse/Git/PynPoint/PynPoint2/io_modules/FitsReading.py:189: UserWarning: Unknown Header \"ESO AOS VIS INS DIAP POSNAM\" key found\n",
        "  warnings.warn('Unknown Header \"%s\" key found' %str(key))\n",
        "/home/mbonse/Git/PynPoint/PynPoint2/io_modules/FitsReading.py:189: UserWarning: Unknown Header \"ESO AOS VIS INS LENS POSNAM\" key found\n",
        "  warnings.warn('Unknown Header \"%s\" key found' %str(key))\n",
        "/home/mbonse/Git/PynPoint/PynPoint2/io_modules/FitsReading.py:174: UserWarning: Static keyword ESO INS PRES-MON PRES1 has changed. Probably the current file NACO.2012-08-25T06:21:55.938.fits does not belong to the data set \"00_raw_data\" of the PynPoint database. Updating Keyword...\n",
        "  % (key, fits_file, self.m_image_tag))\n"
       ]
      },
      {
       "output_type": "stream",
       "stream": "stdout",
       "text": [
        "\n",
        "Reading NACO.2012-08-25T06:22:39.425.fits"
       ]
      },
      {
       "output_type": "stream",
       "stream": "stderr",
       "text": [
        "/home/mbonse/Git/PynPoint/PynPoint2/io_modules/FitsReading.py:174: UserWarning: Static keyword ESO OBS ID has changed. Probably the current file NACO.2012-08-25T06:21:55.938.fits does not belong to the data set \"00_raw_data\" of the PynPoint database. Updating Keyword...\n",
        "  % (key, fits_file, self.m_image_tag))\n",
        "/home/mbonse/Git/PynPoint/PynPoint2/io_modules/FitsReading.py:189: UserWarning: Unknown Header \"ESO AOS VIS DET WFS MODE\" key found\n",
        "  warnings.warn('Unknown Header \"%s\" key found' %str(key))\n"
       ]
      },
      {
       "output_type": "stream",
       "stream": "stderr",
       "text": [
        "/home/mbonse/Git/PynPoint/PynPoint2/io_modules/FitsReading.py:189: UserWarning: Unknown Header \"ESO AOS VIS INS ADC1 POSNAM\" key found\n",
        "  warnings.warn('Unknown Header \"%s\" key found' %str(key))\n",
        "/home/mbonse/Git/PynPoint/PynPoint2/io_modules/FitsReading.py:189: UserWarning: Unknown Header \"ESO AOS VIS INS ADC2 POSNAM\" key found\n",
        "  warnings.warn('Unknown Header \"%s\" key found' %str(key))\n",
        "/home/mbonse/Git/PynPoint/PynPoint2/io_modules/FitsReading.py:189: UserWarning: Unknown Header \"ESO AOS VIS INS DIAP POSNAM\" key found\n",
        "  warnings.warn('Unknown Header \"%s\" key found' %str(key))\n",
        "/home/mbonse/Git/PynPoint/PynPoint2/io_modules/FitsReading.py:189: UserWarning: Unknown Header \"ESO AOS VIS INS LENS POSNAM\" key found\n",
        "  warnings.warn('Unknown Header \"%s\" key found' %str(key))\n",
        "/home/mbonse/Git/PynPoint/PynPoint2/io_modules/FitsReading.py:174: UserWarning: Static keyword ESO INS PRES-MON PRES1 has changed. Probably the current file NACO.2012-08-25T06:22:39.425.fits does not belong to the data set \"00_raw_data\" of the PynPoint database. Updating Keyword...\n",
        "  % (key, fits_file, self.m_image_tag))\n"
       ]
      },
      {
       "output_type": "stream",
       "stream": "stdout",
       "text": [
        "\n",
        "Reading NACO.2012-08-25T06:23:31.532.fits"
       ]
      },
      {
       "output_type": "stream",
       "stream": "stderr",
       "text": [
        "/home/mbonse/Git/PynPoint/PynPoint2/io_modules/FitsReading.py:174: UserWarning: Static keyword ESO OBS ID has changed. Probably the current file NACO.2012-08-25T06:22:39.425.fits does not belong to the data set \"00_raw_data\" of the PynPoint database. Updating Keyword...\n",
        "  % (key, fits_file, self.m_image_tag))\n",
        "/home/mbonse/Git/PynPoint/PynPoint2/io_modules/FitsReading.py:189: UserWarning: Unknown Header \"ESO AOS VIS DET WFS MODE\" key found\n",
        "  warnings.warn('Unknown Header \"%s\" key found' %str(key))\n"
       ]
      },
      {
       "output_type": "stream",
       "stream": "stderr",
       "text": [
        "/home/mbonse/Git/PynPoint/PynPoint2/io_modules/FitsReading.py:189: UserWarning: Unknown Header \"ESO AOS VIS INS ADC1 POSNAM\" key found\n",
        "  warnings.warn('Unknown Header \"%s\" key found' %str(key))\n",
        "/home/mbonse/Git/PynPoint/PynPoint2/io_modules/FitsReading.py:189: UserWarning: Unknown Header \"ESO AOS VIS INS ADC2 POSNAM\" key found\n",
        "  warnings.warn('Unknown Header \"%s\" key found' %str(key))\n",
        "/home/mbonse/Git/PynPoint/PynPoint2/io_modules/FitsReading.py:189: UserWarning: Unknown Header \"ESO AOS VIS INS DIAP POSNAM\" key found\n",
        "  warnings.warn('Unknown Header \"%s\" key found' %str(key))\n",
        "/home/mbonse/Git/PynPoint/PynPoint2/io_modules/FitsReading.py:189: UserWarning: Unknown Header \"ESO AOS VIS INS LENS POSNAM\" key found\n",
        "  warnings.warn('Unknown Header \"%s\" key found' %str(key))\n",
        "/home/mbonse/Git/PynPoint/PynPoint2/io_modules/FitsReading.py:174: UserWarning: Static keyword ESO INS PRES-MON PRES1 has changed. Probably the current file NACO.2012-08-25T06:23:31.532.fits does not belong to the data set \"00_raw_data\" of the PynPoint database. Updating Keyword...\n",
        "  % (key, fits_file, self.m_image_tag))\n"
       ]
      },
      {
       "output_type": "stream",
       "stream": "stdout",
       "text": [
        "\n",
        "Reading NACO.2012-08-25T06:24:15.030.fits"
       ]
      },
      {
       "output_type": "stream",
       "stream": "stderr",
       "text": [
        "/home/mbonse/Git/PynPoint/PynPoint2/io_modules/FitsReading.py:174: UserWarning: Static keyword ESO OBS ID has changed. Probably the current file NACO.2012-08-25T06:23:31.532.fits does not belong to the data set \"00_raw_data\" of the PynPoint database. Updating Keyword...\n",
        "  % (key, fits_file, self.m_image_tag))\n",
        "/home/mbonse/Git/PynPoint/PynPoint2/io_modules/FitsReading.py:189: UserWarning: Unknown Header \"ESO AOS VIS DET WFS MODE\" key found\n",
        "  warnings.warn('Unknown Header \"%s\" key found' %str(key))\n"
       ]
      },
      {
       "output_type": "stream",
       "stream": "stderr",
       "text": [
        "/home/mbonse/Git/PynPoint/PynPoint2/io_modules/FitsReading.py:189: UserWarning: Unknown Header \"ESO AOS VIS INS ADC1 POSNAM\" key found\n",
        "  warnings.warn('Unknown Header \"%s\" key found' %str(key))\n",
        "/home/mbonse/Git/PynPoint/PynPoint2/io_modules/FitsReading.py:189: UserWarning: Unknown Header \"ESO AOS VIS INS ADC2 POSNAM\" key found\n",
        "  warnings.warn('Unknown Header \"%s\" key found' %str(key))\n",
        "/home/mbonse/Git/PynPoint/PynPoint2/io_modules/FitsReading.py:189: UserWarning: Unknown Header \"ESO AOS VIS INS DIAP POSNAM\" key found\n",
        "  warnings.warn('Unknown Header \"%s\" key found' %str(key))\n",
        "/home/mbonse/Git/PynPoint/PynPoint2/io_modules/FitsReading.py:189: UserWarning: Unknown Header \"ESO AOS VIS INS LENS POSNAM\" key found\n",
        "  warnings.warn('Unknown Header \"%s\" key found' %str(key))\n",
        "/home/mbonse/Git/PynPoint/PynPoint2/io_modules/FitsReading.py:174: UserWarning: Static keyword ESO OBS ID has changed. Probably the current file NACO.2012-08-25T06:24:15.030.fits does not belong to the data set \"00_raw_data\" of the PynPoint database. Updating Keyword...\n",
        "  % (key, fits_file, self.m_image_tag))\n"
       ]
      },
      {
       "output_type": "stream",
       "stream": "stdout",
       "text": [
        "\n",
        "Reading NACO.2012-08-25T06:25:06.914.fits"
       ]
      },
      {
       "output_type": "stream",
       "stream": "stderr",
       "text": [
        "/home/mbonse/Git/PynPoint/PynPoint2/io_modules/FitsReading.py:189: UserWarning: Unknown Header \"ESO AOS VIS DET WFS MODE\" key found\n",
        "  warnings.warn('Unknown Header \"%s\" key found' %str(key))\n",
        "/home/mbonse/Git/PynPoint/PynPoint2/io_modules/FitsReading.py:189: UserWarning: Unknown Header \"ESO AOS VIS INS ADC1 POSNAM\" key found\n",
        "  warnings.warn('Unknown Header \"%s\" key found' %str(key))\n",
        "/home/mbonse/Git/PynPoint/PynPoint2/io_modules/FitsReading.py:189: UserWarning: Unknown Header \"ESO AOS VIS INS ADC2 POSNAM\" key found\n",
        "  warnings.warn('Unknown Header \"%s\" key found' %str(key))\n",
        "/home/mbonse/Git/PynPoint/PynPoint2/io_modules/FitsReading.py:189: UserWarning: Unknown Header \"ESO AOS VIS INS DIAP POSNAM\" key found\n",
        "  warnings.warn('Unknown Header \"%s\" key found' %str(key))\n",
        "/home/mbonse/Git/PynPoint/PynPoint2/io_modules/FitsReading.py:189: UserWarning: Unknown Header \"ESO AOS VIS INS LENS POSNAM\" key found\n",
        "  warnings.warn('Unknown Header \"%s\" key found' %str(key))\n",
        "/home/mbonse/Git/PynPoint/PynPoint2/io_modules/FitsReading.py:174: UserWarning: Static keyword ESO OBS ID has changed. Probably the current file NACO.2012-08-25T06:25:06.914.fits does not belong to the data set \"00_raw_data\" of the PynPoint database. Updating Keyword...\n",
        "  % (key, fits_file, self.m_image_tag))\n"
       ]
      },
      {
       "output_type": "stream",
       "stream": "stdout",
       "text": [
        "\n",
        "Reading NACO.2012-08-25T06:25:50.770.fits"
       ]
      },
      {
       "output_type": "stream",
       "stream": "stderr",
       "text": [
        "/home/mbonse/Git/PynPoint/PynPoint2/io_modules/FitsReading.py:189: UserWarning: Unknown Header \"ESO AOS VIS DET WFS MODE\" key found\n",
        "  warnings.warn('Unknown Header \"%s\" key found' %str(key))\n",
        "/home/mbonse/Git/PynPoint/PynPoint2/io_modules/FitsReading.py:189: UserWarning: Unknown Header \"ESO AOS VIS INS ADC1 POSNAM\" key found\n",
        "  warnings.warn('Unknown Header \"%s\" key found' %str(key))\n",
        "/home/mbonse/Git/PynPoint/PynPoint2/io_modules/FitsReading.py:189: UserWarning: Unknown Header \"ESO AOS VIS INS ADC2 POSNAM\" key found\n",
        "  warnings.warn('Unknown Header \"%s\" key found' %str(key))\n",
        "/home/mbonse/Git/PynPoint/PynPoint2/io_modules/FitsReading.py:189: UserWarning: Unknown Header \"ESO AOS VIS INS DIAP POSNAM\" key found\n",
        "  warnings.warn('Unknown Header \"%s\" key found' %str(key))\n",
        "/home/mbonse/Git/PynPoint/PynPoint2/io_modules/FitsReading.py:189: UserWarning: Unknown Header \"ESO AOS VIS INS LENS POSNAM\" key found\n",
        "  warnings.warn('Unknown Header \"%s\" key found' %str(key))\n",
        "/home/mbonse/Git/PynPoint/PynPoint2/io_modules/FitsReading.py:174: UserWarning: Static keyword ESO OBS ID has changed. Probably the current file NACO.2012-08-25T06:25:50.770.fits does not belong to the data set \"00_raw_data\" of the PynPoint database. Updating Keyword...\n",
        "  % (key, fits_file, self.m_image_tag))\n"
       ]
      },
      {
       "output_type": "stream",
       "stream": "stdout",
       "text": [
        "\n",
        "Reading NACO.2012-08-25T06:26:42.825.fits"
       ]
      },
      {
       "output_type": "stream",
       "stream": "stderr",
       "text": [
        "/home/mbonse/Git/PynPoint/PynPoint2/io_modules/FitsReading.py:189: UserWarning: Unknown Header \"ESO AOS VIS DET WFS MODE\" key found\n",
        "  warnings.warn('Unknown Header \"%s\" key found' %str(key))\n",
        "/home/mbonse/Git/PynPoint/PynPoint2/io_modules/FitsReading.py:189: UserWarning: Unknown Header \"ESO AOS VIS INS ADC1 POSNAM\" key found\n",
        "  warnings.warn('Unknown Header \"%s\" key found' %str(key))\n",
        "/home/mbonse/Git/PynPoint/PynPoint2/io_modules/FitsReading.py:189: UserWarning: Unknown Header \"ESO AOS VIS INS ADC2 POSNAM\" key found\n",
        "  warnings.warn('Unknown Header \"%s\" key found' %str(key))\n",
        "/home/mbonse/Git/PynPoint/PynPoint2/io_modules/FitsReading.py:189: UserWarning: Unknown Header \"ESO AOS VIS INS DIAP POSNAM\" key found\n",
        "  warnings.warn('Unknown Header \"%s\" key found' %str(key))\n",
        "/home/mbonse/Git/PynPoint/PynPoint2/io_modules/FitsReading.py:189: UserWarning: Unknown Header \"ESO AOS VIS INS LENS POSNAM\" key found\n",
        "  warnings.warn('Unknown Header \"%s\" key found' %str(key))\n",
        "/home/mbonse/Git/PynPoint/PynPoint2/io_modules/FitsReading.py:174: UserWarning: Static keyword ESO OBS ID has changed. Probably the current file NACO.2012-08-25T06:26:42.825.fits does not belong to the data set \"00_raw_data\" of the PynPoint database. Updating Keyword...\n",
        "  % (key, fits_file, self.m_image_tag))\n"
       ]
      },
      {
       "output_type": "stream",
       "stream": "stdout",
       "text": [
        "\n",
        "Reading NACO.2012-08-25T06:27:26.275.fits"
       ]
      },
      {
       "output_type": "stream",
       "stream": "stderr",
       "text": [
        "/home/mbonse/Git/PynPoint/PynPoint2/io_modules/FitsReading.py:189: UserWarning: Unknown Header \"ESO AOS VIS DET WFS MODE\" key found\n",
        "  warnings.warn('Unknown Header \"%s\" key found' %str(key))\n",
        "/home/mbonse/Git/PynPoint/PynPoint2/io_modules/FitsReading.py:189: UserWarning: Unknown Header \"ESO AOS VIS INS ADC1 POSNAM\" key found\n",
        "  warnings.warn('Unknown Header \"%s\" key found' %str(key))\n",
        "/home/mbonse/Git/PynPoint/PynPoint2/io_modules/FitsReading.py:189: UserWarning: Unknown Header \"ESO AOS VIS INS ADC2 POSNAM\" key found\n",
        "  warnings.warn('Unknown Header \"%s\" key found' %str(key))\n",
        "/home/mbonse/Git/PynPoint/PynPoint2/io_modules/FitsReading.py:189: UserWarning: Unknown Header \"ESO AOS VIS INS DIAP POSNAM\" key found\n",
        "  warnings.warn('Unknown Header \"%s\" key found' %str(key))\n",
        "/home/mbonse/Git/PynPoint/PynPoint2/io_modules/FitsReading.py:189: UserWarning: Unknown Header \"ESO AOS VIS INS LENS POSNAM\" key found\n",
        "  warnings.warn('Unknown Header \"%s\" key found' %str(key))\n",
        "/home/mbonse/Git/PynPoint/PynPoint2/io_modules/FitsReading.py:174: UserWarning: Static keyword ESO OBS ID has changed. Probably the current file NACO.2012-08-25T06:27:26.275.fits does not belong to the data set \"00_raw_data\" of the PynPoint database. Updating Keyword...\n",
        "  % (key, fits_file, self.m_image_tag))\n"
       ]
      },
      {
       "output_type": "stream",
       "stream": "stdout",
       "text": [
        "\n",
        "Reading NACO.2012-08-25T06:28:33.807.fits"
       ]
      },
      {
       "output_type": "stream",
       "stream": "stderr",
       "text": [
        "/home/mbonse/Git/PynPoint/PynPoint2/io_modules/FitsReading.py:189: UserWarning: Unknown Header \"ESO AOS VIS DET WFS MODE\" key found\n",
        "  warnings.warn('Unknown Header \"%s\" key found' %str(key))\n",
        "/home/mbonse/Git/PynPoint/PynPoint2/io_modules/FitsReading.py:189: UserWarning: Unknown Header \"ESO AOS VIS INS ADC1 POSNAM\" key found\n",
        "  warnings.warn('Unknown Header \"%s\" key found' %str(key))\n",
        "/home/mbonse/Git/PynPoint/PynPoint2/io_modules/FitsReading.py:189: UserWarning: Unknown Header \"ESO AOS VIS INS ADC2 POSNAM\" key found\n",
        "  warnings.warn('Unknown Header \"%s\" key found' %str(key))\n",
        "/home/mbonse/Git/PynPoint/PynPoint2/io_modules/FitsReading.py:189: UserWarning: Unknown Header \"ESO AOS VIS INS DIAP POSNAM\" key found\n",
        "  warnings.warn('Unknown Header \"%s\" key found' %str(key))\n",
        "/home/mbonse/Git/PynPoint/PynPoint2/io_modules/FitsReading.py:189: UserWarning: Unknown Header \"ESO AOS VIS INS LENS POSNAM\" key found\n",
        "  warnings.warn('Unknown Header \"%s\" key found' %str(key))\n",
        "/home/mbonse/Git/PynPoint/PynPoint2/io_modules/FitsReading.py:174: UserWarning: Static keyword ESO OBS ID has changed. Probably the current file NACO.2012-08-25T06:28:33.807.fits does not belong to the data set \"00_raw_data\" of the PynPoint database. Updating Keyword...\n",
        "  % (key, fits_file, self.m_image_tag))\n"
       ]
      },
      {
       "output_type": "stream",
       "stream": "stdout",
       "text": [
        "\n",
        "Reading NACO.2012-08-25T06:29:17.513.fits"
       ]
      },
      {
       "output_type": "stream",
       "stream": "stderr",
       "text": [
        "/home/mbonse/Git/PynPoint/PynPoint2/io_modules/FitsReading.py:189: UserWarning: Unknown Header \"ESO AOS VIS DET WFS MODE\" key found\n",
        "  warnings.warn('Unknown Header \"%s\" key found' %str(key))\n",
        "/home/mbonse/Git/PynPoint/PynPoint2/io_modules/FitsReading.py:189: UserWarning: Unknown Header \"ESO AOS VIS INS ADC1 POSNAM\" key found\n",
        "  warnings.warn('Unknown Header \"%s\" key found' %str(key))\n",
        "/home/mbonse/Git/PynPoint/PynPoint2/io_modules/FitsReading.py:189: UserWarning: Unknown Header \"ESO AOS VIS INS ADC2 POSNAM\" key found\n",
        "  warnings.warn('Unknown Header \"%s\" key found' %str(key))\n",
        "/home/mbonse/Git/PynPoint/PynPoint2/io_modules/FitsReading.py:189: UserWarning: Unknown Header \"ESO AOS VIS INS DIAP POSNAM\" key found\n",
        "  warnings.warn('Unknown Header \"%s\" key found' %str(key))\n",
        "/home/mbonse/Git/PynPoint/PynPoint2/io_modules/FitsReading.py:189: UserWarning: Unknown Header \"ESO AOS VIS INS LENS POSNAM\" key found\n",
        "  warnings.warn('Unknown Header \"%s\" key found' %str(key))\n",
        "/home/mbonse/Git/PynPoint/PynPoint2/io_modules/FitsReading.py:174: UserWarning: Static keyword ESO OBS ID has changed. Probably the current file NACO.2012-08-25T06:29:17.513.fits does not belong to the data set \"00_raw_data\" of the PynPoint database. Updating Keyword...\n",
        "  % (key, fits_file, self.m_image_tag))\n"
       ]
      },
      {
       "output_type": "stream",
       "stream": "stdout",
       "text": [
        "\n",
        "Reading NACO.2012-08-25T06:30:08.563.fits"
       ]
      },
      {
       "output_type": "stream",
       "stream": "stderr",
       "text": [
        "/home/mbonse/Git/PynPoint/PynPoint2/io_modules/FitsReading.py:189: UserWarning: Unknown Header \"ESO AOS VIS DET WFS MODE\" key found\n",
        "  warnings.warn('Unknown Header \"%s\" key found' %str(key))\n",
        "/home/mbonse/Git/PynPoint/PynPoint2/io_modules/FitsReading.py:189: UserWarning: Unknown Header \"ESO AOS VIS INS ADC1 POSNAM\" key found\n",
        "  warnings.warn('Unknown Header \"%s\" key found' %str(key))\n",
        "/home/mbonse/Git/PynPoint/PynPoint2/io_modules/FitsReading.py:189: UserWarning: Unknown Header \"ESO AOS VIS INS ADC2 POSNAM\" key found\n",
        "  warnings.warn('Unknown Header \"%s\" key found' %str(key))\n",
        "/home/mbonse/Git/PynPoint/PynPoint2/io_modules/FitsReading.py:189: UserWarning: Unknown Header \"ESO AOS VIS INS DIAP POSNAM\" key found\n",
        "  warnings.warn('Unknown Header \"%s\" key found' %str(key))\n",
        "/home/mbonse/Git/PynPoint/PynPoint2/io_modules/FitsReading.py:189: UserWarning: Unknown Header \"ESO AOS VIS INS LENS POSNAM\" key found\n",
        "  warnings.warn('Unknown Header \"%s\" key found' %str(key))\n",
        "/home/mbonse/Git/PynPoint/PynPoint2/io_modules/FitsReading.py:174: UserWarning: Static keyword ESO OBS ID has changed. Probably the current file NACO.2012-08-25T06:30:08.563.fits does not belong to the data set \"00_raw_data\" of the PynPoint database. Updating Keyword...\n",
        "  % (key, fits_file, self.m_image_tag))\n"
       ]
      },
      {
       "output_type": "stream",
       "stream": "stdout",
       "text": [
        "\n",
        "Reading NACO.2012-08-25T06:30:52.018.fits"
       ]
      },
      {
       "output_type": "stream",
       "stream": "stderr",
       "text": [
        "/home/mbonse/Git/PynPoint/PynPoint2/io_modules/FitsReading.py:189: UserWarning: Unknown Header \"ESO AOS VIS DET WFS MODE\" key found\n",
        "  warnings.warn('Unknown Header \"%s\" key found' %str(key))\n",
        "/home/mbonse/Git/PynPoint/PynPoint2/io_modules/FitsReading.py:189: UserWarning: Unknown Header \"ESO AOS VIS INS ADC1 POSNAM\" key found\n",
        "  warnings.warn('Unknown Header \"%s\" key found' %str(key))\n",
        "/home/mbonse/Git/PynPoint/PynPoint2/io_modules/FitsReading.py:189: UserWarning: Unknown Header \"ESO AOS VIS INS ADC2 POSNAM\" key found\n",
        "  warnings.warn('Unknown Header \"%s\" key found' %str(key))\n",
        "/home/mbonse/Git/PynPoint/PynPoint2/io_modules/FitsReading.py:189: UserWarning: Unknown Header \"ESO AOS VIS INS DIAP POSNAM\" key found\n",
        "  warnings.warn('Unknown Header \"%s\" key found' %str(key))\n",
        "/home/mbonse/Git/PynPoint/PynPoint2/io_modules/FitsReading.py:189: UserWarning: Unknown Header \"ESO AOS VIS INS LENS POSNAM\" key found\n",
        "  warnings.warn('Unknown Header \"%s\" key found' %str(key))\n",
        "/home/mbonse/Git/PynPoint/PynPoint2/io_modules/FitsReading.py:174: UserWarning: Static keyword ESO OBS ID has changed. Probably the current file NACO.2012-08-25T06:30:52.018.fits does not belong to the data set \"00_raw_data\" of the PynPoint database. Updating Keyword...\n",
        "  % (key, fits_file, self.m_image_tag))\n"
       ]
      },
      {
       "output_type": "stream",
       "stream": "stdout",
       "text": [
        "\n",
        "Reading NACO.2012-08-25T06:31:44.871.fits"
       ]
      },
      {
       "output_type": "stream",
       "stream": "stderr",
       "text": [
        "/home/mbonse/Git/PynPoint/PynPoint2/io_modules/FitsReading.py:189: UserWarning: Unknown Header \"ESO AOS VIS DET WFS MODE\" key found\n",
        "  warnings.warn('Unknown Header \"%s\" key found' %str(key))\n",
        "/home/mbonse/Git/PynPoint/PynPoint2/io_modules/FitsReading.py:189: UserWarning: Unknown Header \"ESO AOS VIS INS ADC1 POSNAM\" key found\n",
        "  warnings.warn('Unknown Header \"%s\" key found' %str(key))\n",
        "/home/mbonse/Git/PynPoint/PynPoint2/io_modules/FitsReading.py:189: UserWarning: Unknown Header \"ESO AOS VIS INS ADC2 POSNAM\" key found\n",
        "  warnings.warn('Unknown Header \"%s\" key found' %str(key))\n",
        "/home/mbonse/Git/PynPoint/PynPoint2/io_modules/FitsReading.py:189: UserWarning: Unknown Header \"ESO AOS VIS INS DIAP POSNAM\" key found\n",
        "  warnings.warn('Unknown Header \"%s\" key found' %str(key))\n",
        "/home/mbonse/Git/PynPoint/PynPoint2/io_modules/FitsReading.py:189: UserWarning: Unknown Header \"ESO AOS VIS INS LENS POSNAM\" key found\n",
        "  warnings.warn('Unknown Header \"%s\" key found' %str(key))\n",
        "/home/mbonse/Git/PynPoint/PynPoint2/io_modules/FitsReading.py:174: UserWarning: Static keyword ESO OBS ID has changed. Probably the current file NACO.2012-08-25T06:31:44.871.fits does not belong to the data set \"00_raw_data\" of the PynPoint database. Updating Keyword...\n",
        "  % (key, fits_file, self.m_image_tag))\n"
       ]
      },
      {
       "output_type": "stream",
       "stream": "stdout",
       "text": [
        "\n",
        "Reading NACO.2012-08-25T06:32:28.361.fits"
       ]
      },
      {
       "output_type": "stream",
       "stream": "stderr",
       "text": [
        "/home/mbonse/Git/PynPoint/PynPoint2/io_modules/FitsReading.py:189: UserWarning: Unknown Header \"ESO AOS VIS DET WFS MODE\" key found\n",
        "  warnings.warn('Unknown Header \"%s\" key found' %str(key))\n",
        "/home/mbonse/Git/PynPoint/PynPoint2/io_modules/FitsReading.py:189: UserWarning: Unknown Header \"ESO AOS VIS INS ADC1 POSNAM\" key found\n",
        "  warnings.warn('Unknown Header \"%s\" key found' %str(key))\n",
        "/home/mbonse/Git/PynPoint/PynPoint2/io_modules/FitsReading.py:189: UserWarning: Unknown Header \"ESO AOS VIS INS ADC2 POSNAM\" key found\n",
        "  warnings.warn('Unknown Header \"%s\" key found' %str(key))\n",
        "/home/mbonse/Git/PynPoint/PynPoint2/io_modules/FitsReading.py:189: UserWarning: Unknown Header \"ESO AOS VIS INS DIAP POSNAM\" key found\n",
        "  warnings.warn('Unknown Header \"%s\" key found' %str(key))\n",
        "/home/mbonse/Git/PynPoint/PynPoint2/io_modules/FitsReading.py:189: UserWarning: Unknown Header \"ESO AOS VIS INS LENS POSNAM\" key found\n",
        "  warnings.warn('Unknown Header \"%s\" key found' %str(key))\n",
        "/home/mbonse/Git/PynPoint/PynPoint2/io_modules/FitsReading.py:174: UserWarning: Static keyword ESO OBS ID has changed. Probably the current file NACO.2012-08-25T06:32:28.361.fits does not belong to the data set \"00_raw_data\" of the PynPoint database. Updating Keyword...\n",
        "  % (key, fits_file, self.m_image_tag))\n"
       ]
      },
      {
       "output_type": "stream",
       "stream": "stdout",
       "text": [
        "\n",
        "Reading NACO.2012-08-25T06:33:19.430.fits"
       ]
      },
      {
       "output_type": "stream",
       "stream": "stderr",
       "text": [
        "/home/mbonse/Git/PynPoint/PynPoint2/io_modules/FitsReading.py:189: UserWarning: Unknown Header \"ESO AOS VIS DET WFS MODE\" key found\n",
        "  warnings.warn('Unknown Header \"%s\" key found' %str(key))\n",
        "/home/mbonse/Git/PynPoint/PynPoint2/io_modules/FitsReading.py:189: UserWarning: Unknown Header \"ESO AOS VIS INS ADC1 POSNAM\" key found\n",
        "  warnings.warn('Unknown Header \"%s\" key found' %str(key))\n",
        "/home/mbonse/Git/PynPoint/PynPoint2/io_modules/FitsReading.py:189: UserWarning: Unknown Header \"ESO AOS VIS INS ADC2 POSNAM\" key found\n",
        "  warnings.warn('Unknown Header \"%s\" key found' %str(key))\n",
        "/home/mbonse/Git/PynPoint/PynPoint2/io_modules/FitsReading.py:189: UserWarning: Unknown Header \"ESO AOS VIS INS DIAP POSNAM\" key found\n",
        "  warnings.warn('Unknown Header \"%s\" key found' %str(key))\n",
        "/home/mbonse/Git/PynPoint/PynPoint2/io_modules/FitsReading.py:189: UserWarning: Unknown Header \"ESO AOS VIS INS LENS POSNAM\" key found\n",
        "  warnings.warn('Unknown Header \"%s\" key found' %str(key))\n",
        "/home/mbonse/Git/PynPoint/PynPoint2/io_modules/FitsReading.py:174: UserWarning: Static keyword ESO OBS ID has changed. Probably the current file NACO.2012-08-25T06:33:19.430.fits does not belong to the data set \"00_raw_data\" of the PynPoint database. Updating Keyword...\n",
        "  % (key, fits_file, self.m_image_tag))\n"
       ]
      },
      {
       "output_type": "stream",
       "stream": "stdout",
       "text": [
        "\n",
        "Reading NACO.2012-08-25T06:34:02.889.fits"
       ]
      },
      {
       "output_type": "stream",
       "stream": "stderr",
       "text": [
        "/home/mbonse/Git/PynPoint/PynPoint2/io_modules/FitsReading.py:189: UserWarning: Unknown Header \"ESO AOS VIS DET WFS MODE\" key found\n",
        "  warnings.warn('Unknown Header \"%s\" key found' %str(key))\n",
        "/home/mbonse/Git/PynPoint/PynPoint2/io_modules/FitsReading.py:189: UserWarning: Unknown Header \"ESO AOS VIS INS ADC1 POSNAM\" key found\n",
        "  warnings.warn('Unknown Header \"%s\" key found' %str(key))\n",
        "/home/mbonse/Git/PynPoint/PynPoint2/io_modules/FitsReading.py:189: UserWarning: Unknown Header \"ESO AOS VIS INS ADC2 POSNAM\" key found\n",
        "  warnings.warn('Unknown Header \"%s\" key found' %str(key))\n",
        "/home/mbonse/Git/PynPoint/PynPoint2/io_modules/FitsReading.py:189: UserWarning: Unknown Header \"ESO AOS VIS INS DIAP POSNAM\" key found\n",
        "  warnings.warn('Unknown Header \"%s\" key found' %str(key))\n",
        "/home/mbonse/Git/PynPoint/PynPoint2/io_modules/FitsReading.py:189: UserWarning: Unknown Header \"ESO AOS VIS INS LENS POSNAM\" key found\n",
        "  warnings.warn('Unknown Header \"%s\" key found' %str(key))\n",
        "/home/mbonse/Git/PynPoint/PynPoint2/io_modules/FitsReading.py:174: UserWarning: Static keyword ESO OBS ID has changed. Probably the current file NACO.2012-08-25T06:34:02.889.fits does not belong to the data set \"00_raw_data\" of the PynPoint database. Updating Keyword...\n",
        "  % (key, fits_file, self.m_image_tag))\n"
       ]
      },
      {
       "output_type": "stream",
       "stream": "stdout",
       "text": [
        "\n",
        "Reading NACO.2012-08-25T06:35:10.781.fits"
       ]
      },
      {
       "output_type": "stream",
       "stream": "stderr",
       "text": [
        "/home/mbonse/Git/PynPoint/PynPoint2/io_modules/FitsReading.py:189: UserWarning: Unknown Header \"ESO AOS VIS DET WFS MODE\" key found\n",
        "  warnings.warn('Unknown Header \"%s\" key found' %str(key))\n",
        "/home/mbonse/Git/PynPoint/PynPoint2/io_modules/FitsReading.py:189: UserWarning: Unknown Header \"ESO AOS VIS INS ADC1 POSNAM\" key found\n",
        "  warnings.warn('Unknown Header \"%s\" key found' %str(key))\n",
        "/home/mbonse/Git/PynPoint/PynPoint2/io_modules/FitsReading.py:189: UserWarning: Unknown Header \"ESO AOS VIS INS ADC2 POSNAM\" key found\n",
        "  warnings.warn('Unknown Header \"%s\" key found' %str(key))\n",
        "/home/mbonse/Git/PynPoint/PynPoint2/io_modules/FitsReading.py:189: UserWarning: Unknown Header \"ESO AOS VIS INS DIAP POSNAM\" key found\n",
        "  warnings.warn('Unknown Header \"%s\" key found' %str(key))\n",
        "/home/mbonse/Git/PynPoint/PynPoint2/io_modules/FitsReading.py:189: UserWarning: Unknown Header \"ESO AOS VIS INS LENS POSNAM\" key found\n",
        "  warnings.warn('Unknown Header \"%s\" key found' %str(key))\n",
        "/home/mbonse/Git/PynPoint/PynPoint2/io_modules/FitsReading.py:174: UserWarning: Static keyword ESO OBS ID has changed. Probably the current file NACO.2012-08-25T06:35:10.781.fits does not belong to the data set \"00_raw_data\" of the PynPoint database. Updating Keyword...\n",
        "  % (key, fits_file, self.m_image_tag))\n"
       ]
      },
      {
       "output_type": "stream",
       "stream": "stdout",
       "text": [
        "\n",
        "Reading NACO.2012-08-25T06:35:54.749.fits"
       ]
      },
      {
       "output_type": "stream",
       "stream": "stderr",
       "text": [
        "/home/mbonse/Git/PynPoint/PynPoint2/io_modules/FitsReading.py:189: UserWarning: Unknown Header \"ESO AOS VIS DET WFS MODE\" key found\n",
        "  warnings.warn('Unknown Header \"%s\" key found' %str(key))\n",
        "/home/mbonse/Git/PynPoint/PynPoint2/io_modules/FitsReading.py:189: UserWarning: Unknown Header \"ESO AOS VIS INS ADC1 POSNAM\" key found\n",
        "  warnings.warn('Unknown Header \"%s\" key found' %str(key))\n",
        "/home/mbonse/Git/PynPoint/PynPoint2/io_modules/FitsReading.py:189: UserWarning: Unknown Header \"ESO AOS VIS INS ADC2 POSNAM\" key found\n",
        "  warnings.warn('Unknown Header \"%s\" key found' %str(key))\n",
        "/home/mbonse/Git/PynPoint/PynPoint2/io_modules/FitsReading.py:189: UserWarning: Unknown Header \"ESO AOS VIS INS DIAP POSNAM\" key found\n",
        "  warnings.warn('Unknown Header \"%s\" key found' %str(key))\n",
        "/home/mbonse/Git/PynPoint/PynPoint2/io_modules/FitsReading.py:189: UserWarning: Unknown Header \"ESO AOS VIS INS LENS POSNAM\" key found\n",
        "  warnings.warn('Unknown Header \"%s\" key found' %str(key))\n",
        "/home/mbonse/Git/PynPoint/PynPoint2/io_modules/FitsReading.py:174: UserWarning: Static keyword ESO OBS ID has changed. Probably the current file NACO.2012-08-25T06:35:54.749.fits does not belong to the data set \"00_raw_data\" of the PynPoint database. Updating Keyword...\n",
        "  % (key, fits_file, self.m_image_tag))\n"
       ]
      },
      {
       "output_type": "stream",
       "stream": "stdout",
       "text": [
        "\n",
        "Reading NACO.2012-08-25T06:36:45.603.fits"
       ]
      },
      {
       "output_type": "stream",
       "stream": "stderr",
       "text": [
        "/home/mbonse/Git/PynPoint/PynPoint2/io_modules/FitsReading.py:174: UserWarning: Static keyword ESO TEL DOME STATUS has changed. Probably the current file NACO.2012-08-25T06:35:54.749.fits does not belong to the data set \"00_raw_data\" of the PynPoint database. Updating Keyword...\n",
        "  % (key, fits_file, self.m_image_tag))\n",
        "/home/mbonse/Git/PynPoint/PynPoint2/io_modules/FitsReading.py:189: UserWarning: Unknown Header \"ESO AOS VIS DET WFS MODE\" key found\n",
        "  warnings.warn('Unknown Header \"%s\" key found' %str(key))\n"
       ]
      },
      {
       "output_type": "stream",
       "stream": "stderr",
       "text": [
        "/home/mbonse/Git/PynPoint/PynPoint2/io_modules/FitsReading.py:189: UserWarning: Unknown Header \"ESO AOS VIS INS ADC1 POSNAM\" key found\n",
        "  warnings.warn('Unknown Header \"%s\" key found' %str(key))\n",
        "/home/mbonse/Git/PynPoint/PynPoint2/io_modules/FitsReading.py:189: UserWarning: Unknown Header \"ESO AOS VIS INS ADC2 POSNAM\" key found\n",
        "  warnings.warn('Unknown Header \"%s\" key found' %str(key))\n",
        "/home/mbonse/Git/PynPoint/PynPoint2/io_modules/FitsReading.py:189: UserWarning: Unknown Header \"ESO AOS VIS INS DIAP POSNAM\" key found\n",
        "  warnings.warn('Unknown Header \"%s\" key found' %str(key))\n",
        "/home/mbonse/Git/PynPoint/PynPoint2/io_modules/FitsReading.py:189: UserWarning: Unknown Header \"ESO AOS VIS INS LENS POSNAM\" key found\n",
        "  warnings.warn('Unknown Header \"%s\" key found' %str(key))\n",
        "/home/mbonse/Git/PynPoint/PynPoint2/io_modules/FitsReading.py:174: UserWarning: Static keyword ESO OBS ID has changed. Probably the current file NACO.2012-08-25T06:36:45.603.fits does not belong to the data set \"00_raw_data\" of the PynPoint database. Updating Keyword...\n",
        "  % (key, fits_file, self.m_image_tag))\n"
       ]
      },
      {
       "output_type": "stream",
       "stream": "stdout",
       "text": [
        "\n",
        "Reading NACO.2012-08-25T06:37:29.056.fits"
       ]
      },
      {
       "output_type": "stream",
       "stream": "stderr",
       "text": [
        "/home/mbonse/Git/PynPoint/PynPoint2/io_modules/FitsReading.py:189: UserWarning: Unknown Header \"ESO AOS VIS DET WFS MODE\" key found\n",
        "  warnings.warn('Unknown Header \"%s\" key found' %str(key))\n",
        "/home/mbonse/Git/PynPoint/PynPoint2/io_modules/FitsReading.py:189: UserWarning: Unknown Header \"ESO AOS VIS INS ADC1 POSNAM\" key found\n",
        "  warnings.warn('Unknown Header \"%s\" key found' %str(key))\n",
        "/home/mbonse/Git/PynPoint/PynPoint2/io_modules/FitsReading.py:189: UserWarning: Unknown Header \"ESO AOS VIS INS ADC2 POSNAM\" key found\n",
        "  warnings.warn('Unknown Header \"%s\" key found' %str(key))\n",
        "/home/mbonse/Git/PynPoint/PynPoint2/io_modules/FitsReading.py:189: UserWarning: Unknown Header \"ESO AOS VIS INS DIAP POSNAM\" key found\n",
        "  warnings.warn('Unknown Header \"%s\" key found' %str(key))\n",
        "/home/mbonse/Git/PynPoint/PynPoint2/io_modules/FitsReading.py:189: UserWarning: Unknown Header \"ESO AOS VIS INS LENS POSNAM\" key found\n",
        "  warnings.warn('Unknown Header \"%s\" key found' %str(key))\n",
        "/home/mbonse/Git/PynPoint/PynPoint2/io_modules/FitsReading.py:174: UserWarning: Static keyword ESO OBS ID has changed. Probably the current file NACO.2012-08-25T06:37:29.056.fits does not belong to the data set \"00_raw_data\" of the PynPoint database. Updating Keyword...\n",
        "  % (key, fits_file, self.m_image_tag))\n"
       ]
      },
      {
       "output_type": "stream",
       "stream": "stdout",
       "text": [
        "\n",
        "Reading NACO.2012-08-25T06:38:20.311.fits"
       ]
      },
      {
       "output_type": "stream",
       "stream": "stderr",
       "text": [
        "/home/mbonse/Git/PynPoint/PynPoint2/io_modules/FitsReading.py:189: UserWarning: Unknown Header \"ESO AOS VIS DET WFS MODE\" key found\n",
        "  warnings.warn('Unknown Header \"%s\" key found' %str(key))\n",
        "/home/mbonse/Git/PynPoint/PynPoint2/io_modules/FitsReading.py:189: UserWarning: Unknown Header \"ESO AOS VIS INS ADC1 POSNAM\" key found\n",
        "  warnings.warn('Unknown Header \"%s\" key found' %str(key))\n",
        "/home/mbonse/Git/PynPoint/PynPoint2/io_modules/FitsReading.py:189: UserWarning: Unknown Header \"ESO AOS VIS INS ADC2 POSNAM\" key found\n",
        "  warnings.warn('Unknown Header \"%s\" key found' %str(key))\n",
        "/home/mbonse/Git/PynPoint/PynPoint2/io_modules/FitsReading.py:189: UserWarning: Unknown Header \"ESO AOS VIS INS DIAP POSNAM\" key found\n",
        "  warnings.warn('Unknown Header \"%s\" key found' %str(key))\n",
        "/home/mbonse/Git/PynPoint/PynPoint2/io_modules/FitsReading.py:189: UserWarning: Unknown Header \"ESO AOS VIS INS LENS POSNAM\" key found\n",
        "  warnings.warn('Unknown Header \"%s\" key found' %str(key))\n",
        "/home/mbonse/Git/PynPoint/PynPoint2/io_modules/FitsReading.py:174: UserWarning: Static keyword ESO OBS ID has changed. Probably the current file NACO.2012-08-25T06:38:20.311.fits does not belong to the data set \"00_raw_data\" of the PynPoint database. Updating Keyword...\n",
        "  % (key, fits_file, self.m_image_tag))\n"
       ]
      },
      {
       "output_type": "stream",
       "stream": "stdout",
       "text": [
        "\n",
        "Reading NACO.2012-08-25T06:39:03.896.fits"
       ]
      },
      {
       "output_type": "stream",
       "stream": "stderr",
       "text": [
        "/home/mbonse/Git/PynPoint/PynPoint2/io_modules/FitsReading.py:189: UserWarning: Unknown Header \"ESO AOS VIS DET WFS MODE\" key found\n",
        "  warnings.warn('Unknown Header \"%s\" key found' %str(key))\n",
        "/home/mbonse/Git/PynPoint/PynPoint2/io_modules/FitsReading.py:189: UserWarning: Unknown Header \"ESO AOS VIS INS ADC1 POSNAM\" key found\n",
        "  warnings.warn('Unknown Header \"%s\" key found' %str(key))\n",
        "/home/mbonse/Git/PynPoint/PynPoint2/io_modules/FitsReading.py:189: UserWarning: Unknown Header \"ESO AOS VIS INS ADC2 POSNAM\" key found\n",
        "  warnings.warn('Unknown Header \"%s\" key found' %str(key))\n",
        "/home/mbonse/Git/PynPoint/PynPoint2/io_modules/FitsReading.py:189: UserWarning: Unknown Header \"ESO AOS VIS INS DIAP POSNAM\" key found\n",
        "  warnings.warn('Unknown Header \"%s\" key found' %str(key))\n",
        "/home/mbonse/Git/PynPoint/PynPoint2/io_modules/FitsReading.py:189: UserWarning: Unknown Header \"ESO AOS VIS INS LENS POSNAM\" key found\n",
        "  warnings.warn('Unknown Header \"%s\" key found' %str(key))\n",
        "/home/mbonse/Git/PynPoint/PynPoint2/io_modules/FitsReading.py:174: UserWarning: Static keyword ESO OBS ID has changed. Probably the current file NACO.2012-08-25T06:39:03.896.fits does not belong to the data set \"00_raw_data\" of the PynPoint database. Updating Keyword...\n",
        "  % (key, fits_file, self.m_image_tag))\n"
       ]
      },
      {
       "output_type": "stream",
       "stream": "stdout",
       "text": [
        "\n",
        "Reading NACO.2012-08-25T06:39:55.608.fits"
       ]
      },
      {
       "output_type": "stream",
       "stream": "stderr",
       "text": [
        "/home/mbonse/Git/PynPoint/PynPoint2/io_modules/FitsReading.py:189: UserWarning: Unknown Header \"ESO AOS VIS DET WFS MODE\" key found\n",
        "  warnings.warn('Unknown Header \"%s\" key found' %str(key))\n",
        "/home/mbonse/Git/PynPoint/PynPoint2/io_modules/FitsReading.py:189: UserWarning: Unknown Header \"ESO AOS VIS INS ADC1 POSNAM\" key found\n",
        "  warnings.warn('Unknown Header \"%s\" key found' %str(key))\n",
        "/home/mbonse/Git/PynPoint/PynPoint2/io_modules/FitsReading.py:189: UserWarning: Unknown Header \"ESO AOS VIS INS ADC2 POSNAM\" key found\n",
        "  warnings.warn('Unknown Header \"%s\" key found' %str(key))\n",
        "/home/mbonse/Git/PynPoint/PynPoint2/io_modules/FitsReading.py:189: UserWarning: Unknown Header \"ESO AOS VIS INS DIAP POSNAM\" key found\n",
        "  warnings.warn('Unknown Header \"%s\" key found' %str(key))\n",
        "/home/mbonse/Git/PynPoint/PynPoint2/io_modules/FitsReading.py:189: UserWarning: Unknown Header \"ESO AOS VIS INS LENS POSNAM\" key found\n",
        "  warnings.warn('Unknown Header \"%s\" key found' %str(key))\n",
        "/home/mbonse/Git/PynPoint/PynPoint2/io_modules/FitsReading.py:174: UserWarning: Static keyword ESO OBS ID has changed. Probably the current file NACO.2012-08-25T06:39:55.608.fits does not belong to the data set \"00_raw_data\" of the PynPoint database. Updating Keyword...\n",
        "  % (key, fits_file, self.m_image_tag))\n"
       ]
      },
      {
       "output_type": "stream",
       "stream": "stdout",
       "text": [
        "\n",
        "Reading NACO.2012-08-25T06:40:39.060.fits"
       ]
      },
      {
       "output_type": "stream",
       "stream": "stderr",
       "text": [
        "/home/mbonse/Git/PynPoint/PynPoint2/io_modules/FitsReading.py:189: UserWarning: Unknown Header \"ESO AOS VIS DET WFS MODE\" key found\n",
        "  warnings.warn('Unknown Header \"%s\" key found' %str(key))\n",
        "/home/mbonse/Git/PynPoint/PynPoint2/io_modules/FitsReading.py:189: UserWarning: Unknown Header \"ESO AOS VIS INS ADC1 POSNAM\" key found\n",
        "  warnings.warn('Unknown Header \"%s\" key found' %str(key))\n",
        "/home/mbonse/Git/PynPoint/PynPoint2/io_modules/FitsReading.py:189: UserWarning: Unknown Header \"ESO AOS VIS INS ADC2 POSNAM\" key found\n",
        "  warnings.warn('Unknown Header \"%s\" key found' %str(key))\n",
        "/home/mbonse/Git/PynPoint/PynPoint2/io_modules/FitsReading.py:189: UserWarning: Unknown Header \"ESO AOS VIS INS DIAP POSNAM\" key found\n",
        "  warnings.warn('Unknown Header \"%s\" key found' %str(key))\n",
        "/home/mbonse/Git/PynPoint/PynPoint2/io_modules/FitsReading.py:189: UserWarning: Unknown Header \"ESO AOS VIS INS LENS POSNAM\" key found\n",
        "  warnings.warn('Unknown Header \"%s\" key found' %str(key))\n",
        "/home/mbonse/Git/PynPoint/PynPoint2/io_modules/FitsReading.py:174: UserWarning: Static keyword ESO OBS ID has changed. Probably the current file NACO.2012-08-25T06:40:39.060.fits does not belong to the data set \"00_raw_data\" of the PynPoint database. Updating Keyword...\n",
        "  % (key, fits_file, self.m_image_tag))\n"
       ]
      },
      {
       "output_type": "stream",
       "stream": "stdout",
       "text": [
        "\n",
        "Reading NACO.2012-08-25T06:41:46.818.fits"
       ]
      },
      {
       "output_type": "stream",
       "stream": "stderr",
       "text": [
        "/home/mbonse/Git/PynPoint/PynPoint2/io_modules/FitsReading.py:189: UserWarning: Unknown Header \"ESO AOS VIS DET WFS MODE\" key found\n",
        "  warnings.warn('Unknown Header \"%s\" key found' %str(key))\n",
        "/home/mbonse/Git/PynPoint/PynPoint2/io_modules/FitsReading.py:189: UserWarning: Unknown Header \"ESO AOS VIS INS ADC1 POSNAM\" key found\n",
        "  warnings.warn('Unknown Header \"%s\" key found' %str(key))\n",
        "/home/mbonse/Git/PynPoint/PynPoint2/io_modules/FitsReading.py:189: UserWarning: Unknown Header \"ESO AOS VIS INS ADC2 POSNAM\" key found\n",
        "  warnings.warn('Unknown Header \"%s\" key found' %str(key))\n",
        "/home/mbonse/Git/PynPoint/PynPoint2/io_modules/FitsReading.py:189: UserWarning: Unknown Header \"ESO AOS VIS INS DIAP POSNAM\" key found\n",
        "  warnings.warn('Unknown Header \"%s\" key found' %str(key))\n",
        "/home/mbonse/Git/PynPoint/PynPoint2/io_modules/FitsReading.py:189: UserWarning: Unknown Header \"ESO AOS VIS INS LENS POSNAM\" key found\n",
        "  warnings.warn('Unknown Header \"%s\" key found' %str(key))\n",
        "/home/mbonse/Git/PynPoint/PynPoint2/io_modules/FitsReading.py:174: UserWarning: Static keyword ESO OBS ID has changed. Probably the current file NACO.2012-08-25T06:41:46.818.fits does not belong to the data set \"00_raw_data\" of the PynPoint database. Updating Keyword...\n",
        "  % (key, fits_file, self.m_image_tag))\n"
       ]
      },
      {
       "output_type": "stream",
       "stream": "stdout",
       "text": [
        "\n",
        "Reading NACO.2012-08-25T06:42:30.673.fits"
       ]
      },
      {
       "output_type": "stream",
       "stream": "stderr",
       "text": [
        "/home/mbonse/Git/PynPoint/PynPoint2/io_modules/FitsReading.py:189: UserWarning: Unknown Header \"ESO AOS VIS DET WFS MODE\" key found\n",
        "  warnings.warn('Unknown Header \"%s\" key found' %str(key))\n",
        "/home/mbonse/Git/PynPoint/PynPoint2/io_modules/FitsReading.py:189: UserWarning: Unknown Header \"ESO AOS VIS INS ADC1 POSNAM\" key found\n",
        "  warnings.warn('Unknown Header \"%s\" key found' %str(key))\n",
        "/home/mbonse/Git/PynPoint/PynPoint2/io_modules/FitsReading.py:189: UserWarning: Unknown Header \"ESO AOS VIS INS ADC2 POSNAM\" key found\n",
        "  warnings.warn('Unknown Header \"%s\" key found' %str(key))\n",
        "/home/mbonse/Git/PynPoint/PynPoint2/io_modules/FitsReading.py:189: UserWarning: Unknown Header \"ESO AOS VIS INS DIAP POSNAM\" key found\n",
        "  warnings.warn('Unknown Header \"%s\" key found' %str(key))\n",
        "/home/mbonse/Git/PynPoint/PynPoint2/io_modules/FitsReading.py:189: UserWarning: Unknown Header \"ESO AOS VIS INS LENS POSNAM\" key found\n",
        "  warnings.warn('Unknown Header \"%s\" key found' %str(key))\n",
        "/home/mbonse/Git/PynPoint/PynPoint2/io_modules/FitsReading.py:174: UserWarning: Static keyword ESO OBS ID has changed. Probably the current file NACO.2012-08-25T06:42:30.673.fits does not belong to the data set \"00_raw_data\" of the PynPoint database. Updating Keyword...\n",
        "  % (key, fits_file, self.m_image_tag))\n"
       ]
      },
      {
       "output_type": "stream",
       "stream": "stdout",
       "text": [
        "\n",
        "Reading NACO.2012-08-25T06:43:22.327.fits"
       ]
      },
      {
       "output_type": "stream",
       "stream": "stderr",
       "text": [
        "/home/mbonse/Git/PynPoint/PynPoint2/io_modules/FitsReading.py:189: UserWarning: Unknown Header \"ESO AOS VIS DET WFS MODE\" key found\n",
        "  warnings.warn('Unknown Header \"%s\" key found' %str(key))\n",
        "/home/mbonse/Git/PynPoint/PynPoint2/io_modules/FitsReading.py:189: UserWarning: Unknown Header \"ESO AOS VIS INS ADC1 POSNAM\" key found\n",
        "  warnings.warn('Unknown Header \"%s\" key found' %str(key))\n",
        "/home/mbonse/Git/PynPoint/PynPoint2/io_modules/FitsReading.py:189: UserWarning: Unknown Header \"ESO AOS VIS INS ADC2 POSNAM\" key found\n",
        "  warnings.warn('Unknown Header \"%s\" key found' %str(key))\n",
        "/home/mbonse/Git/PynPoint/PynPoint2/io_modules/FitsReading.py:189: UserWarning: Unknown Header \"ESO AOS VIS INS DIAP POSNAM\" key found\n",
        "  warnings.warn('Unknown Header \"%s\" key found' %str(key))\n",
        "/home/mbonse/Git/PynPoint/PynPoint2/io_modules/FitsReading.py:189: UserWarning: Unknown Header \"ESO AOS VIS INS LENS POSNAM\" key found\n",
        "  warnings.warn('Unknown Header \"%s\" key found' %str(key))\n",
        "/home/mbonse/Git/PynPoint/PynPoint2/io_modules/FitsReading.py:174: UserWarning: Static keyword ESO OBS ID has changed. Probably the current file NACO.2012-08-25T06:43:22.327.fits does not belong to the data set \"00_raw_data\" of the PynPoint database. Updating Keyword...\n",
        "  % (key, fits_file, self.m_image_tag))\n"
       ]
      },
      {
       "output_type": "stream",
       "stream": "stdout",
       "text": [
        "\n",
        "Reading NACO.2012-08-25T06:44:05.813.fits"
       ]
      },
      {
       "output_type": "stream",
       "stream": "stderr",
       "text": [
        "/home/mbonse/Git/PynPoint/PynPoint2/io_modules/FitsReading.py:189: UserWarning: Unknown Header \"ESO AOS VIS DET WFS MODE\" key found\n",
        "  warnings.warn('Unknown Header \"%s\" key found' %str(key))\n",
        "/home/mbonse/Git/PynPoint/PynPoint2/io_modules/FitsReading.py:189: UserWarning: Unknown Header \"ESO AOS VIS INS ADC1 POSNAM\" key found\n",
        "  warnings.warn('Unknown Header \"%s\" key found' %str(key))\n",
        "/home/mbonse/Git/PynPoint/PynPoint2/io_modules/FitsReading.py:189: UserWarning: Unknown Header \"ESO AOS VIS INS ADC2 POSNAM\" key found\n",
        "  warnings.warn('Unknown Header \"%s\" key found' %str(key))\n",
        "/home/mbonse/Git/PynPoint/PynPoint2/io_modules/FitsReading.py:189: UserWarning: Unknown Header \"ESO AOS VIS INS DIAP POSNAM\" key found\n",
        "  warnings.warn('Unknown Header \"%s\" key found' %str(key))\n",
        "/home/mbonse/Git/PynPoint/PynPoint2/io_modules/FitsReading.py:189: UserWarning: Unknown Header \"ESO AOS VIS INS LENS POSNAM\" key found\n",
        "  warnings.warn('Unknown Header \"%s\" key found' %str(key))\n",
        "/home/mbonse/Git/PynPoint/PynPoint2/io_modules/FitsReading.py:174: UserWarning: Static keyword ESO OBS ID has changed. Probably the current file NACO.2012-08-25T06:44:05.813.fits does not belong to the data set \"00_raw_data\" of the PynPoint database. Updating Keyword...\n",
        "  % (key, fits_file, self.m_image_tag))\n"
       ]
      },
      {
       "output_type": "stream",
       "stream": "stdout",
       "text": [
        "\n",
        "Reading NACO.2012-08-25T06:44:56.681.fits"
       ]
      },
      {
       "output_type": "stream",
       "stream": "stderr",
       "text": [
        "/home/mbonse/Git/PynPoint/PynPoint2/io_modules/FitsReading.py:189: UserWarning: Unknown Header \"ESO AOS VIS DET WFS MODE\" key found\n",
        "  warnings.warn('Unknown Header \"%s\" key found' %str(key))\n",
        "/home/mbonse/Git/PynPoint/PynPoint2/io_modules/FitsReading.py:189: UserWarning: Unknown Header \"ESO AOS VIS INS ADC1 POSNAM\" key found\n",
        "  warnings.warn('Unknown Header \"%s\" key found' %str(key))\n",
        "/home/mbonse/Git/PynPoint/PynPoint2/io_modules/FitsReading.py:189: UserWarning: Unknown Header \"ESO AOS VIS INS ADC2 POSNAM\" key found\n",
        "  warnings.warn('Unknown Header \"%s\" key found' %str(key))\n",
        "/home/mbonse/Git/PynPoint/PynPoint2/io_modules/FitsReading.py:189: UserWarning: Unknown Header \"ESO AOS VIS INS DIAP POSNAM\" key found\n",
        "  warnings.warn('Unknown Header \"%s\" key found' %str(key))\n",
        "/home/mbonse/Git/PynPoint/PynPoint2/io_modules/FitsReading.py:189: UserWarning: Unknown Header \"ESO AOS VIS INS LENS POSNAM\" key found\n",
        "  warnings.warn('Unknown Header \"%s\" key found' %str(key))\n",
        "/home/mbonse/Git/PynPoint/PynPoint2/io_modules/FitsReading.py:174: UserWarning: Static keyword ESO OBS ID has changed. Probably the current file NACO.2012-08-25T06:44:56.681.fits does not belong to the data set \"00_raw_data\" of the PynPoint database. Updating Keyword...\n",
        "  % (key, fits_file, self.m_image_tag))\n"
       ]
      },
      {
       "output_type": "stream",
       "stream": "stdout",
       "text": [
        "\n",
        "Reading NACO.2012-08-25T06:45:40.141.fits"
       ]
      },
      {
       "output_type": "stream",
       "stream": "stderr",
       "text": [
        "/home/mbonse/Git/PynPoint/PynPoint2/io_modules/FitsReading.py:189: UserWarning: Unknown Header \"ESO AOS VIS DET WFS MODE\" key found\n",
        "  warnings.warn('Unknown Header \"%s\" key found' %str(key))\n",
        "/home/mbonse/Git/PynPoint/PynPoint2/io_modules/FitsReading.py:189: UserWarning: Unknown Header \"ESO AOS VIS INS ADC1 POSNAM\" key found\n",
        "  warnings.warn('Unknown Header \"%s\" key found' %str(key))\n",
        "/home/mbonse/Git/PynPoint/PynPoint2/io_modules/FitsReading.py:189: UserWarning: Unknown Header \"ESO AOS VIS INS ADC2 POSNAM\" key found\n",
        "  warnings.warn('Unknown Header \"%s\" key found' %str(key))\n",
        "/home/mbonse/Git/PynPoint/PynPoint2/io_modules/FitsReading.py:189: UserWarning: Unknown Header \"ESO AOS VIS INS DIAP POSNAM\" key found\n",
        "  warnings.warn('Unknown Header \"%s\" key found' %str(key))\n",
        "/home/mbonse/Git/PynPoint/PynPoint2/io_modules/FitsReading.py:189: UserWarning: Unknown Header \"ESO AOS VIS INS LENS POSNAM\" key found\n",
        "  warnings.warn('Unknown Header \"%s\" key found' %str(key))\n",
        "/home/mbonse/Git/PynPoint/PynPoint2/io_modules/FitsReading.py:174: UserWarning: Static keyword ESO OBS ID has changed. Probably the current file NACO.2012-08-25T06:45:40.141.fits does not belong to the data set \"00_raw_data\" of the PynPoint database. Updating Keyword...\n",
        "  % (key, fits_file, self.m_image_tag))\n"
       ]
      },
      {
       "output_type": "stream",
       "stream": "stdout",
       "text": [
        "\n",
        "Reading NACO.2012-08-25T06:46:31.827.fits"
       ]
      },
      {
       "output_type": "stream",
       "stream": "stderr",
       "text": [
        "/home/mbonse/Git/PynPoint/PynPoint2/io_modules/FitsReading.py:189: UserWarning: Unknown Header \"ESO AOS VIS DET WFS MODE\" key found\n",
        "  warnings.warn('Unknown Header \"%s\" key found' %str(key))\n",
        "/home/mbonse/Git/PynPoint/PynPoint2/io_modules/FitsReading.py:189: UserWarning: Unknown Header \"ESO AOS VIS INS ADC1 POSNAM\" key found\n",
        "  warnings.warn('Unknown Header \"%s\" key found' %str(key))\n",
        "/home/mbonse/Git/PynPoint/PynPoint2/io_modules/FitsReading.py:189: UserWarning: Unknown Header \"ESO AOS VIS INS ADC2 POSNAM\" key found\n",
        "  warnings.warn('Unknown Header \"%s\" key found' %str(key))\n",
        "/home/mbonse/Git/PynPoint/PynPoint2/io_modules/FitsReading.py:189: UserWarning: Unknown Header \"ESO AOS VIS INS DIAP POSNAM\" key found\n",
        "  warnings.warn('Unknown Header \"%s\" key found' %str(key))\n",
        "/home/mbonse/Git/PynPoint/PynPoint2/io_modules/FitsReading.py:189: UserWarning: Unknown Header \"ESO AOS VIS INS LENS POSNAM\" key found\n",
        "  warnings.warn('Unknown Header \"%s\" key found' %str(key))\n",
        "/home/mbonse/Git/PynPoint/PynPoint2/io_modules/FitsReading.py:174: UserWarning: Static keyword ESO OBS ID has changed. Probably the current file NACO.2012-08-25T06:46:31.827.fits does not belong to the data set \"00_raw_data\" of the PynPoint database. Updating Keyword...\n",
        "  % (key, fits_file, self.m_image_tag))\n"
       ]
      },
      {
       "output_type": "stream",
       "stream": "stdout",
       "text": [
        "\n",
        "Reading NACO.2012-08-25T06:47:15.321.fits"
       ]
      },
      {
       "output_type": "stream",
       "stream": "stderr",
       "text": [
        "/home/mbonse/Git/PynPoint/PynPoint2/io_modules/FitsReading.py:189: UserWarning: Unknown Header \"ESO AOS VIS DET WFS MODE\" key found\n",
        "  warnings.warn('Unknown Header \"%s\" key found' %str(key))\n",
        "/home/mbonse/Git/PynPoint/PynPoint2/io_modules/FitsReading.py:189: UserWarning: Unknown Header \"ESO AOS VIS INS ADC1 POSNAM\" key found\n",
        "  warnings.warn('Unknown Header \"%s\" key found' %str(key))\n",
        "/home/mbonse/Git/PynPoint/PynPoint2/io_modules/FitsReading.py:189: UserWarning: Unknown Header \"ESO AOS VIS INS ADC2 POSNAM\" key found\n",
        "  warnings.warn('Unknown Header \"%s\" key found' %str(key))\n",
        "/home/mbonse/Git/PynPoint/PynPoint2/io_modules/FitsReading.py:189: UserWarning: Unknown Header \"ESO AOS VIS INS DIAP POSNAM\" key found\n",
        "  warnings.warn('Unknown Header \"%s\" key found' %str(key))\n",
        "/home/mbonse/Git/PynPoint/PynPoint2/io_modules/FitsReading.py:189: UserWarning: Unknown Header \"ESO AOS VIS INS LENS POSNAM\" key found\n",
        "  warnings.warn('Unknown Header \"%s\" key found' %str(key))\n",
        "/home/mbonse/Git/PynPoint/PynPoint2/io_modules/FitsReading.py:174: UserWarning: Static keyword ESO OBS ID has changed. Probably the current file NACO.2012-08-25T06:47:15.321.fits does not belong to the data set \"00_raw_data\" of the PynPoint database. Updating Keyword...\n",
        "  % (key, fits_file, self.m_image_tag))\n"
       ]
      },
      {
       "output_type": "stream",
       "stream": "stdout",
       "text": [
        "\n",
        "Reading NACO.2012-08-25T06:48:22.994.fits"
       ]
      },
      {
       "output_type": "stream",
       "stream": "stderr",
       "text": [
        "/home/mbonse/Git/PynPoint/PynPoint2/io_modules/FitsReading.py:189: UserWarning: Unknown Header \"ESO AOS VIS DET WFS MODE\" key found\n",
        "  warnings.warn('Unknown Header \"%s\" key found' %str(key))\n",
        "/home/mbonse/Git/PynPoint/PynPoint2/io_modules/FitsReading.py:189: UserWarning: Unknown Header \"ESO AOS VIS INS ADC1 POSNAM\" key found\n",
        "  warnings.warn('Unknown Header \"%s\" key found' %str(key))\n",
        "/home/mbonse/Git/PynPoint/PynPoint2/io_modules/FitsReading.py:189: UserWarning: Unknown Header \"ESO AOS VIS INS ADC2 POSNAM\" key found\n",
        "  warnings.warn('Unknown Header \"%s\" key found' %str(key))\n",
        "/home/mbonse/Git/PynPoint/PynPoint2/io_modules/FitsReading.py:189: UserWarning: Unknown Header \"ESO AOS VIS INS DIAP POSNAM\" key found\n",
        "  warnings.warn('Unknown Header \"%s\" key found' %str(key))\n",
        "/home/mbonse/Git/PynPoint/PynPoint2/io_modules/FitsReading.py:189: UserWarning: Unknown Header \"ESO AOS VIS INS LENS POSNAM\" key found\n",
        "  warnings.warn('Unknown Header \"%s\" key found' %str(key))\n",
        "/home/mbonse/Git/PynPoint/PynPoint2/io_modules/FitsReading.py:174: UserWarning: Static keyword ESO OBS ID has changed. Probably the current file NACO.2012-08-25T06:48:22.994.fits does not belong to the data set \"00_raw_data\" of the PynPoint database. Updating Keyword...\n",
        "  % (key, fits_file, self.m_image_tag))\n"
       ]
      },
      {
       "output_type": "stream",
       "stream": "stdout",
       "text": [
        "\n",
        "Reading NACO.2012-08-25T06:49:06.684.fits"
       ]
      },
      {
       "output_type": "stream",
       "stream": "stderr",
       "text": [
        "/home/mbonse/Git/PynPoint/PynPoint2/io_modules/FitsReading.py:189: UserWarning: Unknown Header \"ESO AOS VIS DET WFS MODE\" key found\n",
        "  warnings.warn('Unknown Header \"%s\" key found' %str(key))\n",
        "/home/mbonse/Git/PynPoint/PynPoint2/io_modules/FitsReading.py:189: UserWarning: Unknown Header \"ESO AOS VIS INS ADC1 POSNAM\" key found\n",
        "  warnings.warn('Unknown Header \"%s\" key found' %str(key))\n",
        "/home/mbonse/Git/PynPoint/PynPoint2/io_modules/FitsReading.py:189: UserWarning: Unknown Header \"ESO AOS VIS INS ADC2 POSNAM\" key found\n",
        "  warnings.warn('Unknown Header \"%s\" key found' %str(key))\n",
        "/home/mbonse/Git/PynPoint/PynPoint2/io_modules/FitsReading.py:189: UserWarning: Unknown Header \"ESO AOS VIS INS DIAP POSNAM\" key found\n",
        "  warnings.warn('Unknown Header \"%s\" key found' %str(key))\n",
        "/home/mbonse/Git/PynPoint/PynPoint2/io_modules/FitsReading.py:189: UserWarning: Unknown Header \"ESO AOS VIS INS LENS POSNAM\" key found\n",
        "  warnings.warn('Unknown Header \"%s\" key found' %str(key))\n",
        "/home/mbonse/Git/PynPoint/PynPoint2/io_modules/FitsReading.py:174: UserWarning: Static keyword ESO OBS ID has changed. Probably the current file NACO.2012-08-25T06:49:06.684.fits does not belong to the data set \"00_raw_data\" of the PynPoint database. Updating Keyword...\n",
        "  % (key, fits_file, self.m_image_tag))\n"
       ]
      },
      {
       "output_type": "stream",
       "stream": "stdout",
       "text": [
        "\n",
        "Reading NACO.2012-08-25T06:49:57.647.fits"
       ]
      },
      {
       "output_type": "stream",
       "stream": "stderr",
       "text": [
        "/home/mbonse/Git/PynPoint/PynPoint2/io_modules/FitsReading.py:189: UserWarning: Unknown Header \"ESO AOS VIS DET WFS MODE\" key found\n",
        "  warnings.warn('Unknown Header \"%s\" key found' %str(key))\n",
        "/home/mbonse/Git/PynPoint/PynPoint2/io_modules/FitsReading.py:189: UserWarning: Unknown Header \"ESO AOS VIS INS ADC1 POSNAM\" key found\n",
        "  warnings.warn('Unknown Header \"%s\" key found' %str(key))\n",
        "/home/mbonse/Git/PynPoint/PynPoint2/io_modules/FitsReading.py:189: UserWarning: Unknown Header \"ESO AOS VIS INS ADC2 POSNAM\" key found\n",
        "  warnings.warn('Unknown Header \"%s\" key found' %str(key))\n",
        "/home/mbonse/Git/PynPoint/PynPoint2/io_modules/FitsReading.py:189: UserWarning: Unknown Header \"ESO AOS VIS INS DIAP POSNAM\" key found\n",
        "  warnings.warn('Unknown Header \"%s\" key found' %str(key))\n",
        "/home/mbonse/Git/PynPoint/PynPoint2/io_modules/FitsReading.py:189: UserWarning: Unknown Header \"ESO AOS VIS INS LENS POSNAM\" key found\n",
        "  warnings.warn('Unknown Header \"%s\" key found' %str(key))\n",
        "/home/mbonse/Git/PynPoint/PynPoint2/io_modules/FitsReading.py:174: UserWarning: Static keyword ESO OBS ID has changed. Probably the current file NACO.2012-08-25T06:49:57.647.fits does not belong to the data set \"00_raw_data\" of the PynPoint database. Updating Keyword...\n",
        "  % (key, fits_file, self.m_image_tag))\n"
       ]
      },
      {
       "output_type": "stream",
       "stream": "stdout",
       "text": [
        "\n",
        "Reading NACO.2012-08-25T06:50:41.060.fits"
       ]
      },
      {
       "output_type": "stream",
       "stream": "stderr",
       "text": [
        "/home/mbonse/Git/PynPoint/PynPoint2/io_modules/FitsReading.py:189: UserWarning: Unknown Header \"ESO AOS VIS DET WFS MODE\" key found\n",
        "  warnings.warn('Unknown Header \"%s\" key found' %str(key))\n",
        "/home/mbonse/Git/PynPoint/PynPoint2/io_modules/FitsReading.py:189: UserWarning: Unknown Header \"ESO AOS VIS INS ADC1 POSNAM\" key found\n",
        "  warnings.warn('Unknown Header \"%s\" key found' %str(key))\n",
        "/home/mbonse/Git/PynPoint/PynPoint2/io_modules/FitsReading.py:189: UserWarning: Unknown Header \"ESO AOS VIS INS ADC2 POSNAM\" key found\n",
        "  warnings.warn('Unknown Header \"%s\" key found' %str(key))\n",
        "/home/mbonse/Git/PynPoint/PynPoint2/io_modules/FitsReading.py:189: UserWarning: Unknown Header \"ESO AOS VIS INS DIAP POSNAM\" key found\n",
        "  warnings.warn('Unknown Header \"%s\" key found' %str(key))\n",
        "/home/mbonse/Git/PynPoint/PynPoint2/io_modules/FitsReading.py:189: UserWarning: Unknown Header \"ESO AOS VIS INS LENS POSNAM\" key found\n",
        "  warnings.warn('Unknown Header \"%s\" key found' %str(key))\n",
        "/home/mbonse/Git/PynPoint/PynPoint2/io_modules/FitsReading.py:174: UserWarning: Static keyword ESO OBS ID has changed. Probably the current file NACO.2012-08-25T06:50:41.060.fits does not belong to the data set \"00_raw_data\" of the PynPoint database. Updating Keyword...\n",
        "  % (key, fits_file, self.m_image_tag))\n"
       ]
      },
      {
       "output_type": "stream",
       "stream": "stdout",
       "text": [
        "\n",
        "Reading NACO.2012-08-25T06:51:32.774.fits"
       ]
      },
      {
       "output_type": "stream",
       "stream": "stderr",
       "text": [
        "/home/mbonse/Git/PynPoint/PynPoint2/io_modules/FitsReading.py:189: UserWarning: Unknown Header \"ESO AOS VIS DET WFS MODE\" key found\n",
        "  warnings.warn('Unknown Header \"%s\" key found' %str(key))\n",
        "/home/mbonse/Git/PynPoint/PynPoint2/io_modules/FitsReading.py:189: UserWarning: Unknown Header \"ESO AOS VIS INS ADC1 POSNAM\" key found\n",
        "  warnings.warn('Unknown Header \"%s\" key found' %str(key))\n",
        "/home/mbonse/Git/PynPoint/PynPoint2/io_modules/FitsReading.py:189: UserWarning: Unknown Header \"ESO AOS VIS INS ADC2 POSNAM\" key found\n",
        "  warnings.warn('Unknown Header \"%s\" key found' %str(key))\n",
        "/home/mbonse/Git/PynPoint/PynPoint2/io_modules/FitsReading.py:189: UserWarning: Unknown Header \"ESO AOS VIS INS DIAP POSNAM\" key found\n",
        "  warnings.warn('Unknown Header \"%s\" key found' %str(key))\n",
        "/home/mbonse/Git/PynPoint/PynPoint2/io_modules/FitsReading.py:189: UserWarning: Unknown Header \"ESO AOS VIS INS LENS POSNAM\" key found\n",
        "  warnings.warn('Unknown Header \"%s\" key found' %str(key))\n",
        "/home/mbonse/Git/PynPoint/PynPoint2/io_modules/FitsReading.py:174: UserWarning: Static keyword ESO OBS ID has changed. Probably the current file NACO.2012-08-25T06:51:32.774.fits does not belong to the data set \"00_raw_data\" of the PynPoint database. Updating Keyword...\n",
        "  % (key, fits_file, self.m_image_tag))\n"
       ]
      },
      {
       "output_type": "stream",
       "stream": "stdout",
       "text": [
        "\n",
        "Reading NACO.2012-08-25T06:52:16.433.fits"
       ]
      },
      {
       "output_type": "stream",
       "stream": "stderr",
       "text": [
        "/home/mbonse/Git/PynPoint/PynPoint2/io_modules/FitsReading.py:189: UserWarning: Unknown Header \"ESO AOS VIS DET WFS MODE\" key found\n",
        "  warnings.warn('Unknown Header \"%s\" key found' %str(key))\n",
        "/home/mbonse/Git/PynPoint/PynPoint2/io_modules/FitsReading.py:189: UserWarning: Unknown Header \"ESO AOS VIS INS ADC1 POSNAM\" key found\n",
        "  warnings.warn('Unknown Header \"%s\" key found' %str(key))\n",
        "/home/mbonse/Git/PynPoint/PynPoint2/io_modules/FitsReading.py:189: UserWarning: Unknown Header \"ESO AOS VIS INS ADC2 POSNAM\" key found\n",
        "  warnings.warn('Unknown Header \"%s\" key found' %str(key))\n",
        "/home/mbonse/Git/PynPoint/PynPoint2/io_modules/FitsReading.py:189: UserWarning: Unknown Header \"ESO AOS VIS INS DIAP POSNAM\" key found\n",
        "  warnings.warn('Unknown Header \"%s\" key found' %str(key))\n",
        "/home/mbonse/Git/PynPoint/PynPoint2/io_modules/FitsReading.py:189: UserWarning: Unknown Header \"ESO AOS VIS INS LENS POSNAM\" key found\n",
        "  warnings.warn('Unknown Header \"%s\" key found' %str(key))\n",
        "/home/mbonse/Git/PynPoint/PynPoint2/io_modules/FitsReading.py:174: UserWarning: Static keyword ESO OBS ID has changed. Probably the current file NACO.2012-08-25T06:52:16.433.fits does not belong to the data set \"00_raw_data\" of the PynPoint database. Updating Keyword...\n",
        "  % (key, fits_file, self.m_image_tag))\n"
       ]
      },
      {
       "output_type": "stream",
       "stream": "stdout",
       "text": [
        "\n",
        "Reading NACO.2012-08-25T06:53:07.519.fits"
       ]
      },
      {
       "output_type": "stream",
       "stream": "stderr",
       "text": [
        "/home/mbonse/Git/PynPoint/PynPoint2/io_modules/FitsReading.py:189: UserWarning: Unknown Header \"ESO AOS VIS DET WFS MODE\" key found\n",
        "  warnings.warn('Unknown Header \"%s\" key found' %str(key))\n",
        "/home/mbonse/Git/PynPoint/PynPoint2/io_modules/FitsReading.py:189: UserWarning: Unknown Header \"ESO AOS VIS INS ADC1 POSNAM\" key found\n",
        "  warnings.warn('Unknown Header \"%s\" key found' %str(key))\n",
        "/home/mbonse/Git/PynPoint/PynPoint2/io_modules/FitsReading.py:189: UserWarning: Unknown Header \"ESO AOS VIS INS ADC2 POSNAM\" key found\n",
        "  warnings.warn('Unknown Header \"%s\" key found' %str(key))\n",
        "/home/mbonse/Git/PynPoint/PynPoint2/io_modules/FitsReading.py:189: UserWarning: Unknown Header \"ESO AOS VIS INS DIAP POSNAM\" key found\n",
        "  warnings.warn('Unknown Header \"%s\" key found' %str(key))\n",
        "/home/mbonse/Git/PynPoint/PynPoint2/io_modules/FitsReading.py:189: UserWarning: Unknown Header \"ESO AOS VIS INS LENS POSNAM\" key found\n",
        "  warnings.warn('Unknown Header \"%s\" key found' %str(key))\n",
        "/home/mbonse/Git/PynPoint/PynPoint2/io_modules/FitsReading.py:174: UserWarning: Static keyword ESO OBS ID has changed. Probably the current file NACO.2012-08-25T06:53:07.519.fits does not belong to the data set \"00_raw_data\" of the PynPoint database. Updating Keyword...\n",
        "  % (key, fits_file, self.m_image_tag))\n"
       ]
      },
      {
       "output_type": "stream",
       "stream": "stdout",
       "text": [
        "\n",
        "Reading NACO.2012-08-25T06:53:50.975.fits"
       ]
      },
      {
       "output_type": "stream",
       "stream": "stderr",
       "text": [
        "/home/mbonse/Git/PynPoint/PynPoint2/io_modules/FitsReading.py:189: UserWarning: Unknown Header \"ESO AOS VIS DET WFS MODE\" key found\n",
        "  warnings.warn('Unknown Header \"%s\" key found' %str(key))\n",
        "/home/mbonse/Git/PynPoint/PynPoint2/io_modules/FitsReading.py:189: UserWarning: Unknown Header \"ESO AOS VIS INS ADC1 POSNAM\" key found\n",
        "  warnings.warn('Unknown Header \"%s\" key found' %str(key))\n",
        "/home/mbonse/Git/PynPoint/PynPoint2/io_modules/FitsReading.py:189: UserWarning: Unknown Header \"ESO AOS VIS INS ADC2 POSNAM\" key found\n",
        "  warnings.warn('Unknown Header \"%s\" key found' %str(key))\n",
        "/home/mbonse/Git/PynPoint/PynPoint2/io_modules/FitsReading.py:189: UserWarning: Unknown Header \"ESO AOS VIS INS DIAP POSNAM\" key found\n",
        "  warnings.warn('Unknown Header \"%s\" key found' %str(key))\n",
        "/home/mbonse/Git/PynPoint/PynPoint2/io_modules/FitsReading.py:189: UserWarning: Unknown Header \"ESO AOS VIS INS LENS POSNAM\" key found\n",
        "  warnings.warn('Unknown Header \"%s\" key found' %str(key))\n",
        "/home/mbonse/Git/PynPoint/PynPoint2/io_modules/FitsReading.py:174: UserWarning: Static keyword ESO OBS ID has changed. Probably the current file NACO.2012-08-25T06:53:50.975.fits does not belong to the data set \"00_raw_data\" of the PynPoint database. Updating Keyword...\n",
        "  % (key, fits_file, self.m_image_tag))\n"
       ]
      },
      {
       "output_type": "stream",
       "stream": "stdout",
       "text": [
        "\n",
        "Reading NACO.2012-08-25T06:55:11.169.fits"
       ]
      },
      {
       "output_type": "stream",
       "stream": "stderr",
       "text": [
        "/home/mbonse/Git/PynPoint/PynPoint2/io_modules/FitsReading.py:189: UserWarning: Unknown Header \"ESO AOS VIS DET WFS MODE\" key found\n",
        "  warnings.warn('Unknown Header \"%s\" key found' %str(key))\n",
        "/home/mbonse/Git/PynPoint/PynPoint2/io_modules/FitsReading.py:189: UserWarning: Unknown Header \"ESO AOS VIS INS ADC1 POSNAM\" key found\n",
        "  warnings.warn('Unknown Header \"%s\" key found' %str(key))\n",
        "/home/mbonse/Git/PynPoint/PynPoint2/io_modules/FitsReading.py:189: UserWarning: Unknown Header \"ESO AOS VIS INS ADC2 POSNAM\" key found\n",
        "  warnings.warn('Unknown Header \"%s\" key found' %str(key))\n",
        "/home/mbonse/Git/PynPoint/PynPoint2/io_modules/FitsReading.py:189: UserWarning: Unknown Header \"ESO AOS VIS INS DIAP POSNAM\" key found\n",
        "  warnings.warn('Unknown Header \"%s\" key found' %str(key))\n",
        "/home/mbonse/Git/PynPoint/PynPoint2/io_modules/FitsReading.py:189: UserWarning: Unknown Header \"ESO AOS VIS INS LENS POSNAM\" key found\n",
        "  warnings.warn('Unknown Header \"%s\" key found' %str(key))\n",
        "/home/mbonse/Git/PynPoint/PynPoint2/io_modules/FitsReading.py:174: UserWarning: Static keyword ESO OBS ID has changed. Probably the current file NACO.2012-08-25T06:55:11.169.fits does not belong to the data set \"00_raw_data\" of the PynPoint database. Updating Keyword...\n",
        "  % (key, fits_file, self.m_image_tag))\n"
       ]
      },
      {
       "output_type": "stream",
       "stream": "stdout",
       "text": [
        "\n",
        "Reading NACO.2012-08-25T06:55:55.068.fits"
       ]
      },
      {
       "output_type": "stream",
       "stream": "stderr",
       "text": [
        "/home/mbonse/Git/PynPoint/PynPoint2/io_modules/FitsReading.py:189: UserWarning: Unknown Header \"ESO AOS VIS DET WFS MODE\" key found\n",
        "  warnings.warn('Unknown Header \"%s\" key found' %str(key))\n",
        "/home/mbonse/Git/PynPoint/PynPoint2/io_modules/FitsReading.py:189: UserWarning: Unknown Header \"ESO AOS VIS INS ADC1 POSNAM\" key found\n",
        "  warnings.warn('Unknown Header \"%s\" key found' %str(key))\n",
        "/home/mbonse/Git/PynPoint/PynPoint2/io_modules/FitsReading.py:189: UserWarning: Unknown Header \"ESO AOS VIS INS ADC2 POSNAM\" key found\n",
        "  warnings.warn('Unknown Header \"%s\" key found' %str(key))\n",
        "/home/mbonse/Git/PynPoint/PynPoint2/io_modules/FitsReading.py:189: UserWarning: Unknown Header \"ESO AOS VIS INS DIAP POSNAM\" key found\n",
        "  warnings.warn('Unknown Header \"%s\" key found' %str(key))\n",
        "/home/mbonse/Git/PynPoint/PynPoint2/io_modules/FitsReading.py:189: UserWarning: Unknown Header \"ESO AOS VIS INS LENS POSNAM\" key found\n",
        "  warnings.warn('Unknown Header \"%s\" key found' %str(key))\n",
        "/home/mbonse/Git/PynPoint/PynPoint2/io_modules/FitsReading.py:174: UserWarning: Static keyword ESO INS PRES-MON PRES1 has changed. Probably the current file NACO.2012-08-25T06:55:55.068.fits does not belong to the data set \"00_raw_data\" of the PynPoint database. Updating Keyword...\n",
        "  % (key, fits_file, self.m_image_tag))\n"
       ]
      },
      {
       "output_type": "stream",
       "stream": "stdout",
       "text": [
        "\n",
        "Reading NACO.2012-08-25T06:56:48.318.fits"
       ]
      },
      {
       "output_type": "stream",
       "stream": "stderr",
       "text": [
        "/home/mbonse/Git/PynPoint/PynPoint2/io_modules/FitsReading.py:174: UserWarning: Static keyword ESO OBS ID has changed. Probably the current file NACO.2012-08-25T06:55:55.068.fits does not belong to the data set \"00_raw_data\" of the PynPoint database. Updating Keyword...\n",
        "  % (key, fits_file, self.m_image_tag))\n",
        "/home/mbonse/Git/PynPoint/PynPoint2/io_modules/FitsReading.py:189: UserWarning: Unknown Header \"ESO AOS VIS DET WFS MODE\" key found\n",
        "  warnings.warn('Unknown Header \"%s\" key found' %str(key))\n"
       ]
      },
      {
       "output_type": "stream",
       "stream": "stderr",
       "text": [
        "/home/mbonse/Git/PynPoint/PynPoint2/io_modules/FitsReading.py:189: UserWarning: Unknown Header \"ESO AOS VIS INS ADC1 POSNAM\" key found\n",
        "  warnings.warn('Unknown Header \"%s\" key found' %str(key))\n",
        "/home/mbonse/Git/PynPoint/PynPoint2/io_modules/FitsReading.py:189: UserWarning: Unknown Header \"ESO AOS VIS INS ADC2 POSNAM\" key found\n",
        "  warnings.warn('Unknown Header \"%s\" key found' %str(key))\n",
        "/home/mbonse/Git/PynPoint/PynPoint2/io_modules/FitsReading.py:189: UserWarning: Unknown Header \"ESO AOS VIS INS DIAP POSNAM\" key found\n",
        "  warnings.warn('Unknown Header \"%s\" key found' %str(key))\n",
        "/home/mbonse/Git/PynPoint/PynPoint2/io_modules/FitsReading.py:189: UserWarning: Unknown Header \"ESO AOS VIS INS LENS POSNAM\" key found\n",
        "  warnings.warn('Unknown Header \"%s\" key found' %str(key))\n",
        "/home/mbonse/Git/PynPoint/PynPoint2/io_modules/FitsReading.py:174: UserWarning: Static keyword ESO INS PRES-MON PRES1 has changed. Probably the current file NACO.2012-08-25T06:56:48.318.fits does not belong to the data set \"00_raw_data\" of the PynPoint database. Updating Keyword...\n",
        "  % (key, fits_file, self.m_image_tag))\n"
       ]
      },
      {
       "output_type": "stream",
       "stream": "stdout",
       "text": [
        "\n",
        "Reading NACO.2012-08-25T06:57:33.175.fits"
       ]
      },
      {
       "output_type": "stream",
       "stream": "stderr",
       "text": [
        "/home/mbonse/Git/PynPoint/PynPoint2/io_modules/FitsReading.py:174: UserWarning: Static keyword ESO OBS ID has changed. Probably the current file NACO.2012-08-25T06:56:48.318.fits does not belong to the data set \"00_raw_data\" of the PynPoint database. Updating Keyword...\n",
        "  % (key, fits_file, self.m_image_tag))\n",
        "/home/mbonse/Git/PynPoint/PynPoint2/io_modules/FitsReading.py:189: UserWarning: Unknown Header \"ESO AOS VIS DET WFS MODE\" key found\n",
        "  warnings.warn('Unknown Header \"%s\" key found' %str(key))\n"
       ]
      },
      {
       "output_type": "stream",
       "stream": "stderr",
       "text": [
        "/home/mbonse/Git/PynPoint/PynPoint2/io_modules/FitsReading.py:189: UserWarning: Unknown Header \"ESO AOS VIS INS ADC1 POSNAM\" key found\n",
        "  warnings.warn('Unknown Header \"%s\" key found' %str(key))\n",
        "/home/mbonse/Git/PynPoint/PynPoint2/io_modules/FitsReading.py:189: UserWarning: Unknown Header \"ESO AOS VIS INS ADC2 POSNAM\" key found\n",
        "  warnings.warn('Unknown Header \"%s\" key found' %str(key))\n",
        "/home/mbonse/Git/PynPoint/PynPoint2/io_modules/FitsReading.py:189: UserWarning: Unknown Header \"ESO AOS VIS INS DIAP POSNAM\" key found\n",
        "  warnings.warn('Unknown Header \"%s\" key found' %str(key))\n",
        "/home/mbonse/Git/PynPoint/PynPoint2/io_modules/FitsReading.py:189: UserWarning: Unknown Header \"ESO AOS VIS INS LENS POSNAM\" key found\n",
        "  warnings.warn('Unknown Header \"%s\" key found' %str(key))\n",
        "/home/mbonse/Git/PynPoint/PynPoint2/io_modules/FitsReading.py:174: UserWarning: Static keyword ESO INS PRES-MON PRES1 has changed. Probably the current file NACO.2012-08-25T06:57:33.175.fits does not belong to the data set \"00_raw_data\" of the PynPoint database. Updating Keyword...\n",
        "  % (key, fits_file, self.m_image_tag))\n"
       ]
      },
      {
       "output_type": "stream",
       "stream": "stdout",
       "text": [
        "\n",
        "Reading NACO.2012-08-25T06:58:24.629.fits"
       ]
      },
      {
       "output_type": "stream",
       "stream": "stderr",
       "text": [
        "/home/mbonse/Git/PynPoint/PynPoint2/io_modules/FitsReading.py:174: UserWarning: Static keyword ESO OBS ID has changed. Probably the current file NACO.2012-08-25T06:57:33.175.fits does not belong to the data set \"00_raw_data\" of the PynPoint database. Updating Keyword...\n",
        "  % (key, fits_file, self.m_image_tag))\n",
        "/home/mbonse/Git/PynPoint/PynPoint2/io_modules/FitsReading.py:189: UserWarning: Unknown Header \"ESO AOS VIS DET WFS MODE\" key found\n",
        "  warnings.warn('Unknown Header \"%s\" key found' %str(key))\n"
       ]
      },
      {
       "output_type": "stream",
       "stream": "stderr",
       "text": [
        "/home/mbonse/Git/PynPoint/PynPoint2/io_modules/FitsReading.py:189: UserWarning: Unknown Header \"ESO AOS VIS INS ADC1 POSNAM\" key found\n",
        "  warnings.warn('Unknown Header \"%s\" key found' %str(key))\n",
        "/home/mbonse/Git/PynPoint/PynPoint2/io_modules/FitsReading.py:189: UserWarning: Unknown Header \"ESO AOS VIS INS ADC2 POSNAM\" key found\n",
        "  warnings.warn('Unknown Header \"%s\" key found' %str(key))\n",
        "/home/mbonse/Git/PynPoint/PynPoint2/io_modules/FitsReading.py:189: UserWarning: Unknown Header \"ESO AOS VIS INS DIAP POSNAM\" key found\n",
        "  warnings.warn('Unknown Header \"%s\" key found' %str(key))\n",
        "/home/mbonse/Git/PynPoint/PynPoint2/io_modules/FitsReading.py:189: UserWarning: Unknown Header \"ESO AOS VIS INS LENS POSNAM\" key found\n",
        "  warnings.warn('Unknown Header \"%s\" key found' %str(key))\n",
        "/home/mbonse/Git/PynPoint/PynPoint2/io_modules/FitsReading.py:174: UserWarning: Static keyword ESO INS PRES-MON PRES1 has changed. Probably the current file NACO.2012-08-25T06:58:24.629.fits does not belong to the data set \"00_raw_data\" of the PynPoint database. Updating Keyword...\n",
        "  % (key, fits_file, self.m_image_tag))\n"
       ]
      },
      {
       "output_type": "stream",
       "stream": "stdout",
       "text": [
        "\n",
        "Reading NACO.2012-08-25T06:59:08.284.fits"
       ]
      },
      {
       "output_type": "stream",
       "stream": "stderr",
       "text": [
        "/home/mbonse/Git/PynPoint/PynPoint2/io_modules/FitsReading.py:174: UserWarning: Static keyword ESO OBS ID has changed. Probably the current file NACO.2012-08-25T06:58:24.629.fits does not belong to the data set \"00_raw_data\" of the PynPoint database. Updating Keyword...\n",
        "  % (key, fits_file, self.m_image_tag))\n",
        "/home/mbonse/Git/PynPoint/PynPoint2/io_modules/FitsReading.py:189: UserWarning: Unknown Header \"ESO AOS VIS DET WFS MODE\" key found\n",
        "  warnings.warn('Unknown Header \"%s\" key found' %str(key))\n"
       ]
      },
      {
       "output_type": "stream",
       "stream": "stderr",
       "text": [
        "/home/mbonse/Git/PynPoint/PynPoint2/io_modules/FitsReading.py:189: UserWarning: Unknown Header \"ESO AOS VIS INS ADC1 POSNAM\" key found\n",
        "  warnings.warn('Unknown Header \"%s\" key found' %str(key))\n",
        "/home/mbonse/Git/PynPoint/PynPoint2/io_modules/FitsReading.py:189: UserWarning: Unknown Header \"ESO AOS VIS INS ADC2 POSNAM\" key found\n",
        "  warnings.warn('Unknown Header \"%s\" key found' %str(key))\n",
        "/home/mbonse/Git/PynPoint/PynPoint2/io_modules/FitsReading.py:189: UserWarning: Unknown Header \"ESO AOS VIS INS DIAP POSNAM\" key found\n",
        "  warnings.warn('Unknown Header \"%s\" key found' %str(key))\n",
        "/home/mbonse/Git/PynPoint/PynPoint2/io_modules/FitsReading.py:189: UserWarning: Unknown Header \"ESO AOS VIS INS LENS POSNAM\" key found\n",
        "  warnings.warn('Unknown Header \"%s\" key found' %str(key))\n",
        "/home/mbonse/Git/PynPoint/PynPoint2/io_modules/FitsReading.py:174: UserWarning: Static keyword ESO INS PRES-MON PRES1 has changed. Probably the current file NACO.2012-08-25T06:59:08.284.fits does not belong to the data set \"00_raw_data\" of the PynPoint database. Updating Keyword...\n",
        "  % (key, fits_file, self.m_image_tag))\n"
       ]
      },
      {
       "output_type": "stream",
       "stream": "stdout",
       "text": [
        "\n",
        "Reading NACO.2012-08-25T06:59:59.569.fits"
       ]
      },
      {
       "output_type": "stream",
       "stream": "stderr",
       "text": [
        "/home/mbonse/Git/PynPoint/PynPoint2/io_modules/FitsReading.py:174: UserWarning: Static keyword ESO OBS ID has changed. Probably the current file NACO.2012-08-25T06:59:08.284.fits does not belong to the data set \"00_raw_data\" of the PynPoint database. Updating Keyword...\n",
        "  % (key, fits_file, self.m_image_tag))\n",
        "/home/mbonse/Git/PynPoint/PynPoint2/io_modules/FitsReading.py:189: UserWarning: Unknown Header \"ESO AOS VIS DET WFS MODE\" key found\n",
        "  warnings.warn('Unknown Header \"%s\" key found' %str(key))\n"
       ]
      },
      {
       "output_type": "stream",
       "stream": "stderr",
       "text": [
        "/home/mbonse/Git/PynPoint/PynPoint2/io_modules/FitsReading.py:189: UserWarning: Unknown Header \"ESO AOS VIS INS ADC1 POSNAM\" key found\n",
        "  warnings.warn('Unknown Header \"%s\" key found' %str(key))\n",
        "/home/mbonse/Git/PynPoint/PynPoint2/io_modules/FitsReading.py:189: UserWarning: Unknown Header \"ESO AOS VIS INS ADC2 POSNAM\" key found\n",
        "  warnings.warn('Unknown Header \"%s\" key found' %str(key))\n",
        "/home/mbonse/Git/PynPoint/PynPoint2/io_modules/FitsReading.py:189: UserWarning: Unknown Header \"ESO AOS VIS INS DIAP POSNAM\" key found\n",
        "  warnings.warn('Unknown Header \"%s\" key found' %str(key))\n",
        "/home/mbonse/Git/PynPoint/PynPoint2/io_modules/FitsReading.py:189: UserWarning: Unknown Header \"ESO AOS VIS INS LENS POSNAM\" key found\n",
        "  warnings.warn('Unknown Header \"%s\" key found' %str(key))\n",
        "/home/mbonse/Git/PynPoint/PynPoint2/io_modules/FitsReading.py:174: UserWarning: Static keyword ESO INS PRES-MON PRES1 has changed. Probably the current file NACO.2012-08-25T06:59:59.569.fits does not belong to the data set \"00_raw_data\" of the PynPoint database. Updating Keyword...\n",
        "  % (key, fits_file, self.m_image_tag))\n"
       ]
      },
      {
       "output_type": "stream",
       "stream": "stdout",
       "text": [
        "\n",
        "Reading NACO.2012-08-25T07:00:43.623.fits"
       ]
      },
      {
       "output_type": "stream",
       "stream": "stderr",
       "text": [
        "/home/mbonse/Git/PynPoint/PynPoint2/io_modules/FitsReading.py:174: UserWarning: Static keyword ESO OBS ID has changed. Probably the current file NACO.2012-08-25T06:59:59.569.fits does not belong to the data set \"00_raw_data\" of the PynPoint database. Updating Keyword...\n",
        "  % (key, fits_file, self.m_image_tag))\n",
        "/home/mbonse/Git/PynPoint/PynPoint2/io_modules/FitsReading.py:189: UserWarning: Unknown Header \"ESO AOS VIS DET WFS MODE\" key found\n",
        "  warnings.warn('Unknown Header \"%s\" key found' %str(key))\n"
       ]
      },
      {
       "output_type": "stream",
       "stream": "stderr",
       "text": [
        "/home/mbonse/Git/PynPoint/PynPoint2/io_modules/FitsReading.py:189: UserWarning: Unknown Header \"ESO AOS VIS INS ADC1 POSNAM\" key found\n",
        "  warnings.warn('Unknown Header \"%s\" key found' %str(key))\n",
        "/home/mbonse/Git/PynPoint/PynPoint2/io_modules/FitsReading.py:189: UserWarning: Unknown Header \"ESO AOS VIS INS ADC2 POSNAM\" key found\n",
        "  warnings.warn('Unknown Header \"%s\" key found' %str(key))\n",
        "/home/mbonse/Git/PynPoint/PynPoint2/io_modules/FitsReading.py:189: UserWarning: Unknown Header \"ESO AOS VIS INS DIAP POSNAM\" key found\n",
        "  warnings.warn('Unknown Header \"%s\" key found' %str(key))\n",
        "/home/mbonse/Git/PynPoint/PynPoint2/io_modules/FitsReading.py:189: UserWarning: Unknown Header \"ESO AOS VIS INS LENS POSNAM\" key found\n",
        "  warnings.warn('Unknown Header \"%s\" key found' %str(key))\n",
        "/home/mbonse/Git/PynPoint/PynPoint2/io_modules/FitsReading.py:174: UserWarning: Static keyword ESO INS PRES-MON PRES1 has changed. Probably the current file NACO.2012-08-25T07:00:43.623.fits does not belong to the data set \"00_raw_data\" of the PynPoint database. Updating Keyword...\n",
        "  % (key, fits_file, self.m_image_tag))\n"
       ]
      },
      {
       "output_type": "stream",
       "stream": "stdout",
       "text": [
        "\n",
        "Reading NACO.2012-08-25T07:01:50.085.fits"
       ]
      },
      {
       "output_type": "stream",
       "stream": "stderr",
       "text": [
        "/home/mbonse/Git/PynPoint/PynPoint2/io_modules/FitsReading.py:174: UserWarning: Static keyword ESO OBS ID has changed. Probably the current file NACO.2012-08-25T07:00:43.623.fits does not belong to the data set \"00_raw_data\" of the PynPoint database. Updating Keyword...\n",
        "  % (key, fits_file, self.m_image_tag))\n",
        "/home/mbonse/Git/PynPoint/PynPoint2/io_modules/FitsReading.py:189: UserWarning: Unknown Header \"ESO AOS VIS DET WFS MODE\" key found\n",
        "  warnings.warn('Unknown Header \"%s\" key found' %str(key))\n"
       ]
      },
      {
       "output_type": "stream",
       "stream": "stderr",
       "text": [
        "/home/mbonse/Git/PynPoint/PynPoint2/io_modules/FitsReading.py:189: UserWarning: Unknown Header \"ESO AOS VIS INS ADC1 POSNAM\" key found\n",
        "  warnings.warn('Unknown Header \"%s\" key found' %str(key))\n",
        "/home/mbonse/Git/PynPoint/PynPoint2/io_modules/FitsReading.py:189: UserWarning: Unknown Header \"ESO AOS VIS INS ADC2 POSNAM\" key found\n",
        "  warnings.warn('Unknown Header \"%s\" key found' %str(key))\n",
        "/home/mbonse/Git/PynPoint/PynPoint2/io_modules/FitsReading.py:189: UserWarning: Unknown Header \"ESO AOS VIS INS DIAP POSNAM\" key found\n",
        "  warnings.warn('Unknown Header \"%s\" key found' %str(key))\n",
        "/home/mbonse/Git/PynPoint/PynPoint2/io_modules/FitsReading.py:189: UserWarning: Unknown Header \"ESO AOS VIS INS LENS POSNAM\" key found\n",
        "  warnings.warn('Unknown Header \"%s\" key found' %str(key))\n",
        "/home/mbonse/Git/PynPoint/PynPoint2/io_modules/FitsReading.py:174: UserWarning: Static keyword ESO INS PRES-MON PRES1 has changed. Probably the current file NACO.2012-08-25T07:01:50.085.fits does not belong to the data set \"00_raw_data\" of the PynPoint database. Updating Keyword...\n",
        "  % (key, fits_file, self.m_image_tag))\n"
       ]
      },
      {
       "output_type": "stream",
       "stream": "stdout",
       "text": [
        "\n",
        "Reading NACO.2012-08-25T07:02:33.740.fits"
       ]
      },
      {
       "output_type": "stream",
       "stream": "stderr",
       "text": [
        "/home/mbonse/Git/PynPoint/PynPoint2/io_modules/FitsReading.py:174: UserWarning: Static keyword ESO OBS ID has changed. Probably the current file NACO.2012-08-25T07:01:50.085.fits does not belong to the data set \"00_raw_data\" of the PynPoint database. Updating Keyword...\n",
        "  % (key, fits_file, self.m_image_tag))\n",
        "/home/mbonse/Git/PynPoint/PynPoint2/io_modules/FitsReading.py:189: UserWarning: Unknown Header \"ESO AOS VIS DET WFS MODE\" key found\n",
        "  warnings.warn('Unknown Header \"%s\" key found' %str(key))\n"
       ]
      },
      {
       "output_type": "stream",
       "stream": "stderr",
       "text": [
        "/home/mbonse/Git/PynPoint/PynPoint2/io_modules/FitsReading.py:189: UserWarning: Unknown Header \"ESO AOS VIS INS ADC1 POSNAM\" key found\n",
        "  warnings.warn('Unknown Header \"%s\" key found' %str(key))\n",
        "/home/mbonse/Git/PynPoint/PynPoint2/io_modules/FitsReading.py:189: UserWarning: Unknown Header \"ESO AOS VIS INS ADC2 POSNAM\" key found\n",
        "  warnings.warn('Unknown Header \"%s\" key found' %str(key))\n",
        "/home/mbonse/Git/PynPoint/PynPoint2/io_modules/FitsReading.py:189: UserWarning: Unknown Header \"ESO AOS VIS INS DIAP POSNAM\" key found\n",
        "  warnings.warn('Unknown Header \"%s\" key found' %str(key))\n",
        "/home/mbonse/Git/PynPoint/PynPoint2/io_modules/FitsReading.py:189: UserWarning: Unknown Header \"ESO AOS VIS INS LENS POSNAM\" key found\n",
        "  warnings.warn('Unknown Header \"%s\" key found' %str(key))\n",
        "/home/mbonse/Git/PynPoint/PynPoint2/io_modules/FitsReading.py:174: UserWarning: Static keyword ESO INS PRES-MON PRES1 has changed. Probably the current file NACO.2012-08-25T07:02:33.740.fits does not belong to the data set \"00_raw_data\" of the PynPoint database. Updating Keyword...\n",
        "  % (key, fits_file, self.m_image_tag))\n"
       ]
      },
      {
       "output_type": "stream",
       "stream": "stdout",
       "text": [
        "\n",
        "Reading NACO.2012-08-25T07:03:24.993.fits"
       ]
      },
      {
       "output_type": "stream",
       "stream": "stderr",
       "text": [
        "/home/mbonse/Git/PynPoint/PynPoint2/io_modules/FitsReading.py:174: UserWarning: Static keyword ESO OBS ID has changed. Probably the current file NACO.2012-08-25T07:02:33.740.fits does not belong to the data set \"00_raw_data\" of the PynPoint database. Updating Keyword...\n",
        "  % (key, fits_file, self.m_image_tag))\n",
        "/home/mbonse/Git/PynPoint/PynPoint2/io_modules/FitsReading.py:189: UserWarning: Unknown Header \"ESO AOS VIS DET WFS MODE\" key found\n",
        "  warnings.warn('Unknown Header \"%s\" key found' %str(key))\n"
       ]
      },
      {
       "output_type": "stream",
       "stream": "stderr",
       "text": [
        "/home/mbonse/Git/PynPoint/PynPoint2/io_modules/FitsReading.py:189: UserWarning: Unknown Header \"ESO AOS VIS INS ADC1 POSNAM\" key found\n",
        "  warnings.warn('Unknown Header \"%s\" key found' %str(key))\n",
        "/home/mbonse/Git/PynPoint/PynPoint2/io_modules/FitsReading.py:189: UserWarning: Unknown Header \"ESO AOS VIS INS ADC2 POSNAM\" key found\n",
        "  warnings.warn('Unknown Header \"%s\" key found' %str(key))\n",
        "/home/mbonse/Git/PynPoint/PynPoint2/io_modules/FitsReading.py:189: UserWarning: Unknown Header \"ESO AOS VIS INS DIAP POSNAM\" key found\n",
        "  warnings.warn('Unknown Header \"%s\" key found' %str(key))\n",
        "/home/mbonse/Git/PynPoint/PynPoint2/io_modules/FitsReading.py:189: UserWarning: Unknown Header \"ESO AOS VIS INS LENS POSNAM\" key found\n",
        "  warnings.warn('Unknown Header \"%s\" key found' %str(key))\n",
        "/home/mbonse/Git/PynPoint/PynPoint2/io_modules/FitsReading.py:174: UserWarning: Static keyword ESO INS PRES-MON PRES1 has changed. Probably the current file NACO.2012-08-25T07:03:24.993.fits does not belong to the data set \"00_raw_data\" of the PynPoint database. Updating Keyword...\n",
        "  % (key, fits_file, self.m_image_tag))\n"
       ]
      },
      {
       "output_type": "stream",
       "stream": "stdout",
       "text": [
        "\n",
        "Reading NACO.2012-08-25T07:04:08.849.fits"
       ]
      },
      {
       "output_type": "stream",
       "stream": "stderr",
       "text": [
        "/home/mbonse/Git/PynPoint/PynPoint2/io_modules/FitsReading.py:174: UserWarning: Static keyword ESO OBS ID has changed. Probably the current file NACO.2012-08-25T07:03:24.993.fits does not belong to the data set \"00_raw_data\" of the PynPoint database. Updating Keyword...\n",
        "  % (key, fits_file, self.m_image_tag))\n",
        "/home/mbonse/Git/PynPoint/PynPoint2/io_modules/FitsReading.py:174: UserWarning: Static keyword ESO TEL DOME STATUS has changed. Probably the current file NACO.2012-08-25T07:03:24.993.fits does not belong to the data set \"00_raw_data\" of the PynPoint database. Updating Keyword...\n",
        "  % (key, fits_file, self.m_image_tag))\n",
        "/home/mbonse/Git/PynPoint/PynPoint2/io_modules/FitsReading.py:189: UserWarning: Unknown Header \"ESO AOS VIS DET WFS MODE\" key found\n",
        "  warnings.warn('Unknown Header \"%s\" key found' %str(key))\n"
       ]
      },
      {
       "output_type": "stream",
       "stream": "stderr",
       "text": [
        "/home/mbonse/Git/PynPoint/PynPoint2/io_modules/FitsReading.py:189: UserWarning: Unknown Header \"ESO AOS VIS INS ADC1 POSNAM\" key found\n",
        "  warnings.warn('Unknown Header \"%s\" key found' %str(key))\n",
        "/home/mbonse/Git/PynPoint/PynPoint2/io_modules/FitsReading.py:189: UserWarning: Unknown Header \"ESO AOS VIS INS ADC2 POSNAM\" key found\n",
        "  warnings.warn('Unknown Header \"%s\" key found' %str(key))\n",
        "/home/mbonse/Git/PynPoint/PynPoint2/io_modules/FitsReading.py:189: UserWarning: Unknown Header \"ESO AOS VIS INS DIAP POSNAM\" key found\n",
        "  warnings.warn('Unknown Header \"%s\" key found' %str(key))\n",
        "/home/mbonse/Git/PynPoint/PynPoint2/io_modules/FitsReading.py:189: UserWarning: Unknown Header \"ESO AOS VIS INS LENS POSNAM\" key found\n",
        "  warnings.warn('Unknown Header \"%s\" key found' %str(key))\n",
        "/home/mbonse/Git/PynPoint/PynPoint2/io_modules/FitsReading.py:174: UserWarning: Static keyword ESO INS PRES-MON PRES1 has changed. Probably the current file NACO.2012-08-25T07:04:08.849.fits does not belong to the data set \"00_raw_data\" of the PynPoint database. Updating Keyword...\n",
        "  % (key, fits_file, self.m_image_tag))\n"
       ]
      },
      {
       "output_type": "stream",
       "stream": "stdout",
       "text": [
        "\n",
        "Reading NACO.2012-08-25T07:05:00.657.fits"
       ]
      },
      {
       "output_type": "stream",
       "stream": "stderr",
       "text": [
        "/home/mbonse/Git/PynPoint/PynPoint2/io_modules/FitsReading.py:174: UserWarning: Static keyword ESO OBS ID has changed. Probably the current file NACO.2012-08-25T07:04:08.849.fits does not belong to the data set \"00_raw_data\" of the PynPoint database. Updating Keyword...\n",
        "  % (key, fits_file, self.m_image_tag))\n",
        "/home/mbonse/Git/PynPoint/PynPoint2/io_modules/FitsReading.py:189: UserWarning: Unknown Header \"ESO AOS VIS DET WFS MODE\" key found\n",
        "  warnings.warn('Unknown Header \"%s\" key found' %str(key))\n"
       ]
      },
      {
       "output_type": "stream",
       "stream": "stderr",
       "text": [
        "/home/mbonse/Git/PynPoint/PynPoint2/io_modules/FitsReading.py:189: UserWarning: Unknown Header \"ESO AOS VIS INS ADC1 POSNAM\" key found\n",
        "  warnings.warn('Unknown Header \"%s\" key found' %str(key))\n",
        "/home/mbonse/Git/PynPoint/PynPoint2/io_modules/FitsReading.py:189: UserWarning: Unknown Header \"ESO AOS VIS INS ADC2 POSNAM\" key found\n",
        "  warnings.warn('Unknown Header \"%s\" key found' %str(key))\n",
        "/home/mbonse/Git/PynPoint/PynPoint2/io_modules/FitsReading.py:189: UserWarning: Unknown Header \"ESO AOS VIS INS DIAP POSNAM\" key found\n",
        "  warnings.warn('Unknown Header \"%s\" key found' %str(key))\n",
        "/home/mbonse/Git/PynPoint/PynPoint2/io_modules/FitsReading.py:189: UserWarning: Unknown Header \"ESO AOS VIS INS LENS POSNAM\" key found\n",
        "  warnings.warn('Unknown Header \"%s\" key found' %str(key))\n",
        "/home/mbonse/Git/PynPoint/PynPoint2/io_modules/FitsReading.py:174: UserWarning: Static keyword ESO INS PRES-MON PRES1 has changed. Probably the current file NACO.2012-08-25T07:05:00.657.fits does not belong to the data set \"00_raw_data\" of the PynPoint database. Updating Keyword...\n",
        "  % (key, fits_file, self.m_image_tag))\n"
       ]
      },
      {
       "output_type": "stream",
       "stream": "stdout",
       "text": [
        "\n",
        "Reading NACO.2012-08-25T07:05:44.155.fits"
       ]
      },
      {
       "output_type": "stream",
       "stream": "stderr",
       "text": [
        "/home/mbonse/Git/PynPoint/PynPoint2/io_modules/FitsReading.py:174: UserWarning: Static keyword ESO OBS ID has changed. Probably the current file NACO.2012-08-25T07:05:00.657.fits does not belong to the data set \"00_raw_data\" of the PynPoint database. Updating Keyword...\n",
        "  % (key, fits_file, self.m_image_tag))\n",
        "/home/mbonse/Git/PynPoint/PynPoint2/io_modules/FitsReading.py:189: UserWarning: Unknown Header \"ESO AOS VIS DET WFS MODE\" key found\n",
        "  warnings.warn('Unknown Header \"%s\" key found' %str(key))\n"
       ]
      },
      {
       "output_type": "stream",
       "stream": "stderr",
       "text": [
        "/home/mbonse/Git/PynPoint/PynPoint2/io_modules/FitsReading.py:189: UserWarning: Unknown Header \"ESO AOS VIS INS ADC1 POSNAM\" key found\n",
        "  warnings.warn('Unknown Header \"%s\" key found' %str(key))\n",
        "/home/mbonse/Git/PynPoint/PynPoint2/io_modules/FitsReading.py:189: UserWarning: Unknown Header \"ESO AOS VIS INS ADC2 POSNAM\" key found\n",
        "  warnings.warn('Unknown Header \"%s\" key found' %str(key))\n",
        "/home/mbonse/Git/PynPoint/PynPoint2/io_modules/FitsReading.py:189: UserWarning: Unknown Header \"ESO AOS VIS INS DIAP POSNAM\" key found\n",
        "  warnings.warn('Unknown Header \"%s\" key found' %str(key))\n",
        "/home/mbonse/Git/PynPoint/PynPoint2/io_modules/FitsReading.py:189: UserWarning: Unknown Header \"ESO AOS VIS INS LENS POSNAM\" key found\n",
        "  warnings.warn('Unknown Header \"%s\" key found' %str(key))\n",
        "/home/mbonse/Git/PynPoint/PynPoint2/io_modules/FitsReading.py:174: UserWarning: Static keyword ESO INS PRES-MON PRES1 has changed. Probably the current file NACO.2012-08-25T07:05:44.155.fits does not belong to the data set \"00_raw_data\" of the PynPoint database. Updating Keyword...\n",
        "  % (key, fits_file, self.m_image_tag))\n"
       ]
      },
      {
       "output_type": "stream",
       "stream": "stdout",
       "text": [
        "\n",
        "Reading NACO.2012-08-25T07:06:35.243.fits"
       ]
      },
      {
       "output_type": "stream",
       "stream": "stderr",
       "text": [
        "/home/mbonse/Git/PynPoint/PynPoint2/io_modules/FitsReading.py:174: UserWarning: Static keyword ESO OBS ID has changed. Probably the current file NACO.2012-08-25T07:05:44.155.fits does not belong to the data set \"00_raw_data\" of the PynPoint database. Updating Keyword...\n",
        "  % (key, fits_file, self.m_image_tag))\n",
        "/home/mbonse/Git/PynPoint/PynPoint2/io_modules/FitsReading.py:189: UserWarning: Unknown Header \"ESO AOS VIS DET WFS MODE\" key found\n",
        "  warnings.warn('Unknown Header \"%s\" key found' %str(key))\n"
       ]
      },
      {
       "output_type": "stream",
       "stream": "stderr",
       "text": [
        "/home/mbonse/Git/PynPoint/PynPoint2/io_modules/FitsReading.py:189: UserWarning: Unknown Header \"ESO AOS VIS INS ADC1 POSNAM\" key found\n",
        "  warnings.warn('Unknown Header \"%s\" key found' %str(key))\n",
        "/home/mbonse/Git/PynPoint/PynPoint2/io_modules/FitsReading.py:189: UserWarning: Unknown Header \"ESO AOS VIS INS ADC2 POSNAM\" key found\n",
        "  warnings.warn('Unknown Header \"%s\" key found' %str(key))\n",
        "/home/mbonse/Git/PynPoint/PynPoint2/io_modules/FitsReading.py:189: UserWarning: Unknown Header \"ESO AOS VIS INS DIAP POSNAM\" key found\n",
        "  warnings.warn('Unknown Header \"%s\" key found' %str(key))\n",
        "/home/mbonse/Git/PynPoint/PynPoint2/io_modules/FitsReading.py:189: UserWarning: Unknown Header \"ESO AOS VIS INS LENS POSNAM\" key found\n",
        "  warnings.warn('Unknown Header \"%s\" key found' %str(key))\n",
        "/home/mbonse/Git/PynPoint/PynPoint2/io_modules/FitsReading.py:174: UserWarning: Static keyword ESO INS PRES-MON PRES1 has changed. Probably the current file NACO.2012-08-25T07:06:35.243.fits does not belong to the data set \"00_raw_data\" of the PynPoint database. Updating Keyword...\n",
        "  % (key, fits_file, self.m_image_tag))\n"
       ]
      },
      {
       "output_type": "stream",
       "stream": "stdout",
       "text": [
        "\n",
        "Reading NACO.2012-08-25T07:07:18.816.fits"
       ]
      },
      {
       "output_type": "stream",
       "stream": "stderr",
       "text": [
        "/home/mbonse/Git/PynPoint/PynPoint2/io_modules/FitsReading.py:174: UserWarning: Static keyword ESO OBS ID has changed. Probably the current file NACO.2012-08-25T07:06:35.243.fits does not belong to the data set \"00_raw_data\" of the PynPoint database. Updating Keyword...\n",
        "  % (key, fits_file, self.m_image_tag))\n",
        "/home/mbonse/Git/PynPoint/PynPoint2/io_modules/FitsReading.py:189: UserWarning: Unknown Header \"ESO AOS VIS DET WFS MODE\" key found\n",
        "  warnings.warn('Unknown Header \"%s\" key found' %str(key))\n"
       ]
      },
      {
       "output_type": "stream",
       "stream": "stderr",
       "text": [
        "/home/mbonse/Git/PynPoint/PynPoint2/io_modules/FitsReading.py:189: UserWarning: Unknown Header \"ESO AOS VIS INS ADC1 POSNAM\" key found\n",
        "  warnings.warn('Unknown Header \"%s\" key found' %str(key))\n",
        "/home/mbonse/Git/PynPoint/PynPoint2/io_modules/FitsReading.py:189: UserWarning: Unknown Header \"ESO AOS VIS INS ADC2 POSNAM\" key found\n",
        "  warnings.warn('Unknown Header \"%s\" key found' %str(key))\n",
        "/home/mbonse/Git/PynPoint/PynPoint2/io_modules/FitsReading.py:189: UserWarning: Unknown Header \"ESO AOS VIS INS DIAP POSNAM\" key found\n",
        "  warnings.warn('Unknown Header \"%s\" key found' %str(key))\n",
        "/home/mbonse/Git/PynPoint/PynPoint2/io_modules/FitsReading.py:189: UserWarning: Unknown Header \"ESO AOS VIS INS LENS POSNAM\" key found\n",
        "  warnings.warn('Unknown Header \"%s\" key found' %str(key))\n",
        "/home/mbonse/Git/PynPoint/PynPoint2/io_modules/FitsReading.py:174: UserWarning: Static keyword ESO INS PRES-MON PRES1 has changed. Probably the current file NACO.2012-08-25T07:07:18.816.fits does not belong to the data set \"00_raw_data\" of the PynPoint database. Updating Keyword...\n",
        "  % (key, fits_file, self.m_image_tag))\n"
       ]
      },
      {
       "output_type": "stream",
       "stream": "stdout",
       "text": [
        "\n",
        "Reading NACO.2012-08-25T07:08:26.534.fits"
       ]
      },
      {
       "output_type": "stream",
       "stream": "stderr",
       "text": [
        "/home/mbonse/Git/PynPoint/PynPoint2/io_modules/FitsReading.py:174: UserWarning: Static keyword ESO OBS ID has changed. Probably the current file NACO.2012-08-25T07:07:18.816.fits does not belong to the data set \"00_raw_data\" of the PynPoint database. Updating Keyword...\n",
        "  % (key, fits_file, self.m_image_tag))\n",
        "/home/mbonse/Git/PynPoint/PynPoint2/io_modules/FitsReading.py:189: UserWarning: Unknown Header \"ESO AOS VIS DET WFS MODE\" key found\n",
        "  warnings.warn('Unknown Header \"%s\" key found' %str(key))\n"
       ]
      },
      {
       "output_type": "stream",
       "stream": "stderr",
       "text": [
        "/home/mbonse/Git/PynPoint/PynPoint2/io_modules/FitsReading.py:189: UserWarning: Unknown Header \"ESO AOS VIS INS ADC1 POSNAM\" key found\n",
        "  warnings.warn('Unknown Header \"%s\" key found' %str(key))\n",
        "/home/mbonse/Git/PynPoint/PynPoint2/io_modules/FitsReading.py:189: UserWarning: Unknown Header \"ESO AOS VIS INS ADC2 POSNAM\" key found\n",
        "  warnings.warn('Unknown Header \"%s\" key found' %str(key))\n",
        "/home/mbonse/Git/PynPoint/PynPoint2/io_modules/FitsReading.py:189: UserWarning: Unknown Header \"ESO AOS VIS INS DIAP POSNAM\" key found\n",
        "  warnings.warn('Unknown Header \"%s\" key found' %str(key))\n",
        "/home/mbonse/Git/PynPoint/PynPoint2/io_modules/FitsReading.py:189: UserWarning: Unknown Header \"ESO AOS VIS INS LENS POSNAM\" key found\n",
        "  warnings.warn('Unknown Header \"%s\" key found' %str(key))\n",
        "/home/mbonse/Git/PynPoint/PynPoint2/io_modules/FitsReading.py:174: UserWarning: Static keyword ESO INS PRES-MON PRES1 has changed. Probably the current file NACO.2012-08-25T07:08:26.534.fits does not belong to the data set \"00_raw_data\" of the PynPoint database. Updating Keyword...\n",
        "  % (key, fits_file, self.m_image_tag))\n"
       ]
      },
      {
       "output_type": "stream",
       "stream": "stdout",
       "text": [
        "\n",
        "Reading NACO.2012-08-25T07:09:10.274.fits"
       ]
      },
      {
       "output_type": "stream",
       "stream": "stderr",
       "text": [
        "/home/mbonse/Git/PynPoint/PynPoint2/io_modules/FitsReading.py:174: UserWarning: Static keyword ESO OBS ID has changed. Probably the current file NACO.2012-08-25T07:08:26.534.fits does not belong to the data set \"00_raw_data\" of the PynPoint database. Updating Keyword...\n",
        "  % (key, fits_file, self.m_image_tag))\n",
        "/home/mbonse/Git/PynPoint/PynPoint2/io_modules/FitsReading.py:189: UserWarning: Unknown Header \"ESO AOS VIS DET WFS MODE\" key found\n",
        "  warnings.warn('Unknown Header \"%s\" key found' %str(key))\n"
       ]
      },
      {
       "output_type": "stream",
       "stream": "stderr",
       "text": [
        "/home/mbonse/Git/PynPoint/PynPoint2/io_modules/FitsReading.py:189: UserWarning: Unknown Header \"ESO AOS VIS INS ADC1 POSNAM\" key found\n",
        "  warnings.warn('Unknown Header \"%s\" key found' %str(key))\n",
        "/home/mbonse/Git/PynPoint/PynPoint2/io_modules/FitsReading.py:189: UserWarning: Unknown Header \"ESO AOS VIS INS ADC2 POSNAM\" key found\n",
        "  warnings.warn('Unknown Header \"%s\" key found' %str(key))\n",
        "/home/mbonse/Git/PynPoint/PynPoint2/io_modules/FitsReading.py:189: UserWarning: Unknown Header \"ESO AOS VIS INS DIAP POSNAM\" key found\n",
        "  warnings.warn('Unknown Header \"%s\" key found' %str(key))\n",
        "/home/mbonse/Git/PynPoint/PynPoint2/io_modules/FitsReading.py:189: UserWarning: Unknown Header \"ESO AOS VIS INS LENS POSNAM\" key found\n",
        "  warnings.warn('Unknown Header \"%s\" key found' %str(key))\n",
        "/home/mbonse/Git/PynPoint/PynPoint2/io_modules/FitsReading.py:174: UserWarning: Static keyword ESO INS PRES-MON PRES1 has changed. Probably the current file NACO.2012-08-25T07:09:10.274.fits does not belong to the data set \"00_raw_data\" of the PynPoint database. Updating Keyword...\n",
        "  % (key, fits_file, self.m_image_tag))\n"
       ]
      },
      {
       "output_type": "stream",
       "stream": "stdout",
       "text": [
        "\n",
        "Reading NACO.2012-08-25T07:10:01.927.fits"
       ]
      },
      {
       "output_type": "stream",
       "stream": "stderr",
       "text": [
        "/home/mbonse/Git/PynPoint/PynPoint2/io_modules/FitsReading.py:174: UserWarning: Static keyword ESO OBS ID has changed. Probably the current file NACO.2012-08-25T07:09:10.274.fits does not belong to the data set \"00_raw_data\" of the PynPoint database. Updating Keyword...\n",
        "  % (key, fits_file, self.m_image_tag))\n",
        "/home/mbonse/Git/PynPoint/PynPoint2/io_modules/FitsReading.py:189: UserWarning: Unknown Header \"ESO AOS VIS DET WFS MODE\" key found\n",
        "  warnings.warn('Unknown Header \"%s\" key found' %str(key))\n"
       ]
      },
      {
       "output_type": "stream",
       "stream": "stderr",
       "text": [
        "/home/mbonse/Git/PynPoint/PynPoint2/io_modules/FitsReading.py:189: UserWarning: Unknown Header \"ESO AOS VIS INS ADC1 POSNAM\" key found\n",
        "  warnings.warn('Unknown Header \"%s\" key found' %str(key))\n",
        "/home/mbonse/Git/PynPoint/PynPoint2/io_modules/FitsReading.py:189: UserWarning: Unknown Header \"ESO AOS VIS INS ADC2 POSNAM\" key found\n",
        "  warnings.warn('Unknown Header \"%s\" key found' %str(key))\n",
        "/home/mbonse/Git/PynPoint/PynPoint2/io_modules/FitsReading.py:189: UserWarning: Unknown Header \"ESO AOS VIS INS DIAP POSNAM\" key found\n",
        "  warnings.warn('Unknown Header \"%s\" key found' %str(key))\n",
        "/home/mbonse/Git/PynPoint/PynPoint2/io_modules/FitsReading.py:189: UserWarning: Unknown Header \"ESO AOS VIS INS LENS POSNAM\" key found\n",
        "  warnings.warn('Unknown Header \"%s\" key found' %str(key))\n",
        "/home/mbonse/Git/PynPoint/PynPoint2/io_modules/FitsReading.py:174: UserWarning: Static keyword ESO INS PRES-MON PRES1 has changed. Probably the current file NACO.2012-08-25T07:10:01.927.fits does not belong to the data set \"00_raw_data\" of the PynPoint database. Updating Keyword...\n",
        "  % (key, fits_file, self.m_image_tag))\n"
       ]
      },
      {
       "output_type": "stream",
       "stream": "stdout",
       "text": [
        "\n",
        "Reading NACO.2012-08-25T07:10:45.396.fits"
       ]
      },
      {
       "output_type": "stream",
       "stream": "stderr",
       "text": [
        "/home/mbonse/Git/PynPoint/PynPoint2/io_modules/FitsReading.py:174: UserWarning: Static keyword ESO OBS ID has changed. Probably the current file NACO.2012-08-25T07:10:01.927.fits does not belong to the data set \"00_raw_data\" of the PynPoint database. Updating Keyword...\n",
        "  % (key, fits_file, self.m_image_tag))\n",
        "/home/mbonse/Git/PynPoint/PynPoint2/io_modules/FitsReading.py:189: UserWarning: Unknown Header \"ESO AOS VIS DET WFS MODE\" key found\n",
        "  warnings.warn('Unknown Header \"%s\" key found' %str(key))\n"
       ]
      },
      {
       "output_type": "stream",
       "stream": "stderr",
       "text": [
        "/home/mbonse/Git/PynPoint/PynPoint2/io_modules/FitsReading.py:189: UserWarning: Unknown Header \"ESO AOS VIS INS ADC1 POSNAM\" key found\n",
        "  warnings.warn('Unknown Header \"%s\" key found' %str(key))\n",
        "/home/mbonse/Git/PynPoint/PynPoint2/io_modules/FitsReading.py:189: UserWarning: Unknown Header \"ESO AOS VIS INS ADC2 POSNAM\" key found\n",
        "  warnings.warn('Unknown Header \"%s\" key found' %str(key))\n",
        "/home/mbonse/Git/PynPoint/PynPoint2/io_modules/FitsReading.py:189: UserWarning: Unknown Header \"ESO AOS VIS INS DIAP POSNAM\" key found\n",
        "  warnings.warn('Unknown Header \"%s\" key found' %str(key))\n",
        "/home/mbonse/Git/PynPoint/PynPoint2/io_modules/FitsReading.py:189: UserWarning: Unknown Header \"ESO AOS VIS INS LENS POSNAM\" key found\n",
        "  warnings.warn('Unknown Header \"%s\" key found' %str(key))\n",
        "/home/mbonse/Git/PynPoint/PynPoint2/io_modules/FitsReading.py:174: UserWarning: Static keyword ESO INS PRES-MON PRES1 has changed. Probably the current file NACO.2012-08-25T07:10:45.396.fits does not belong to the data set \"00_raw_data\" of the PynPoint database. Updating Keyword...\n",
        "  % (key, fits_file, self.m_image_tag))\n"
       ]
      },
      {
       "output_type": "stream",
       "stream": "stdout",
       "text": [
        "\n",
        "Reading NACO.2012-08-25T07:11:38.261.fits"
       ]
      },
      {
       "output_type": "stream",
       "stream": "stderr",
       "text": [
        "/home/mbonse/Git/PynPoint/PynPoint2/io_modules/FitsReading.py:174: UserWarning: Static keyword ESO OBS ID has changed. Probably the current file NACO.2012-08-25T07:10:45.396.fits does not belong to the data set \"00_raw_data\" of the PynPoint database. Updating Keyword...\n",
        "  % (key, fits_file, self.m_image_tag))\n",
        "/home/mbonse/Git/PynPoint/PynPoint2/io_modules/FitsReading.py:189: UserWarning: Unknown Header \"ESO AOS VIS DET WFS MODE\" key found\n",
        "  warnings.warn('Unknown Header \"%s\" key found' %str(key))\n"
       ]
      },
      {
       "output_type": "stream",
       "stream": "stderr",
       "text": [
        "/home/mbonse/Git/PynPoint/PynPoint2/io_modules/FitsReading.py:189: UserWarning: Unknown Header \"ESO AOS VIS INS ADC1 POSNAM\" key found\n",
        "  warnings.warn('Unknown Header \"%s\" key found' %str(key))\n",
        "/home/mbonse/Git/PynPoint/PynPoint2/io_modules/FitsReading.py:189: UserWarning: Unknown Header \"ESO AOS VIS INS ADC2 POSNAM\" key found\n",
        "  warnings.warn('Unknown Header \"%s\" key found' %str(key))\n",
        "/home/mbonse/Git/PynPoint/PynPoint2/io_modules/FitsReading.py:189: UserWarning: Unknown Header \"ESO AOS VIS INS DIAP POSNAM\" key found\n",
        "  warnings.warn('Unknown Header \"%s\" key found' %str(key))\n",
        "/home/mbonse/Git/PynPoint/PynPoint2/io_modules/FitsReading.py:189: UserWarning: Unknown Header \"ESO AOS VIS INS LENS POSNAM\" key found\n",
        "  warnings.warn('Unknown Header \"%s\" key found' %str(key))\n",
        "/home/mbonse/Git/PynPoint/PynPoint2/io_modules/FitsReading.py:174: UserWarning: Static keyword ESO INS PRES-MON PRES1 has changed. Probably the current file NACO.2012-08-25T07:11:38.261.fits does not belong to the data set \"00_raw_data\" of the PynPoint database. Updating Keyword...\n",
        "  % (key, fits_file, self.m_image_tag))\n"
       ]
      },
      {
       "output_type": "stream",
       "stream": "stdout",
       "text": [
        "\n",
        "Reading NACO.2012-08-25T07:12:21.716.fits"
       ]
      },
      {
       "output_type": "stream",
       "stream": "stderr",
       "text": [
        "/home/mbonse/Git/PynPoint/PynPoint2/io_modules/FitsReading.py:174: UserWarning: Static keyword ESO OBS ID has changed. Probably the current file NACO.2012-08-25T07:11:38.261.fits does not belong to the data set \"00_raw_data\" of the PynPoint database. Updating Keyword...\n",
        "  % (key, fits_file, self.m_image_tag))\n",
        "/home/mbonse/Git/PynPoint/PynPoint2/io_modules/FitsReading.py:189: UserWarning: Unknown Header \"ESO AOS VIS DET WFS MODE\" key found\n",
        "  warnings.warn('Unknown Header \"%s\" key found' %str(key))\n"
       ]
      },
      {
       "output_type": "stream",
       "stream": "stderr",
       "text": [
        "/home/mbonse/Git/PynPoint/PynPoint2/io_modules/FitsReading.py:189: UserWarning: Unknown Header \"ESO AOS VIS INS ADC1 POSNAM\" key found\n",
        "  warnings.warn('Unknown Header \"%s\" key found' %str(key))\n",
        "/home/mbonse/Git/PynPoint/PynPoint2/io_modules/FitsReading.py:189: UserWarning: Unknown Header \"ESO AOS VIS INS ADC2 POSNAM\" key found\n",
        "  warnings.warn('Unknown Header \"%s\" key found' %str(key))\n",
        "/home/mbonse/Git/PynPoint/PynPoint2/io_modules/FitsReading.py:189: UserWarning: Unknown Header \"ESO AOS VIS INS DIAP POSNAM\" key found\n",
        "  warnings.warn('Unknown Header \"%s\" key found' %str(key))\n",
        "/home/mbonse/Git/PynPoint/PynPoint2/io_modules/FitsReading.py:189: UserWarning: Unknown Header \"ESO AOS VIS INS LENS POSNAM\" key found\n",
        "  warnings.warn('Unknown Header \"%s\" key found' %str(key))\n",
        "/home/mbonse/Git/PynPoint/PynPoint2/io_modules/FitsReading.py:174: UserWarning: Static keyword ESO INS PRES-MON PRES1 has changed. Probably the current file NACO.2012-08-25T07:12:21.716.fits does not belong to the data set \"00_raw_data\" of the PynPoint database. Updating Keyword...\n",
        "  % (key, fits_file, self.m_image_tag))\n"
       ]
      },
      {
       "output_type": "stream",
       "stream": "stdout",
       "text": [
        "\n",
        "Reading NACO.2012-08-25T07:13:12.769.fits"
       ]
      },
      {
       "output_type": "stream",
       "stream": "stderr",
       "text": [
        "/home/mbonse/Git/PynPoint/PynPoint2/io_modules/FitsReading.py:174: UserWarning: Static keyword ESO OBS ID has changed. Probably the current file NACO.2012-08-25T07:12:21.716.fits does not belong to the data set \"00_raw_data\" of the PynPoint database. Updating Keyword...\n",
        "  % (key, fits_file, self.m_image_tag))\n",
        "/home/mbonse/Git/PynPoint/PynPoint2/io_modules/FitsReading.py:189: UserWarning: Unknown Header \"ESO AOS VIS DET WFS MODE\" key found\n",
        "  warnings.warn('Unknown Header \"%s\" key found' %str(key))\n"
       ]
      },
      {
       "output_type": "stream",
       "stream": "stderr",
       "text": [
        "/home/mbonse/Git/PynPoint/PynPoint2/io_modules/FitsReading.py:189: UserWarning: Unknown Header \"ESO AOS VIS INS ADC1 POSNAM\" key found\n",
        "  warnings.warn('Unknown Header \"%s\" key found' %str(key))\n",
        "/home/mbonse/Git/PynPoint/PynPoint2/io_modules/FitsReading.py:189: UserWarning: Unknown Header \"ESO AOS VIS INS ADC2 POSNAM\" key found\n",
        "  warnings.warn('Unknown Header \"%s\" key found' %str(key))\n",
        "/home/mbonse/Git/PynPoint/PynPoint2/io_modules/FitsReading.py:189: UserWarning: Unknown Header \"ESO AOS VIS INS DIAP POSNAM\" key found\n",
        "  warnings.warn('Unknown Header \"%s\" key found' %str(key))\n",
        "/home/mbonse/Git/PynPoint/PynPoint2/io_modules/FitsReading.py:189: UserWarning: Unknown Header \"ESO AOS VIS INS LENS POSNAM\" key found\n",
        "  warnings.warn('Unknown Header \"%s\" key found' %str(key))\n",
        "/home/mbonse/Git/PynPoint/PynPoint2/io_modules/FitsReading.py:174: UserWarning: Static keyword ESO INS PRES-MON PRES1 has changed. Probably the current file NACO.2012-08-25T07:13:12.769.fits does not belong to the data set \"00_raw_data\" of the PynPoint database. Updating Keyword...\n",
        "  % (key, fits_file, self.m_image_tag))\n"
       ]
      },
      {
       "output_type": "stream",
       "stream": "stdout",
       "text": [
        "\n",
        "Reading NACO.2012-08-25T07:13:56.220.fits"
       ]
      },
      {
       "output_type": "stream",
       "stream": "stderr",
       "text": [
        "/home/mbonse/Git/PynPoint/PynPoint2/io_modules/FitsReading.py:174: UserWarning: Static keyword ESO OBS ID has changed. Probably the current file NACO.2012-08-25T07:13:12.769.fits does not belong to the data set \"00_raw_data\" of the PynPoint database. Updating Keyword...\n",
        "  % (key, fits_file, self.m_image_tag))\n",
        "/home/mbonse/Git/PynPoint/PynPoint2/io_modules/FitsReading.py:189: UserWarning: Unknown Header \"ESO AOS VIS DET WFS MODE\" key found\n",
        "  warnings.warn('Unknown Header \"%s\" key found' %str(key))\n"
       ]
      },
      {
       "output_type": "stream",
       "stream": "stderr",
       "text": [
        "/home/mbonse/Git/PynPoint/PynPoint2/io_modules/FitsReading.py:189: UserWarning: Unknown Header \"ESO AOS VIS INS ADC1 POSNAM\" key found\n",
        "  warnings.warn('Unknown Header \"%s\" key found' %str(key))\n",
        "/home/mbonse/Git/PynPoint/PynPoint2/io_modules/FitsReading.py:189: UserWarning: Unknown Header \"ESO AOS VIS INS ADC2 POSNAM\" key found\n",
        "  warnings.warn('Unknown Header \"%s\" key found' %str(key))\n",
        "/home/mbonse/Git/PynPoint/PynPoint2/io_modules/FitsReading.py:189: UserWarning: Unknown Header \"ESO AOS VIS INS DIAP POSNAM\" key found\n",
        "  warnings.warn('Unknown Header \"%s\" key found' %str(key))\n",
        "/home/mbonse/Git/PynPoint/PynPoint2/io_modules/FitsReading.py:189: UserWarning: Unknown Header \"ESO AOS VIS INS LENS POSNAM\" key found\n",
        "  warnings.warn('Unknown Header \"%s\" key found' %str(key))\n",
        "/home/mbonse/Git/PynPoint/PynPoint2/io_modules/FitsReading.py:174: UserWarning: Static keyword ESO INS PRES-MON PRES1 has changed. Probably the current file NACO.2012-08-25T07:13:56.220.fits does not belong to the data set \"00_raw_data\" of the PynPoint database. Updating Keyword...\n",
        "  % (key, fits_file, self.m_image_tag))\n"
       ]
      },
      {
       "output_type": "stream",
       "stream": "stdout",
       "text": [
        "\n",
        "Reading NACO.2012-08-25T07:15:04.862.fits"
       ]
      },
      {
       "output_type": "stream",
       "stream": "stderr",
       "text": [
        "/home/mbonse/Git/PynPoint/PynPoint2/io_modules/FitsReading.py:174: UserWarning: Static keyword ESO OBS ID has changed. Probably the current file NACO.2012-08-25T07:13:56.220.fits does not belong to the data set \"00_raw_data\" of the PynPoint database. Updating Keyword...\n",
        "  % (key, fits_file, self.m_image_tag))\n",
        "/home/mbonse/Git/PynPoint/PynPoint2/io_modules/FitsReading.py:189: UserWarning: Unknown Header \"ESO AOS VIS DET WFS MODE\" key found\n",
        "  warnings.warn('Unknown Header \"%s\" key found' %str(key))\n"
       ]
      },
      {
       "output_type": "stream",
       "stream": "stderr",
       "text": [
        "/home/mbonse/Git/PynPoint/PynPoint2/io_modules/FitsReading.py:189: UserWarning: Unknown Header \"ESO AOS VIS INS ADC1 POSNAM\" key found\n",
        "  warnings.warn('Unknown Header \"%s\" key found' %str(key))\n",
        "/home/mbonse/Git/PynPoint/PynPoint2/io_modules/FitsReading.py:189: UserWarning: Unknown Header \"ESO AOS VIS INS ADC2 POSNAM\" key found\n",
        "  warnings.warn('Unknown Header \"%s\" key found' %str(key))\n",
        "/home/mbonse/Git/PynPoint/PynPoint2/io_modules/FitsReading.py:189: UserWarning: Unknown Header \"ESO AOS VIS INS DIAP POSNAM\" key found\n",
        "  warnings.warn('Unknown Header \"%s\" key found' %str(key))\n",
        "/home/mbonse/Git/PynPoint/PynPoint2/io_modules/FitsReading.py:189: UserWarning: Unknown Header \"ESO AOS VIS INS LENS POSNAM\" key found\n",
        "  warnings.warn('Unknown Header \"%s\" key found' %str(key))\n",
        "/home/mbonse/Git/PynPoint/PynPoint2/io_modules/FitsReading.py:174: UserWarning: Static keyword ESO INS PRES-MON PRES1 has changed. Probably the current file NACO.2012-08-25T07:15:04.862.fits does not belong to the data set \"00_raw_data\" of the PynPoint database. Updating Keyword...\n",
        "  % (key, fits_file, self.m_image_tag))\n"
       ]
      },
      {
       "output_type": "stream",
       "stream": "stdout",
       "text": [
        "\n",
        "Reading NACO.2012-08-25T07:15:48.333.fits"
       ]
      },
      {
       "output_type": "stream",
       "stream": "stderr",
       "text": [
        "/home/mbonse/Git/PynPoint/PynPoint2/io_modules/FitsReading.py:174: UserWarning: Static keyword ESO OBS ID has changed. Probably the current file NACO.2012-08-25T07:15:04.862.fits does not belong to the data set \"00_raw_data\" of the PynPoint database. Updating Keyword...\n",
        "  % (key, fits_file, self.m_image_tag))\n",
        "/home/mbonse/Git/PynPoint/PynPoint2/io_modules/FitsReading.py:189: UserWarning: Unknown Header \"ESO AOS VIS DET WFS MODE\" key found\n",
        "  warnings.warn('Unknown Header \"%s\" key found' %str(key))\n"
       ]
      },
      {
       "output_type": "stream",
       "stream": "stderr",
       "text": [
        "/home/mbonse/Git/PynPoint/PynPoint2/io_modules/FitsReading.py:189: UserWarning: Unknown Header \"ESO AOS VIS INS ADC1 POSNAM\" key found\n",
        "  warnings.warn('Unknown Header \"%s\" key found' %str(key))\n",
        "/home/mbonse/Git/PynPoint/PynPoint2/io_modules/FitsReading.py:189: UserWarning: Unknown Header \"ESO AOS VIS INS ADC2 POSNAM\" key found\n",
        "  warnings.warn('Unknown Header \"%s\" key found' %str(key))\n",
        "/home/mbonse/Git/PynPoint/PynPoint2/io_modules/FitsReading.py:189: UserWarning: Unknown Header \"ESO AOS VIS INS DIAP POSNAM\" key found\n",
        "  warnings.warn('Unknown Header \"%s\" key found' %str(key))\n",
        "/home/mbonse/Git/PynPoint/PynPoint2/io_modules/FitsReading.py:189: UserWarning: Unknown Header \"ESO AOS VIS INS LENS POSNAM\" key found\n",
        "  warnings.warn('Unknown Header \"%s\" key found' %str(key))\n",
        "/home/mbonse/Git/PynPoint/PynPoint2/io_modules/FitsReading.py:174: UserWarning: Static keyword ESO INS PRES-MON PRES1 has changed. Probably the current file NACO.2012-08-25T07:15:48.333.fits does not belong to the data set \"00_raw_data\" of the PynPoint database. Updating Keyword...\n",
        "  % (key, fits_file, self.m_image_tag))\n"
       ]
      },
      {
       "output_type": "stream",
       "stream": "stdout",
       "text": [
        "\n",
        "Reading NACO.2012-08-25T07:16:39.583.fits"
       ]
      },
      {
       "output_type": "stream",
       "stream": "stderr",
       "text": [
        "/home/mbonse/Git/PynPoint/PynPoint2/io_modules/FitsReading.py:174: UserWarning: Static keyword ESO OBS ID has changed. Probably the current file NACO.2012-08-25T07:15:48.333.fits does not belong to the data set \"00_raw_data\" of the PynPoint database. Updating Keyword...\n",
        "  % (key, fits_file, self.m_image_tag))\n",
        "/home/mbonse/Git/PynPoint/PynPoint2/io_modules/FitsReading.py:189: UserWarning: Unknown Header \"ESO AOS VIS DET WFS MODE\" key found\n",
        "  warnings.warn('Unknown Header \"%s\" key found' %str(key))\n"
       ]
      },
      {
       "output_type": "stream",
       "stream": "stderr",
       "text": [
        "/home/mbonse/Git/PynPoint/PynPoint2/io_modules/FitsReading.py:189: UserWarning: Unknown Header \"ESO AOS VIS INS ADC1 POSNAM\" key found\n",
        "  warnings.warn('Unknown Header \"%s\" key found' %str(key))\n",
        "/home/mbonse/Git/PynPoint/PynPoint2/io_modules/FitsReading.py:189: UserWarning: Unknown Header \"ESO AOS VIS INS ADC2 POSNAM\" key found\n",
        "  warnings.warn('Unknown Header \"%s\" key found' %str(key))\n",
        "/home/mbonse/Git/PynPoint/PynPoint2/io_modules/FitsReading.py:189: UserWarning: Unknown Header \"ESO AOS VIS INS DIAP POSNAM\" key found\n",
        "  warnings.warn('Unknown Header \"%s\" key found' %str(key))\n",
        "/home/mbonse/Git/PynPoint/PynPoint2/io_modules/FitsReading.py:189: UserWarning: Unknown Header \"ESO AOS VIS INS LENS POSNAM\" key found\n",
        "  warnings.warn('Unknown Header \"%s\" key found' %str(key))\n",
        "/home/mbonse/Git/PynPoint/PynPoint2/io_modules/FitsReading.py:174: UserWarning: Static keyword ESO INS PRES-MON PRES1 has changed. Probably the current file NACO.2012-08-25T07:16:39.583.fits does not belong to the data set \"00_raw_data\" of the PynPoint database. Updating Keyword...\n",
        "  % (key, fits_file, self.m_image_tag))\n"
       ]
      },
      {
       "output_type": "stream",
       "stream": "stdout",
       "text": [
        "\n",
        "Reading NACO.2012-08-25T07:17:23.054.fits"
       ]
      },
      {
       "output_type": "stream",
       "stream": "stderr",
       "text": [
        "/home/mbonse/Git/PynPoint/PynPoint2/io_modules/FitsReading.py:174: UserWarning: Static keyword ESO OBS ID has changed. Probably the current file NACO.2012-08-25T07:16:39.583.fits does not belong to the data set \"00_raw_data\" of the PynPoint database. Updating Keyword...\n",
        "  % (key, fits_file, self.m_image_tag))\n",
        "/home/mbonse/Git/PynPoint/PynPoint2/io_modules/FitsReading.py:189: UserWarning: Unknown Header \"ESO AOS VIS DET WFS MODE\" key found\n",
        "  warnings.warn('Unknown Header \"%s\" key found' %str(key))\n"
       ]
      },
      {
       "output_type": "stream",
       "stream": "stderr",
       "text": [
        "/home/mbonse/Git/PynPoint/PynPoint2/io_modules/FitsReading.py:189: UserWarning: Unknown Header \"ESO AOS VIS INS ADC1 POSNAM\" key found\n",
        "  warnings.warn('Unknown Header \"%s\" key found' %str(key))\n",
        "/home/mbonse/Git/PynPoint/PynPoint2/io_modules/FitsReading.py:189: UserWarning: Unknown Header \"ESO AOS VIS INS ADC2 POSNAM\" key found\n",
        "  warnings.warn('Unknown Header \"%s\" key found' %str(key))\n",
        "/home/mbonse/Git/PynPoint/PynPoint2/io_modules/FitsReading.py:189: UserWarning: Unknown Header \"ESO AOS VIS INS DIAP POSNAM\" key found\n",
        "  warnings.warn('Unknown Header \"%s\" key found' %str(key))\n",
        "/home/mbonse/Git/PynPoint/PynPoint2/io_modules/FitsReading.py:189: UserWarning: Unknown Header \"ESO AOS VIS INS LENS POSNAM\" key found\n",
        "  warnings.warn('Unknown Header \"%s\" key found' %str(key))\n",
        "/home/mbonse/Git/PynPoint/PynPoint2/io_modules/FitsReading.py:174: UserWarning: Static keyword ESO INS PRES-MON PRES1 has changed. Probably the current file NACO.2012-08-25T07:17:23.054.fits does not belong to the data set \"00_raw_data\" of the PynPoint database. Updating Keyword...\n",
        "  % (key, fits_file, self.m_image_tag))\n"
       ]
      },
      {
       "output_type": "stream",
       "stream": "stdout",
       "text": [
        "\n",
        "Reading NACO.2012-08-25T07:18:14.919.fits"
       ]
      },
      {
       "output_type": "stream",
       "stream": "stderr",
       "text": [
        "/home/mbonse/Git/PynPoint/PynPoint2/io_modules/FitsReading.py:174: UserWarning: Static keyword ESO OBS ID has changed. Probably the current file NACO.2012-08-25T07:17:23.054.fits does not belong to the data set \"00_raw_data\" of the PynPoint database. Updating Keyword...\n",
        "  % (key, fits_file, self.m_image_tag))\n",
        "/home/mbonse/Git/PynPoint/PynPoint2/io_modules/FitsReading.py:189: UserWarning: Unknown Header \"ESO AOS VIS DET WFS MODE\" key found\n",
        "  warnings.warn('Unknown Header \"%s\" key found' %str(key))\n"
       ]
      },
      {
       "output_type": "stream",
       "stream": "stderr",
       "text": [
        "/home/mbonse/Git/PynPoint/PynPoint2/io_modules/FitsReading.py:189: UserWarning: Unknown Header \"ESO AOS VIS INS ADC1 POSNAM\" key found\n",
        "  warnings.warn('Unknown Header \"%s\" key found' %str(key))\n",
        "/home/mbonse/Git/PynPoint/PynPoint2/io_modules/FitsReading.py:189: UserWarning: Unknown Header \"ESO AOS VIS INS ADC2 POSNAM\" key found\n",
        "  warnings.warn('Unknown Header \"%s\" key found' %str(key))\n",
        "/home/mbonse/Git/PynPoint/PynPoint2/io_modules/FitsReading.py:189: UserWarning: Unknown Header \"ESO AOS VIS INS DIAP POSNAM\" key found\n",
        "  warnings.warn('Unknown Header \"%s\" key found' %str(key))\n",
        "/home/mbonse/Git/PynPoint/PynPoint2/io_modules/FitsReading.py:189: UserWarning: Unknown Header \"ESO AOS VIS INS LENS POSNAM\" key found\n",
        "  warnings.warn('Unknown Header \"%s\" key found' %str(key))\n",
        "/home/mbonse/Git/PynPoint/PynPoint2/io_modules/FitsReading.py:174: UserWarning: Static keyword ESO INS PRES-MON PRES1 has changed. Probably the current file NACO.2012-08-25T07:18:14.919.fits does not belong to the data set \"00_raw_data\" of the PynPoint database. Updating Keyword...\n",
        "  % (key, fits_file, self.m_image_tag))\n"
       ]
      },
      {
       "output_type": "stream",
       "stream": "stdout",
       "text": [
        "\n",
        "Reading NACO.2012-08-25T07:18:58.978.fits"
       ]
      },
      {
       "output_type": "stream",
       "stream": "stderr",
       "text": [
        "/home/mbonse/Git/PynPoint/PynPoint2/io_modules/FitsReading.py:174: UserWarning: Static keyword ESO OBS ID has changed. Probably the current file NACO.2012-08-25T07:18:14.919.fits does not belong to the data set \"00_raw_data\" of the PynPoint database. Updating Keyword...\n",
        "  % (key, fits_file, self.m_image_tag))\n",
        "/home/mbonse/Git/PynPoint/PynPoint2/io_modules/FitsReading.py:189: UserWarning: Unknown Header \"ESO AOS VIS DET WFS MODE\" key found\n",
        "  warnings.warn('Unknown Header \"%s\" key found' %str(key))\n"
       ]
      },
      {
       "output_type": "stream",
       "stream": "stderr",
       "text": [
        "/home/mbonse/Git/PynPoint/PynPoint2/io_modules/FitsReading.py:189: UserWarning: Unknown Header \"ESO AOS VIS INS ADC1 POSNAM\" key found\n",
        "  warnings.warn('Unknown Header \"%s\" key found' %str(key))\n",
        "/home/mbonse/Git/PynPoint/PynPoint2/io_modules/FitsReading.py:189: UserWarning: Unknown Header \"ESO AOS VIS INS ADC2 POSNAM\" key found\n",
        "  warnings.warn('Unknown Header \"%s\" key found' %str(key))\n",
        "/home/mbonse/Git/PynPoint/PynPoint2/io_modules/FitsReading.py:189: UserWarning: Unknown Header \"ESO AOS VIS INS DIAP POSNAM\" key found\n",
        "  warnings.warn('Unknown Header \"%s\" key found' %str(key))\n",
        "/home/mbonse/Git/PynPoint/PynPoint2/io_modules/FitsReading.py:189: UserWarning: Unknown Header \"ESO AOS VIS INS LENS POSNAM\" key found\n",
        "  warnings.warn('Unknown Header \"%s\" key found' %str(key))\n",
        "/home/mbonse/Git/PynPoint/PynPoint2/io_modules/FitsReading.py:174: UserWarning: Static keyword ESO INS PRES-MON PRES1 has changed. Probably the current file NACO.2012-08-25T07:18:58.978.fits does not belong to the data set \"00_raw_data\" of the PynPoint database. Updating Keyword...\n",
        "  % (key, fits_file, self.m_image_tag))\n"
       ]
      },
      {
       "output_type": "stream",
       "stream": "stdout",
       "text": [
        "\n",
        "Reading NACO.2012-08-25T07:19:51.303.fits"
       ]
      },
      {
       "output_type": "stream",
       "stream": "stderr",
       "text": [
        "/home/mbonse/Git/PynPoint/PynPoint2/io_modules/FitsReading.py:174: UserWarning: Static keyword ESO OBS ID has changed. Probably the current file NACO.2012-08-25T07:18:58.978.fits does not belong to the data set \"00_raw_data\" of the PynPoint database. Updating Keyword...\n",
        "  % (key, fits_file, self.m_image_tag))\n",
        "/home/mbonse/Git/PynPoint/PynPoint2/io_modules/FitsReading.py:189: UserWarning: Unknown Header \"ESO AOS VIS DET WFS MODE\" key found\n",
        "  warnings.warn('Unknown Header \"%s\" key found' %str(key))\n"
       ]
      },
      {
       "output_type": "stream",
       "stream": "stderr",
       "text": [
        "/home/mbonse/Git/PynPoint/PynPoint2/io_modules/FitsReading.py:189: UserWarning: Unknown Header \"ESO AOS VIS INS ADC1 POSNAM\" key found\n",
        "  warnings.warn('Unknown Header \"%s\" key found' %str(key))\n",
        "/home/mbonse/Git/PynPoint/PynPoint2/io_modules/FitsReading.py:189: UserWarning: Unknown Header \"ESO AOS VIS INS ADC2 POSNAM\" key found\n",
        "  warnings.warn('Unknown Header \"%s\" key found' %str(key))\n",
        "/home/mbonse/Git/PynPoint/PynPoint2/io_modules/FitsReading.py:189: UserWarning: Unknown Header \"ESO AOS VIS INS DIAP POSNAM\" key found\n",
        "  warnings.warn('Unknown Header \"%s\" key found' %str(key))\n",
        "/home/mbonse/Git/PynPoint/PynPoint2/io_modules/FitsReading.py:189: UserWarning: Unknown Header \"ESO AOS VIS INS LENS POSNAM\" key found\n",
        "  warnings.warn('Unknown Header \"%s\" key found' %str(key))\n",
        "/home/mbonse/Git/PynPoint/PynPoint2/io_modules/FitsReading.py:174: UserWarning: Static keyword ESO INS PRES-MON PRES1 has changed. Probably the current file NACO.2012-08-25T07:19:51.303.fits does not belong to the data set \"00_raw_data\" of the PynPoint database. Updating Keyword...\n",
        "  % (key, fits_file, self.m_image_tag))\n"
       ]
      },
      {
       "output_type": "stream",
       "stream": "stdout",
       "text": [
        "\n",
        "Reading NACO.2012-08-25T07:20:34.765.fits"
       ]
      },
      {
       "output_type": "stream",
       "stream": "stderr",
       "text": [
        "/home/mbonse/Git/PynPoint/PynPoint2/io_modules/FitsReading.py:174: UserWarning: Static keyword ESO OBS ID has changed. Probably the current file NACO.2012-08-25T07:19:51.303.fits does not belong to the data set \"00_raw_data\" of the PynPoint database. Updating Keyword...\n",
        "  % (key, fits_file, self.m_image_tag))\n",
        "/home/mbonse/Git/PynPoint/PynPoint2/io_modules/FitsReading.py:189: UserWarning: Unknown Header \"ESO AOS VIS DET WFS MODE\" key found\n",
        "  warnings.warn('Unknown Header \"%s\" key found' %str(key))\n"
       ]
      },
      {
       "output_type": "stream",
       "stream": "stderr",
       "text": [
        "/home/mbonse/Git/PynPoint/PynPoint2/io_modules/FitsReading.py:189: UserWarning: Unknown Header \"ESO AOS VIS INS ADC1 POSNAM\" key found\n",
        "  warnings.warn('Unknown Header \"%s\" key found' %str(key))\n",
        "/home/mbonse/Git/PynPoint/PynPoint2/io_modules/FitsReading.py:189: UserWarning: Unknown Header \"ESO AOS VIS INS ADC2 POSNAM\" key found\n",
        "  warnings.warn('Unknown Header \"%s\" key found' %str(key))\n",
        "/home/mbonse/Git/PynPoint/PynPoint2/io_modules/FitsReading.py:189: UserWarning: Unknown Header \"ESO AOS VIS INS DIAP POSNAM\" key found\n",
        "  warnings.warn('Unknown Header \"%s\" key found' %str(key))\n",
        "/home/mbonse/Git/PynPoint/PynPoint2/io_modules/FitsReading.py:189: UserWarning: Unknown Header \"ESO AOS VIS INS LENS POSNAM\" key found\n",
        "  warnings.warn('Unknown Header \"%s\" key found' %str(key))\n",
        "/home/mbonse/Git/PynPoint/PynPoint2/io_modules/FitsReading.py:174: UserWarning: Static keyword ESO INS PRES-MON PRES1 has changed. Probably the current file NACO.2012-08-25T07:20:34.765.fits does not belong to the data set \"00_raw_data\" of the PynPoint database. Updating Keyword...\n",
        "  % (key, fits_file, self.m_image_tag))\n"
       ]
      },
      {
       "output_type": "stream",
       "stream": "stdout",
       "text": [
        "\n",
        "Reading NACO.2012-08-25T07:21:41.972.fits"
       ]
      },
      {
       "output_type": "stream",
       "stream": "stderr",
       "text": [
        "/home/mbonse/Git/PynPoint/PynPoint2/io_modules/FitsReading.py:174: UserWarning: Static keyword ESO OBS ID has changed. Probably the current file NACO.2012-08-25T07:20:34.765.fits does not belong to the data set \"00_raw_data\" of the PynPoint database. Updating Keyword...\n",
        "  % (key, fits_file, self.m_image_tag))\n",
        "/home/mbonse/Git/PynPoint/PynPoint2/io_modules/FitsReading.py:189: UserWarning: Unknown Header \"ESO AOS VIS DET WFS MODE\" key found\n",
        "  warnings.warn('Unknown Header \"%s\" key found' %str(key))\n"
       ]
      },
      {
       "output_type": "stream",
       "stream": "stderr",
       "text": [
        "/home/mbonse/Git/PynPoint/PynPoint2/io_modules/FitsReading.py:189: UserWarning: Unknown Header \"ESO AOS VIS INS ADC1 POSNAM\" key found\n",
        "  warnings.warn('Unknown Header \"%s\" key found' %str(key))\n",
        "/home/mbonse/Git/PynPoint/PynPoint2/io_modules/FitsReading.py:189: UserWarning: Unknown Header \"ESO AOS VIS INS ADC2 POSNAM\" key found\n",
        "  warnings.warn('Unknown Header \"%s\" key found' %str(key))\n",
        "/home/mbonse/Git/PynPoint/PynPoint2/io_modules/FitsReading.py:189: UserWarning: Unknown Header \"ESO AOS VIS INS DIAP POSNAM\" key found\n",
        "  warnings.warn('Unknown Header \"%s\" key found' %str(key))\n",
        "/home/mbonse/Git/PynPoint/PynPoint2/io_modules/FitsReading.py:189: UserWarning: Unknown Header \"ESO AOS VIS INS LENS POSNAM\" key found\n",
        "  warnings.warn('Unknown Header \"%s\" key found' %str(key))\n",
        "/home/mbonse/Git/PynPoint/PynPoint2/io_modules/FitsReading.py:174: UserWarning: Static keyword ESO INS PRES-MON PRES1 has changed. Probably the current file NACO.2012-08-25T07:21:41.972.fits does not belong to the data set \"00_raw_data\" of the PynPoint database. Updating Keyword...\n",
        "  % (key, fits_file, self.m_image_tag))\n"
       ]
      },
      {
       "output_type": "stream",
       "stream": "stdout",
       "text": [
        "\n",
        "Reading NACO.2012-08-25T07:22:25.628.fits"
       ]
      },
      {
       "output_type": "stream",
       "stream": "stderr",
       "text": [
        "/home/mbonse/Git/PynPoint/PynPoint2/io_modules/FitsReading.py:174: UserWarning: Static keyword ESO OBS ID has changed. Probably the current file NACO.2012-08-25T07:21:41.972.fits does not belong to the data set \"00_raw_data\" of the PynPoint database. Updating Keyword...\n",
        "  % (key, fits_file, self.m_image_tag))\n",
        "/home/mbonse/Git/PynPoint/PynPoint2/io_modules/FitsReading.py:189: UserWarning: Unknown Header \"ESO AOS VIS DET WFS MODE\" key found\n",
        "  warnings.warn('Unknown Header \"%s\" key found' %str(key))\n"
       ]
      },
      {
       "output_type": "stream",
       "stream": "stderr",
       "text": [
        "/home/mbonse/Git/PynPoint/PynPoint2/io_modules/FitsReading.py:189: UserWarning: Unknown Header \"ESO AOS VIS INS ADC1 POSNAM\" key found\n",
        "  warnings.warn('Unknown Header \"%s\" key found' %str(key))\n",
        "/home/mbonse/Git/PynPoint/PynPoint2/io_modules/FitsReading.py:189: UserWarning: Unknown Header \"ESO AOS VIS INS ADC2 POSNAM\" key found\n",
        "  warnings.warn('Unknown Header \"%s\" key found' %str(key))\n",
        "/home/mbonse/Git/PynPoint/PynPoint2/io_modules/FitsReading.py:189: UserWarning: Unknown Header \"ESO AOS VIS INS DIAP POSNAM\" key found\n",
        "  warnings.warn('Unknown Header \"%s\" key found' %str(key))\n",
        "/home/mbonse/Git/PynPoint/PynPoint2/io_modules/FitsReading.py:189: UserWarning: Unknown Header \"ESO AOS VIS INS LENS POSNAM\" key found\n",
        "  warnings.warn('Unknown Header \"%s\" key found' %str(key))\n",
        "/home/mbonse/Git/PynPoint/PynPoint2/io_modules/FitsReading.py:174: UserWarning: Static keyword ESO INS PRES-MON PRES1 has changed. Probably the current file NACO.2012-08-25T07:22:25.628.fits does not belong to the data set \"00_raw_data\" of the PynPoint database. Updating Keyword...\n",
        "  % (key, fits_file, self.m_image_tag))\n"
       ]
      },
      {
       "output_type": "stream",
       "stream": "stdout",
       "text": [
        "\n",
        "Reading NACO.2012-08-25T07:23:16.682.fits"
       ]
      },
      {
       "output_type": "stream",
       "stream": "stderr",
       "text": [
        "/home/mbonse/Git/PynPoint/PynPoint2/io_modules/FitsReading.py:174: UserWarning: Static keyword ESO OBS ID has changed. Probably the current file NACO.2012-08-25T07:22:25.628.fits does not belong to the data set \"00_raw_data\" of the PynPoint database. Updating Keyword...\n",
        "  % (key, fits_file, self.m_image_tag))\n",
        "/home/mbonse/Git/PynPoint/PynPoint2/io_modules/FitsReading.py:189: UserWarning: Unknown Header \"ESO AOS VIS DET WFS MODE\" key found\n",
        "  warnings.warn('Unknown Header \"%s\" key found' %str(key))\n"
       ]
      },
      {
       "output_type": "stream",
       "stream": "stderr",
       "text": [
        "/home/mbonse/Git/PynPoint/PynPoint2/io_modules/FitsReading.py:189: UserWarning: Unknown Header \"ESO AOS VIS INS ADC1 POSNAM\" key found\n",
        "  warnings.warn('Unknown Header \"%s\" key found' %str(key))\n",
        "/home/mbonse/Git/PynPoint/PynPoint2/io_modules/FitsReading.py:189: UserWarning: Unknown Header \"ESO AOS VIS INS ADC2 POSNAM\" key found\n",
        "  warnings.warn('Unknown Header \"%s\" key found' %str(key))\n",
        "/home/mbonse/Git/PynPoint/PynPoint2/io_modules/FitsReading.py:189: UserWarning: Unknown Header \"ESO AOS VIS INS DIAP POSNAM\" key found\n",
        "  warnings.warn('Unknown Header \"%s\" key found' %str(key))\n",
        "/home/mbonse/Git/PynPoint/PynPoint2/io_modules/FitsReading.py:189: UserWarning: Unknown Header \"ESO AOS VIS INS LENS POSNAM\" key found\n",
        "  warnings.warn('Unknown Header \"%s\" key found' %str(key))\n",
        "/home/mbonse/Git/PynPoint/PynPoint2/io_modules/FitsReading.py:174: UserWarning: Static keyword ESO INS PRES-MON PRES1 has changed. Probably the current file NACO.2012-08-25T07:23:16.682.fits does not belong to the data set \"00_raw_data\" of the PynPoint database. Updating Keyword...\n",
        "  % (key, fits_file, self.m_image_tag))\n"
       ]
      },
      {
       "output_type": "stream",
       "stream": "stdout",
       "text": [
        "\n",
        "Reading NACO.2012-08-25T07:24:00.141.fits"
       ]
      },
      {
       "output_type": "stream",
       "stream": "stderr",
       "text": [
        "/home/mbonse/Git/PynPoint/PynPoint2/io_modules/FitsReading.py:174: UserWarning: Static keyword ESO OBS ID has changed. Probably the current file NACO.2012-08-25T07:23:16.682.fits does not belong to the data set \"00_raw_data\" of the PynPoint database. Updating Keyword...\n",
        "  % (key, fits_file, self.m_image_tag))\n",
        "/home/mbonse/Git/PynPoint/PynPoint2/io_modules/FitsReading.py:189: UserWarning: Unknown Header \"ESO AOS VIS DET WFS MODE\" key found\n",
        "  warnings.warn('Unknown Header \"%s\" key found' %str(key))\n"
       ]
      },
      {
       "output_type": "stream",
       "stream": "stderr",
       "text": [
        "/home/mbonse/Git/PynPoint/PynPoint2/io_modules/FitsReading.py:189: UserWarning: Unknown Header \"ESO AOS VIS INS ADC1 POSNAM\" key found\n",
        "  warnings.warn('Unknown Header \"%s\" key found' %str(key))\n",
        "/home/mbonse/Git/PynPoint/PynPoint2/io_modules/FitsReading.py:189: UserWarning: Unknown Header \"ESO AOS VIS INS ADC2 POSNAM\" key found\n",
        "  warnings.warn('Unknown Header \"%s\" key found' %str(key))\n",
        "/home/mbonse/Git/PynPoint/PynPoint2/io_modules/FitsReading.py:189: UserWarning: Unknown Header \"ESO AOS VIS INS DIAP POSNAM\" key found\n",
        "  warnings.warn('Unknown Header \"%s\" key found' %str(key))\n",
        "/home/mbonse/Git/PynPoint/PynPoint2/io_modules/FitsReading.py:189: UserWarning: Unknown Header \"ESO AOS VIS INS LENS POSNAM\" key found\n",
        "  warnings.warn('Unknown Header \"%s\" key found' %str(key))\n",
        "/home/mbonse/Git/PynPoint/PynPoint2/io_modules/FitsReading.py:174: UserWarning: Static keyword ESO INS PRES-MON PRES1 has changed. Probably the current file NACO.2012-08-25T07:24:00.141.fits does not belong to the data set \"00_raw_data\" of the PynPoint database. Updating Keyword...\n",
        "  % (key, fits_file, self.m_image_tag))\n"
       ]
      },
      {
       "output_type": "stream",
       "stream": "stdout",
       "text": [
        "\n",
        "Reading NACO.2012-08-25T07:24:51.633.fits"
       ]
      },
      {
       "output_type": "stream",
       "stream": "stderr",
       "text": [
        "/home/mbonse/Git/PynPoint/PynPoint2/io_modules/FitsReading.py:174: UserWarning: Static keyword ESO OBS ID has changed. Probably the current file NACO.2012-08-25T07:24:00.141.fits does not belong to the data set \"00_raw_data\" of the PynPoint database. Updating Keyword...\n",
        "  % (key, fits_file, self.m_image_tag))\n",
        "/home/mbonse/Git/PynPoint/PynPoint2/io_modules/FitsReading.py:189: UserWarning: Unknown Header \"ESO AOS VIS DET WFS MODE\" key found\n",
        "  warnings.warn('Unknown Header \"%s\" key found' %str(key))\n"
       ]
      },
      {
       "output_type": "stream",
       "stream": "stderr",
       "text": [
        "/home/mbonse/Git/PynPoint/PynPoint2/io_modules/FitsReading.py:189: UserWarning: Unknown Header \"ESO AOS VIS INS ADC1 POSNAM\" key found\n",
        "  warnings.warn('Unknown Header \"%s\" key found' %str(key))\n",
        "/home/mbonse/Git/PynPoint/PynPoint2/io_modules/FitsReading.py:189: UserWarning: Unknown Header \"ESO AOS VIS INS ADC2 POSNAM\" key found\n",
        "  warnings.warn('Unknown Header \"%s\" key found' %str(key))\n",
        "/home/mbonse/Git/PynPoint/PynPoint2/io_modules/FitsReading.py:189: UserWarning: Unknown Header \"ESO AOS VIS INS DIAP POSNAM\" key found\n",
        "  warnings.warn('Unknown Header \"%s\" key found' %str(key))\n",
        "/home/mbonse/Git/PynPoint/PynPoint2/io_modules/FitsReading.py:189: UserWarning: Unknown Header \"ESO AOS VIS INS LENS POSNAM\" key found\n",
        "  warnings.warn('Unknown Header \"%s\" key found' %str(key))\n",
        "/home/mbonse/Git/PynPoint/PynPoint2/io_modules/FitsReading.py:174: UserWarning: Static keyword ESO INS PRES-MON PRES1 has changed. Probably the current file NACO.2012-08-25T07:24:51.633.fits does not belong to the data set \"00_raw_data\" of the PynPoint database. Updating Keyword...\n",
        "  % (key, fits_file, self.m_image_tag))\n"
       ]
      },
      {
       "output_type": "stream",
       "stream": "stdout",
       "text": [
        "\n",
        "Reading NACO.2012-08-25T07:25:35.145.fits"
       ]
      },
      {
       "output_type": "stream",
       "stream": "stderr",
       "text": [
        "/home/mbonse/Git/PynPoint/PynPoint2/io_modules/FitsReading.py:174: UserWarning: Static keyword ESO OBS ID has changed. Probably the current file NACO.2012-08-25T07:24:51.633.fits does not belong to the data set \"00_raw_data\" of the PynPoint database. Updating Keyword...\n",
        "  % (key, fits_file, self.m_image_tag))\n",
        "/home/mbonse/Git/PynPoint/PynPoint2/io_modules/FitsReading.py:189: UserWarning: Unknown Header \"ESO AOS VIS DET WFS MODE\" key found\n",
        "  warnings.warn('Unknown Header \"%s\" key found' %str(key))\n"
       ]
      },
      {
       "output_type": "stream",
       "stream": "stderr",
       "text": [
        "/home/mbonse/Git/PynPoint/PynPoint2/io_modules/FitsReading.py:189: UserWarning: Unknown Header \"ESO AOS VIS INS ADC1 POSNAM\" key found\n",
        "  warnings.warn('Unknown Header \"%s\" key found' %str(key))\n",
        "/home/mbonse/Git/PynPoint/PynPoint2/io_modules/FitsReading.py:189: UserWarning: Unknown Header \"ESO AOS VIS INS ADC2 POSNAM\" key found\n",
        "  warnings.warn('Unknown Header \"%s\" key found' %str(key))\n",
        "/home/mbonse/Git/PynPoint/PynPoint2/io_modules/FitsReading.py:189: UserWarning: Unknown Header \"ESO AOS VIS INS DIAP POSNAM\" key found\n",
        "  warnings.warn('Unknown Header \"%s\" key found' %str(key))\n",
        "/home/mbonse/Git/PynPoint/PynPoint2/io_modules/FitsReading.py:189: UserWarning: Unknown Header \"ESO AOS VIS INS LENS POSNAM\" key found\n",
        "  warnings.warn('Unknown Header \"%s\" key found' %str(key))\n",
        "/home/mbonse/Git/PynPoint/PynPoint2/io_modules/FitsReading.py:174: UserWarning: Static keyword ESO INS PRES-MON PRES1 has changed. Probably the current file NACO.2012-08-25T07:25:35.145.fits does not belong to the data set \"00_raw_data\" of the PynPoint database. Updating Keyword...\n",
        "  % (key, fits_file, self.m_image_tag))\n"
       ]
      },
      {
       "output_type": "stream",
       "stream": "stdout",
       "text": [
        "\n",
        "Reading NACO.2012-08-25T07:26:26.998.fits"
       ]
      },
      {
       "output_type": "stream",
       "stream": "stderr",
       "text": [
        "/home/mbonse/Git/PynPoint/PynPoint2/io_modules/FitsReading.py:174: UserWarning: Static keyword ESO OBS ID has changed. Probably the current file NACO.2012-08-25T07:25:35.145.fits does not belong to the data set \"00_raw_data\" of the PynPoint database. Updating Keyword...\n",
        "  % (key, fits_file, self.m_image_tag))\n",
        "/home/mbonse/Git/PynPoint/PynPoint2/io_modules/FitsReading.py:189: UserWarning: Unknown Header \"ESO AOS VIS DET WFS MODE\" key found\n",
        "  warnings.warn('Unknown Header \"%s\" key found' %str(key))\n"
       ]
      },
      {
       "output_type": "stream",
       "stream": "stderr",
       "text": [
        "/home/mbonse/Git/PynPoint/PynPoint2/io_modules/FitsReading.py:189: UserWarning: Unknown Header \"ESO AOS VIS INS ADC1 POSNAM\" key found\n",
        "  warnings.warn('Unknown Header \"%s\" key found' %str(key))\n",
        "/home/mbonse/Git/PynPoint/PynPoint2/io_modules/FitsReading.py:189: UserWarning: Unknown Header \"ESO AOS VIS INS ADC2 POSNAM\" key found\n",
        "  warnings.warn('Unknown Header \"%s\" key found' %str(key))\n",
        "/home/mbonse/Git/PynPoint/PynPoint2/io_modules/FitsReading.py:189: UserWarning: Unknown Header \"ESO AOS VIS INS DIAP POSNAM\" key found\n",
        "  warnings.warn('Unknown Header \"%s\" key found' %str(key))\n",
        "/home/mbonse/Git/PynPoint/PynPoint2/io_modules/FitsReading.py:189: UserWarning: Unknown Header \"ESO AOS VIS INS LENS POSNAM\" key found\n",
        "  warnings.warn('Unknown Header \"%s\" key found' %str(key))\n",
        "/home/mbonse/Git/PynPoint/PynPoint2/io_modules/FitsReading.py:174: UserWarning: Static keyword ESO INS PRES-MON PRES1 has changed. Probably the current file NACO.2012-08-25T07:26:26.998.fits does not belong to the data set \"00_raw_data\" of the PynPoint database. Updating Keyword...\n",
        "  % (key, fits_file, self.m_image_tag))\n"
       ]
      },
      {
       "output_type": "stream",
       "stream": "stdout",
       "text": [
        "\n",
        "Reading NACO.2012-08-25T07:27:10.875.fits"
       ]
      },
      {
       "output_type": "stream",
       "stream": "stderr",
       "text": [
        "/home/mbonse/Git/PynPoint/PynPoint2/io_modules/FitsReading.py:174: UserWarning: Static keyword ESO OBS ID has changed. Probably the current file NACO.2012-08-25T07:26:26.998.fits does not belong to the data set \"00_raw_data\" of the PynPoint database. Updating Keyword...\n",
        "  % (key, fits_file, self.m_image_tag))\n",
        "/home/mbonse/Git/PynPoint/PynPoint2/io_modules/FitsReading.py:174: UserWarning: Static keyword ESO TEL DOME STATUS has changed. Probably the current file NACO.2012-08-25T07:26:26.998.fits does not belong to the data set \"00_raw_data\" of the PynPoint database. Updating Keyword...\n",
        "  % (key, fits_file, self.m_image_tag))\n",
        "/home/mbonse/Git/PynPoint/PynPoint2/io_modules/FitsReading.py:189: UserWarning: Unknown Header \"ESO AOS VIS DET WFS MODE\" key found\n",
        "  warnings.warn('Unknown Header \"%s\" key found' %str(key))\n"
       ]
      },
      {
       "output_type": "stream",
       "stream": "stderr",
       "text": [
        "/home/mbonse/Git/PynPoint/PynPoint2/io_modules/FitsReading.py:189: UserWarning: Unknown Header \"ESO AOS VIS INS ADC1 POSNAM\" key found\n",
        "  warnings.warn('Unknown Header \"%s\" key found' %str(key))\n",
        "/home/mbonse/Git/PynPoint/PynPoint2/io_modules/FitsReading.py:189: UserWarning: Unknown Header \"ESO AOS VIS INS ADC2 POSNAM\" key found\n",
        "  warnings.warn('Unknown Header \"%s\" key found' %str(key))\n",
        "/home/mbonse/Git/PynPoint/PynPoint2/io_modules/FitsReading.py:189: UserWarning: Unknown Header \"ESO AOS VIS INS DIAP POSNAM\" key found\n",
        "  warnings.warn('Unknown Header \"%s\" key found' %str(key))\n",
        "/home/mbonse/Git/PynPoint/PynPoint2/io_modules/FitsReading.py:189: UserWarning: Unknown Header \"ESO AOS VIS INS LENS POSNAM\" key found\n",
        "  warnings.warn('Unknown Header \"%s\" key found' %str(key))\n",
        "/home/mbonse/Git/PynPoint/PynPoint2/io_modules/FitsReading.py:174: UserWarning: Static keyword ESO INS PRES-MON PRES1 has changed. Probably the current file NACO.2012-08-25T07:27:10.875.fits does not belong to the data set \"00_raw_data\" of the PynPoint database. Updating Keyword...\n",
        "  % (key, fits_file, self.m_image_tag))\n"
       ]
      },
      {
       "output_type": "stream",
       "stream": "stdout",
       "text": [
        "\n",
        "Reading NACO.2012-08-25T07:28:18.992.fits"
       ]
      },
      {
       "output_type": "stream",
       "stream": "stderr",
       "text": [
        "/home/mbonse/Git/PynPoint/PynPoint2/io_modules/FitsReading.py:174: UserWarning: Static keyword ESO OBS ID has changed. Probably the current file NACO.2012-08-25T07:27:10.875.fits does not belong to the data set \"00_raw_data\" of the PynPoint database. Updating Keyword...\n",
        "  % (key, fits_file, self.m_image_tag))\n",
        "/home/mbonse/Git/PynPoint/PynPoint2/io_modules/FitsReading.py:189: UserWarning: Unknown Header \"ESO AOS VIS DET WFS MODE\" key found\n",
        "  warnings.warn('Unknown Header \"%s\" key found' %str(key))\n"
       ]
      },
      {
       "output_type": "stream",
       "stream": "stderr",
       "text": [
        "/home/mbonse/Git/PynPoint/PynPoint2/io_modules/FitsReading.py:189: UserWarning: Unknown Header \"ESO AOS VIS INS ADC1 POSNAM\" key found\n",
        "  warnings.warn('Unknown Header \"%s\" key found' %str(key))\n",
        "/home/mbonse/Git/PynPoint/PynPoint2/io_modules/FitsReading.py:189: UserWarning: Unknown Header \"ESO AOS VIS INS ADC2 POSNAM\" key found\n",
        "  warnings.warn('Unknown Header \"%s\" key found' %str(key))\n",
        "/home/mbonse/Git/PynPoint/PynPoint2/io_modules/FitsReading.py:189: UserWarning: Unknown Header \"ESO AOS VIS INS DIAP POSNAM\" key found\n",
        "  warnings.warn('Unknown Header \"%s\" key found' %str(key))\n",
        "/home/mbonse/Git/PynPoint/PynPoint2/io_modules/FitsReading.py:189: UserWarning: Unknown Header \"ESO AOS VIS INS LENS POSNAM\" key found\n",
        "  warnings.warn('Unknown Header \"%s\" key found' %str(key))\n",
        "/home/mbonse/Git/PynPoint/PynPoint2/io_modules/FitsReading.py:174: UserWarning: Static keyword ESO INS PRES-MON PRES1 has changed. Probably the current file NACO.2012-08-25T07:28:18.992.fits does not belong to the data set \"00_raw_data\" of the PynPoint database. Updating Keyword...\n",
        "  % (key, fits_file, self.m_image_tag))\n"
       ]
      },
      {
       "output_type": "stream",
       "stream": "stdout",
       "text": [
        "\n",
        "Reading NACO.2012-08-25T07:29:02.649.fits"
       ]
      },
      {
       "output_type": "stream",
       "stream": "stderr",
       "text": [
        "/home/mbonse/Git/PynPoint/PynPoint2/io_modules/FitsReading.py:174: UserWarning: Static keyword ESO OBS ID has changed. Probably the current file NACO.2012-08-25T07:28:18.992.fits does not belong to the data set \"00_raw_data\" of the PynPoint database. Updating Keyword...\n",
        "  % (key, fits_file, self.m_image_tag))\n",
        "/home/mbonse/Git/PynPoint/PynPoint2/io_modules/FitsReading.py:189: UserWarning: Unknown Header \"ESO AOS VIS DET WFS MODE\" key found\n",
        "  warnings.warn('Unknown Header \"%s\" key found' %str(key))\n"
       ]
      },
      {
       "output_type": "stream",
       "stream": "stderr",
       "text": [
        "/home/mbonse/Git/PynPoint/PynPoint2/io_modules/FitsReading.py:189: UserWarning: Unknown Header \"ESO AOS VIS INS ADC1 POSNAM\" key found\n",
        "  warnings.warn('Unknown Header \"%s\" key found' %str(key))\n",
        "/home/mbonse/Git/PynPoint/PynPoint2/io_modules/FitsReading.py:189: UserWarning: Unknown Header \"ESO AOS VIS INS ADC2 POSNAM\" key found\n",
        "  warnings.warn('Unknown Header \"%s\" key found' %str(key))\n",
        "/home/mbonse/Git/PynPoint/PynPoint2/io_modules/FitsReading.py:189: UserWarning: Unknown Header \"ESO AOS VIS INS DIAP POSNAM\" key found\n",
        "  warnings.warn('Unknown Header \"%s\" key found' %str(key))\n",
        "/home/mbonse/Git/PynPoint/PynPoint2/io_modules/FitsReading.py:189: UserWarning: Unknown Header \"ESO AOS VIS INS LENS POSNAM\" key found\n",
        "  warnings.warn('Unknown Header \"%s\" key found' %str(key))\n",
        "/home/mbonse/Git/PynPoint/PynPoint2/io_modules/FitsReading.py:174: UserWarning: Static keyword ESO INS PRES-MON PRES1 has changed. Probably the current file NACO.2012-08-25T07:29:02.649.fits does not belong to the data set \"00_raw_data\" of the PynPoint database. Updating Keyword...\n",
        "  % (key, fits_file, self.m_image_tag))\n"
       ]
      },
      {
       "output_type": "stream",
       "stream": "stdout",
       "text": [
        "\n",
        "Reading NACO.2012-08-25T07:29:53.501.fits"
       ]
      },
      {
       "output_type": "stream",
       "stream": "stderr",
       "text": [
        "/home/mbonse/Git/PynPoint/PynPoint2/io_modules/FitsReading.py:174: UserWarning: Static keyword ESO OBS ID has changed. Probably the current file NACO.2012-08-25T07:29:02.649.fits does not belong to the data set \"00_raw_data\" of the PynPoint database. Updating Keyword...\n",
        "  % (key, fits_file, self.m_image_tag))\n",
        "/home/mbonse/Git/PynPoint/PynPoint2/io_modules/FitsReading.py:189: UserWarning: Unknown Header \"ESO AOS VIS DET WFS MODE\" key found\n",
        "  warnings.warn('Unknown Header \"%s\" key found' %str(key))\n"
       ]
      },
      {
       "output_type": "stream",
       "stream": "stderr",
       "text": [
        "/home/mbonse/Git/PynPoint/PynPoint2/io_modules/FitsReading.py:189: UserWarning: Unknown Header \"ESO AOS VIS INS ADC1 POSNAM\" key found\n",
        "  warnings.warn('Unknown Header \"%s\" key found' %str(key))\n",
        "/home/mbonse/Git/PynPoint/PynPoint2/io_modules/FitsReading.py:189: UserWarning: Unknown Header \"ESO AOS VIS INS ADC2 POSNAM\" key found\n",
        "  warnings.warn('Unknown Header \"%s\" key found' %str(key))\n",
        "/home/mbonse/Git/PynPoint/PynPoint2/io_modules/FitsReading.py:189: UserWarning: Unknown Header \"ESO AOS VIS INS DIAP POSNAM\" key found\n",
        "  warnings.warn('Unknown Header \"%s\" key found' %str(key))\n",
        "/home/mbonse/Git/PynPoint/PynPoint2/io_modules/FitsReading.py:189: UserWarning: Unknown Header \"ESO AOS VIS INS LENS POSNAM\" key found\n",
        "  warnings.warn('Unknown Header \"%s\" key found' %str(key))\n",
        "/home/mbonse/Git/PynPoint/PynPoint2/io_modules/FitsReading.py:174: UserWarning: Static keyword ESO INS PRES-MON PRES1 has changed. Probably the current file NACO.2012-08-25T07:29:53.501.fits does not belong to the data set \"00_raw_data\" of the PynPoint database. Updating Keyword...\n",
        "  % (key, fits_file, self.m_image_tag))\n"
       ]
      },
      {
       "output_type": "stream",
       "stream": "stdout",
       "text": [
        "\n",
        "Reading NACO.2012-08-25T07:30:36.957.fits"
       ]
      },
      {
       "output_type": "stream",
       "stream": "stderr",
       "text": [
        "/home/mbonse/Git/PynPoint/PynPoint2/io_modules/FitsReading.py:174: UserWarning: Static keyword ESO OBS ID has changed. Probably the current file NACO.2012-08-25T07:29:53.501.fits does not belong to the data set \"00_raw_data\" of the PynPoint database. Updating Keyword...\n",
        "  % (key, fits_file, self.m_image_tag))\n",
        "/home/mbonse/Git/PynPoint/PynPoint2/io_modules/FitsReading.py:189: UserWarning: Unknown Header \"ESO AOS VIS DET WFS MODE\" key found\n",
        "  warnings.warn('Unknown Header \"%s\" key found' %str(key))\n"
       ]
      },
      {
       "output_type": "stream",
       "stream": "stderr",
       "text": [
        "/home/mbonse/Git/PynPoint/PynPoint2/io_modules/FitsReading.py:189: UserWarning: Unknown Header \"ESO AOS VIS INS ADC1 POSNAM\" key found\n",
        "  warnings.warn('Unknown Header \"%s\" key found' %str(key))\n",
        "/home/mbonse/Git/PynPoint/PynPoint2/io_modules/FitsReading.py:189: UserWarning: Unknown Header \"ESO AOS VIS INS ADC2 POSNAM\" key found\n",
        "  warnings.warn('Unknown Header \"%s\" key found' %str(key))\n",
        "/home/mbonse/Git/PynPoint/PynPoint2/io_modules/FitsReading.py:189: UserWarning: Unknown Header \"ESO AOS VIS INS DIAP POSNAM\" key found\n",
        "  warnings.warn('Unknown Header \"%s\" key found' %str(key))\n",
        "/home/mbonse/Git/PynPoint/PynPoint2/io_modules/FitsReading.py:189: UserWarning: Unknown Header \"ESO AOS VIS INS LENS POSNAM\" key found\n",
        "  warnings.warn('Unknown Header \"%s\" key found' %str(key))\n",
        "/home/mbonse/Git/PynPoint/PynPoint2/io_modules/FitsReading.py:174: UserWarning: Static keyword ESO INS PRES-MON PRES1 has changed. Probably the current file NACO.2012-08-25T07:30:36.957.fits does not belong to the data set \"00_raw_data\" of the PynPoint database. Updating Keyword...\n",
        "  % (key, fits_file, self.m_image_tag))\n"
       ]
      },
      {
       "output_type": "stream",
       "stream": "stdout",
       "text": [
        "\n",
        "Reading NACO.2012-08-25T07:31:29.810.fits"
       ]
      },
      {
       "output_type": "stream",
       "stream": "stderr",
       "text": [
        "/home/mbonse/Git/PynPoint/PynPoint2/io_modules/FitsReading.py:174: UserWarning: Static keyword ESO OBS ID has changed. Probably the current file NACO.2012-08-25T07:30:36.957.fits does not belong to the data set \"00_raw_data\" of the PynPoint database. Updating Keyword...\n",
        "  % (key, fits_file, self.m_image_tag))\n",
        "/home/mbonse/Git/PynPoint/PynPoint2/io_modules/FitsReading.py:189: UserWarning: Unknown Header \"ESO AOS VIS DET WFS MODE\" key found\n",
        "  warnings.warn('Unknown Header \"%s\" key found' %str(key))\n"
       ]
      },
      {
       "output_type": "stream",
       "stream": "stderr",
       "text": [
        "/home/mbonse/Git/PynPoint/PynPoint2/io_modules/FitsReading.py:189: UserWarning: Unknown Header \"ESO AOS VIS INS ADC1 POSNAM\" key found\n",
        "  warnings.warn('Unknown Header \"%s\" key found' %str(key))\n",
        "/home/mbonse/Git/PynPoint/PynPoint2/io_modules/FitsReading.py:189: UserWarning: Unknown Header \"ESO AOS VIS INS ADC2 POSNAM\" key found\n",
        "  warnings.warn('Unknown Header \"%s\" key found' %str(key))\n",
        "/home/mbonse/Git/PynPoint/PynPoint2/io_modules/FitsReading.py:189: UserWarning: Unknown Header \"ESO AOS VIS INS DIAP POSNAM\" key found\n",
        "  warnings.warn('Unknown Header \"%s\" key found' %str(key))\n",
        "/home/mbonse/Git/PynPoint/PynPoint2/io_modules/FitsReading.py:189: UserWarning: Unknown Header \"ESO AOS VIS INS LENS POSNAM\" key found\n",
        "  warnings.warn('Unknown Header \"%s\" key found' %str(key))\n",
        "/home/mbonse/Git/PynPoint/PynPoint2/io_modules/FitsReading.py:174: UserWarning: Static keyword ESO INS PRES-MON PRES1 has changed. Probably the current file NACO.2012-08-25T07:31:29.810.fits does not belong to the data set \"00_raw_data\" of the PynPoint database. Updating Keyword...\n",
        "  % (key, fits_file, self.m_image_tag))\n"
       ]
      },
      {
       "output_type": "stream",
       "stream": "stdout",
       "text": [
        "\n",
        "Reading NACO.2012-08-25T07:32:13.466.fits"
       ]
      },
      {
       "output_type": "stream",
       "stream": "stderr",
       "text": [
        "/home/mbonse/Git/PynPoint/PynPoint2/io_modules/FitsReading.py:174: UserWarning: Static keyword ESO OBS ID has changed. Probably the current file NACO.2012-08-25T07:31:29.810.fits does not belong to the data set \"00_raw_data\" of the PynPoint database. Updating Keyword...\n",
        "  % (key, fits_file, self.m_image_tag))\n",
        "/home/mbonse/Git/PynPoint/PynPoint2/io_modules/FitsReading.py:189: UserWarning: Unknown Header \"ESO AOS VIS DET WFS MODE\" key found\n",
        "  warnings.warn('Unknown Header \"%s\" key found' %str(key))\n"
       ]
      },
      {
       "output_type": "stream",
       "stream": "stderr",
       "text": [
        "/home/mbonse/Git/PynPoint/PynPoint2/io_modules/FitsReading.py:189: UserWarning: Unknown Header \"ESO AOS VIS INS ADC1 POSNAM\" key found\n",
        "  warnings.warn('Unknown Header \"%s\" key found' %str(key))\n",
        "/home/mbonse/Git/PynPoint/PynPoint2/io_modules/FitsReading.py:189: UserWarning: Unknown Header \"ESO AOS VIS INS ADC2 POSNAM\" key found\n",
        "  warnings.warn('Unknown Header \"%s\" key found' %str(key))\n",
        "/home/mbonse/Git/PynPoint/PynPoint2/io_modules/FitsReading.py:189: UserWarning: Unknown Header \"ESO AOS VIS INS DIAP POSNAM\" key found\n",
        "  warnings.warn('Unknown Header \"%s\" key found' %str(key))\n",
        "/home/mbonse/Git/PynPoint/PynPoint2/io_modules/FitsReading.py:189: UserWarning: Unknown Header \"ESO AOS VIS INS LENS POSNAM\" key found\n",
        "  warnings.warn('Unknown Header \"%s\" key found' %str(key))\n",
        "/home/mbonse/Git/PynPoint/PynPoint2/io_modules/FitsReading.py:174: UserWarning: Static keyword ESO INS PRES-MON PRES1 has changed. Probably the current file NACO.2012-08-25T07:32:13.466.fits does not belong to the data set \"00_raw_data\" of the PynPoint database. Updating Keyword...\n",
        "  % (key, fits_file, self.m_image_tag))\n"
       ]
      },
      {
       "output_type": "stream",
       "stream": "stdout",
       "text": [
        "\n",
        "Reading NACO.2012-08-25T07:33:05.737.fits"
       ]
      },
      {
       "output_type": "stream",
       "stream": "stderr",
       "text": [
        "/home/mbonse/Git/PynPoint/PynPoint2/io_modules/FitsReading.py:174: UserWarning: Static keyword ESO OBS ID has changed. Probably the current file NACO.2012-08-25T07:32:13.466.fits does not belong to the data set \"00_raw_data\" of the PynPoint database. Updating Keyword...\n",
        "  % (key, fits_file, self.m_image_tag))\n",
        "/home/mbonse/Git/PynPoint/PynPoint2/io_modules/FitsReading.py:189: UserWarning: Unknown Header \"ESO AOS VIS DET WFS MODE\" key found\n",
        "  warnings.warn('Unknown Header \"%s\" key found' %str(key))\n"
       ]
      },
      {
       "output_type": "stream",
       "stream": "stderr",
       "text": [
        "/home/mbonse/Git/PynPoint/PynPoint2/io_modules/FitsReading.py:189: UserWarning: Unknown Header \"ESO AOS VIS INS ADC1 POSNAM\" key found\n",
        "  warnings.warn('Unknown Header \"%s\" key found' %str(key))\n",
        "/home/mbonse/Git/PynPoint/PynPoint2/io_modules/FitsReading.py:189: UserWarning: Unknown Header \"ESO AOS VIS INS ADC2 POSNAM\" key found\n",
        "  warnings.warn('Unknown Header \"%s\" key found' %str(key))\n",
        "/home/mbonse/Git/PynPoint/PynPoint2/io_modules/FitsReading.py:189: UserWarning: Unknown Header \"ESO AOS VIS INS DIAP POSNAM\" key found\n",
        "  warnings.warn('Unknown Header \"%s\" key found' %str(key))\n",
        "/home/mbonse/Git/PynPoint/PynPoint2/io_modules/FitsReading.py:189: UserWarning: Unknown Header \"ESO AOS VIS INS LENS POSNAM\" key found\n",
        "  warnings.warn('Unknown Header \"%s\" key found' %str(key))\n",
        "/home/mbonse/Git/PynPoint/PynPoint2/io_modules/FitsReading.py:174: UserWarning: Static keyword ESO INS PRES-MON PRES1 has changed. Probably the current file NACO.2012-08-25T07:33:05.737.fits does not belong to the data set \"00_raw_data\" of the PynPoint database. Updating Keyword...\n",
        "  % (key, fits_file, self.m_image_tag))\n"
       ]
      },
      {
       "output_type": "stream",
       "stream": "stdout",
       "text": [
        "\n",
        "Reading NACO.2012-08-25T07:33:49.839.fits"
       ]
      },
      {
       "output_type": "stream",
       "stream": "stderr",
       "text": [
        "/home/mbonse/Git/PynPoint/PynPoint2/io_modules/FitsReading.py:174: UserWarning: Static keyword ESO OBS ID has changed. Probably the current file NACO.2012-08-25T07:33:05.737.fits does not belong to the data set \"00_raw_data\" of the PynPoint database. Updating Keyword...\n",
        "  % (key, fits_file, self.m_image_tag))\n",
        "/home/mbonse/Git/PynPoint/PynPoint2/io_modules/FitsReading.py:189: UserWarning: Unknown Header \"ESO AOS VIS DET WFS MODE\" key found\n",
        "  warnings.warn('Unknown Header \"%s\" key found' %str(key))\n"
       ]
      },
      {
       "output_type": "stream",
       "stream": "stderr",
       "text": [
        "/home/mbonse/Git/PynPoint/PynPoint2/io_modules/FitsReading.py:189: UserWarning: Unknown Header \"ESO AOS VIS INS ADC1 POSNAM\" key found\n",
        "  warnings.warn('Unknown Header \"%s\" key found' %str(key))\n",
        "/home/mbonse/Git/PynPoint/PynPoint2/io_modules/FitsReading.py:189: UserWarning: Unknown Header \"ESO AOS VIS INS ADC2 POSNAM\" key found\n",
        "  warnings.warn('Unknown Header \"%s\" key found' %str(key))\n",
        "/home/mbonse/Git/PynPoint/PynPoint2/io_modules/FitsReading.py:189: UserWarning: Unknown Header \"ESO AOS VIS INS DIAP POSNAM\" key found\n",
        "  warnings.warn('Unknown Header \"%s\" key found' %str(key))\n",
        "/home/mbonse/Git/PynPoint/PynPoint2/io_modules/FitsReading.py:189: UserWarning: Unknown Header \"ESO AOS VIS INS LENS POSNAM\" key found\n",
        "  warnings.warn('Unknown Header \"%s\" key found' %str(key))\n",
        "/home/mbonse/Git/PynPoint/PynPoint2/io_modules/FitsReading.py:174: UserWarning: Static keyword ESO INS PRES-MON PRES1 has changed. Probably the current file NACO.2012-08-25T07:33:49.839.fits does not belong to the data set \"00_raw_data\" of the PynPoint database. Updating Keyword...\n",
        "  % (key, fits_file, self.m_image_tag))\n"
       ]
      },
      {
       "output_type": "stream",
       "stream": "stdout",
       "text": [
        "\n",
        "finished running module..."
       ]
      },
      {
       "output_type": "stream",
       "stream": "stdout",
       "text": [
        "\n"
       ]
      },
      {
       "output_type": "stream",
       "stream": "stderr",
       "text": [
        "/home/mbonse/Git/PynPoint/PynPoint2/io_modules/FitsReading.py:174: UserWarning: Static keyword ESO OBS ID has changed. Probably the current file NACO.2012-08-25T07:33:49.839.fits does not belong to the data set \"00_raw_data\" of the PynPoint database. Updating Keyword...\n",
        "  % (key, fits_file, self.m_image_tag))\n"
       ]
      }
     ],
     "prompt_number": 5
    },
    {
     "cell_type": "code",
     "collapsed": false,
     "input": [
      "reading_dark = ReadFitsCubesDirectory(name_in=\"Dark_reading\",\n",
      "                                      input_dir=\"/scratch/user/mbonse/after_new_preprocessing/HR8799_2012_08_25/Data/00_Dark_and_Flat/00_dark/\",\n",
      "                                      image_tag=\"00_dark_arr\")\n",
      "pipeline.add_module(reading_dark)\n",
      "\n",
      "reading_flat = ReadFitsCubesDirectory(name_in=\"Flat_reading\",\n",
      "                                      input_dir=\"/scratch/user/mbonse/after_new_preprocessing/HR8799_2012_08_25/Data/00_Dark_and_Flat/00_flat/\",\n",
      "                                      image_tag=\"00_flat_arr\")\n",
      "pipeline.add_module(reading_flat)\n",
      "pipeline.run_module(\"Dark_reading\")\n",
      "pipeline.run_module(\"Flat_reading\")"
     ],
     "language": "python",
     "metadata": {},
     "outputs": [
      {
       "output_type": "stream",
       "stream": "stderr",
       "text": [
        "/home/mbonse/Git/PynPoint/PynPoint2/io_modules/FitsReading.py:189: UserWarning: Unknown Header \"COMMENT\" key found\n",
        "  warnings.warn('Unknown Header \"%s\" key found' %str(key))\n",
        "/home/mbonse/Git/PynPoint/PynPoint2/io_modules/FitsReading.py:189: UserWarning: Unknown Header \"COMMENT\" key found\n",
        "  warnings.warn('Unknown Header \"%s\" key found' %str(key))\n",
        "/home/mbonse/Git/PynPoint/PynPoint2/io_modules/FitsReading.py:189: UserWarning: Unknown Header \"DATAMD5\" key found\n",
        "  warnings.warn('Unknown Header \"%s\" key found' %str(key))\n",
        "/home/mbonse/Git/PynPoint/PynPoint2/io_modules/FitsReading.py:189: UserWarning: Unknown Header \"PIPEFILE\" key found\n",
        "  warnings.warn('Unknown Header \"%s\" key found' %str(key))\n",
        "/home/mbonse/Git/PynPoint/PynPoint2/io_modules/FitsReading.py:189: UserWarning: Unknown Header \"ESO PRO CATG\" key found\n",
        "  warnings.warn('Unknown Header \"%s\" key found' %str(key))\n"
       ]
      },
      {
       "output_type": "stream",
       "stream": "stdout",
       "text": [
        "validating module...\n",
        "Start running module...\n",
        "Reading M.NACO.2012-08-27T16_43_47.183.fits\n",
        "finished running module..."
       ]
      },
      {
       "output_type": "stream",
       "stream": "stderr",
       "text": [
        "/home/mbonse/Git/PynPoint/PynPoint2/io_modules/FitsReading.py:189: UserWarning: Unknown Header \"ESO PRO DID\" key found\n",
        "  warnings.warn('Unknown Header \"%s\" key found' %str(key))\n",
        "/home/mbonse/Git/PynPoint/PynPoint2/io_modules/FitsReading.py:189: UserWarning: Unknown Header \"ESO PRO TYPE\" key found\n",
        "  warnings.warn('Unknown Header \"%s\" key found' %str(key))\n",
        "/home/mbonse/Git/PynPoint/PynPoint2/io_modules/FitsReading.py:189: UserWarning: Unknown Header \"ESO PRO TECH\" key found\n",
        "  warnings.warn('Unknown Header \"%s\" key found' %str(key))\n",
        "/home/mbonse/Git/PynPoint/PynPoint2/io_modules/FitsReading.py:189: UserWarning: Unknown Header \"ESO PRO SCIENCE\" key found\n",
        "  warnings.warn('Unknown Header \"%s\" key found' %str(key))\n",
        "/home/mbonse/Git/PynPoint/PynPoint2/io_modules/FitsReading.py:189: UserWarning: Unknown Header \"ESO PRO REC1 ID\" key found\n",
        "  warnings.warn('Unknown Header \"%s\" key found' %str(key))\n",
        "/home/mbonse/Git/PynPoint/PynPoint2/io_modules/FitsReading.py:189: UserWarning: Unknown Header \"ESO PRO REC1 DRS ID\" key found\n",
        "  warnings.warn('Unknown Header \"%s\" key found' %str(key))\n",
        "/home/mbonse/Git/PynPoint/PynPoint2/io_modules/FitsReading.py:189: UserWarning: Unknown Header \"ESO PRO REC1 PIPE ID\" key found\n",
        "  warnings.warn('Unknown Header \"%s\" key found' %str(key))\n",
        "/home/mbonse/Git/PynPoint/PynPoint2/io_modules/FitsReading.py:189: UserWarning: Unknown Header \"ESO PRO REC1 RAW1 NAME\" key found\n",
        "  warnings.warn('Unknown Header \"%s\" key found' %str(key))\n",
        "/home/mbonse/Git/PynPoint/PynPoint2/io_modules/FitsReading.py:189: UserWarning: Unknown Header \"ESO PRO REC1 RAW1 CATG\" key found\n",
        "  warnings.warn('Unknown Header \"%s\" key found' %str(key))\n",
        "/home/mbonse/Git/PynPoint/PynPoint2/io_modules/FitsReading.py:189: UserWarning: Unknown Header \"ESO PRO REC1 RAW2 NAME\" key found\n",
        "  warnings.warn('Unknown Header \"%s\" key found' %str(key))\n",
        "/home/mbonse/Git/PynPoint/PynPoint2/io_modules/FitsReading.py:189: UserWarning: Unknown Header \"ESO PRO REC1 RAW2 CATG\" key found\n",
        "  warnings.warn('Unknown Header \"%s\" key found' %str(key))\n",
        "/home/mbonse/Git/PynPoint/PynPoint2/io_modules/FitsReading.py:189: UserWarning: Unknown Header \"ESO PRO REC1 RAW3 NAME\" key found\n",
        "  warnings.warn('Unknown Header \"%s\" key found' %str(key))\n",
        "/home/mbonse/Git/PynPoint/PynPoint2/io_modules/FitsReading.py:189: UserWarning: Unknown Header \"ESO PRO REC1 RAW3 CATG\" key found\n",
        "  warnings.warn('Unknown Header \"%s\" key found' %str(key))\n",
        "/home/mbonse/Git/PynPoint/PynPoint2/io_modules/FitsReading.py:189: UserWarning: Unknown Header \"ESO PRO DATANCOM\" key found\n",
        "  warnings.warn('Unknown Header \"%s\" key found' %str(key))\n",
        "/home/mbonse/Git/PynPoint/PynPoint2/io_modules/FitsReading.py:189: UserWarning: Unknown Header \"ESO PRO REC1 PARAM1 NAME\" key found\n",
        "  warnings.warn('Unknown Header \"%s\" key found' %str(key))\n",
        "/home/mbonse/Git/PynPoint/PynPoint2/io_modules/FitsReading.py:189: UserWarning: Unknown Header \"ESO PRO REC1 PARAM1 VALUE\" key found\n",
        "  warnings.warn('Unknown Header \"%s\" key found' %str(key))\n",
        "/home/mbonse/Git/PynPoint/PynPoint2/io_modules/FitsReading.py:189: UserWarning: Unknown Header \"ESO PRO REC1 PARAM2 NAME\" key found\n",
        "  warnings.warn('Unknown Header \"%s\" key found' %str(key))\n",
        "/home/mbonse/Git/PynPoint/PynPoint2/io_modules/FitsReading.py:189: UserWarning: Unknown Header \"ESO PRO REC1 PARAM2 VALUE\" key found\n",
        "  warnings.warn('Unknown Header \"%s\" key found' %str(key))\n",
        "/home/mbonse/Git/PynPoint/PynPoint2/io_modules/FitsReading.py:189: UserWarning: Unknown Header \"ESO PRO REC1 PARAM3 NAME\" key found\n",
        "  warnings.warn('Unknown Header \"%s\" key found' %str(key))\n",
        "/home/mbonse/Git/PynPoint/PynPoint2/io_modules/FitsReading.py:189: UserWarning: Unknown Header \"ESO PRO REC1 PARAM3 VALUE\" key found\n",
        "  warnings.warn('Unknown Header \"%s\" key found' %str(key))\n",
        "/home/mbonse/Git/PynPoint/PynPoint2/io_modules/FitsReading.py:189: UserWarning: Unknown Header \"ESO PRO REC1 PARAM4 NAME\" key found\n",
        "  warnings.warn('Unknown Header \"%s\" key found' %str(key))\n",
        "/home/mbonse/Git/PynPoint/PynPoint2/io_modules/FitsReading.py:189: UserWarning: Unknown Header \"ESO PRO REC1 PARAM4 VALUE\" key found\n",
        "  warnings.warn('Unknown Header \"%s\" key found' %str(key))\n",
        "/home/mbonse/Git/PynPoint/PynPoint2/io_modules/FitsReading.py:189: UserWarning: Unknown Header \"ESO PRO REC1 PARAM5 NAME\" key found\n",
        "  warnings.warn('Unknown Header \"%s\" key found' %str(key))\n",
        "/home/mbonse/Git/PynPoint/PynPoint2/io_modules/FitsReading.py:189: UserWarning: Unknown Header \"ESO PRO REC1 PARAM5 VALUE\" key found\n",
        "  warnings.warn('Unknown Header \"%s\" key found' %str(key))\n",
        "/home/mbonse/Git/PynPoint/PynPoint2/io_modules/FitsReading.py:189: UserWarning: Unknown Header \"ESO PRO REC1 PARAM6 NAME\" key found\n",
        "  warnings.warn('Unknown Header \"%s\" key found' %str(key))\n",
        "/home/mbonse/Git/PynPoint/PynPoint2/io_modules/FitsReading.py:189: UserWarning: Unknown Header \"ESO PRO REC1 PARAM6 VALUE\" key found\n",
        "  warnings.warn('Unknown Header \"%s\" key found' %str(key))\n",
        "/home/mbonse/Git/PynPoint/PynPoint2/io_modules/FitsReading.py:189: UserWarning: Unknown Header \"ESO QC RON1\" key found\n",
        "  warnings.warn('Unknown Header \"%s\" key found' %str(key))\n",
        "/home/mbonse/Git/PynPoint/PynPoint2/io_modules/FitsReading.py:189: UserWarning: Unknown Header \"ESO QC RON2\" key found\n",
        "  warnings.warn('Unknown Header \"%s\" key found' %str(key))\n",
        "/home/mbonse/Git/PynPoint/PynPoint2/io_modules/FitsReading.py:189: UserWarning: Unknown Header \"ESO QC DARKMED\" key found\n",
        "  warnings.warn('Unknown Header \"%s\" key found' %str(key))\n",
        "/home/mbonse/Git/PynPoint/PynPoint2/io_modules/FitsReading.py:189: UserWarning: Unknown Header \"ESO QC NBCOLPIX\" key found\n",
        "  warnings.warn('Unknown Header \"%s\" key found' %str(key))\n",
        "/home/mbonse/Git/PynPoint/PynPoint2/io_modules/FitsReading.py:189: UserWarning: Unknown Header \"ESO QC NBHOTPIX\" key found\n",
        "  warnings.warn('Unknown Header \"%s\" key found' %str(key))\n",
        "/home/mbonse/Git/PynPoint/PynPoint2/io_modules/FitsReading.py:189: UserWarning: Unknown Header \"ESO QC NBDEVPIX\" key found\n",
        "  warnings.warn('Unknown Header \"%s\" key found' %str(key))\n",
        "/home/mbonse/Git/PynPoint/PynPoint2/io_modules/FitsReading.py:189: UserWarning: Unknown Header \"CDBFILE\" key found\n",
        "  warnings.warn('Unknown Header \"%s\" key found' %str(key))\n",
        "/home/mbonse/Git/PynPoint/PynPoint2/io_modules/FitsReading.py:189: UserWarning: Unknown Header \"COMMENT\" key found\n",
        "  warnings.warn('Unknown Header \"%s\" key found' %str(key))\n"
       ]
      },
      {
       "output_type": "stream",
       "stream": "stderr",
       "text": [
        "/home/mbonse/Git/PynPoint/PynPoint2/io_modules/FitsReading.py:189: UserWarning: Unknown Header \"COMMENT\" key found\n",
        "  warnings.warn('Unknown Header \"%s\" key found' %str(key))\n",
        "/home/mbonse/Git/PynPoint/PynPoint2/io_modules/FitsReading.py:189: UserWarning: Unknown Header \"DATAMD5\" key found\n",
        "  warnings.warn('Unknown Header \"%s\" key found' %str(key))\n",
        "/home/mbonse/Git/PynPoint/PynPoint2/io_modules/FitsReading.py:189: UserWarning: Unknown Header \"PIPEFILE\" key found\n",
        "  warnings.warn('Unknown Header \"%s\" key found' %str(key))\n",
        "/home/mbonse/Git/PynPoint/PynPoint2/io_modules/FitsReading.py:189: UserWarning: Unknown Header \"ESO PRO CATG\" key found\n",
        "  warnings.warn('Unknown Header \"%s\" key found' %str(key))\n"
       ]
      },
      {
       "output_type": "stream",
       "stream": "stderr",
       "text": [
        "/home/mbonse/Git/PynPoint/PynPoint2/io_modules/FitsReading.py:189: UserWarning: Unknown Header \"ESO PRO DID\" key found\n",
        "  warnings.warn('Unknown Header \"%s\" key found' %str(key))\n",
        "/home/mbonse/Git/PynPoint/PynPoint2/io_modules/FitsReading.py:189: UserWarning: Unknown Header \"ESO PRO TYPE\" key found\n",
        "  warnings.warn('Unknown Header \"%s\" key found' %str(key))\n",
        "/home/mbonse/Git/PynPoint/PynPoint2/io_modules/FitsReading.py:189: UserWarning: Unknown Header \"ESO PRO TECH\" key found\n",
        "  warnings.warn('Unknown Header \"%s\" key found' %str(key))\n",
        "/home/mbonse/Git/PynPoint/PynPoint2/io_modules/FitsReading.py:189: UserWarning: Unknown Header \"ESO PRO SCIENCE\" key found\n",
        "  warnings.warn('Unknown Header \"%s\" key found' %str(key))\n",
        "/home/mbonse/Git/PynPoint/PynPoint2/io_modules/FitsReading.py:189: UserWarning: Unknown Header \"ESO PRO REC1 ID\" key found\n",
        "  warnings.warn('Unknown Header \"%s\" key found' %str(key))\n",
        "/home/mbonse/Git/PynPoint/PynPoint2/io_modules/FitsReading.py:189: UserWarning: Unknown Header \"ESO PRO REC1 DRS ID\" key found\n",
        "  warnings.warn('Unknown Header \"%s\" key found' %str(key))\n",
        "/home/mbonse/Git/PynPoint/PynPoint2/io_modules/FitsReading.py:189: UserWarning: Unknown Header \"ESO PRO REC1 PIPE ID\" key found\n",
        "  warnings.warn('Unknown Header \"%s\" key found' %str(key))\n",
        "/home/mbonse/Git/PynPoint/PynPoint2/io_modules/FitsReading.py:189: UserWarning: Unknown Header \"ESO PRO REC1 RAW1 NAME\" key found\n",
        "  warnings.warn('Unknown Header \"%s\" key found' %str(key))\n",
        "/home/mbonse/Git/PynPoint/PynPoint2/io_modules/FitsReading.py:189: UserWarning: Unknown Header \"ESO PRO REC1 RAW1 CATG\" key found\n",
        "  warnings.warn('Unknown Header \"%s\" key found' %str(key))\n",
        "/home/mbonse/Git/PynPoint/PynPoint2/io_modules/FitsReading.py:189: UserWarning: Unknown Header \"ESO PRO REC1 RAW2 NAME\" key found\n",
        "  warnings.warn('Unknown Header \"%s\" key found' %str(key))\n",
        "/home/mbonse/Git/PynPoint/PynPoint2/io_modules/FitsReading.py:189: UserWarning: Unknown Header \"ESO PRO REC1 RAW2 CATG\" key found\n",
        "  warnings.warn('Unknown Header \"%s\" key found' %str(key))\n",
        "/home/mbonse/Git/PynPoint/PynPoint2/io_modules/FitsReading.py:189: UserWarning: Unknown Header \"ESO PRO REC1 RAW3 NAME\" key found\n",
        "  warnings.warn('Unknown Header \"%s\" key found' %str(key))\n",
        "/home/mbonse/Git/PynPoint/PynPoint2/io_modules/FitsReading.py:189: UserWarning: Unknown Header \"ESO PRO REC1 RAW3 CATG\" key found\n",
        "  warnings.warn('Unknown Header \"%s\" key found' %str(key))\n",
        "/home/mbonse/Git/PynPoint/PynPoint2/io_modules/FitsReading.py:189: UserWarning: Unknown Header \"ESO PRO REC1 RAW4 NAME\" key found\n",
        "  warnings.warn('Unknown Header \"%s\" key found' %str(key))\n",
        "/home/mbonse/Git/PynPoint/PynPoint2/io_modules/FitsReading.py:189: UserWarning: Unknown Header \"ESO PRO REC1 RAW4 CATG\" key found\n",
        "  warnings.warn('Unknown Header \"%s\" key found' %str(key))\n",
        "/home/mbonse/Git/PynPoint/PynPoint2/io_modules/FitsReading.py:189: UserWarning: Unknown Header \"ESO PRO REC1 RAW5 NAME\" key found\n",
        "  warnings.warn('Unknown Header \"%s\" key found' %str(key))\n",
        "/home/mbonse/Git/PynPoint/PynPoint2/io_modules/FitsReading.py:189: UserWarning: Unknown Header \"ESO PRO REC1 RAW5 CATG\" key found\n",
        "  warnings.warn('Unknown Header \"%s\" key found' %str(key))\n",
        "/home/mbonse/Git/PynPoint/PynPoint2/io_modules/FitsReading.py:189: UserWarning: Unknown Header \"ESO PRO REC1 RAW6 NAME\" key found\n",
        "  warnings.warn('Unknown Header \"%s\" key found' %str(key))\n",
        "/home/mbonse/Git/PynPoint/PynPoint2/io_modules/FitsReading.py:189: UserWarning: Unknown Header \"ESO PRO REC1 RAW6 CATG\" key found\n",
        "  warnings.warn('Unknown Header \"%s\" key found' %str(key))\n",
        "/home/mbonse/Git/PynPoint/PynPoint2/io_modules/FitsReading.py:189: UserWarning: Unknown Header \"ESO PRO REC1 RAW7 NAME\" key found\n",
        "  warnings.warn('Unknown Header \"%s\" key found' %str(key))\n",
        "/home/mbonse/Git/PynPoint/PynPoint2/io_modules/FitsReading.py:189: UserWarning: Unknown Header \"ESO PRO REC1 RAW7 CATG\" key found\n",
        "  warnings.warn('Unknown Header \"%s\" key found' %str(key))\n",
        "/home/mbonse/Git/PynPoint/PynPoint2/io_modules/FitsReading.py:189: UserWarning: Unknown Header \"ESO PRO REC1 RAW8 NAME\" key found\n",
        "  warnings.warn('Unknown Header \"%s\" key found' %str(key))\n",
        "/home/mbonse/Git/PynPoint/PynPoint2/io_modules/FitsReading.py:189: UserWarning: Unknown Header \"ESO PRO REC1 RAW8 CATG\" key found\n",
        "  warnings.warn('Unknown Header \"%s\" key found' %str(key))\n",
        "/home/mbonse/Git/PynPoint/PynPoint2/io_modules/FitsReading.py:189: UserWarning: Unknown Header \"ESO PRO REC1 RAW9 NAME\" key found\n",
        "  warnings.warn('Unknown Header \"%s\" key found' %str(key))\n",
        "/home/mbonse/Git/PynPoint/PynPoint2/io_modules/FitsReading.py:189: UserWarning: Unknown Header \"ESO PRO REC1 RAW9 CATG\" key found\n",
        "  warnings.warn('Unknown Header \"%s\" key found' %str(key))\n",
        "/home/mbonse/Git/PynPoint/PynPoint2/io_modules/FitsReading.py:189: UserWarning: Unknown Header \"ESO PRO REC1 RAW10 NAME\" key found\n",
        "  warnings.warn('Unknown Header \"%s\" key found' %str(key))\n",
        "/home/mbonse/Git/PynPoint/PynPoint2/io_modules/FitsReading.py:189: UserWarning: Unknown Header \"ESO PRO REC1 RAW10 CATG\" key found\n",
        "  warnings.warn('Unknown Header \"%s\" key found' %str(key))\n",
        "/home/mbonse/Git/PynPoint/PynPoint2/io_modules/FitsReading.py:189: UserWarning: Unknown Header \"ESO PRO REC1 RAW11 NAME\" key found\n",
        "  warnings.warn('Unknown Header \"%s\" key found' %str(key))\n",
        "/home/mbonse/Git/PynPoint/PynPoint2/io_modules/FitsReading.py:189: UserWarning: Unknown Header \"ESO PRO REC1 RAW11 CATG\" key found\n",
        "  warnings.warn('Unknown Header \"%s\" key found' %str(key))\n",
        "/home/mbonse/Git/PynPoint/PynPoint2/io_modules/FitsReading.py:189: UserWarning: Unknown Header \"ESO PRO REC1 RAW12 NAME\" key found\n",
        "  warnings.warn('Unknown Header \"%s\" key found' %str(key))\n",
        "/home/mbonse/Git/PynPoint/PynPoint2/io_modules/FitsReading.py:189: UserWarning: Unknown Header \"ESO PRO REC1 RAW12 CATG\" key found\n",
        "  warnings.warn('Unknown Header \"%s\" key found' %str(key))\n",
        "/home/mbonse/Git/PynPoint/PynPoint2/io_modules/FitsReading.py:189: UserWarning: Unknown Header \"ESO PRO REC1 RAW13 NAME\" key found\n",
        "  warnings.warn('Unknown Header \"%s\" key found' %str(key))\n",
        "/home/mbonse/Git/PynPoint/PynPoint2/io_modules/FitsReading.py:189: UserWarning: Unknown Header \"ESO PRO REC1 RAW13 CATG\" key found\n",
        "  warnings.warn('Unknown Header \"%s\" key found' %str(key))\n",
        "/home/mbonse/Git/PynPoint/PynPoint2/io_modules/FitsReading.py:189: UserWarning: Unknown Header \"ESO PRO REC1 RAW14 NAME\" key found\n",
        "  warnings.warn('Unknown Header \"%s\" key found' %str(key))\n",
        "/home/mbonse/Git/PynPoint/PynPoint2/io_modules/FitsReading.py:189: UserWarning: Unknown Header \"ESO PRO REC1 RAW14 CATG\" key found\n",
        "  warnings.warn('Unknown Header \"%s\" key found' %str(key))\n",
        "/home/mbonse/Git/PynPoint/PynPoint2/io_modules/FitsReading.py:189: UserWarning: Unknown Header \"ESO PRO REC1 RAW15 NAME\" key found\n",
        "  warnings.warn('Unknown Header \"%s\" key found' %str(key))\n",
        "/home/mbonse/Git/PynPoint/PynPoint2/io_modules/FitsReading.py:189: UserWarning: Unknown Header \"ESO PRO REC1 RAW15 CATG\" key found\n",
        "  warnings.warn('Unknown Header \"%s\" key found' %str(key))\n",
        "/home/mbonse/Git/PynPoint/PynPoint2/io_modules/FitsReading.py:189: UserWarning: Unknown Header \"ESO PRO DATANCOM\" key found\n",
        "  warnings.warn('Unknown Header \"%s\" key found' %str(key))\n",
        "/home/mbonse/Git/PynPoint/PynPoint2/io_modules/FitsReading.py:189: UserWarning: Unknown Header \"ESO PRO REC1 CAL1 NAME\" key found\n",
        "  warnings.warn('Unknown Header \"%s\" key found' %str(key))\n",
        "/home/mbonse/Git/PynPoint/PynPoint2/io_modules/FitsReading.py:189: UserWarning: Unknown Header \"ESO PRO REC1 CAL1 CATG\" key found\n",
        "  warnings.warn('Unknown Header \"%s\" key found' %str(key))\n",
        "/home/mbonse/Git/PynPoint/PynPoint2/io_modules/FitsReading.py:189: UserWarning: Unknown Header \"ESO PRO REC1 CAL1 DATAMD5\" key found\n",
        "  warnings.warn('Unknown Header \"%s\" key found' %str(key))\n",
        "/home/mbonse/Git/PynPoint/PynPoint2/io_modules/FitsReading.py:189: UserWarning: Unknown Header \"ESO PRO REC1 PARAM1 NAME\" key found\n",
        "  warnings.warn('Unknown Header \"%s\" key found' %str(key))\n",
        "/home/mbonse/Git/PynPoint/PynPoint2/io_modules/FitsReading.py:189: UserWarning: Unknown Header \"ESO PRO REC1 PARAM1 VALUE\" key found\n",
        "  warnings.warn('Unknown Header \"%s\" key found' %str(key))\n",
        "/home/mbonse/Git/PynPoint/PynPoint2/io_modules/FitsReading.py:189: UserWarning: Unknown Header \"ESO PRO REC1 PARAM2 NAME\" key found\n",
        "  warnings.warn('Unknown Header \"%s\" key found' %str(key))\n",
        "/home/mbonse/Git/PynPoint/PynPoint2/io_modules/FitsReading.py:189: UserWarning: Unknown Header \"ESO PRO REC1 PARAM2 VALUE\" key found\n",
        "  warnings.warn('Unknown Header \"%s\" key found' %str(key))\n",
        "/home/mbonse/Git/PynPoint/PynPoint2/io_modules/FitsReading.py:189: UserWarning: Unknown Header \"ESO PRO REC1 PARAM3 NAME\" key found\n",
        "  warnings.warn('Unknown Header \"%s\" key found' %str(key))\n",
        "/home/mbonse/Git/PynPoint/PynPoint2/io_modules/FitsReading.py:189: UserWarning: Unknown Header \"ESO PRO REC1 PARAM3 VALUE\" key found\n",
        "  warnings.warn('Unknown Header \"%s\" key found' %str(key))\n",
        "/home/mbonse/Git/PynPoint/PynPoint2/io_modules/FitsReading.py:189: UserWarning: Unknown Header \"ESO PRO REC1 PARAM4 NAME\" key found\n",
        "  warnings.warn('Unknown Header \"%s\" key found' %str(key))\n",
        "/home/mbonse/Git/PynPoint/PynPoint2/io_modules/FitsReading.py:189: UserWarning: Unknown Header \"ESO PRO REC1 PARAM4 VALUE\" key found\n",
        "  warnings.warn('Unknown Header \"%s\" key found' %str(key))\n",
        "/home/mbonse/Git/PynPoint/PynPoint2/io_modules/FitsReading.py:189: UserWarning: Unknown Header \"ESO PRO REC1 PARAM5 NAME\" key found\n",
        "  warnings.warn('Unknown Header \"%s\" key found' %str(key))\n",
        "/home/mbonse/Git/PynPoint/PynPoint2/io_modules/FitsReading.py:189: UserWarning: Unknown Header \"ESO PRO REC1 PARAM5 VALUE\" key found\n",
        "  warnings.warn('Unknown Header \"%s\" key found' %str(key))\n",
        "/home/mbonse/Git/PynPoint/PynPoint2/io_modules/FitsReading.py:189: UserWarning: Unknown Header \"ESO PRO REC1 PARAM6 NAME\" key found\n",
        "  warnings.warn('Unknown Header \"%s\" key found' %str(key))\n",
        "/home/mbonse/Git/PynPoint/PynPoint2/io_modules/FitsReading.py:189: UserWarning: Unknown Header \"ESO PRO REC1 PARAM6 VALUE\" key found\n",
        "  warnings.warn('Unknown Header \"%s\" key found' %str(key))\n",
        "/home/mbonse/Git/PynPoint/PynPoint2/io_modules/FitsReading.py:189: UserWarning: Unknown Header \"ESO AOS VIS DET WFS MODE\" key found\n",
        "  warnings.warn('Unknown Header \"%s\" key found' %str(key))\n"
       ]
      },
      {
       "output_type": "stream",
       "stream": "stdout",
       "text": [
        "\n",
        "validating module...\n",
        "Start running module...\n",
        "Reading M.NACO.2012-08-27T16_46_25.792.fits\n",
        "finished running module..."
       ]
      },
      {
       "output_type": "stream",
       "stream": "stdout",
       "text": [
        "\n"
       ]
      },
      {
       "output_type": "stream",
       "stream": "stderr",
       "text": [
        "/home/mbonse/Git/PynPoint/PynPoint2/io_modules/FitsReading.py:189: UserWarning: Unknown Header \"ESO AOS VIS INS ADC1 POSNAM\" key found\n",
        "  warnings.warn('Unknown Header \"%s\" key found' %str(key))\n",
        "/home/mbonse/Git/PynPoint/PynPoint2/io_modules/FitsReading.py:189: UserWarning: Unknown Header \"ESO AOS VIS INS ADC2 POSNAM\" key found\n",
        "  warnings.warn('Unknown Header \"%s\" key found' %str(key))\n",
        "/home/mbonse/Git/PynPoint/PynPoint2/io_modules/FitsReading.py:189: UserWarning: Unknown Header \"ESO AOS VIS INS DIAP POSNAM\" key found\n",
        "  warnings.warn('Unknown Header \"%s\" key found' %str(key))\n",
        "/home/mbonse/Git/PynPoint/PynPoint2/io_modules/FitsReading.py:189: UserWarning: Unknown Header \"ESO AOS VIS INS LENS POSNAM\" key found\n",
        "  warnings.warn('Unknown Header \"%s\" key found' %str(key))\n",
        "/home/mbonse/Git/PynPoint/PynPoint2/io_modules/FitsReading.py:189: UserWarning: Unknown Header \"CDBFILE\" key found\n",
        "  warnings.warn('Unknown Header \"%s\" key found' %str(key))\n"
       ]
      }
     ],
     "prompt_number": 6
    },
    {
     "cell_type": "heading",
     "level": 2,
     "metadata": {},
     "source": [
      "Cut Data to the correct size"
     ]
    },
    {
     "cell_type": "code",
     "collapsed": false,
     "input": [
      "cutting = CutTopTwoLinesModule(name_in=\"NACO_cutting\",\n",
      "                               image_in_tag=\"00_raw_data\",\n",
      "                               image_out_tag=\"01_raw_data_cut\",\n",
      "                               num_images_in_memory=1000)\n",
      "pipeline.add_module(cutting)"
     ],
     "language": "python",
     "metadata": {},
     "outputs": [],
     "prompt_number": 7
    },
    {
     "cell_type": "code",
     "collapsed": false,
     "input": [
      "pipeline.run_module(\"NACO_cutting\")"
     ],
     "language": "python",
     "metadata": {},
     "outputs": [
      {
       "output_type": "stream",
       "stream": "stdout",
       "text": [
        "validating module...\n",
        "Start running module...\n",
        "processed image 1 of 46031 images\n",
        "processed image 1001 of 46031 images"
       ]
      },
      {
       "output_type": "stream",
       "stream": "stdout",
       "text": [
        "\n",
        "processed image 2001 of 46031 images"
       ]
      },
      {
       "output_type": "stream",
       "stream": "stdout",
       "text": [
        "\n",
        "processed image 3001 of 46031 images"
       ]
      },
      {
       "output_type": "stream",
       "stream": "stdout",
       "text": [
        "\n",
        "processed image 4001 of 46031 images"
       ]
      },
      {
       "output_type": "stream",
       "stream": "stdout",
       "text": [
        "\n",
        "processed image 5001 of 46031 images"
       ]
      },
      {
       "output_type": "stream",
       "stream": "stdout",
       "text": [
        "\n",
        "processed image 6001 of 46031 images"
       ]
      },
      {
       "output_type": "stream",
       "stream": "stdout",
       "text": [
        "\n",
        "processed image 7001 of 46031 images"
       ]
      },
      {
       "output_type": "stream",
       "stream": "stdout",
       "text": [
        "\n",
        "processed image 8001 of 46031 images"
       ]
      },
      {
       "output_type": "stream",
       "stream": "stdout",
       "text": [
        "\n",
        "processed image 9001 of 46031 images"
       ]
      },
      {
       "output_type": "stream",
       "stream": "stdout",
       "text": [
        "\n",
        "processed image 10001 of 46031 images"
       ]
      },
      {
       "output_type": "stream",
       "stream": "stdout",
       "text": [
        "\n",
        "processed image 11001 of 46031 images"
       ]
      },
      {
       "output_type": "stream",
       "stream": "stdout",
       "text": [
        "\n",
        "processed image 12001 of 46031 images"
       ]
      },
      {
       "output_type": "stream",
       "stream": "stdout",
       "text": [
        "\n",
        "processed image 13001 of 46031 images"
       ]
      },
      {
       "output_type": "stream",
       "stream": "stdout",
       "text": [
        "\n",
        "processed image 14001 of 46031 images"
       ]
      },
      {
       "output_type": "stream",
       "stream": "stdout",
       "text": [
        "\n",
        "processed image 15001 of 46031 images"
       ]
      },
      {
       "output_type": "stream",
       "stream": "stdout",
       "text": [
        "\n",
        "processed image 16001 of 46031 images"
       ]
      },
      {
       "output_type": "stream",
       "stream": "stdout",
       "text": [
        "\n",
        "processed image 17001 of 46031 images"
       ]
      },
      {
       "output_type": "stream",
       "stream": "stdout",
       "text": [
        "\n",
        "processed image 18001 of 46031 images"
       ]
      },
      {
       "output_type": "stream",
       "stream": "stdout",
       "text": [
        "\n",
        "processed image 19001 of 46031 images"
       ]
      },
      {
       "output_type": "stream",
       "stream": "stdout",
       "text": [
        "\n",
        "processed image 20001 of 46031 images"
       ]
      },
      {
       "output_type": "stream",
       "stream": "stdout",
       "text": [
        "\n",
        "processed image 21001 of 46031 images"
       ]
      },
      {
       "output_type": "stream",
       "stream": "stdout",
       "text": [
        "\n",
        "processed image 22001 of 46031 images"
       ]
      },
      {
       "output_type": "stream",
       "stream": "stdout",
       "text": [
        "\n",
        "processed image 23001 of 46031 images"
       ]
      },
      {
       "output_type": "stream",
       "stream": "stdout",
       "text": [
        "\n",
        "processed image 24001 of 46031 images"
       ]
      },
      {
       "output_type": "stream",
       "stream": "stdout",
       "text": [
        "\n",
        "processed image 25001 of 46031 images"
       ]
      },
      {
       "output_type": "stream",
       "stream": "stdout",
       "text": [
        "\n",
        "processed image 26001 of 46031 images"
       ]
      },
      {
       "output_type": "stream",
       "stream": "stdout",
       "text": [
        "\n",
        "processed image 27001 of 46031 images"
       ]
      },
      {
       "output_type": "stream",
       "stream": "stdout",
       "text": [
        "\n",
        "processed image 28001 of 46031 images"
       ]
      },
      {
       "output_type": "stream",
       "stream": "stdout",
       "text": [
        "\n",
        "processed image 29001 of 46031 images"
       ]
      },
      {
       "output_type": "stream",
       "stream": "stdout",
       "text": [
        "\n",
        "processed image 30001 of 46031 images"
       ]
      },
      {
       "output_type": "stream",
       "stream": "stdout",
       "text": [
        "\n",
        "processed image 31001 of 46031 images"
       ]
      },
      {
       "output_type": "stream",
       "stream": "stdout",
       "text": [
        "\n",
        "processed image 32001 of 46031 images"
       ]
      },
      {
       "output_type": "stream",
       "stream": "stdout",
       "text": [
        "\n",
        "processed image 33001 of 46031 images"
       ]
      },
      {
       "output_type": "stream",
       "stream": "stdout",
       "text": [
        "\n",
        "processed image 34001 of 46031 images"
       ]
      },
      {
       "output_type": "stream",
       "stream": "stdout",
       "text": [
        "\n",
        "processed image 35001 of 46031 images"
       ]
      },
      {
       "output_type": "stream",
       "stream": "stdout",
       "text": [
        "\n",
        "processed image 36001 of 46031 images"
       ]
      },
      {
       "output_type": "stream",
       "stream": "stdout",
       "text": [
        "\n",
        "processed image 37001 of 46031 images"
       ]
      },
      {
       "output_type": "stream",
       "stream": "stdout",
       "text": [
        "\n",
        "processed image 38001 of 46031 images"
       ]
      },
      {
       "output_type": "stream",
       "stream": "stdout",
       "text": [
        "\n",
        "processed image 39001 of 46031 images"
       ]
      },
      {
       "output_type": "stream",
       "stream": "stdout",
       "text": [
        "\n",
        "processed image 40001 of 46031 images"
       ]
      },
      {
       "output_type": "stream",
       "stream": "stdout",
       "text": [
        "\n",
        "processed image 41001 of 46031 images"
       ]
      },
      {
       "output_type": "stream",
       "stream": "stdout",
       "text": [
        "\n",
        "processed image 42001 of 46031 images"
       ]
      },
      {
       "output_type": "stream",
       "stream": "stdout",
       "text": [
        "\n",
        "processed image 43001 of 46031 images"
       ]
      },
      {
       "output_type": "stream",
       "stream": "stdout",
       "text": [
        "\n",
        "processed image 44001 of 46031 images"
       ]
      },
      {
       "output_type": "stream",
       "stream": "stdout",
       "text": [
        "\n",
        "processed image 45001 of 46031 images"
       ]
      },
      {
       "output_type": "stream",
       "stream": "stdout",
       "text": [
        "\n",
        "processed image 46001 of 46031 images"
       ]
      },
      {
       "output_type": "stream",
       "stream": "stdout",
       "text": [
        "\n",
        "finished running module..."
       ]
      },
      {
       "output_type": "stream",
       "stream": "stdout",
       "text": [
        "\n"
       ]
      }
     ],
     "prompt_number": 8
    },
    {
     "cell_type": "code",
     "collapsed": false,
     "input": [
      "from PynPoint2.processing_modules import CutAroundCenterModule\n",
      "cut_flat = CutAroundCenterModule((512,512),\n",
      "                                 name_in=\"cut_flat\",\n",
      "                                 image_in_tag=\"00_flat_arr\",\n",
      "                                 image_out_tag=\"01_flat_arr_cut\",\n",
      "                                 number_of_images_in_memory=None)\n",
      "pipeline.add_module(cut_flat)\n",
      "cut_dark = CutTopTwoLinesModule(name_in=\"cut_dark\",\n",
      "                               image_in_tag=\"00_dark_arr\",\n",
      "                               image_out_tag=\"01_dark_arr_cut\",\n",
      "                               num_images_in_memory=1000)\n",
      "pipeline.add_module(cut_dark)"
     ],
     "language": "python",
     "metadata": {},
     "outputs": [],
     "prompt_number": 9
    },
    {
     "cell_type": "code",
     "collapsed": false,
     "input": [
      "pipeline.run_module(\"cut_dark\")\n",
      "pipeline.run_module(\"cut_flat\")"
     ],
     "language": "python",
     "metadata": {},
     "outputs": [
      {
       "output_type": "stream",
       "stream": "stdout",
       "text": [
        "validating module...\n",
        "Start running module...\n",
        "processed image 1 of 1 images\n",
        "finished running module..."
       ]
      },
      {
       "output_type": "stream",
       "stream": "stdout",
       "text": [
        "\n",
        "validating module...\n",
        "Start running module...\n",
        "processed image 1 of 1 images\n",
        "finished running module..."
       ]
      },
      {
       "output_type": "stream",
       "stream": "stdout",
       "text": [
        "\n"
       ]
      }
     ],
     "prompt_number": 10
    },
    {
     "cell_type": "heading",
     "level": 2,
     "metadata": {},
     "source": [
      "02 Dark and flat subtraction"
     ]
    },
    {
     "cell_type": "code",
     "collapsed": false,
     "input": [
      "dark_sub = DarkSubtractionModule(name_in=\"dark_subtraction\",\n",
      "                                 image_in_tag=\"01_raw_data_cut\",\n",
      "                                 dark_in_tag=\"01_dark_arr_cut\",\n",
      "                                 image_out_tag=\"02_dark_sub\",\n",
      "                                 number_of_images_in_memory=1000)\n",
      "\n",
      "flat_sub = FlatSubtractionModule(name_in=\"flat_subtraction\",\n",
      "                                 image_in_tag=\"02_dark_sub\",\n",
      "                                 flat_in_tag=\"01_flat_arr_cut\",\n",
      "                                 image_out_tag=\"02_dark_flat_subt\",\n",
      "                                 number_of_images_in_memory=1000)\n",
      "\n",
      "pipeline.add_module(dark_sub)\n",
      "pipeline.add_module(flat_sub)"
     ],
     "language": "python",
     "metadata": {},
     "outputs": [],
     "prompt_number": 11
    },
    {
     "cell_type": "code",
     "collapsed": false,
     "input": [
      "pipeline.run_module(\"dark_subtraction\")"
     ],
     "language": "python",
     "metadata": {},
     "outputs": [
      {
       "output_type": "stream",
       "stream": "stdout",
       "text": [
        "validating module...\n",
        "Start running module...\n",
        "processed image 1 of 46031 images\n",
        "processed image 1001 of 46031 images"
       ]
      },
      {
       "output_type": "stream",
       "stream": "stdout",
       "text": [
        "\n",
        "processed image 2001 of 46031 images"
       ]
      },
      {
       "output_type": "stream",
       "stream": "stdout",
       "text": [
        "\n",
        "processed image 3001 of 46031 images"
       ]
      },
      {
       "output_type": "stream",
       "stream": "stdout",
       "text": [
        "\n",
        "processed image 4001 of 46031 images"
       ]
      },
      {
       "output_type": "stream",
       "stream": "stdout",
       "text": [
        "\n",
        "processed image 5001 of 46031 images"
       ]
      },
      {
       "output_type": "stream",
       "stream": "stdout",
       "text": [
        "\n",
        "processed image 6001 of 46031 images"
       ]
      },
      {
       "output_type": "stream",
       "stream": "stdout",
       "text": [
        "\n",
        "processed image 7001 of 46031 images"
       ]
      },
      {
       "output_type": "stream",
       "stream": "stdout",
       "text": [
        "\n",
        "processed image 8001 of 46031 images"
       ]
      },
      {
       "output_type": "stream",
       "stream": "stdout",
       "text": [
        "\n",
        "processed image 9001 of 46031 images"
       ]
      },
      {
       "output_type": "stream",
       "stream": "stdout",
       "text": [
        "\n",
        "processed image 10001 of 46031 images"
       ]
      },
      {
       "output_type": "stream",
       "stream": "stdout",
       "text": [
        "\n",
        "processed image 11001 of 46031 images"
       ]
      },
      {
       "output_type": "stream",
       "stream": "stdout",
       "text": [
        "\n",
        "processed image 12001 of 46031 images"
       ]
      },
      {
       "output_type": "stream",
       "stream": "stdout",
       "text": [
        "\n",
        "processed image 13001 of 46031 images"
       ]
      },
      {
       "output_type": "stream",
       "stream": "stdout",
       "text": [
        "\n",
        "processed image 14001 of 46031 images"
       ]
      },
      {
       "output_type": "stream",
       "stream": "stdout",
       "text": [
        "\n",
        "processed image 15001 of 46031 images"
       ]
      },
      {
       "output_type": "stream",
       "stream": "stdout",
       "text": [
        "\n",
        "processed image 16001 of 46031 images"
       ]
      },
      {
       "output_type": "stream",
       "stream": "stdout",
       "text": [
        "\n",
        "processed image 17001 of 46031 images"
       ]
      },
      {
       "output_type": "stream",
       "stream": "stdout",
       "text": [
        "\n",
        "processed image 18001 of 46031 images"
       ]
      },
      {
       "output_type": "stream",
       "stream": "stdout",
       "text": [
        "\n",
        "processed image 19001 of 46031 images"
       ]
      },
      {
       "output_type": "stream",
       "stream": "stdout",
       "text": [
        "\n",
        "processed image 20001 of 46031 images"
       ]
      },
      {
       "output_type": "stream",
       "stream": "stdout",
       "text": [
        "\n",
        "processed image 21001 of 46031 images"
       ]
      },
      {
       "output_type": "stream",
       "stream": "stdout",
       "text": [
        "\n",
        "processed image 22001 of 46031 images"
       ]
      },
      {
       "output_type": "stream",
       "stream": "stdout",
       "text": [
        "\n",
        "processed image 23001 of 46031 images"
       ]
      },
      {
       "output_type": "stream",
       "stream": "stdout",
       "text": [
        "\n",
        "processed image 24001 of 46031 images"
       ]
      },
      {
       "output_type": "stream",
       "stream": "stdout",
       "text": [
        "\n",
        "processed image 25001 of 46031 images"
       ]
      },
      {
       "output_type": "stream",
       "stream": "stdout",
       "text": [
        "\n",
        "processed image 26001 of 46031 images"
       ]
      },
      {
       "output_type": "stream",
       "stream": "stdout",
       "text": [
        "\n",
        "processed image 27001 of 46031 images"
       ]
      },
      {
       "output_type": "stream",
       "stream": "stdout",
       "text": [
        "\n",
        "processed image 28001 of 46031 images"
       ]
      },
      {
       "output_type": "stream",
       "stream": "stdout",
       "text": [
        "\n",
        "processed image 29001 of 46031 images"
       ]
      },
      {
       "output_type": "stream",
       "stream": "stdout",
       "text": [
        "\n",
        "processed image 30001 of 46031 images"
       ]
      },
      {
       "output_type": "stream",
       "stream": "stdout",
       "text": [
        "\n",
        "processed image 31001 of 46031 images"
       ]
      },
      {
       "output_type": "stream",
       "stream": "stdout",
       "text": [
        "\n",
        "processed image 32001 of 46031 images"
       ]
      },
      {
       "output_type": "stream",
       "stream": "stdout",
       "text": [
        "\n",
        "processed image 33001 of 46031 images"
       ]
      },
      {
       "output_type": "stream",
       "stream": "stdout",
       "text": [
        "\n",
        "processed image 34001 of 46031 images"
       ]
      },
      {
       "output_type": "stream",
       "stream": "stdout",
       "text": [
        "\n",
        "processed image 35001 of 46031 images"
       ]
      },
      {
       "output_type": "stream",
       "stream": "stdout",
       "text": [
        "\n",
        "processed image 36001 of 46031 images"
       ]
      },
      {
       "output_type": "stream",
       "stream": "stdout",
       "text": [
        "\n",
        "processed image 37001 of 46031 images"
       ]
      },
      {
       "output_type": "stream",
       "stream": "stdout",
       "text": [
        "\n",
        "processed image 38001 of 46031 images"
       ]
      },
      {
       "output_type": "stream",
       "stream": "stdout",
       "text": [
        "\n",
        "processed image 39001 of 46031 images"
       ]
      },
      {
       "output_type": "stream",
       "stream": "stdout",
       "text": [
        "\n",
        "processed image 40001 of 46031 images"
       ]
      },
      {
       "output_type": "stream",
       "stream": "stdout",
       "text": [
        "\n",
        "processed image 41001 of 46031 images"
       ]
      },
      {
       "output_type": "stream",
       "stream": "stdout",
       "text": [
        "\n",
        "processed image 42001 of 46031 images"
       ]
      },
      {
       "output_type": "stream",
       "stream": "stdout",
       "text": [
        "\n",
        "processed image 43001 of 46031 images"
       ]
      },
      {
       "output_type": "stream",
       "stream": "stdout",
       "text": [
        "\n",
        "processed image 44001 of 46031 images"
       ]
      },
      {
       "output_type": "stream",
       "stream": "stdout",
       "text": [
        "\n",
        "processed image 45001 of 46031 images"
       ]
      },
      {
       "output_type": "stream",
       "stream": "stdout",
       "text": [
        "\n",
        "processed image 46001 of 46031 images"
       ]
      },
      {
       "output_type": "stream",
       "stream": "stdout",
       "text": [
        "\n",
        "finished running module..."
       ]
      },
      {
       "output_type": "stream",
       "stream": "stdout",
       "text": [
        "\n"
       ]
      }
     ],
     "prompt_number": 12
    },
    {
     "cell_type": "heading",
     "level": 2,
     "metadata": {},
     "source": [
      "02 Write out dark result"
     ]
    },
    {
     "cell_type": "code",
     "collapsed": false,
     "input": [
      "writing = WriteAsSingleFitsFile(\"after_dark_subtraction1.fits\",\n",
      "                                name_in=\"after_dark_writing1\",\n",
      "                                data_tag=\"02_dark_sub\",\n",
      "                                data_range=(2000,2100))\n",
      "pipeline.add_module(writing)\n",
      "writing = WriteAsSingleFitsFile(\"after_dark_subtraction2.fits\",\n",
      "                                name_in=\"after_dark_writing2\",\n",
      "                                data_tag=\"02_dark_sub\",\n",
      "                                data_range=(45800,46000))\n",
      "pipeline.add_module(writing)"
     ],
     "language": "python",
     "metadata": {},
     "outputs": [],
     "prompt_number": 13
    },
    {
     "cell_type": "code",
     "collapsed": false,
     "input": [
      "pipeline.run_module(\"after_dark_writing1\")\n",
      "pipeline.run_module(\"after_dark_writing2\")"
     ],
     "language": "python",
     "metadata": {},
     "outputs": [
      {
       "output_type": "stream",
       "stream": "stdout",
       "text": [
        "validating module...\n",
        "Start running module...\n",
        "finished running module..."
       ]
      },
      {
       "output_type": "stream",
       "stream": "stdout",
       "text": [
        "\n",
        "validating module...\n",
        "Start running module...\n",
        "finished running module..."
       ]
      },
      {
       "output_type": "stream",
       "stream": "stdout",
       "text": [
        "\n"
       ]
      }
     ],
     "prompt_number": 14
    },
    {
     "cell_type": "code",
     "collapsed": false,
     "input": [
      "pipeline.run_module(\"flat_subtraction\")"
     ],
     "language": "python",
     "metadata": {},
     "outputs": [
      {
       "output_type": "stream",
       "stream": "stdout",
       "text": [
        "validating module...\n",
        "Start running module...\n",
        "processed image 1 of 46031 images"
       ]
      },
      {
       "output_type": "stream",
       "stream": "stdout",
       "text": [
        "\n",
        "processed image 1001 of 46031 images"
       ]
      },
      {
       "output_type": "stream",
       "stream": "stdout",
       "text": [
        "\n",
        "processed image 2001 of 46031 images"
       ]
      },
      {
       "output_type": "stream",
       "stream": "stdout",
       "text": [
        "\n",
        "processed image 3001 of 46031 images"
       ]
      },
      {
       "output_type": "stream",
       "stream": "stdout",
       "text": [
        "\n",
        "processed image 4001 of 46031 images"
       ]
      },
      {
       "output_type": "stream",
       "stream": "stdout",
       "text": [
        "\n",
        "processed image 5001 of 46031 images"
       ]
      },
      {
       "output_type": "stream",
       "stream": "stdout",
       "text": [
        "\n",
        "processed image 6001 of 46031 images"
       ]
      },
      {
       "output_type": "stream",
       "stream": "stdout",
       "text": [
        "\n",
        "processed image 7001 of 46031 images"
       ]
      },
      {
       "output_type": "stream",
       "stream": "stdout",
       "text": [
        "\n",
        "processed image 8001 of 46031 images"
       ]
      },
      {
       "output_type": "stream",
       "stream": "stdout",
       "text": [
        "\n",
        "processed image 9001 of 46031 images"
       ]
      },
      {
       "output_type": "stream",
       "stream": "stdout",
       "text": [
        "\n",
        "processed image 10001 of 46031 images"
       ]
      },
      {
       "output_type": "stream",
       "stream": "stdout",
       "text": [
        "\n",
        "processed image 11001 of 46031 images"
       ]
      },
      {
       "output_type": "stream",
       "stream": "stdout",
       "text": [
        "\n",
        "processed image 12001 of 46031 images"
       ]
      },
      {
       "output_type": "stream",
       "stream": "stdout",
       "text": [
        "\n",
        "processed image 13001 of 46031 images"
       ]
      },
      {
       "output_type": "stream",
       "stream": "stdout",
       "text": [
        "\n",
        "processed image 14001 of 46031 images"
       ]
      },
      {
       "output_type": "stream",
       "stream": "stdout",
       "text": [
        "\n",
        "processed image 15001 of 46031 images"
       ]
      },
      {
       "output_type": "stream",
       "stream": "stdout",
       "text": [
        "\n",
        "processed image 16001 of 46031 images"
       ]
      },
      {
       "output_type": "stream",
       "stream": "stdout",
       "text": [
        "\n",
        "processed image 17001 of 46031 images"
       ]
      },
      {
       "output_type": "stream",
       "stream": "stdout",
       "text": [
        "\n",
        "processed image 18001 of 46031 images"
       ]
      },
      {
       "output_type": "stream",
       "stream": "stdout",
       "text": [
        "\n",
        "processed image 19001 of 46031 images"
       ]
      },
      {
       "output_type": "stream",
       "stream": "stdout",
       "text": [
        "\n",
        "processed image 20001 of 46031 images"
       ]
      },
      {
       "output_type": "stream",
       "stream": "stdout",
       "text": [
        "\n",
        "processed image 21001 of 46031 images"
       ]
      },
      {
       "output_type": "stream",
       "stream": "stdout",
       "text": [
        "\n",
        "processed image 22001 of 46031 images"
       ]
      },
      {
       "output_type": "stream",
       "stream": "stdout",
       "text": [
        "\n",
        "processed image 23001 of 46031 images"
       ]
      },
      {
       "output_type": "stream",
       "stream": "stdout",
       "text": [
        "\n",
        "processed image 24001 of 46031 images"
       ]
      },
      {
       "output_type": "stream",
       "stream": "stdout",
       "text": [
        "\n",
        "processed image 25001 of 46031 images"
       ]
      },
      {
       "output_type": "stream",
       "stream": "stdout",
       "text": [
        "\n",
        "processed image 26001 of 46031 images"
       ]
      },
      {
       "output_type": "stream",
       "stream": "stdout",
       "text": [
        "\n",
        "processed image 27001 of 46031 images"
       ]
      },
      {
       "output_type": "stream",
       "stream": "stdout",
       "text": [
        "\n",
        "processed image 28001 of 46031 images"
       ]
      },
      {
       "output_type": "stream",
       "stream": "stdout",
       "text": [
        "\n",
        "processed image 29001 of 46031 images"
       ]
      },
      {
       "output_type": "stream",
       "stream": "stdout",
       "text": [
        "\n",
        "processed image 30001 of 46031 images"
       ]
      },
      {
       "output_type": "stream",
       "stream": "stdout",
       "text": [
        "\n",
        "processed image 31001 of 46031 images"
       ]
      },
      {
       "output_type": "stream",
       "stream": "stdout",
       "text": [
        "\n",
        "processed image 32001 of 46031 images"
       ]
      },
      {
       "output_type": "stream",
       "stream": "stdout",
       "text": [
        "\n",
        "processed image 33001 of 46031 images"
       ]
      },
      {
       "output_type": "stream",
       "stream": "stdout",
       "text": [
        "\n",
        "processed image 34001 of 46031 images"
       ]
      },
      {
       "output_type": "stream",
       "stream": "stdout",
       "text": [
        "\n",
        "processed image 35001 of 46031 images"
       ]
      },
      {
       "output_type": "stream",
       "stream": "stdout",
       "text": [
        "\n",
        "processed image 36001 of 46031 images"
       ]
      },
      {
       "output_type": "stream",
       "stream": "stdout",
       "text": [
        "\n",
        "processed image 37001 of 46031 images"
       ]
      },
      {
       "output_type": "stream",
       "stream": "stdout",
       "text": [
        "\n",
        "processed image 38001 of 46031 images"
       ]
      },
      {
       "output_type": "stream",
       "stream": "stdout",
       "text": [
        "\n",
        "processed image 39001 of 46031 images"
       ]
      },
      {
       "output_type": "stream",
       "stream": "stdout",
       "text": [
        "\n",
        "processed image 40001 of 46031 images"
       ]
      },
      {
       "output_type": "stream",
       "stream": "stdout",
       "text": [
        "\n",
        "processed image 41001 of 46031 images"
       ]
      },
      {
       "output_type": "stream",
       "stream": "stdout",
       "text": [
        "\n",
        "processed image 42001 of 46031 images"
       ]
      },
      {
       "output_type": "stream",
       "stream": "stdout",
       "text": [
        "\n",
        "processed image 43001 of 46031 images"
       ]
      },
      {
       "output_type": "stream",
       "stream": "stdout",
       "text": [
        "\n",
        "processed image 44001 of 46031 images"
       ]
      },
      {
       "output_type": "stream",
       "stream": "stdout",
       "text": [
        "\n",
        "processed image 45001 of 46031 images"
       ]
      },
      {
       "output_type": "stream",
       "stream": "stdout",
       "text": [
        "\n",
        "processed image 46001 of 46031 images"
       ]
      },
      {
       "output_type": "stream",
       "stream": "stdout",
       "text": [
        "\n",
        "finished running module..."
       ]
      },
      {
       "output_type": "stream",
       "stream": "stdout",
       "text": [
        "\n"
       ]
      }
     ],
     "prompt_number": 15
    },
    {
     "cell_type": "heading",
     "level": 2,
     "metadata": {},
     "source": [
      "02 Write flat results"
     ]
    },
    {
     "cell_type": "code",
     "collapsed": false,
     "input": [
      "writing = WriteAsSingleFitsFile(\"after_flat_subtraction1.fits\",\n",
      "                                name_in=\"after_flat_writing1\",\n",
      "                                data_tag=\"02_dark_flat_subt\",\n",
      "                                data_range=(2000,2100))\n",
      "pipeline.add_module(writing)\n",
      "writing = WriteAsSingleFitsFile(\"after_flat_subtraction2.fits\",\n",
      "                                name_in=\"after_flat_writing2\",\n",
      "                                data_tag=\"02_dark_flat_subt\",\n",
      "                                data_range=(45800,46000))\n",
      "pipeline.add_module(writing)"
     ],
     "language": "python",
     "metadata": {},
     "outputs": [],
     "prompt_number": 16
    },
    {
     "cell_type": "code",
     "collapsed": false,
     "input": [
      "pipeline.run_module(\"after_flat_writing1\")\n",
      "pipeline.run_module(\"after_flat_writing2\")"
     ],
     "language": "python",
     "metadata": {},
     "outputs": [
      {
       "output_type": "stream",
       "stream": "stdout",
       "text": [
        "validating module...\n",
        "Start running module...\n",
        "finished running module..."
       ]
      },
      {
       "output_type": "stream",
       "stream": "stdout",
       "text": [
        "\n",
        "validating module...\n",
        "Start running module...\n",
        "finished running module..."
       ]
      },
      {
       "output_type": "stream",
       "stream": "stdout",
       "text": [
        "\n"
       ]
      }
     ],
     "prompt_number": 17
    },
    {
     "cell_type": "heading",
     "level": 2,
     "metadata": {},
     "source": [
      "03 Bad pixel detection"
     ]
    },
    {
     "cell_type": "code",
     "collapsed": false,
     "input": [
      "from PynPoint2.processing_modules import BadPixelMapCreationModule, BadPixelInterpolationModule\n",
      "bp_map = BadPixelMapCreationModule(name_in=\"03_Bad_Pixel_Map_creation\",\n",
      "                                   dark_in_tag=\"01_dark_arr_cut\",\n",
      "                                   flat_in_tag=\"01_flat_arr_cut\",\n",
      "                                   bp_map_out_tag=\"01_bp_map\",\n",
      "                                   dark_threshold=0.00001,\n",
      "                                   flat_threshold=0.7)\n",
      "pipeline.add_module(bp_map)\n",
      "pipeline.run_module(\"03_Bad_Pixel_Map_creation\")"
     ],
     "language": "python",
     "metadata": {},
     "outputs": [
      {
       "output_type": "stream",
       "stream": "stdout",
       "text": [
        "validating module...\n",
        "Start running module...\n",
        "finished running module..."
       ]
      },
      {
       "output_type": "stream",
       "stream": "stdout",
       "text": [
        "\n"
       ]
      },
      {
       "output_type": "stream",
       "stream": "stderr",
       "text": [
        "/home/mbonse/Git/PynPoint/PynPoint2/core/Pypeline.py:135: UserWarning: Processing module names need to be unique. Overwriting the old Module\n",
        "  warnings.warn('Processing module names need to be unique. Overwriting the old Module')\n"
       ]
      }
     ],
     "prompt_number": 19
    },
    {
     "cell_type": "heading",
     "level": 2,
     "metadata": {},
     "source": [
      "03 Bad pixel interpolation"
     ]
    },
    {
     "cell_type": "code",
     "collapsed": false,
     "input": [
      "bp_inter = BadPixelInterpolationModule(name_in=\"03_Bad_Pixel_Interpolation\",\n",
      "                                       image_in_tag=\"02_dark_flat_subt\",\n",
      "                                       bad_pixel_map_tag=\"01_bp_map\",\n",
      "                                       image_out_tag=\"03_im_arr_bp_clean\",\n",
      "                                       iterations=10,\n",
      "                                       number_of_images_in_memory=100)\n",
      "pipeline.add_module(bp_inter)"
     ],
     "language": "python",
     "metadata": {},
     "outputs": [],
     "prompt_number": 20
    },
    {
     "cell_type": "code",
     "collapsed": false,
     "input": [
      "pipeline.run_module(\"03_Bad_Pixel_Interpolation\")"
     ],
     "language": "python",
     "metadata": {},
     "outputs": [
      {
       "output_type": "stream",
       "stream": "stdout",
       "text": [
        "validating module...\n",
        "Start running module...\n",
        "processed image 1 of 46031 images\n",
        "processed image 101 of 46031 images"
       ]
      },
      {
       "output_type": "stream",
       "stream": "stdout",
       "text": [
        "\n",
        "processed image 201 of 46031 images"
       ]
      },
      {
       "output_type": "stream",
       "stream": "stdout",
       "text": [
        "\n",
        "processed image 301 of 46031 images"
       ]
      },
      {
       "output_type": "stream",
       "stream": "stdout",
       "text": [
        "\n",
        "processed image 401 of 46031 images"
       ]
      },
      {
       "output_type": "stream",
       "stream": "stdout",
       "text": [
        "\n",
        "processed image 501 of 46031 images"
       ]
      },
      {
       "output_type": "stream",
       "stream": "stdout",
       "text": [
        "\n",
        "processed image 601 of 46031 images"
       ]
      },
      {
       "output_type": "stream",
       "stream": "stdout",
       "text": [
        "\n",
        "processed image 701 of 46031 images"
       ]
      },
      {
       "output_type": "stream",
       "stream": "stdout",
       "text": [
        "\n",
        "processed image 801 of 46031 images"
       ]
      },
      {
       "output_type": "stream",
       "stream": "stdout",
       "text": [
        "\n",
        "processed image 901 of 46031 images"
       ]
      },
      {
       "output_type": "stream",
       "stream": "stdout",
       "text": [
        "\n",
        "processed image 1001 of 46031 images"
       ]
      },
      {
       "output_type": "stream",
       "stream": "stdout",
       "text": [
        "\n",
        "processed image 1101 of 46031 images"
       ]
      },
      {
       "output_type": "stream",
       "stream": "stdout",
       "text": [
        "\n",
        "processed image 1201 of 46031 images"
       ]
      },
      {
       "output_type": "stream",
       "stream": "stdout",
       "text": [
        "\n",
        "processed image 1301 of 46031 images"
       ]
      },
      {
       "output_type": "stream",
       "stream": "stdout",
       "text": [
        "\n",
        "processed image 1401 of 46031 images"
       ]
      },
      {
       "output_type": "stream",
       "stream": "stdout",
       "text": [
        "\n",
        "processed image 1501 of 46031 images"
       ]
      },
      {
       "output_type": "stream",
       "stream": "stdout",
       "text": [
        "\n",
        "processed image 1601 of 46031 images"
       ]
      },
      {
       "output_type": "stream",
       "stream": "stdout",
       "text": [
        "\n",
        "processed image 1701 of 46031 images"
       ]
      },
      {
       "output_type": "stream",
       "stream": "stdout",
       "text": [
        "\n",
        "processed image 1801 of 46031 images"
       ]
      },
      {
       "output_type": "stream",
       "stream": "stdout",
       "text": [
        "\n",
        "processed image 1901 of 46031 images"
       ]
      },
      {
       "output_type": "stream",
       "stream": "stdout",
       "text": [
        "\n",
        "processed image 2001 of 46031 images"
       ]
      },
      {
       "output_type": "stream",
       "stream": "stdout",
       "text": [
        "\n",
        "processed image 2101 of 46031 images"
       ]
      },
      {
       "output_type": "stream",
       "stream": "stdout",
       "text": [
        "\n",
        "processed image 2201 of 46031 images"
       ]
      },
      {
       "output_type": "stream",
       "stream": "stdout",
       "text": [
        "\n",
        "processed image 2301 of 46031 images"
       ]
      },
      {
       "output_type": "stream",
       "stream": "stdout",
       "text": [
        "\n",
        "processed image 2401 of 46031 images"
       ]
      },
      {
       "output_type": "stream",
       "stream": "stdout",
       "text": [
        "\n",
        "processed image 2501 of 46031 images"
       ]
      },
      {
       "output_type": "stream",
       "stream": "stdout",
       "text": [
        "\n",
        "processed image 2601 of 46031 images"
       ]
      },
      {
       "output_type": "stream",
       "stream": "stdout",
       "text": [
        "\n",
        "processed image 2701 of 46031 images"
       ]
      },
      {
       "output_type": "stream",
       "stream": "stdout",
       "text": [
        "\n",
        "processed image 2801 of 46031 images"
       ]
      }
     ]
    },
    {
     "cell_type": "code",
     "collapsed": false,
     "input": [
      "from PynPoint2.processing_modules import BadPixelCleaningSigmaFilterModule\n",
      "\n",
      "bp_sigma = BadPixelCleaningSigmaFilterModule(name_in=\"sigma_filtering\",\n",
      "                                             image_in_tag=\"03_im_arr_bp_clean\",\n",
      "                                             image_out_tag=\"03_im_arr_bp_clean_sigma\",\n",
      "                                             box=9,\n",
      "                                             sigma=3,\n",
      "                                             iterate=1,\n",
      "                                             number_of_images_in_memory=100)\n",
      "pipeline.add_module(bp_sigma)\n",
      "pipeline.run_module(\"sigma_filtering\")"
     ],
     "language": "python",
     "metadata": {},
     "outputs": []
    },
    {
     "cell_type": "heading",
     "level": 2,
     "metadata": {},
     "source": [
      "03 Write out"
     ]
    },
    {
     "cell_type": "code",
     "collapsed": false,
     "input": [
      "writing1 = WriteAsSingleFitsFile(\"after_bad_pixel2.fits\",\n",
      "                                name_in=\"after_bad_pixel_w1\",\n",
      "                                data_tag=\"03_im_arr_bp_clean_sigma\",\n",
      "                                data_range=(45800,46000))\n",
      "pipeline.add_module(writing1)\n",
      "writing2 = WriteAsSingleFitsFile(\"after_bad_pixel1.fits\",\n",
      "                                name_in=\"after_bad_pixel_w2\",\n",
      "                                data_tag=\"03_im_arr_bp_clean_sigma\",\n",
      "                                data_range=(2000,2100))\n",
      "pipeline.add_module(writing2)\n",
      "pipeline.run_module(\"after_bad_pixel_w1\")\n",
      "pipeline.run_module(\"after_bad_pixel_w2\")"
     ],
     "language": "python",
     "metadata": {},
     "outputs": []
    },
    {
     "cell_type": "heading",
     "level": 2,
     "metadata": {},
     "source": [
      "04 Background Subtraction"
     ]
    },
    {
     "cell_type": "code",
     "collapsed": false,
     "input": [
      "from PynPoint2.processing_modules import MeanBackgroundSubtractionModule\n",
      "bg_subtraction = MeanBackgroundSubtractionModule(star_pos_shift=402,\n",
      "                                                 name_in=\"mean_background_subtraction\",\n",
      "                                                 image_in_tag=\"03_im_arr_bp_clean_sigma\",\n",
      "                                                 image_out_tag=\"04_mean_background_sub\")\n",
      "pipeline.add_module(bg_subtraction)\n",
      "pipeline.run_module(\"mean_background_subtraction\")"
     ],
     "language": "python",
     "metadata": {},
     "outputs": []
    },
    {
     "cell_type": "heading",
     "level": 2,
     "metadata": {},
     "source": [
      "05 Star Extraction"
     ]
    },
    {
     "cell_type": "code",
     "collapsed": false,
     "input": [
      "from PynPoint2.processing_modules import StarExtractionModule\n",
      "star_cut = StarExtractionModule(name_in=\"star_cut\",\n",
      "                                image_in_tag=\"04_mean_background_sub\",\n",
      "                                image_out_tag=\"05_star_arr_cut\",\n",
      "                                pos_out_tag=\"05_star_positions\",\n",
      "                                psf_size=3.0,\n",
      "                                num_images_in_memory=1000,\n",
      "                                fwhm_star=10)\n",
      "pipeline.add_module(star_cut)\n",
      "pipeline.run_module(\"star_cut\")"
     ],
     "language": "python",
     "metadata": {},
     "outputs": []
    },
    {
     "cell_type": "heading",
     "level": 2,
     "metadata": {},
     "source": [
      "05 Write out"
     ]
    },
    {
     "cell_type": "code",
     "collapsed": false,
     "input": [
      "writing1 = WriteAsSingleFitsFile(\"after_cut1.fits\",\n",
      "                                name_in=\"after_cut1\",\n",
      "                                data_tag=\"03_im_arr_bp_clean_sigma\",\n",
      "                                data_range=(45800,46000))\n",
      "pipeline.add_module(writing1)\n",
      "writing2 = WriteAsSingleFitsFile(\"after_cut2.fits\",\n",
      "                                name_in=\"after_cut2\",\n",
      "                                data_tag=\"05_star_arr_cut\",\n",
      "                                data_range=(2000,2100))\n",
      "pipeline.add_module(writing2)\n",
      "pipeline.run_module(\"after_cut1\")\n",
      "pipeline.run_module(\"after_cut2\")"
     ],
     "language": "python",
     "metadata": {},
     "outputs": []
    },
    {
     "cell_type": "heading",
     "level": 2,
     "metadata": {},
     "source": [
      "06 Bad Pixel Interpolation Refinement"
     ]
    },
    {
     "cell_type": "code",
     "collapsed": false,
     "input": [
      "from PynPoint2.processing_modules import BadPixelInterpolationRefinementModule\n",
      "\n",
      "refine = BadPixelInterpolationRefinementModule(name_in=\"Bad_Pixel_Interpolation_Refinement\",\n",
      "                                               image_in_tag=\"05_star_arr_cut\",\n",
      "                                               bad_pixel_map_tag=\"01_bp_map\",\n",
      "                                               star_pos_tag=\"05_star_positions\",\n",
      "                                               image_out_tag=\"06_star_arr_clean\",\n",
      "                                               iterations=1000,\n",
      "                                               sigma=3.,\n",
      "                                               number_of_images_in_memory=100)\n",
      "pipeline.add_module(refine)"
     ],
     "language": "python",
     "metadata": {},
     "outputs": []
    },
    {
     "cell_type": "code",
     "collapsed": false,
     "input": [
      "pipeline.run_module(\"Bad_Pixel_Interpolation_Refinement\")"
     ],
     "language": "python",
     "metadata": {},
     "outputs": []
    },
    {
     "cell_type": "heading",
     "level": 2,
     "metadata": {},
     "source": [
      "06 Write out"
     ]
    },
    {
     "cell_type": "code",
     "collapsed": false,
     "input": [
      "writing1 = WriteAsSingleFitsFile(\"star_arr_clean1.fits\",\n",
      "                                name_in=\"star_arr_clean1\",\n",
      "                                data_tag=\"06_star_arr_clean\",\n",
      "                                data_range=(45800,46000))\n",
      "pipeline.add_module(writing1)\n",
      "writing2 = WriteAsSingleFitsFile(\"star_arr_clean2.fits\",\n",
      "                                name_in=\"star_arr_clean1\",\n",
      "                                data_tag=\"06_star_arr_clean\",\n",
      "                                data_range=(2000,2100))\n",
      "pipeline.add_module(writing2)\n",
      "pipeline.run_module(\"star_arr_clean1\")\n",
      "pipeline.run_module(\"star_arr_clean2\")"
     ],
     "language": "python",
     "metadata": {},
     "outputs": []
    },
    {
     "cell_type": "heading",
     "level": 2,
     "metadata": {},
     "source": [
      "07 Alignment"
     ]
    },
    {
     "cell_type": "code",
     "collapsed": false,
     "input": [
      "alignment = StarAlignmentModule(name_in=\"star_alignment\",\n",
      "                                image_in_tag=\"06_star_arr_clean\",\n",
      "                                image_out_tag=\"07_star_arr_aligned\",\n",
      "                                interpolation=\"spline\",\n",
      "                                accuracy=100,\n",
      "                                resize=1.0,\n",
      "                                num_references = 50,\n",
      "                                num_images_in_memory=100)\n",
      "pipeline.add_module(alignment)\n",
      "pipeline.run_module(\"star_alignment\")"
     ],
     "language": "python",
     "metadata": {},
     "outputs": []
    },
    {
     "cell_type": "heading",
     "level": 2,
     "metadata": {},
     "source": [
      "\n",
      "07 Angle Calculation"
     ]
    },
    {
     "cell_type": "code",
     "collapsed": false,
     "input": [
      "angle_calc = AngleCalculationModule(name_in=\"angle_calculation\",\n",
      "                                    data_tag=\"07_star_arr_aligned\")\n",
      "pipeline.add_module(angle_calc)\n",
      "pipeline.run_module(\"angle_calculation\")"
     ],
     "language": "python",
     "metadata": {},
     "outputs": []
    },
    {
     "cell_type": "heading",
     "level": 2,
     "metadata": {},
     "source": [
      "08 Frame Normalization"
     ]
    },
    {
     "cell_type": "code",
     "collapsed": false,
     "input": [
      "normalization = TimeNormalizationModule(name_in=\"frame_normalization\",\n",
      "                                        image_in_tag=\"07_star_arr_aligned\",\n",
      "                                        image_out_tag=\"08_star_arr_normalized\")\n",
      "pipeline.add_module(normalization)\n",
      "pipeline.run_module(\"frame_normalization\")"
     ],
     "language": "python",
     "metadata": {},
     "outputs": []
    },
    {
     "cell_type": "heading",
     "level": 2,
     "metadata": {},
     "source": [
      "Final Write out"
     ]
    },
    {
     "cell_type": "code",
     "collapsed": false,
     "input": [
      "writing1 = WriteAsSingleFitsFile(\"after_pre_processing1.fits\",\n",
      "                                name_in=\"after_pre_processing1\",\n",
      "                                data_tag=\"08_star_arr_normalized\",\n",
      "                                data_range=(45800,46000))\n",
      "pipeline.add_module(writing1)\n",
      "writing2 = WriteAsSingleFitsFile(\"after_pre_processing2.fits\",\n",
      "                                name_in=\"after_pre_processing2\",\n",
      "                                data_tag=\"08_star_arr_normalized\",\n",
      "                                data_range=(2000,2100))\n",
      "pipeline.add_module(writing2)\n",
      "pipeline.run_module(\"after_pre_processing1\")\n",
      "pipeline.run_module(\"after_pre_processing2\")"
     ],
     "language": "python",
     "metadata": {},
     "outputs": []
    }
   ],
   "metadata": {}
  }
 ]
}