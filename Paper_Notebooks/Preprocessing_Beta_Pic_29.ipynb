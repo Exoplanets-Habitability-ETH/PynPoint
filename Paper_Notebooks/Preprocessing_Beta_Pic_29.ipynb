{
 "metadata": {
  "name": "",
  "signature": "sha256:a1d16f9c19d230d70b212a3fced4b31e67a4d11b68c291516de73e275d9ef0e4"
 },
 "nbformat": 3,
 "nbformat_minor": 0,
 "worksheets": [
  {
   "cells": [
    {
     "cell_type": "heading",
     "level": 2,
     "metadata": {
      "slideshow": {
       "slide_type": "-"
      }
     },
     "source": [
      "Imports we need to run PynPoint 0.3.0"
     ]
    },
    {
     "cell_type": "code",
     "collapsed": false,
     "input": [
      "import os\n",
      "import sys\n",
      "module_path = os.path.abspath(os.path.join('../'))\n",
      "if module_path not in sys.path:\n",
      "    sys.path.append(module_path)"
     ],
     "language": "python",
     "metadata": {},
     "outputs": [],
     "prompt_number": 1
    },
    {
     "cell_type": "heading",
     "level": 2,
     "metadata": {},
     "source": [
      "PynPoint Imports"
     ]
    },
    {
     "cell_type": "code",
     "collapsed": false,
     "input": [
      "from PynPoint2 import Pypeline\n",
      "from PynPoint2.io_modules import ReadFitsCubesDirectory\n",
      "\n",
      "from PynPoint2.processing_modules import BadPixelCleaningSigmaFilterModule, \\\n",
      "DarkSubtractionModule, FlatSubtractionModule, CutTopTwoLinesModule, \\\n",
      "AngleCalculationModule, MeanBackgroundSubtractionModule, \\\n",
      "StarExtractionModule, StarAlignmentModule, TimeNormalizationModule\n",
      "\n",
      "from PynPoint2.io_modules import WriteAsSingleFitsFile"
     ],
     "language": "python",
     "metadata": {},
     "outputs": [],
     "prompt_number": 3
    },
    {
     "cell_type": "heading",
     "level": 2,
     "metadata": {},
     "source": [
      "Pypeline creation"
     ]
    },
    {
     "cell_type": "code",
     "collapsed": false,
     "input": [
      "pipeline = Pypeline(\"/scratch/user/mbonse/after_new_preprocessing/Beta_Pic_2009_12_29/Workplace\",\n",
      "                    \"/scratch/user/mbonse/after_new_preprocessing/Beta_Pic_2009_12_29/Data/00_raw_Data\",\n",
      "                    \"/scratch/user/mbonse/after_new_preprocessing/Beta_Pic_2009_12_29/Results\")"
     ],
     "language": "python",
     "metadata": {},
     "outputs": [],
     "prompt_number": 4
    },
    {
     "cell_type": "heading",
     "level": 2,
     "metadata": {},
     "source": [
      "00 read the data"
     ]
    },
    {
     "cell_type": "code",
     "collapsed": false,
     "input": [
      "reading_data = ReadFitsCubesDirectory(name_in=\"Fits_reading\",\n",
      "                                      image_tag=\"00_raw_data\")\n",
      "pipeline.add_module(reading_data)\n",
      "pipeline.run_module(\"Fits_reading\")"
     ],
     "language": "python",
     "metadata": {},
     "outputs": [],
     "prompt_number": 6
    },
    {
     "cell_type": "code",
     "collapsed": false,
     "input": [
      "reading_dark = ReadFitsCubesDirectory(name_in=\"Dark_reading\",\n",
      "                                      input_dir=\"/scratch/user/mbonse/after_new_preprocessing/Beta_Pic_2009_12_29/Data/00_Dark_and_Flat/Dark/\",\n",
      "                                      image_tag=\"00_dark_arr\")\n",
      "pipeline.add_module(reading_dark)\n",
      "\n",
      "reading_flat = ReadFitsCubesDirectory(name_in=\"Flat_reading\",\n",
      "                                      input_dir=\"/scratch/user/mbonse/after_new_preprocessing/Beta_Pic_2009_12_29/Data/00_Dark_and_Flat/Flat/\",\n",
      "                                      image_tag=\"00_flat_arr\")\n",
      "pipeline.add_module(reading_flat)\n",
      "pipeline.run_module(\"Dark_reading\")\n",
      "pipeline.run_module(\"Flat_reading\")"
     ],
     "language": "python",
     "metadata": {},
     "outputs": [
      {
       "output_type": "stream",
       "stream": "stdout",
       "text": [
        "validating module...\n",
        "Start running module...\n",
        "Reading dark.fits\n",
        "finished running module..."
       ]
      },
      {
       "output_type": "stream",
       "stream": "stdout",
       "text": [
        "\n",
        "validating module...\n",
        "Start running module...\n",
        "Reading flat.fits\n",
        "finished running module..."
       ]
      },
      {
       "output_type": "stream",
       "stream": "stdout",
       "text": [
        "\n"
       ]
      }
     ],
     "prompt_number": 7
    },
    {
     "cell_type": "heading",
     "level": 2,
     "metadata": {},
     "source": [
      "Cut Data to the correct size"
     ]
    },
    {
     "cell_type": "code",
     "collapsed": false,
     "input": [
      "cutting = CutTopTwoLinesModule(name_in=\"NACO_cutting\",\n",
      "                               image_in_tag=\"00_raw_data\",\n",
      "                               image_out_tag=\"01_raw_data_cut\",\n",
      "                               num_images_in_memory=1000)\n",
      "pipeline.add_module(cutting)"
     ],
     "language": "python",
     "metadata": {},
     "outputs": [],
     "prompt_number": 9
    },
    {
     "cell_type": "code",
     "collapsed": false,
     "input": [
      "pipeline.run_module(\"NACO_cutting\")"
     ],
     "language": "python",
     "metadata": {},
     "outputs": [
      {
       "output_type": "stream",
       "stream": "stdout",
       "text": [
        "validating module...\n",
        "Start running module...\n",
        "processed image 1 of 29799 images\n",
        "processed image 1001 of 29799 images"
       ]
      },
      {
       "output_type": "stream",
       "stream": "stdout",
       "text": [
        "\n",
        "processed image 2001 of 29799 images"
       ]
      },
      {
       "output_type": "stream",
       "stream": "stdout",
       "text": [
        "\n",
        "processed image 3001 of 29799 images"
       ]
      },
      {
       "output_type": "stream",
       "stream": "stdout",
       "text": [
        "\n",
        "processed image 4001 of 29799 images"
       ]
      },
      {
       "output_type": "stream",
       "stream": "stdout",
       "text": [
        "\n",
        "processed image 5001 of 29799 images"
       ]
      },
      {
       "output_type": "stream",
       "stream": "stdout",
       "text": [
        "\n",
        "processed image 6001 of 29799 images"
       ]
      },
      {
       "output_type": "stream",
       "stream": "stdout",
       "text": [
        "\n",
        "processed image 7001 of 29799 images"
       ]
      },
      {
       "output_type": "stream",
       "stream": "stdout",
       "text": [
        "\n",
        "processed image 8001 of 29799 images"
       ]
      },
      {
       "output_type": "stream",
       "stream": "stdout",
       "text": [
        "\n",
        "processed image 9001 of 29799 images"
       ]
      },
      {
       "output_type": "stream",
       "stream": "stdout",
       "text": [
        "\n",
        "processed image 10001 of 29799 images"
       ]
      },
      {
       "output_type": "stream",
       "stream": "stdout",
       "text": [
        "\n",
        "processed image 11001 of 29799 images"
       ]
      },
      {
       "output_type": "stream",
       "stream": "stdout",
       "text": [
        "\n",
        "processed image 12001 of 29799 images"
       ]
      },
      {
       "output_type": "stream",
       "stream": "stdout",
       "text": [
        "\n",
        "processed image 13001 of 29799 images"
       ]
      },
      {
       "output_type": "stream",
       "stream": "stdout",
       "text": [
        "\n",
        "processed image 14001 of 29799 images"
       ]
      },
      {
       "output_type": "stream",
       "stream": "stdout",
       "text": [
        "\n",
        "processed image 15001 of 29799 images"
       ]
      },
      {
       "output_type": "stream",
       "stream": "stdout",
       "text": [
        "\n",
        "processed image 16001 of 29799 images"
       ]
      },
      {
       "output_type": "stream",
       "stream": "stdout",
       "text": [
        "\n",
        "processed image 17001 of 29799 images"
       ]
      },
      {
       "output_type": "stream",
       "stream": "stdout",
       "text": [
        "\n",
        "processed image 18001 of 29799 images"
       ]
      },
      {
       "output_type": "stream",
       "stream": "stdout",
       "text": [
        "\n",
        "processed image 19001 of 29799 images"
       ]
      },
      {
       "output_type": "stream",
       "stream": "stdout",
       "text": [
        "\n",
        "processed image 20001 of 29799 images"
       ]
      },
      {
       "output_type": "stream",
       "stream": "stdout",
       "text": [
        "\n",
        "processed image 21001 of 29799 images"
       ]
      },
      {
       "output_type": "stream",
       "stream": "stdout",
       "text": [
        "\n",
        "processed image 22001 of 29799 images"
       ]
      },
      {
       "output_type": "stream",
       "stream": "stdout",
       "text": [
        "\n",
        "processed image 23001 of 29799 images"
       ]
      },
      {
       "output_type": "stream",
       "stream": "stdout",
       "text": [
        "\n",
        "processed image 24001 of 29799 images"
       ]
      },
      {
       "output_type": "stream",
       "stream": "stdout",
       "text": [
        "\n",
        "processed image 25001 of 29799 images"
       ]
      },
      {
       "output_type": "stream",
       "stream": "stdout",
       "text": [
        "\n",
        "processed image 26001 of 29799 images"
       ]
      },
      {
       "output_type": "stream",
       "stream": "stdout",
       "text": [
        "\n",
        "processed image 27001 of 29799 images"
       ]
      },
      {
       "output_type": "stream",
       "stream": "stdout",
       "text": [
        "\n",
        "processed image 28001 of 29799 images"
       ]
      },
      {
       "output_type": "stream",
       "stream": "stdout",
       "text": [
        "\n",
        "processed image 29001 of 29799 images"
       ]
      },
      {
       "output_type": "stream",
       "stream": "stdout",
       "text": [
        "\n",
        "finished running module..."
       ]
      },
      {
       "output_type": "stream",
       "stream": "stdout",
       "text": [
        "\n"
       ]
      }
     ],
     "prompt_number": 10
    },
    {
     "cell_type": "code",
     "collapsed": false,
     "input": [
      "from PynPoint2.processing_modules import CutAroundCenterModule\n",
      "cut_flat = CutAroundCenterModule((512,512),\n",
      "                                 name_in=\"cut_flat\",\n",
      "                                 image_in_tag=\"00_flat_arr\",\n",
      "                                 image_out_tag=\"01_flat_arr_cut\",\n",
      "                                 number_of_images_in_memory=None)\n",
      "cut_dark = CutAroundCenterModule((512,512),\n",
      "                                 name_in=\"cut_dark\",\n",
      "                                 image_in_tag=\"00_dark_arr\",\n",
      "                                 image_out_tag=\"01_dark_arr_cut\",\n",
      "                                 number_of_images_in_memory=None)\n",
      "pipeline.add_module(cut_flat)\n",
      "pipeline.add_module(cut_dark)"
     ],
     "language": "python",
     "metadata": {},
     "outputs": [
      {
       "output_type": "stream",
       "stream": "stderr",
       "text": [
        "/home/mbonse/Git/PynPoint/PynPoint2/core/Pypeline.py:135: UserWarning: Processing module names need to be unique. Overwriting the old Module\n",
        "  warnings.warn('Processing module names need to be unique. Overwriting the old Module')\n",
        "/home/mbonse/Git/PynPoint/PynPoint2/core/Pypeline.py:135: UserWarning: Processing module names need to be unique. Overwriting the old Module\n",
        "  warnings.warn('Processing module names need to be unique. Overwriting the old Module')\n"
       ]
      }
     ],
     "prompt_number": 32
    },
    {
     "cell_type": "code",
     "collapsed": false,
     "input": [
      "pipeline.run_module(\"cut_flat\")\n",
      "pipeline.run_module(\"cut_dark\")"
     ],
     "language": "python",
     "metadata": {},
     "outputs": [
      {
       "output_type": "stream",
       "stream": "stdout",
       "text": [
        "validating module...\n",
        "Start running module...\n",
        "processed image 1 of 1 images\n",
        "finished running module..."
       ]
      },
      {
       "output_type": "stream",
       "stream": "stdout",
       "text": [
        "\n",
        "validating module...\n",
        "Start running module...\n",
        "processed image 1 of 1 images\n",
        "finished running module..."
       ]
      },
      {
       "output_type": "stream",
       "stream": "stdout",
       "text": [
        "\n"
       ]
      }
     ],
     "prompt_number": 33
    },
    {
     "cell_type": "heading",
     "level": 2,
     "metadata": {},
     "source": [
      "02 Dark and flat subtraction"
     ]
    },
    {
     "cell_type": "code",
     "collapsed": false,
     "input": [
      "dark_sub = DarkSubtractionModule(name_in=\"dark_subtraction\",\n",
      "                                 image_in_tag=\"01_raw_data_cut\",\n",
      "                                 dark_in_tag=\"01_dark_arr_cut\",\n",
      "                                 image_out_tag=\"02_dark_sub\",\n",
      "                                 number_of_images_in_memory=1000)\n",
      "\n",
      "flat_sub = FlatSubtractionModule(name_in=\"flat_subtraction\",\n",
      "                                 image_in_tag=\"02_dark_sub\",\n",
      "                                 flat_in_tag=\"01_flat_arr_cut\",\n",
      "                                 image_out_tag=\"02_dark_flat_subt\",\n",
      "                                 number_of_images_in_memory=1000)\n",
      "\n",
      "pipeline.add_module(dark_sub)\n",
      "pipeline.add_module(flat_sub)"
     ],
     "language": "python",
     "metadata": {},
     "outputs": [
      {
       "output_type": "stream",
       "stream": "stderr",
       "text": [
        "/home/mbonse/Git/PynPoint/PynPoint2/core/Pypeline.py:135: UserWarning: Processing module names need to be unique. Overwriting the old Module\n",
        "  warnings.warn('Processing module names need to be unique. Overwriting the old Module')\n",
        "/home/mbonse/Git/PynPoint/PynPoint2/core/Pypeline.py:135: UserWarning: Processing module names need to be unique. Overwriting the old Module\n",
        "  warnings.warn('Processing module names need to be unique. Overwriting the old Module')\n"
       ]
      }
     ],
     "prompt_number": 34
    },
    {
     "cell_type": "code",
     "collapsed": false,
     "input": [
      "pipeline.run_module(\"dark_subtraction\")"
     ],
     "language": "python",
     "metadata": {},
     "outputs": [
      {
       "output_type": "stream",
       "stream": "stdout",
       "text": [
        "validating module...\n",
        "Start running module...\n",
        "processed image 1 of 29799 images\n",
        "processed image 1001 of 29799 images"
       ]
      },
      {
       "output_type": "stream",
       "stream": "stdout",
       "text": [
        "\n",
        "processed image 2001 of 29799 images"
       ]
      },
      {
       "output_type": "stream",
       "stream": "stdout",
       "text": [
        "\n",
        "processed image 3001 of 29799 images"
       ]
      },
      {
       "output_type": "stream",
       "stream": "stdout",
       "text": [
        "\n",
        "processed image 4001 of 29799 images"
       ]
      },
      {
       "output_type": "stream",
       "stream": "stdout",
       "text": [
        "\n",
        "processed image 5001 of 29799 images"
       ]
      },
      {
       "output_type": "stream",
       "stream": "stdout",
       "text": [
        "\n",
        "processed image 6001 of 29799 images"
       ]
      },
      {
       "output_type": "stream",
       "stream": "stdout",
       "text": [
        "\n",
        "processed image 7001 of 29799 images"
       ]
      },
      {
       "output_type": "stream",
       "stream": "stdout",
       "text": [
        "\n",
        "processed image 8001 of 29799 images"
       ]
      },
      {
       "output_type": "stream",
       "stream": "stdout",
       "text": [
        "\n",
        "processed image 9001 of 29799 images"
       ]
      },
      {
       "output_type": "stream",
       "stream": "stdout",
       "text": [
        "\n",
        "processed image 10001 of 29799 images"
       ]
      },
      {
       "output_type": "stream",
       "stream": "stdout",
       "text": [
        "\n",
        "processed image 11001 of 29799 images"
       ]
      },
      {
       "output_type": "stream",
       "stream": "stdout",
       "text": [
        "\n",
        "processed image 12001 of 29799 images"
       ]
      },
      {
       "output_type": "stream",
       "stream": "stdout",
       "text": [
        "\n",
        "processed image 13001 of 29799 images"
       ]
      },
      {
       "output_type": "stream",
       "stream": "stdout",
       "text": [
        "\n",
        "processed image 14001 of 29799 images"
       ]
      },
      {
       "output_type": "stream",
       "stream": "stdout",
       "text": [
        "\n",
        "processed image 15001 of 29799 images"
       ]
      },
      {
       "output_type": "stream",
       "stream": "stdout",
       "text": [
        "\n",
        "processed image 16001 of 29799 images"
       ]
      },
      {
       "output_type": "stream",
       "stream": "stdout",
       "text": [
        "\n",
        "processed image 17001 of 29799 images"
       ]
      },
      {
       "output_type": "stream",
       "stream": "stdout",
       "text": [
        "\n",
        "processed image 18001 of 29799 images"
       ]
      },
      {
       "output_type": "stream",
       "stream": "stdout",
       "text": [
        "\n",
        "processed image 19001 of 29799 images"
       ]
      },
      {
       "output_type": "stream",
       "stream": "stdout",
       "text": [
        "\n",
        "processed image 20001 of 29799 images"
       ]
      },
      {
       "output_type": "stream",
       "stream": "stdout",
       "text": [
        "\n",
        "processed image 21001 of 29799 images"
       ]
      },
      {
       "output_type": "stream",
       "stream": "stdout",
       "text": [
        "\n",
        "processed image 22001 of 29799 images"
       ]
      },
      {
       "output_type": "stream",
       "stream": "stdout",
       "text": [
        "\n",
        "processed image 23001 of 29799 images"
       ]
      },
      {
       "output_type": "stream",
       "stream": "stdout",
       "text": [
        "\n",
        "processed image 24001 of 29799 images"
       ]
      },
      {
       "output_type": "stream",
       "stream": "stdout",
       "text": [
        "\n",
        "processed image 25001 of 29799 images"
       ]
      },
      {
       "output_type": "stream",
       "stream": "stdout",
       "text": [
        "\n",
        "processed image 26001 of 29799 images"
       ]
      },
      {
       "output_type": "stream",
       "stream": "stdout",
       "text": [
        "\n",
        "processed image 27001 of 29799 images"
       ]
      },
      {
       "output_type": "stream",
       "stream": "stdout",
       "text": [
        "\n",
        "processed image 28001 of 29799 images"
       ]
      },
      {
       "output_type": "stream",
       "stream": "stdout",
       "text": [
        "\n",
        "processed image 29001 of 29799 images"
       ]
      },
      {
       "output_type": "stream",
       "stream": "stdout",
       "text": [
        "\n",
        "finished running module..."
       ]
      },
      {
       "output_type": "stream",
       "stream": "stdout",
       "text": [
        "\n"
       ]
      }
     ],
     "prompt_number": 35
    },
    {
     "cell_type": "heading",
     "level": 2,
     "metadata": {},
     "source": [
      "02 Write out dark result"
     ]
    },
    {
     "cell_type": "code",
     "collapsed": false,
     "input": [
      "writing = WriteAsSingleFitsFile(\"after_dark_subtraction1.fits\",\n",
      "                                name_in=\"after_dark_writing1\",\n",
      "                                data_tag=\"02_dark_sub\",\n",
      "                                data_range=(2000,2100))\n",
      "pipeline.add_module(writing)\n",
      "writing = WriteAsSingleFitsFile(\"after_dark_subtraction2.fits\",\n",
      "                                name_in=\"after_dark_writing2\",\n",
      "                                data_tag=\"02_dark_sub\",\n",
      "                                data_range=(29000,29100))\n",
      "pipeline.add_module(writing)"
     ],
     "language": "python",
     "metadata": {},
     "outputs": [],
     "prompt_number": 36
    },
    {
     "cell_type": "code",
     "collapsed": false,
     "input": [
      "pipeline.run_module(\"after_dark_writing1\")\n",
      "pipeline.run_module(\"after_dark_writing2\")"
     ],
     "language": "python",
     "metadata": {},
     "outputs": [
      {
       "output_type": "stream",
       "stream": "stdout",
       "text": [
        "validating module...\n",
        "Start running module...\n",
        "finished running module..."
       ]
      },
      {
       "output_type": "stream",
       "stream": "stderr",
       "text": [
        "/home/mbonse/Git/PynPoint/PynPoint2/io_modules/FitsWriting.py:78: UserWarning: Overwriting old file /scratch/user/mbonse/after_new_preprocessing/Beta_Pic_2009_12_29/Results/after_dark_subtraction1.fits\n",
        "  warnings.warn('Overwriting old file %s' % out_name)\n",
        "/home/mbonse/Git/PynPoint/PynPoint2/io_modules/FitsWriting.py:78: UserWarning: Overwriting old file /scratch/user/mbonse/after_new_preprocessing/Beta_Pic_2009_12_29/Results/after_dark_subtraction2.fits\n",
        "  warnings.warn('Overwriting old file %s' % out_name)\n"
       ]
      },
      {
       "output_type": "stream",
       "stream": "stdout",
       "text": [
        "\n",
        "validating module...\n",
        "Start running module...\n",
        "finished running module..."
       ]
      },
      {
       "output_type": "stream",
       "stream": "stdout",
       "text": [
        "\n"
       ]
      }
     ],
     "prompt_number": 37
    },
    {
     "cell_type": "code",
     "collapsed": false,
     "input": [
      "pipeline.run_module(\"flat_subtraction\")"
     ],
     "language": "python",
     "metadata": {},
     "outputs": [
      {
       "output_type": "stream",
       "stream": "stdout",
       "text": [
        "validating module...\n",
        "Start running module...\n",
        "processed image 1 of 29799 images\n",
        "processed image 1001 of 29799 images"
       ]
      },
      {
       "output_type": "stream",
       "stream": "stdout",
       "text": [
        "\n",
        "processed image 2001 of 29799 images"
       ]
      },
      {
       "output_type": "stream",
       "stream": "stdout",
       "text": [
        "\n",
        "processed image 3001 of 29799 images"
       ]
      },
      {
       "output_type": "stream",
       "stream": "stdout",
       "text": [
        "\n",
        "processed image 4001 of 29799 images"
       ]
      },
      {
       "output_type": "stream",
       "stream": "stdout",
       "text": [
        "\n",
        "processed image 5001 of 29799 images"
       ]
      },
      {
       "output_type": "stream",
       "stream": "stdout",
       "text": [
        "\n",
        "processed image 6001 of 29799 images"
       ]
      },
      {
       "output_type": "stream",
       "stream": "stdout",
       "text": [
        "\n",
        "processed image 7001 of 29799 images"
       ]
      },
      {
       "output_type": "stream",
       "stream": "stdout",
       "text": [
        "\n",
        "processed image 8001 of 29799 images"
       ]
      }
     ]
    },
    {
     "cell_type": "heading",
     "level": 2,
     "metadata": {},
     "source": [
      "02 Write flat results"
     ]
    },
    {
     "cell_type": "code",
     "collapsed": false,
     "input": [
      "writing = WriteAsSingleFitsFile(\"after_flat_subtraction1.fits\",\n",
      "                                name_in=\"after_flat_writing1\",\n",
      "                                data_tag=\"02_dark_flat_subt\",\n",
      "                                data_range=(2000,2100))\n",
      "pipeline.add_module(writing)\n",
      "writing = WriteAsSingleFitsFile(\"after_flat_subtraction2.fits\",\n",
      "                                name_in=\"after_flat_writing2\",\n",
      "                                data_tag=\"02_dark_flat_subt\",\n",
      "                                data_range=(29000,29100))\n",
      "pipeline.add_module(writing)"
     ],
     "language": "python",
     "metadata": {},
     "outputs": []
    },
    {
     "cell_type": "code",
     "collapsed": false,
     "input": [
      "pipeline.run_module(\"after_flat_writing1\")\n",
      "pipeline.run_module(\"after_flat_writing2\")"
     ],
     "language": "python",
     "metadata": {},
     "outputs": [
      {
       "output_type": "stream",
       "stream": "stdout",
       "text": [
        "validating module...\n",
        "Start running module...\n",
        "finished running module..."
       ]
      },
      {
       "output_type": "stream",
       "stream": "stderr",
       "text": [
        "/home/mbonse/Git/PynPoint/PynPoint2/io_modules/FitsWriting.py:78: UserWarning: Overwriting old file /scratch/user/mbonse/after_new_preprocessing/Beta_Pic_2009_12_29/Results/after_flat_subtraction1.fits\n",
        "  warnings.warn('Overwriting old file %s' % out_name)\n",
        "/home/mbonse/Git/PynPoint/PynPoint2/io_modules/FitsWriting.py:78: UserWarning: Overwriting old file /scratch/user/mbonse/after_new_preprocessing/Beta_Pic_2009_12_29/Results/after_flat_subtraction2.fits\n",
        "  warnings.warn('Overwriting old file %s' % out_name)\n"
       ]
      },
      {
       "output_type": "stream",
       "stream": "stdout",
       "text": [
        "\n",
        "validating module...\n",
        "Start running module...\n",
        "finished running module..."
       ]
      },
      {
       "output_type": "stream",
       "stream": "stdout",
       "text": [
        "\n"
       ]
      }
     ],
     "prompt_number": 40
    },
    {
     "cell_type": "heading",
     "level": 2,
     "metadata": {},
     "source": [
      "03 Bad pixel detection"
     ]
    },
    {
     "cell_type": "code",
     "collapsed": false,
     "input": [
      "from PynPoint2.processing_modules import BadPixelMapCreationModule, BadPixelInterpolationModule"
     ],
     "language": "python",
     "metadata": {},
     "outputs": [],
     "prompt_number": 5
    },
    {
     "cell_type": "code",
     "collapsed": false,
     "input": [
      "bp_map = BadPixelMapCreationModule(name_in=\"03_Bad_Pixel_Map_creation\",\n",
      "                                   dark_in_tag=\"01_dark_arr_cut\",\n",
      "                                   flat_in_tag=\"01_flat_arr_cut\",\n",
      "                                   bp_map_out_tag=\"01_bp_map\",\n",
      "                                   dark_threshold=0.000000000001,\n",
      "                                   flat_threshold=0.78)\n",
      "pipeline.add_module(bp_map)\n",
      "pipeline.run_module(\"03_Bad_Pixel_Map_creation\")"
     ],
     "language": "python",
     "metadata": {},
     "outputs": [
      {
       "output_type": "stream",
       "stream": "stdout",
       "text": [
        "validating module...\n",
        "Start running module...\n",
        "finished running module..."
       ]
      },
      {
       "output_type": "stream",
       "stream": "stdout",
       "text": [
        "\n"
       ]
      },
      {
       "output_type": "stream",
       "stream": "stderr",
       "text": [
        "/home/mbonse/Git/PynPoint/PynPoint2/core/Pypeline.py:135: UserWarning: Processing module names need to be unique. Overwriting the old Module\n",
        "  warnings.warn('Processing module names need to be unique. Overwriting the old Module')\n"
       ]
      }
     ],
     "prompt_number": 12
    },
    {
     "cell_type": "heading",
     "level": 2,
     "metadata": {},
     "source": [
      "03 Bad pixel interpolation"
     ]
    },
    {
     "cell_type": "code",
     "collapsed": false,
     "input": [
      "bp_inter = BadPixelInterpolationModule(name_in=\"03_Bad_Pixel_Interpolation\",\n",
      "                                       image_in_tag=\"02_dark_flat_subt\",\n",
      "                                       bad_pixel_map_tag=\"01_bp_map\",\n",
      "                                       image_out_tag=\"03_im_arr_bp_clean\",\n",
      "                                       iterations=50,\n",
      "                                       number_of_images_in_memory=100)\n",
      "pipeline.add_module(bp_inter)"
     ],
     "language": "python",
     "metadata": {},
     "outputs": [
      {
       "output_type": "stream",
       "stream": "stderr",
       "text": [
        "/home/mbonse/Git/PynPoint/PynPoint2/core/Pypeline.py:135: UserWarning: Processing module names need to be unique. Overwriting the old Module\n",
        "  warnings.warn('Processing module names need to be unique. Overwriting the old Module')\n"
       ]
      }
     ],
     "prompt_number": 13
    },
    {
     "cell_type": "code",
     "collapsed": false,
     "input": [
      "pipeline.run_module(\"03_Bad_Pixel_Interpolation\")"
     ],
     "language": "python",
     "metadata": {},
     "outputs": [
      {
       "output_type": "stream",
       "stream": "stdout",
       "text": [
        "validating module...\n",
        "Start running module...\n",
        "processed image 1 of 29799 images\n",
        "processed image 101 of 29799 images"
       ]
      },
      {
       "output_type": "stream",
       "stream": "stdout",
       "text": [
        "\n",
        "processed image 201 of 29799 images"
       ]
      },
      {
       "output_type": "stream",
       "stream": "stdout",
       "text": [
        "\n",
        "processed image 301 of 29799 images"
       ]
      },
      {
       "output_type": "stream",
       "stream": "stdout",
       "text": [
        "\n",
        "processed image 401 of 29799 images"
       ]
      },
      {
       "output_type": "stream",
       "stream": "stdout",
       "text": [
        "\n",
        "processed image 501 of 29799 images"
       ]
      },
      {
       "output_type": "stream",
       "stream": "stdout",
       "text": [
        "\n",
        "processed image 601 of 29799 images"
       ]
      },
      {
       "output_type": "stream",
       "stream": "stdout",
       "text": [
        "\n",
        "processed image 701 of 29799 images"
       ]
      },
      {
       "output_type": "stream",
       "stream": "stdout",
       "text": [
        "\n",
        "processed image 801 of 29799 images"
       ]
      },
      {
       "output_type": "stream",
       "stream": "stdout",
       "text": [
        "\n",
        "processed image 901 of 29799 images"
       ]
      },
      {
       "output_type": "stream",
       "stream": "stdout",
       "text": [
        "\n",
        "processed image 1001 of 29799 images"
       ]
      },
      {
       "output_type": "stream",
       "stream": "stdout",
       "text": [
        "\n",
        "processed image 1101 of 29799 images"
       ]
      },
      {
       "output_type": "stream",
       "stream": "stdout",
       "text": [
        "\n",
        "processed image 1201 of 29799 images"
       ]
      },
      {
       "output_type": "stream",
       "stream": "stdout",
       "text": [
        "\n",
        "processed image 1301 of 29799 images"
       ]
      },
      {
       "output_type": "stream",
       "stream": "stdout",
       "text": [
        "\n",
        "processed image 1401 of 29799 images"
       ]
      },
      {
       "output_type": "stream",
       "stream": "stdout",
       "text": [
        "\n",
        "processed image 1501 of 29799 images"
       ]
      },
      {
       "output_type": "stream",
       "stream": "stdout",
       "text": [
        "\n",
        "processed image 1601 of 29799 images"
       ]
      },
      {
       "output_type": "stream",
       "stream": "stdout",
       "text": [
        "\n",
        "processed image 1701 of 29799 images"
       ]
      },
      {
       "output_type": "stream",
       "stream": "stdout",
       "text": [
        "\n",
        "processed image 1801 of 29799 images"
       ]
      },
      {
       "output_type": "stream",
       "stream": "stdout",
       "text": [
        "\n",
        "processed image 1901 of 29799 images"
       ]
      },
      {
       "output_type": "stream",
       "stream": "stdout",
       "text": [
        "\n",
        "processed image 2001 of 29799 images"
       ]
      },
      {
       "output_type": "stream",
       "stream": "stdout",
       "text": [
        "\n",
        "processed image 2101 of 29799 images"
       ]
      },
      {
       "output_type": "stream",
       "stream": "stdout",
       "text": [
        "\n",
        "processed image 2201 of 29799 images"
       ]
      },
      {
       "output_type": "stream",
       "stream": "stdout",
       "text": [
        "\n",
        "processed image 2301 of 29799 images"
       ]
      },
      {
       "output_type": "stream",
       "stream": "stdout",
       "text": [
        "\n",
        "processed image 2401 of 29799 images"
       ]
      },
      {
       "output_type": "stream",
       "stream": "stdout",
       "text": [
        "\n",
        "processed image 2501 of 29799 images"
       ]
      },
      {
       "output_type": "stream",
       "stream": "stdout",
       "text": [
        "\n",
        "processed image 2601 of 29799 images"
       ]
      },
      {
       "output_type": "stream",
       "stream": "stdout",
       "text": [
        "\n",
        "processed image 2701 of 29799 images"
       ]
      },
      {
       "output_type": "stream",
       "stream": "stdout",
       "text": [
        "\n",
        "processed image 2801 of 29799 images"
       ]
      },
      {
       "output_type": "stream",
       "stream": "stdout",
       "text": [
        "\n",
        "processed image 2901 of 29799 images"
       ]
      },
      {
       "output_type": "stream",
       "stream": "stdout",
       "text": [
        "\n",
        "processed image 3001 of 29799 images"
       ]
      },
      {
       "output_type": "stream",
       "stream": "stdout",
       "text": [
        "\n",
        "processed image 3101 of 29799 images"
       ]
      },
      {
       "output_type": "stream",
       "stream": "stdout",
       "text": [
        "\n",
        "processed image 3201 of 29799 images"
       ]
      },
      {
       "output_type": "stream",
       "stream": "stdout",
       "text": [
        "\n",
        "processed image 3301 of 29799 images"
       ]
      },
      {
       "output_type": "stream",
       "stream": "stdout",
       "text": [
        "\n",
        "processed image 3401 of 29799 images"
       ]
      },
      {
       "output_type": "stream",
       "stream": "stdout",
       "text": [
        "\n",
        "processed image 3501 of 29799 images"
       ]
      },
      {
       "output_type": "stream",
       "stream": "stdout",
       "text": [
        "\n",
        "processed image 3601 of 29799 images"
       ]
      },
      {
       "output_type": "stream",
       "stream": "stdout",
       "text": [
        "\n",
        "processed image 3701 of 29799 images"
       ]
      },
      {
       "output_type": "stream",
       "stream": "stdout",
       "text": [
        "\n",
        "processed image 3801 of 29799 images"
       ]
      },
      {
       "output_type": "stream",
       "stream": "stdout",
       "text": [
        "\n",
        "processed image 3901 of 29799 images"
       ]
      },
      {
       "output_type": "stream",
       "stream": "stdout",
       "text": [
        "\n",
        "processed image 4001 of 29799 images"
       ]
      },
      {
       "output_type": "stream",
       "stream": "stdout",
       "text": [
        "\n",
        "processed image 4101 of 29799 images"
       ]
      },
      {
       "output_type": "stream",
       "stream": "stdout",
       "text": [
        "\n",
        "processed image 4201 of 29799 images"
       ]
      },
      {
       "output_type": "stream",
       "stream": "stdout",
       "text": [
        "\n",
        "processed image 4301 of 29799 images"
       ]
      },
      {
       "output_type": "stream",
       "stream": "stdout",
       "text": [
        "\n",
        "processed image 4401 of 29799 images"
       ]
      },
      {
       "output_type": "stream",
       "stream": "stdout",
       "text": [
        "\n",
        "processed image 4501 of 29799 images"
       ]
      },
      {
       "output_type": "stream",
       "stream": "stdout",
       "text": [
        "\n",
        "processed image 4601 of 29799 images"
       ]
      },
      {
       "output_type": "stream",
       "stream": "stdout",
       "text": [
        "\n",
        "processed image 4701 of 29799 images"
       ]
      },
      {
       "output_type": "stream",
       "stream": "stdout",
       "text": [
        "\n",
        "processed image 4801 of 29799 images"
       ]
      },
      {
       "output_type": "stream",
       "stream": "stdout",
       "text": [
        "\n",
        "processed image 4901 of 29799 images"
       ]
      },
      {
       "output_type": "stream",
       "stream": "stdout",
       "text": [
        "\n",
        "processed image 5001 of 29799 images"
       ]
      },
      {
       "output_type": "stream",
       "stream": "stdout",
       "text": [
        "\n",
        "processed image 5101 of 29799 images"
       ]
      },
      {
       "output_type": "stream",
       "stream": "stdout",
       "text": [
        "\n",
        "processed image 5201 of 29799 images"
       ]
      },
      {
       "output_type": "stream",
       "stream": "stdout",
       "text": [
        "\n",
        "processed image 5301 of 29799 images"
       ]
      },
      {
       "output_type": "stream",
       "stream": "stdout",
       "text": [
        "\n",
        "processed image 5401 of 29799 images"
       ]
      },
      {
       "output_type": "stream",
       "stream": "stdout",
       "text": [
        "\n",
        "processed image 5501 of 29799 images"
       ]
      },
      {
       "output_type": "stream",
       "stream": "stdout",
       "text": [
        "\n",
        "processed image 5601 of 29799 images"
       ]
      },
      {
       "output_type": "stream",
       "stream": "stdout",
       "text": [
        "\n",
        "processed image 5701 of 29799 images"
       ]
      },
      {
       "output_type": "stream",
       "stream": "stdout",
       "text": [
        "\n",
        "processed image 5801 of 29799 images"
       ]
      },
      {
       "output_type": "stream",
       "stream": "stdout",
       "text": [
        "\n",
        "processed image 5901 of 29799 images"
       ]
      },
      {
       "output_type": "stream",
       "stream": "stdout",
       "text": [
        "\n",
        "processed image 6001 of 29799 images"
       ]
      },
      {
       "output_type": "stream",
       "stream": "stdout",
       "text": [
        "\n",
        "processed image 6101 of 29799 images"
       ]
      },
      {
       "output_type": "stream",
       "stream": "stdout",
       "text": [
        "\n",
        "processed image 6201 of 29799 images"
       ]
      },
      {
       "output_type": "stream",
       "stream": "stdout",
       "text": [
        "\n",
        "processed image 6301 of 29799 images"
       ]
      },
      {
       "output_type": "stream",
       "stream": "stdout",
       "text": [
        "\n",
        "processed image 6401 of 29799 images"
       ]
      },
      {
       "output_type": "stream",
       "stream": "stdout",
       "text": [
        "\n",
        "processed image 6501 of 29799 images"
       ]
      },
      {
       "output_type": "stream",
       "stream": "stdout",
       "text": [
        "\n",
        "processed image 6601 of 29799 images"
       ]
      },
      {
       "output_type": "stream",
       "stream": "stdout",
       "text": [
        "\n",
        "processed image 6701 of 29799 images"
       ]
      },
      {
       "output_type": "stream",
       "stream": "stdout",
       "text": [
        "\n",
        "processed image 6801 of 29799 images"
       ]
      },
      {
       "output_type": "stream",
       "stream": "stdout",
       "text": [
        "\n",
        "processed image 6901 of 29799 images"
       ]
      },
      {
       "output_type": "stream",
       "stream": "stdout",
       "text": [
        "\n",
        "processed image 7001 of 29799 images"
       ]
      },
      {
       "output_type": "stream",
       "stream": "stdout",
       "text": [
        "\n",
        "processed image 7101 of 29799 images"
       ]
      },
      {
       "output_type": "stream",
       "stream": "stdout",
       "text": [
        "\n",
        "processed image 7201 of 29799 images"
       ]
      },
      {
       "output_type": "stream",
       "stream": "stdout",
       "text": [
        "\n",
        "processed image 7301 of 29799 images"
       ]
      },
      {
       "output_type": "stream",
       "stream": "stdout",
       "text": [
        "\n",
        "processed image 7401 of 29799 images"
       ]
      },
      {
       "output_type": "stream",
       "stream": "stdout",
       "text": [
        "\n",
        "processed image 7501 of 29799 images"
       ]
      },
      {
       "output_type": "stream",
       "stream": "stdout",
       "text": [
        "\n",
        "processed image 7601 of 29799 images"
       ]
      },
      {
       "output_type": "stream",
       "stream": "stdout",
       "text": [
        "\n",
        "processed image 7701 of 29799 images"
       ]
      },
      {
       "output_type": "stream",
       "stream": "stdout",
       "text": [
        "\n",
        "processed image 7801 of 29799 images"
       ]
      },
      {
       "output_type": "stream",
       "stream": "stdout",
       "text": [
        "\n",
        "processed image 7901 of 29799 images"
       ]
      },
      {
       "output_type": "stream",
       "stream": "stdout",
       "text": [
        "\n",
        "processed image 8001 of 29799 images"
       ]
      },
      {
       "output_type": "stream",
       "stream": "stdout",
       "text": [
        "\n",
        "processed image 8101 of 29799 images"
       ]
      },
      {
       "output_type": "stream",
       "stream": "stdout",
       "text": [
        "\n",
        "processed image 8201 of 29799 images"
       ]
      },
      {
       "output_type": "stream",
       "stream": "stdout",
       "text": [
        "\n",
        "processed image 8301 of 29799 images"
       ]
      },
      {
       "output_type": "stream",
       "stream": "stdout",
       "text": [
        "\n",
        "processed image 8401 of 29799 images"
       ]
      },
      {
       "output_type": "stream",
       "stream": "stdout",
       "text": [
        "\n",
        "processed image 8501 of 29799 images"
       ]
      },
      {
       "output_type": "stream",
       "stream": "stdout",
       "text": [
        "\n",
        "processed image 8601 of 29799 images"
       ]
      },
      {
       "output_type": "stream",
       "stream": "stdout",
       "text": [
        "\n",
        "processed image 8701 of 29799 images"
       ]
      },
      {
       "output_type": "stream",
       "stream": "stdout",
       "text": [
        "\n",
        "processed image 8801 of 29799 images"
       ]
      },
      {
       "output_type": "stream",
       "stream": "stdout",
       "text": [
        "\n",
        "processed image 8901 of 29799 images"
       ]
      },
      {
       "output_type": "stream",
       "stream": "stdout",
       "text": [
        "\n",
        "processed image 9001 of 29799 images"
       ]
      },
      {
       "output_type": "stream",
       "stream": "stdout",
       "text": [
        "\n",
        "processed image 9101 of 29799 images"
       ]
      },
      {
       "output_type": "stream",
       "stream": "stdout",
       "text": [
        "\n",
        "processed image 9201 of 29799 images"
       ]
      },
      {
       "output_type": "stream",
       "stream": "stdout",
       "text": [
        "\n",
        "processed image 9301 of 29799 images"
       ]
      },
      {
       "output_type": "stream",
       "stream": "stdout",
       "text": [
        "\n",
        "processed image 9401 of 29799 images"
       ]
      },
      {
       "output_type": "stream",
       "stream": "stdout",
       "text": [
        "\n",
        "processed image 9501 of 29799 images"
       ]
      },
      {
       "output_type": "stream",
       "stream": "stdout",
       "text": [
        "\n",
        "processed image 9601 of 29799 images"
       ]
      },
      {
       "output_type": "stream",
       "stream": "stdout",
       "text": [
        "\n",
        "processed image 9701 of 29799 images"
       ]
      },
      {
       "output_type": "stream",
       "stream": "stdout",
       "text": [
        "\n",
        "processed image 9801 of 29799 images"
       ]
      },
      {
       "output_type": "stream",
       "stream": "stdout",
       "text": [
        "\n",
        "processed image 9901 of 29799 images"
       ]
      },
      {
       "output_type": "stream",
       "stream": "stdout",
       "text": [
        "\n",
        "processed image 10001 of 29799 images"
       ]
      },
      {
       "output_type": "stream",
       "stream": "stdout",
       "text": [
        "\n",
        "processed image 10101 of 29799 images"
       ]
      },
      {
       "output_type": "stream",
       "stream": "stdout",
       "text": [
        "\n",
        "processed image 10201 of 29799 images"
       ]
      },
      {
       "output_type": "stream",
       "stream": "stdout",
       "text": [
        "\n",
        "processed image 10301 of 29799 images"
       ]
      },
      {
       "output_type": "stream",
       "stream": "stdout",
       "text": [
        "\n",
        "processed image 10401 of 29799 images"
       ]
      },
      {
       "output_type": "stream",
       "stream": "stdout",
       "text": [
        "\n",
        "processed image 10501 of 29799 images"
       ]
      },
      {
       "output_type": "stream",
       "stream": "stdout",
       "text": [
        "\n",
        "processed image 10601 of 29799 images"
       ]
      },
      {
       "output_type": "stream",
       "stream": "stdout",
       "text": [
        "\n",
        "processed image 10701 of 29799 images"
       ]
      },
      {
       "output_type": "stream",
       "stream": "stdout",
       "text": [
        "\n",
        "processed image 10801 of 29799 images"
       ]
      },
      {
       "output_type": "stream",
       "stream": "stdout",
       "text": [
        "\n",
        "processed image 10901 of 29799 images"
       ]
      },
      {
       "output_type": "stream",
       "stream": "stdout",
       "text": [
        "\n",
        "processed image 11001 of 29799 images"
       ]
      },
      {
       "output_type": "stream",
       "stream": "stdout",
       "text": [
        "\n",
        "processed image 11101 of 29799 images"
       ]
      },
      {
       "output_type": "stream",
       "stream": "stdout",
       "text": [
        "\n",
        "processed image 11201 of 29799 images"
       ]
      },
      {
       "output_type": "stream",
       "stream": "stdout",
       "text": [
        "\n",
        "processed image 11301 of 29799 images"
       ]
      },
      {
       "output_type": "stream",
       "stream": "stdout",
       "text": [
        "\n",
        "processed image 11401 of 29799 images"
       ]
      },
      {
       "output_type": "stream",
       "stream": "stdout",
       "text": [
        "\n",
        "processed image 11501 of 29799 images"
       ]
      },
      {
       "output_type": "stream",
       "stream": "stdout",
       "text": [
        "\n",
        "processed image 11601 of 29799 images"
       ]
      },
      {
       "output_type": "stream",
       "stream": "stdout",
       "text": [
        "\n",
        "processed image 11701 of 29799 images"
       ]
      },
      {
       "output_type": "stream",
       "stream": "stdout",
       "text": [
        "\n",
        "processed image 11801 of 29799 images"
       ]
      },
      {
       "output_type": "stream",
       "stream": "stdout",
       "text": [
        "\n",
        "processed image 11901 of 29799 images"
       ]
      },
      {
       "output_type": "stream",
       "stream": "stdout",
       "text": [
        "\n",
        "processed image 12001 of 29799 images"
       ]
      },
      {
       "output_type": "stream",
       "stream": "stdout",
       "text": [
        "\n",
        "processed image 12101 of 29799 images"
       ]
      },
      {
       "output_type": "stream",
       "stream": "stdout",
       "text": [
        "\n",
        "processed image 12201 of 29799 images"
       ]
      },
      {
       "output_type": "stream",
       "stream": "stdout",
       "text": [
        "\n",
        "processed image 12301 of 29799 images"
       ]
      },
      {
       "output_type": "stream",
       "stream": "stdout",
       "text": [
        "\n",
        "processed image 12401 of 29799 images"
       ]
      },
      {
       "output_type": "stream",
       "stream": "stdout",
       "text": [
        "\n",
        "processed image 12501 of 29799 images"
       ]
      },
      {
       "output_type": "stream",
       "stream": "stdout",
       "text": [
        "\n",
        "processed image 12601 of 29799 images"
       ]
      },
      {
       "output_type": "stream",
       "stream": "stdout",
       "text": [
        "\n",
        "processed image 12701 of 29799 images"
       ]
      },
      {
       "output_type": "stream",
       "stream": "stdout",
       "text": [
        "\n",
        "processed image 12801 of 29799 images"
       ]
      },
      {
       "output_type": "stream",
       "stream": "stdout",
       "text": [
        "\n",
        "processed image 12901 of 29799 images"
       ]
      },
      {
       "output_type": "stream",
       "stream": "stdout",
       "text": [
        "\n",
        "processed image 13001 of 29799 images"
       ]
      },
      {
       "output_type": "stream",
       "stream": "stdout",
       "text": [
        "\n",
        "processed image 13101 of 29799 images"
       ]
      },
      {
       "output_type": "stream",
       "stream": "stdout",
       "text": [
        "\n",
        "processed image 13201 of 29799 images"
       ]
      },
      {
       "output_type": "stream",
       "stream": "stdout",
       "text": [
        "\n",
        "processed image 13301 of 29799 images"
       ]
      },
      {
       "output_type": "stream",
       "stream": "stdout",
       "text": [
        "\n",
        "processed image 13401 of 29799 images"
       ]
      },
      {
       "output_type": "stream",
       "stream": "stdout",
       "text": [
        "\n",
        "processed image 13501 of 29799 images"
       ]
      },
      {
       "output_type": "stream",
       "stream": "stdout",
       "text": [
        "\n",
        "processed image 13601 of 29799 images"
       ]
      },
      {
       "output_type": "stream",
       "stream": "stdout",
       "text": [
        "\n",
        "processed image 13701 of 29799 images"
       ]
      },
      {
       "output_type": "stream",
       "stream": "stdout",
       "text": [
        "\n",
        "processed image 13801 of 29799 images"
       ]
      },
      {
       "output_type": "stream",
       "stream": "stdout",
       "text": [
        "\n",
        "processed image 13901 of 29799 images"
       ]
      },
      {
       "output_type": "stream",
       "stream": "stdout",
       "text": [
        "\n",
        "processed image 14001 of 29799 images"
       ]
      },
      {
       "output_type": "stream",
       "stream": "stdout",
       "text": [
        "\n",
        "processed image 14101 of 29799 images"
       ]
      },
      {
       "output_type": "stream",
       "stream": "stdout",
       "text": [
        "\n",
        "processed image 14201 of 29799 images"
       ]
      },
      {
       "output_type": "stream",
       "stream": "stdout",
       "text": [
        "\n",
        "processed image 14301 of 29799 images"
       ]
      },
      {
       "output_type": "stream",
       "stream": "stdout",
       "text": [
        "\n",
        "processed image 14401 of 29799 images"
       ]
      },
      {
       "output_type": "stream",
       "stream": "stdout",
       "text": [
        "\n",
        "processed image 14501 of 29799 images"
       ]
      },
      {
       "output_type": "stream",
       "stream": "stdout",
       "text": [
        "\n",
        "processed image 14601 of 29799 images"
       ]
      },
      {
       "output_type": "stream",
       "stream": "stdout",
       "text": [
        "\n",
        "processed image 14701 of 29799 images"
       ]
      },
      {
       "output_type": "stream",
       "stream": "stdout",
       "text": [
        "\n",
        "processed image 14801 of 29799 images"
       ]
      },
      {
       "output_type": "stream",
       "stream": "stdout",
       "text": [
        "\n",
        "processed image 14901 of 29799 images"
       ]
      },
      {
       "output_type": "stream",
       "stream": "stdout",
       "text": [
        "\n",
        "processed image 15001 of 29799 images"
       ]
      },
      {
       "output_type": "stream",
       "stream": "stdout",
       "text": [
        "\n",
        "processed image 15101 of 29799 images"
       ]
      },
      {
       "output_type": "stream",
       "stream": "stdout",
       "text": [
        "\n",
        "processed image 15201 of 29799 images"
       ]
      },
      {
       "output_type": "stream",
       "stream": "stdout",
       "text": [
        "\n",
        "processed image 15301 of 29799 images"
       ]
      },
      {
       "output_type": "stream",
       "stream": "stdout",
       "text": [
        "\n",
        "processed image 15401 of 29799 images"
       ]
      },
      {
       "output_type": "stream",
       "stream": "stdout",
       "text": [
        "\n",
        "processed image 15501 of 29799 images"
       ]
      },
      {
       "output_type": "stream",
       "stream": "stdout",
       "text": [
        "\n",
        "processed image 15601 of 29799 images"
       ]
      },
      {
       "output_type": "stream",
       "stream": "stdout",
       "text": [
        "\n",
        "processed image 15701 of 29799 images"
       ]
      },
      {
       "output_type": "stream",
       "stream": "stdout",
       "text": [
        "\n",
        "processed image 15801 of 29799 images"
       ]
      },
      {
       "output_type": "stream",
       "stream": "stdout",
       "text": [
        "\n",
        "processed image 15901 of 29799 images"
       ]
      },
      {
       "output_type": "stream",
       "stream": "stdout",
       "text": [
        "\n",
        "processed image 16001 of 29799 images"
       ]
      },
      {
       "output_type": "stream",
       "stream": "stdout",
       "text": [
        "\n",
        "processed image 16101 of 29799 images"
       ]
      },
      {
       "output_type": "stream",
       "stream": "stdout",
       "text": [
        "\n",
        "processed image 16201 of 29799 images"
       ]
      },
      {
       "output_type": "stream",
       "stream": "stdout",
       "text": [
        "\n",
        "processed image 16301 of 29799 images"
       ]
      },
      {
       "output_type": "stream",
       "stream": "stdout",
       "text": [
        "\n",
        "processed image 16401 of 29799 images"
       ]
      },
      {
       "output_type": "stream",
       "stream": "stdout",
       "text": [
        "\n",
        "processed image 16501 of 29799 images"
       ]
      },
      {
       "output_type": "stream",
       "stream": "stdout",
       "text": [
        "\n",
        "processed image 16601 of 29799 images"
       ]
      },
      {
       "output_type": "stream",
       "stream": "stdout",
       "text": [
        "\n",
        "processed image 16701 of 29799 images"
       ]
      },
      {
       "output_type": "stream",
       "stream": "stdout",
       "text": [
        "\n",
        "processed image 16801 of 29799 images"
       ]
      },
      {
       "output_type": "stream",
       "stream": "stdout",
       "text": [
        "\n",
        "processed image 16901 of 29799 images"
       ]
      },
      {
       "output_type": "stream",
       "stream": "stdout",
       "text": [
        "\n",
        "processed image 17001 of 29799 images"
       ]
      },
      {
       "output_type": "stream",
       "stream": "stdout",
       "text": [
        "\n",
        "processed image 17101 of 29799 images"
       ]
      },
      {
       "output_type": "stream",
       "stream": "stdout",
       "text": [
        "\n",
        "processed image 17201 of 29799 images"
       ]
      },
      {
       "output_type": "stream",
       "stream": "stdout",
       "text": [
        "\n",
        "processed image 17301 of 29799 images"
       ]
      },
      {
       "output_type": "stream",
       "stream": "stdout",
       "text": [
        "\n",
        "processed image 17401 of 29799 images"
       ]
      },
      {
       "output_type": "stream",
       "stream": "stdout",
       "text": [
        "\n",
        "processed image 17501 of 29799 images"
       ]
      },
      {
       "output_type": "stream",
       "stream": "stdout",
       "text": [
        "\n",
        "processed image 17601 of 29799 images"
       ]
      },
      {
       "output_type": "stream",
       "stream": "stdout",
       "text": [
        "\n",
        "processed image 17701 of 29799 images"
       ]
      },
      {
       "output_type": "stream",
       "stream": "stdout",
       "text": [
        "\n",
        "processed image 17801 of 29799 images"
       ]
      },
      {
       "output_type": "stream",
       "stream": "stdout",
       "text": [
        "\n",
        "processed image 17901 of 29799 images"
       ]
      },
      {
       "output_type": "stream",
       "stream": "stdout",
       "text": [
        "\n",
        "processed image 18001 of 29799 images"
       ]
      },
      {
       "output_type": "stream",
       "stream": "stdout",
       "text": [
        "\n",
        "processed image 18101 of 29799 images"
       ]
      },
      {
       "output_type": "stream",
       "stream": "stdout",
       "text": [
        "\n",
        "processed image 18201 of 29799 images"
       ]
      },
      {
       "output_type": "stream",
       "stream": "stdout",
       "text": [
        "\n",
        "processed image 18301 of 29799 images"
       ]
      },
      {
       "output_type": "stream",
       "stream": "stdout",
       "text": [
        "\n",
        "processed image 18401 of 29799 images"
       ]
      },
      {
       "output_type": "stream",
       "stream": "stdout",
       "text": [
        "\n",
        "processed image 18501 of 29799 images"
       ]
      },
      {
       "output_type": "stream",
       "stream": "stdout",
       "text": [
        "\n",
        "processed image 18601 of 29799 images"
       ]
      },
      {
       "output_type": "stream",
       "stream": "stdout",
       "text": [
        "\n",
        "processed image 18701 of 29799 images"
       ]
      },
      {
       "output_type": "stream",
       "stream": "stdout",
       "text": [
        "\n",
        "processed image 18801 of 29799 images"
       ]
      },
      {
       "output_type": "stream",
       "stream": "stdout",
       "text": [
        "\n",
        "processed image 18901 of 29799 images"
       ]
      },
      {
       "output_type": "stream",
       "stream": "stdout",
       "text": [
        "\n",
        "processed image 19001 of 29799 images"
       ]
      },
      {
       "output_type": "stream",
       "stream": "stdout",
       "text": [
        "\n",
        "processed image 19101 of 29799 images"
       ]
      },
      {
       "output_type": "stream",
       "stream": "stdout",
       "text": [
        "\n",
        "processed image 19201 of 29799 images"
       ]
      },
      {
       "output_type": "stream",
       "stream": "stdout",
       "text": [
        "\n",
        "processed image 19301 of 29799 images"
       ]
      },
      {
       "output_type": "stream",
       "stream": "stdout",
       "text": [
        "\n",
        "processed image 19401 of 29799 images"
       ]
      },
      {
       "output_type": "stream",
       "stream": "stdout",
       "text": [
        "\n",
        "processed image 19501 of 29799 images"
       ]
      },
      {
       "output_type": "stream",
       "stream": "stdout",
       "text": [
        "\n",
        "processed image 19601 of 29799 images"
       ]
      },
      {
       "output_type": "stream",
       "stream": "stdout",
       "text": [
        "\n",
        "processed image 19701 of 29799 images"
       ]
      },
      {
       "output_type": "stream",
       "stream": "stdout",
       "text": [
        "\n",
        "processed image 19801 of 29799 images"
       ]
      },
      {
       "output_type": "stream",
       "stream": "stdout",
       "text": [
        "\n",
        "processed image 19901 of 29799 images"
       ]
      },
      {
       "output_type": "stream",
       "stream": "stdout",
       "text": [
        "\n",
        "processed image 20001 of 29799 images"
       ]
      },
      {
       "output_type": "stream",
       "stream": "stdout",
       "text": [
        "\n",
        "processed image 20101 of 29799 images"
       ]
      },
      {
       "output_type": "stream",
       "stream": "stdout",
       "text": [
        "\n",
        "processed image 20201 of 29799 images"
       ]
      },
      {
       "output_type": "stream",
       "stream": "stdout",
       "text": [
        "\n",
        "processed image 20301 of 29799 images"
       ]
      },
      {
       "output_type": "stream",
       "stream": "stdout",
       "text": [
        "\n",
        "processed image 20401 of 29799 images"
       ]
      },
      {
       "output_type": "stream",
       "stream": "stdout",
       "text": [
        "\n",
        "processed image 20501 of 29799 images"
       ]
      },
      {
       "output_type": "stream",
       "stream": "stdout",
       "text": [
        "\n",
        "processed image 20601 of 29799 images"
       ]
      },
      {
       "output_type": "stream",
       "stream": "stdout",
       "text": [
        "\n",
        "processed image 20701 of 29799 images"
       ]
      },
      {
       "output_type": "stream",
       "stream": "stdout",
       "text": [
        "\n",
        "processed image 20801 of 29799 images"
       ]
      },
      {
       "output_type": "stream",
       "stream": "stdout",
       "text": [
        "\n",
        "processed image 20901 of 29799 images"
       ]
      },
      {
       "output_type": "stream",
       "stream": "stdout",
       "text": [
        "\n",
        "processed image 21001 of 29799 images"
       ]
      },
      {
       "output_type": "stream",
       "stream": "stdout",
       "text": [
        "\n",
        "processed image 21101 of 29799 images"
       ]
      },
      {
       "output_type": "stream",
       "stream": "stdout",
       "text": [
        "\n",
        "processed image 21201 of 29799 images"
       ]
      },
      {
       "output_type": "stream",
       "stream": "stdout",
       "text": [
        "\n",
        "processed image 21301 of 29799 images"
       ]
      },
      {
       "output_type": "stream",
       "stream": "stdout",
       "text": [
        "\n",
        "processed image 21401 of 29799 images"
       ]
      },
      {
       "output_type": "stream",
       "stream": "stdout",
       "text": [
        "\n",
        "processed image 21501 of 29799 images"
       ]
      },
      {
       "output_type": "stream",
       "stream": "stdout",
       "text": [
        "\n",
        "processed image 21601 of 29799 images"
       ]
      },
      {
       "output_type": "stream",
       "stream": "stdout",
       "text": [
        "\n",
        "processed image 21701 of 29799 images"
       ]
      },
      {
       "output_type": "stream",
       "stream": "stdout",
       "text": [
        "\n",
        "processed image 21801 of 29799 images"
       ]
      },
      {
       "output_type": "stream",
       "stream": "stdout",
       "text": [
        "\n",
        "processed image 21901 of 29799 images"
       ]
      },
      {
       "output_type": "stream",
       "stream": "stdout",
       "text": [
        "\n",
        "processed image 22001 of 29799 images"
       ]
      },
      {
       "output_type": "stream",
       "stream": "stdout",
       "text": [
        "\n",
        "processed image 22101 of 29799 images"
       ]
      },
      {
       "output_type": "stream",
       "stream": "stdout",
       "text": [
        "\n",
        "processed image 22201 of 29799 images"
       ]
      },
      {
       "output_type": "stream",
       "stream": "stdout",
       "text": [
        "\n",
        "processed image 22301 of 29799 images"
       ]
      },
      {
       "output_type": "stream",
       "stream": "stdout",
       "text": [
        "\n",
        "processed image 22401 of 29799 images"
       ]
      },
      {
       "output_type": "stream",
       "stream": "stdout",
       "text": [
        "\n",
        "processed image 22501 of 29799 images"
       ]
      },
      {
       "output_type": "stream",
       "stream": "stdout",
       "text": [
        "\n",
        "processed image 22601 of 29799 images"
       ]
      },
      {
       "output_type": "stream",
       "stream": "stdout",
       "text": [
        "\n",
        "processed image 22701 of 29799 images"
       ]
      },
      {
       "output_type": "stream",
       "stream": "stdout",
       "text": [
        "\n",
        "processed image 22801 of 29799 images"
       ]
      },
      {
       "output_type": "stream",
       "stream": "stdout",
       "text": [
        "\n",
        "processed image 22901 of 29799 images"
       ]
      },
      {
       "output_type": "stream",
       "stream": "stdout",
       "text": [
        "\n",
        "processed image 23001 of 29799 images"
       ]
      },
      {
       "output_type": "stream",
       "stream": "stdout",
       "text": [
        "\n",
        "processed image 23101 of 29799 images"
       ]
      }
     ]
    },
    {
     "cell_type": "code",
     "collapsed": false,
     "input": [
      "from PynPoint2.processing_modules import BadPixelCleaningSigmaFilterModule\n",
      "\n",
      "bp_sigma = BadPixelCleaningSigmaFilterModule(name_in=\"sigma_filtering\",\n",
      "                                             image_in_tag=\"03_im_arr_bp_clean\",\n",
      "                                             image_out_tag=\"03_im_arr_bp_clean_sigma\",\n",
      "                                             box=9,\n",
      "                                             sigma=3,\n",
      "                                             iterate=1,\n",
      "                                             number_of_images_in_memory=100)\n",
      "pipeline.add_module(bp_sigma)"
     ],
     "language": "python",
     "metadata": {},
     "outputs": []
    },
    {
     "cell_type": "code",
     "collapsed": false,
     "input": [
      "pipeline.run_module(\"sigma_filtering\")"
     ],
     "language": "python",
     "metadata": {},
     "outputs": []
    },
    {
     "cell_type": "heading",
     "level": 2,
     "metadata": {},
     "source": [
      "03 Write out"
     ]
    },
    {
     "cell_type": "code",
     "collapsed": false,
     "input": [
      "writing1 = WriteAsSingleFitsFile(\"after_bad_pixel2.fits\",\n",
      "                                name_in=\"after_bad_pixel_w1\",\n",
      "                                data_tag=\"03_im_arr_bp_clean_sigma\",\n",
      "                                data_range=(29000,29100))\n",
      "pipeline.add_module(writing1)\n",
      "writing2 = WriteAsSingleFitsFile(\"after_bad_pixel1.fits\",\n",
      "                                name_in=\"after_bad_pixel_w2\",\n",
      "                                data_tag=\"03_im_arr_bp_clean_sigma\",\n",
      "                                data_range=(2000,2100))\n",
      "pipeline.add_module(writing2)"
     ],
     "language": "python",
     "metadata": {},
     "outputs": [
      {
       "output_type": "stream",
       "stream": "stderr",
       "text": [
        "/home/mbonse/Git/PynPoint/PynPoint2/core/Pypeline.py:135: UserWarning: Processing module names need to be unique. Overwriting the old Module\n",
        "  warnings.warn('Processing module names need to be unique. Overwriting the old Module')\n",
        "/home/mbonse/Git/PynPoint/PynPoint2/core/Pypeline.py:135: UserWarning: Processing module names need to be unique. Overwriting the old Module\n",
        "  warnings.warn('Processing module names need to be unique. Overwriting the old Module')\n"
       ]
      }
     ],
     "prompt_number": 19
    },
    {
     "cell_type": "code",
     "collapsed": false,
     "input": [
      "pipeline.run_module(\"after_bad_pixel_w1\")\n",
      "pipeline.run_module(\"after_bad_pixel_w2\")"
     ],
     "language": "python",
     "metadata": {},
     "outputs": [
      {
       "output_type": "stream",
       "stream": "stdout",
       "text": [
        "validating module...\n",
        "Start running module..."
       ]
      },
      {
       "output_type": "stream",
       "stream": "stdout",
       "text": [
        "\n",
        "finished running module..."
       ]
      },
      {
       "output_type": "stream",
       "stream": "stdout",
       "text": [
        "\n",
        "validating module...\n",
        "Start running module...\n",
        "finished running module..."
       ]
      },
      {
       "output_type": "stream",
       "stream": "stdout",
       "text": [
        "\n"
       ]
      },
      {
       "output_type": "stream",
       "stream": "stderr",
       "text": [
        "/home/mbonse/Git/PynPoint/PynPoint2/io_modules/FitsWriting.py:78: UserWarning: Overwriting old file /scratch/user/mbonse/after_new_preprocessing/Beta_Pic_2009_12_29/Results/after_bad_pixel1.fits\n",
        "  warnings.warn('Overwriting old file %s' % out_name)\n"
       ]
      }
     ],
     "prompt_number": 20
    },
    {
     "cell_type": "heading",
     "level": 2,
     "metadata": {},
     "source": [
      "04 Background Subtraction"
     ]
    },
    {
     "cell_type": "code",
     "collapsed": false,
     "input": [
      "from PynPoint2.processing_modules import MeanBackgroundSubtractionModule\n",
      "bg_subtraction = MeanBackgroundSubtractionModule(star_pos_shift=602,\n",
      "                                                 name_in=\"mean_background_subtraction\",\n",
      "                                                 image_in_tag=\"03_im_arr_bp_clean_sigma\",\n",
      "                                                 image_out_tag=\"04_mean_background_sub\")\n",
      "pipeline.add_module(bg_subtraction)"
     ],
     "language": "python",
     "metadata": {},
     "outputs": [],
     "prompt_number": 21
    },
    {
     "cell_type": "code",
     "collapsed": false,
     "input": [
      "pipeline.run_module(\"mean_background_subtraction\")"
     ],
     "language": "python",
     "metadata": {},
     "outputs": [
      {
       "output_type": "stream",
       "stream": "stdout",
       "text": [
        "validating module...\n",
        "Start running module...\n",
        "Subtracting background from stack-part 1 of 49 stack-parts"
       ]
      },
      {
       "output_type": "stream",
       "stream": "stdout",
       "text": [
        "\n",
        "Subtracting background from stack-part 2 of 49 stack-parts"
       ]
      },
      {
       "output_type": "stream",
       "stream": "stdout",
       "text": [
        "\n",
        "Subtracting background from stack-part 3 of 49 stack-parts"
       ]
      },
      {
       "output_type": "stream",
       "stream": "stdout",
       "text": [
        "\n",
        "Subtracting background from stack-part 4 of 49 stack-parts"
       ]
      },
      {
       "output_type": "stream",
       "stream": "stdout",
       "text": [
        "\n",
        "Subtracting background from stack-part 5 of 49 stack-parts"
       ]
      },
      {
       "output_type": "stream",
       "stream": "stdout",
       "text": [
        "\n",
        "Subtracting background from stack-part 6 of 49 stack-parts"
       ]
      },
      {
       "output_type": "stream",
       "stream": "stdout",
       "text": [
        "\n",
        "Subtracting background from stack-part 7 of 49 stack-parts"
       ]
      },
      {
       "output_type": "stream",
       "stream": "stdout",
       "text": [
        "\n",
        "Subtracting background from stack-part 8 of 49 stack-parts"
       ]
      },
      {
       "output_type": "stream",
       "stream": "stdout",
       "text": [
        "\n",
        "Subtracting background from stack-part 9 of 49 stack-parts"
       ]
      },
      {
       "output_type": "stream",
       "stream": "stdout",
       "text": [
        "\n",
        "Subtracting background from stack-part 10 of 49 stack-parts"
       ]
      },
      {
       "output_type": "stream",
       "stream": "stdout",
       "text": [
        "\n",
        "Subtracting background from stack-part 11 of 49 stack-parts"
       ]
      },
      {
       "output_type": "stream",
       "stream": "stdout",
       "text": [
        "\n",
        "Subtracting background from stack-part 12 of 49 stack-parts"
       ]
      },
      {
       "output_type": "stream",
       "stream": "stdout",
       "text": [
        "\n",
        "Subtracting background from stack-part 13 of 49 stack-parts"
       ]
      },
      {
       "output_type": "stream",
       "stream": "stdout",
       "text": [
        "\n",
        "Subtracting background from stack-part 14 of 49 stack-parts"
       ]
      },
      {
       "output_type": "stream",
       "stream": "stdout",
       "text": [
        "\n",
        "Subtracting background from stack-part 15 of 49 stack-parts"
       ]
      },
      {
       "output_type": "stream",
       "stream": "stdout",
       "text": [
        "\n",
        "Subtracting background from stack-part 16 of 49 stack-parts"
       ]
      },
      {
       "output_type": "stream",
       "stream": "stdout",
       "text": [
        "\n",
        "Subtracting background from stack-part 17 of 49 stack-parts"
       ]
      },
      {
       "output_type": "stream",
       "stream": "stdout",
       "text": [
        "\n",
        "Subtracting background from stack-part 18 of 49 stack-parts"
       ]
      },
      {
       "output_type": "stream",
       "stream": "stdout",
       "text": [
        "\n",
        "Subtracting background from stack-part 19 of 49 stack-parts"
       ]
      },
      {
       "output_type": "stream",
       "stream": "stdout",
       "text": [
        "\n",
        "Subtracting background from stack-part 20 of 49 stack-parts"
       ]
      },
      {
       "output_type": "stream",
       "stream": "stdout",
       "text": [
        "\n",
        "Subtracting background from stack-part 21 of 49 stack-parts"
       ]
      },
      {
       "output_type": "stream",
       "stream": "stdout",
       "text": [
        "\n",
        "Subtracting background from stack-part 22 of 49 stack-parts"
       ]
      },
      {
       "output_type": "stream",
       "stream": "stdout",
       "text": [
        "\n",
        "Subtracting background from stack-part 23 of 49 stack-parts"
       ]
      },
      {
       "output_type": "stream",
       "stream": "stdout",
       "text": [
        "\n",
        "Subtracting background from stack-part 24 of 49 stack-parts"
       ]
      },
      {
       "output_type": "stream",
       "stream": "stdout",
       "text": [
        "\n",
        "Subtracting background from stack-part 25 of 49 stack-parts"
       ]
      },
      {
       "output_type": "stream",
       "stream": "stdout",
       "text": [
        "\n",
        "Subtracting background from stack-part 26 of 49 stack-parts"
       ]
      },
      {
       "output_type": "stream",
       "stream": "stdout",
       "text": [
        "\n",
        "Subtracting background from stack-part 27 of 49 stack-parts"
       ]
      },
      {
       "output_type": "stream",
       "stream": "stdout",
       "text": [
        "\n",
        "Subtracting background from stack-part 28 of 49 stack-parts"
       ]
      },
      {
       "output_type": "stream",
       "stream": "stdout",
       "text": [
        "\n",
        "Subtracting background from stack-part 29 of 49 stack-parts"
       ]
      },
      {
       "output_type": "stream",
       "stream": "stdout",
       "text": [
        "\n",
        "Subtracting background from stack-part 30 of 49 stack-parts"
       ]
      },
      {
       "output_type": "stream",
       "stream": "stdout",
       "text": [
        "\n",
        "Subtracting background from stack-part 31 of 49 stack-parts"
       ]
      },
      {
       "output_type": "stream",
       "stream": "stdout",
       "text": [
        "\n",
        "Subtracting background from stack-part 32 of 49 stack-parts"
       ]
      },
      {
       "output_type": "stream",
       "stream": "stdout",
       "text": [
        "\n",
        "Subtracting background from stack-part 33 of 49 stack-parts"
       ]
      },
      {
       "output_type": "stream",
       "stream": "stdout",
       "text": [
        "\n",
        "Subtracting background from stack-part 34 of 49 stack-parts"
       ]
      },
      {
       "output_type": "stream",
       "stream": "stdout",
       "text": [
        "\n",
        "Subtracting background from stack-part 35 of 49 stack-parts"
       ]
      },
      {
       "output_type": "stream",
       "stream": "stdout",
       "text": [
        "\n",
        "Subtracting background from stack-part 36 of 49 stack-parts"
       ]
      },
      {
       "output_type": "stream",
       "stream": "stdout",
       "text": [
        "\n",
        "Subtracting background from stack-part 37 of 49 stack-parts"
       ]
      },
      {
       "output_type": "stream",
       "stream": "stdout",
       "text": [
        "\n",
        "Subtracting background from stack-part 38 of 49 stack-parts"
       ]
      },
      {
       "output_type": "stream",
       "stream": "stdout",
       "text": [
        "\n",
        "Subtracting background from stack-part 39 of 49 stack-parts"
       ]
      },
      {
       "output_type": "stream",
       "stream": "stdout",
       "text": [
        "\n",
        "Subtracting background from stack-part 40 of 49 stack-parts"
       ]
      },
      {
       "output_type": "stream",
       "stream": "stdout",
       "text": [
        "\n",
        "Subtracting background from stack-part 41 of 49 stack-parts"
       ]
      },
      {
       "output_type": "stream",
       "stream": "stdout",
       "text": [
        "\n",
        "Subtracting background from stack-part 42 of 49 stack-parts"
       ]
      },
      {
       "output_type": "stream",
       "stream": "stdout",
       "text": [
        "\n",
        "Subtracting background from stack-part 43 of 49 stack-parts"
       ]
      },
      {
       "output_type": "stream",
       "stream": "stdout",
       "text": [
        "\n",
        "Subtracting background from stack-part 44 of 49 stack-parts"
       ]
      },
      {
       "output_type": "stream",
       "stream": "stdout",
       "text": [
        "\n",
        "Subtracting background from stack-part 45 of 49 stack-parts"
       ]
      },
      {
       "output_type": "stream",
       "stream": "stdout",
       "text": [
        "\n",
        "Subtracting background from stack-part 46 of 49 stack-parts"
       ]
      },
      {
       "output_type": "stream",
       "stream": "stdout",
       "text": [
        "\n",
        "finished running module..."
       ]
      },
      {
       "output_type": "stream",
       "stream": "stdout",
       "text": [
        "\n"
       ]
      }
     ],
     "prompt_number": 22
    },
    {
     "cell_type": "heading",
     "level": 2,
     "metadata": {},
     "source": [
      "05 Star Extraction"
     ]
    },
    {
     "cell_type": "code",
     "collapsed": false,
     "input": [
      "from PynPoint2.processing_modules import StarExtractionModule\n",
      "star_cut = StarExtractionModule(name_in=\"star_cut\",\n",
      "                                image_in_tag=\"04_mean_background_sub\",\n",
      "                                image_out_tag=\"05_star_arr_cut\",\n",
      "                                psf_size=3.0,\n",
      "                                num_images_in_memory=1000,\n",
      "                                fwhm_star=18)\n",
      "pipeline.add_module(star_cut)"
     ],
     "language": "python",
     "metadata": {},
     "outputs": [
      {
       "output_type": "stream",
       "stream": "stderr",
       "text": [
        "/home/mbonse/Git/PynPoint/PynPoint2/core/Pypeline.py:135: UserWarning: Processing module names need to be unique. Overwriting the old Module\n",
        "  warnings.warn('Processing module names need to be unique. Overwriting the old Module')\n"
       ]
      }
     ],
     "prompt_number": 32
    },
    {
     "cell_type": "code",
     "collapsed": false,
     "input": [
      "pipeline.run_module(\"star_cut\")"
     ],
     "language": "python",
     "metadata": {},
     "outputs": [
      {
       "output_type": "stream",
       "stream": "stdout",
       "text": [
        "validating module...\n",
        "Start running module...\n",
        "processed image 1 of 29799 images\n",
        "processed image 1001 of 29799 images"
       ]
      },
      {
       "output_type": "stream",
       "stream": "stdout",
       "text": [
        "\n",
        "processed image 2001 of 29799 images"
       ]
      },
      {
       "output_type": "stream",
       "stream": "stdout",
       "text": [
        "\n",
        "processed image 3001 of 29799 images"
       ]
      },
      {
       "output_type": "stream",
       "stream": "stdout",
       "text": [
        "\n",
        "processed image 4001 of 29799 images"
       ]
      },
      {
       "output_type": "stream",
       "stream": "stdout",
       "text": [
        "\n",
        "processed image 5001 of 29799 images"
       ]
      },
      {
       "output_type": "stream",
       "stream": "stdout",
       "text": [
        "\n",
        "processed image 6001 of 29799 images"
       ]
      },
      {
       "output_type": "stream",
       "stream": "stdout",
       "text": [
        "\n",
        "processed image 7001 of 29799 images"
       ]
      },
      {
       "output_type": "stream",
       "stream": "stdout",
       "text": [
        "\n",
        "processed image 8001 of 29799 images"
       ]
      },
      {
       "output_type": "stream",
       "stream": "stdout",
       "text": [
        "\n",
        "processed image 9001 of 29799 images"
       ]
      },
      {
       "output_type": "stream",
       "stream": "stdout",
       "text": [
        "\n",
        "processed image 10001 of 29799 images"
       ]
      },
      {
       "output_type": "stream",
       "stream": "stdout",
       "text": [
        "\n",
        "processed image 11001 of 29799 images"
       ]
      },
      {
       "output_type": "stream",
       "stream": "stdout",
       "text": [
        "\n",
        "processed image 12001 of 29799 images"
       ]
      },
      {
       "output_type": "stream",
       "stream": "stdout",
       "text": [
        "\n",
        "processed image 13001 of 29799 images"
       ]
      },
      {
       "output_type": "stream",
       "stream": "stdout",
       "text": [
        "\n",
        "processed image 14001 of 29799 images"
       ]
      },
      {
       "output_type": "stream",
       "stream": "stdout",
       "text": [
        "\n",
        "processed image 15001 of 29799 images"
       ]
      },
      {
       "output_type": "stream",
       "stream": "stdout",
       "text": [
        "\n",
        "processed image 16001 of 29799 images"
       ]
      },
      {
       "output_type": "stream",
       "stream": "stdout",
       "text": [
        "\n",
        "processed image 17001 of 29799 images"
       ]
      },
      {
       "output_type": "stream",
       "stream": "stdout",
       "text": [
        "\n",
        "processed image 18001 of 29799 images"
       ]
      },
      {
       "output_type": "stream",
       "stream": "stdout",
       "text": [
        "\n",
        "processed image 19001 of 29799 images"
       ]
      },
      {
       "output_type": "stream",
       "stream": "stdout",
       "text": [
        "\n",
        "processed image 20001 of 29799 images"
       ]
      },
      {
       "output_type": "stream",
       "stream": "stdout",
       "text": [
        "\n",
        "processed image 21001 of 29799 images"
       ]
      },
      {
       "output_type": "stream",
       "stream": "stdout",
       "text": [
        "\n",
        "processed image 22001 of 29799 images"
       ]
      },
      {
       "output_type": "stream",
       "stream": "stdout",
       "text": [
        "\n",
        "processed image 23001 of 29799 images"
       ]
      },
      {
       "output_type": "stream",
       "stream": "stdout",
       "text": [
        "\n",
        "processed image 24001 of 29799 images"
       ]
      },
      {
       "output_type": "stream",
       "stream": "stdout",
       "text": [
        "\n",
        "processed image 25001 of 29799 images"
       ]
      },
      {
       "output_type": "stream",
       "stream": "stdout",
       "text": [
        "\n",
        "processed image 26001 of 29799 images"
       ]
      },
      {
       "output_type": "stream",
       "stream": "stdout",
       "text": [
        "\n",
        "processed image 27001 of 29799 images"
       ]
      },
      {
       "output_type": "stream",
       "stream": "stdout",
       "text": [
        "\n",
        "processed image 28001 of 29799 images"
       ]
      },
      {
       "output_type": "stream",
       "stream": "stdout",
       "text": [
        "\n",
        "processed image 29001 of 29799 images"
       ]
      },
      {
       "output_type": "stream",
       "stream": "stdout",
       "text": [
        "\n",
        "finished running module..."
       ]
      },
      {
       "output_type": "stream",
       "stream": "stdout",
       "text": [
        "\n"
       ]
      }
     ],
     "prompt_number": 33
    },
    {
     "cell_type": "heading",
     "level": 2,
     "metadata": {},
     "source": [
      "05 Write out"
     ]
    },
    {
     "cell_type": "code",
     "collapsed": false,
     "input": [
      "writing1 = WriteAsSingleFitsFile(\"after_bg.fits\",\n",
      "                                name_in=\"after_cut1\",\n",
      "                                data_tag=\"03_im_arr_bp_clean_sigma\",\n",
      "                                data_range=(27799,29799))\n",
      "pipeline.add_module(writing1)\n",
      "writing2 = WriteAsSingleFitsFile(\"after_cut_14_1.fits\",\n",
      "                                name_in=\"after_cut2\",\n",
      "                                data_tag=\"05_star_arr_cut\",\n",
      "                                data_range=(2000,2100))\n",
      "pipeline.add_module(writing2)"
     ],
     "language": "python",
     "metadata": {},
     "outputs": [],
     "prompt_number": 5
    },
    {
     "cell_type": "code",
     "collapsed": false,
     "input": [
      "pipeline.run_module(\"after_cut1\")\n",
      "pipeline.run_module(\"after_cut2\")"
     ],
     "language": "python",
     "metadata": {},
     "outputs": [
      {
       "output_type": "stream",
       "stream": "stdout",
       "text": [
        "validating module...\n",
        "Start running module...\n",
        "finished running module..."
       ]
      },
      {
       "output_type": "stream",
       "stream": "stderr",
       "text": [
        "/home/mbonse/Git/PynPoint/PynPoint2/io_modules/FitsWriting.py:78: UserWarning: Overwriting old file /scratch/user/mbonse/after_new_preprocessing/Beta_Pic_2009_12_29/Results/after_bg.fits\n",
        "  warnings.warn('Overwriting old file %s' % out_name)\n",
        "/home/mbonse/Git/PynPoint/PynPoint2/io_modules/FitsWriting.py:78: UserWarning: Overwriting old file /scratch/user/mbonse/after_new_preprocessing/Beta_Pic_2009_12_29/Results/after_cut_14_1.fits\n",
        "  warnings.warn('Overwriting old file %s' % out_name)\n"
       ]
      },
      {
       "output_type": "stream",
       "stream": "stdout",
       "text": [
        "\n",
        "validating module...\n",
        "Start running module...\n",
        "finished running module..."
       ]
      },
      {
       "output_type": "stream",
       "stream": "stdout",
       "text": [
        "\n"
       ]
      }
     ],
     "prompt_number": 6
    },
    {
     "cell_type": "code",
     "collapsed": false,
     "input": [],
     "language": "python",
     "metadata": {},
     "outputs": []
    }
   ],
   "metadata": {}
  }
 ]
}